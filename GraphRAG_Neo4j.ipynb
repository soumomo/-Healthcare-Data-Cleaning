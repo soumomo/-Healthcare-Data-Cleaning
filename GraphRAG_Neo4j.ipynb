{
  "nbformat": 4,
  "nbformat_minor": 0,
  "metadata": {
    "colab": {
      "provenance": [],
      "collapsed_sections": [
        "eyN_RBsiqYSz"
      ],
      "include_colab_link": true
    },
    "kernelspec": {
      "name": "python3",
      "display_name": "Python 3"
    },
    "language_info": {
      "name": "python"
    },
    "widgets": {
      "application/vnd.jupyter.widget-state+json": {
        "449312699c934c59918d8e35d36ae4a8": {
          "model_module": "yfiles-jupyter-graphs",
          "model_name": "GraphModel",
          "model_module_version": "^1.10.1",
          "state": {
            "_context_pane_mapping": [
              {
                "id": "Neighborhood",
                "title": "Neighborhood"
              },
              {
                "id": "Data",
                "title": "Data"
              },
              {
                "id": "Search",
                "title": "Search"
              },
              {
                "id": "About",
                "title": "About"
              }
            ],
            "_data_importer": "neo4j",
            "_directed": true,
            "_dom_classes": [],
            "_edges": [
              {
                "id": 1152922604118474800,
                "start": 1,
                "end": 6,
                "properties": {
                  "label": "FEELING"
                },
                "color": "#CDDC39",
                "thickness_factor": 1,
                "directed": true,
                "styles": {},
                "label": "FEELING"
              },
              {
                "id": 6917532326175965000,
                "start": 1,
                "end": 7,
                "properties": {
                  "label": "VENTURES"
                },
                "color": "#9E9E9E",
                "thickness_factor": 1,
                "directed": true,
                "styles": {},
                "label": "VENTURES"
              },
              {
                "id": 1152925902653358000,
                "start": 1,
                "end": 10,
                "properties": {
                  "label": "KINSMAN"
                },
                "color": "#9C27B0",
                "thickness_factor": 1,
                "directed": true,
                "styles": {},
                "label": "KINSMAN"
              },
              {
                "id": 1152930300699869200,
                "start": 1,
                "end": 7,
                "properties": {
                  "label": "HAS"
                },
                "color": "#2196F3",
                "thickness_factor": 1,
                "directed": true,
                "styles": {},
                "label": "HAS"
              },
              {
                "id": 1155182100513554400,
                "start": 1,
                "end": 14,
                "properties": {
                  "label": "HAS"
                },
                "color": "#2196F3",
                "thickness_factor": 1,
                "directed": true,
                "styles": {},
                "label": "HAS"
              },
              {
                "id": 6917537823734104000,
                "start": 1,
                "end": 42,
                "properties": {
                  "label": "HAS"
                },
                "color": "#2196F3",
                "thickness_factor": 1,
                "directed": true,
                "styles": {},
                "label": "HAS"
              },
              {
                "id": 6917537823734104000,
                "start": 1,
                "end": 43,
                "properties": {
                  "label": "HAS"
                },
                "color": "#2196F3",
                "thickness_factor": 1,
                "directed": true,
                "styles": {},
                "label": "HAS"
              },
              {
                "id": 6917537823734104000,
                "start": 1,
                "end": 44,
                "properties": {
                  "label": "HAS"
                },
                "color": "#2196F3",
                "thickness_factor": 1,
                "directed": true,
                "styles": {},
                "label": "HAS"
              },
              {
                "id": 6917537823734104000,
                "start": 1,
                "end": 45,
                "properties": {
                  "label": "HAS"
                },
                "color": "#2196F3",
                "thickness_factor": 1,
                "directed": true,
                "styles": {},
                "label": "HAS"
              },
              {
                "id": 6917537823734104000,
                "start": 1,
                "end": 51,
                "properties": {
                  "label": "HAS"
                },
                "color": "#2196F3",
                "thickness_factor": 1,
                "directed": true,
                "styles": {},
                "label": "HAS"
              },
              {
                "id": 1152931400211497000,
                "start": 1,
                "end": 15,
                "properties": {
                  "label": "THANKS"
                },
                "color": "#4CAF50",
                "thickness_factor": 1,
                "directed": true,
                "styles": {},
                "label": "THANKS"
              },
              {
                "id": 6917542221780615000,
                "start": 1,
                "end": 12,
                "properties": {
                  "label": "SPEAKS_TO"
                },
                "color": "#F44336",
                "thickness_factor": 1,
                "directed": true,
                "styles": {},
                "label": "SPEAKS_TO"
              },
              {
                "id": 6917559813966660000,
                "start": 1,
                "end": 225,
                "properties": {
                  "label": "REQUESTS"
                },
                "color": "#607D8B",
                "thickness_factor": 1,
                "directed": true,
                "styles": {},
                "label": "REQUESTS"
              },
              {
                "id": 1152961087025447000,
                "start": 1,
                "end": 39,
                "properties": {
                  "label": "ASKS_FOR"
                },
                "color": "#673AB7",
                "thickness_factor": 1,
                "directed": true,
                "styles": {},
                "label": "ASKS_FOR"
              },
              {
                "id": 1152963286048702500,
                "start": 1,
                "end": 10,
                "properties": {
                  "label": "WARNS"
                },
                "color": "#CDDC39",
                "thickness_factor": 1,
                "directed": true,
                "styles": {},
                "label": "WARNS"
              },
              {
                "id": 6919824807919878000,
                "start": 1,
                "end": 61,
                "properties": {
                  "label": "LENDS"
                },
                "color": "#9E9E9E",
                "thickness_factor": 1,
                "directed": true,
                "styles": {},
                "label": "LENDS"
              },
              {
                "id": 6917574107617821000,
                "start": 1,
                "end": 61,
                "properties": {
                  "label": "BORROWS"
                },
                "color": "#9C27B0",
                "thickness_factor": 1,
                "directed": true,
                "styles": {},
                "label": "BORROWS"
              },
              {
                "id": 1152972082141724700,
                "start": 1,
                "end": 10,
                "properties": {
                  "label": "GUARANTOR"
                },
                "color": "#2196F3",
                "thickness_factor": 1,
                "directed": true,
                "styles": {},
                "label": "GUARANTOR"
              },
              {
                "id": 6917581804199215000,
                "start": 1,
                "end": 66,
                "properties": {
                  "label": "AGREES_TO"
                },
                "color": "#4CAF50",
                "thickness_factor": 1,
                "directed": true,
                "styles": {},
                "label": "AGREES_TO"
              },
              {
                "id": 6917586202245726000,
                "start": 1,
                "end": 70,
                "properties": {
                  "label": "OWNS"
                },
                "color": "#F44336",
                "thickness_factor": 1,
                "directed": true,
                "styles": {},
                "label": "OWNS"
              },
              {
                "id": 6917637879292232000,
                "start": 1,
                "end": 115,
                "properties": {
                  "label": "IS_IN"
                },
                "color": "#607D8B",
                "thickness_factor": 1,
                "directed": true,
                "styles": {},
                "label": "IS_IN"
              },
              {
                "id": 6917646675385254000,
                "start": 1,
                "end": 131,
                "properties": {
                  "label": "CERTIFIED"
                },
                "color": "#673AB7",
                "thickness_factor": 1,
                "directed": true,
                "styles": {},
                "label": "CERTIFIED"
              },
              {
                "id": 1153045749420785700,
                "start": 1,
                "end": 10,
                "properties": {
                  "label": "ADVISED"
                },
                "color": "#CDDC39",
                "thickness_factor": 1,
                "directed": true,
                "styles": {},
                "label": "ADVISED"
              },
              {
                "id": 6917665367082926000,
                "start": 1,
                "end": 157,
                "properties": {
                  "label": "LOSES"
                },
                "color": "#9E9E9E",
                "thickness_factor": 1,
                "directed": true,
                "styles": {},
                "label": "LOSES"
              },
              {
                "id": 6917678561222459000,
                "start": 1,
                "end": 221,
                "properties": {
                  "label": "LOCATED_IN"
                },
                "color": "#9C27B0",
                "thickness_factor": 1,
                "directed": true,
                "styles": {},
                "label": "LOCATED_IN"
              },
              {
                "id": 1153073237211480000,
                "start": 1,
                "end": 10,
                "properties": {
                  "label": "ADVISES"
                },
                "color": "#2196F3",
                "thickness_factor": 1,
                "directed": true,
                "styles": {},
                "label": "ADVISES"
              },
              {
                "id": 6917692854873620000,
                "start": 1,
                "end": 193,
                "properties": {
                  "label": "FAILED"
                },
                "color": "#4CAF50",
                "thickness_factor": 1,
                "directed": true,
                "styles": {},
                "label": "FAILED"
              },
              {
                "id": 6917706049013154000,
                "start": 1,
                "end": 202,
                "properties": {
                  "label": "DELIVERS"
                },
                "color": "#F44336",
                "thickness_factor": 1,
                "directed": true,
                "styles": {},
                "label": "DELIVERS"
              },
              {
                "id": 1153104023537057800,
                "start": 1,
                "end": 10,
                "properties": {
                  "label": "CREDITOR"
                },
                "color": "#607D8B",
                "thickness_factor": 1,
                "directed": true,
                "styles": {},
                "label": "CREDITOR"
              },
              {
                "id": 1153119416699846700,
                "start": 1,
                "end": 39,
                "properties": {
                  "label": "PRAYS"
                },
                "color": "#673AB7",
                "thickness_factor": 1,
                "directed": true,
                "styles": {},
                "label": "PRAYS"
              },
              {
                "id": 1153137008885891000,
                "start": 1,
                "end": 39,
                "properties": {
                  "label": "CASE_INVOLVED"
                },
                "color": "#CDDC39",
                "thickness_factor": 1,
                "directed": true,
                "styles": {},
                "label": "CASE_INVOLVED"
              },
              {
                "id": 6917752228501520000,
                "start": 1,
                "end": 66,
                "properties": {
                  "label": "AFFECTEDBY"
                },
                "color": "#9E9E9E",
                "thickness_factor": 1,
                "directed": true,
                "styles": {},
                "label": "AFFECTEDBY"
              },
              {
                "id": 6917754427524776000,
                "start": 1,
                "end": 233,
                "properties": {
                  "label": "IS_A"
                },
                "color": "#9C27B0",
                "thickness_factor": 1,
                "directed": true,
                "styles": {},
                "label": "IS_A"
              },
              {
                "id": 1153158999118446600,
                "start": 1,
                "end": 131,
                "properties": {
                  "label": "PROPOSED_CONDITIONS"
                },
                "color": "#2196F3",
                "thickness_factor": 1,
                "directed": true,
                "styles": {},
                "label": "PROPOSED_CONDITIONS"
              },
              {
                "id": 1153168894723096600,
                "start": 1,
                "end": 10,
                "properties": {
                  "label": "INDEBTED_TO"
                },
                "color": "#4CAF50",
                "thickness_factor": 1,
                "directed": true,
                "styles": {},
                "label": "INDEBTED_TO"
              },
              {
                "id": 1153184287885885400,
                "start": 1,
                "end": 10,
                "properties": {
                  "label": "BOUND_TO"
                },
                "color": "#F44336",
                "thickness_factor": 1,
                "directed": true,
                "styles": {},
                "label": "BOUND_TO"
              },
              {
                "id": 6917806104571281000,
                "start": 1,
                "end": 261,
                "properties": {
                  "label": "SUBJECT"
                },
                "color": "#607D8B",
                "thickness_factor": 1,
                "directed": true,
                "styles": {},
                "label": "SUBJECT"
              },
              {
                "id": 6917814900664304000,
                "start": 1,
                "end": 264,
                "properties": {
                  "label": "RICHLICH_COME"
                },
                "color": "#673AB7",
                "thickness_factor": 1,
                "directed": true,
                "styles": {},
                "label": "RICHLICH_COME"
              },
              {
                "id": 6917816000175931000,
                "start": 1,
                "end": 266,
                "properties": {
                  "label": "COMMANDS"
                },
                "color": "#CDDC39",
                "thickness_factor": 1,
                "directed": true,
                "styles": {},
                "label": "COMMANDS"
              },
              {
                "id": 1152923703630102500,
                "start": 2,
                "end": 1,
                "properties": {
                  "label": "SPEAKING_TO"
                },
                "color": "#9E9E9E",
                "thickness_factor": 1,
                "directed": true,
                "styles": {},
                "label": "SPEAKING_TO"
              },
              {
                "id": 1155179901490299000,
                "start": 2,
                "end": 1,
                "properties": {
                  "label": "FRIEND"
                },
                "color": "#9C27B0",
                "thickness_factor": 1,
                "directed": true,
                "styles": {},
                "label": "FRIEND"
              },
              {
                "id": 1152928101676613600,
                "start": 2,
                "end": 3,
                "properties": {
                  "label": "FRIEND"
                },
                "color": "#9C27B0",
                "thickness_factor": 1,
                "directed": true,
                "styles": {},
                "label": "FRIEND"
              },
              {
                "id": 1152933599234752500,
                "start": 2,
                "end": 17,
                "properties": {
                  "label": "REFERS"
                },
                "color": "#2196F3",
                "thickness_factor": 1,
                "directed": true,
                "styles": {},
                "label": "REFERS"
              },
              {
                "id": 1152953390444052500,
                "start": 2,
                "end": 1,
                "properties": {
                  "label": "DISCUSSES"
                },
                "color": "#4CAF50",
                "thickness_factor": 1,
                "directed": true,
                "styles": {},
                "label": "DISCUSSES"
              },
              {
                "id": 1155274459490287600,
                "start": 2,
                "end": 11,
                "properties": {
                  "label": "INTERACTS"
                },
                "color": "#F44336",
                "thickness_factor": 1,
                "directed": true,
                "styles": {},
                "label": "INTERACTS"
              },
              {
                "id": 1152923703630102500,
                "start": 3,
                "end": 1,
                "properties": {
                  "label": "SPEAKING_TO"
                },
                "color": "#9E9E9E",
                "thickness_factor": 1,
                "directed": true,
                "styles": {},
                "label": "SPEAKING_TO"
              },
              {
                "id": 1152953390444052500,
                "start": 3,
                "end": 1,
                "properties": {
                  "label": "DISCUSSES"
                },
                "color": "#4CAF50",
                "thickness_factor": 1,
                "directed": true,
                "styles": {},
                "label": "DISCUSSES"
              },
              {
                "id": 1153043550397530000,
                "start": 3,
                "end": 1,
                "properties": {
                  "label": "CONCERNED_ABOUT"
                },
                "color": "#607D8B",
                "thickness_factor": 1,
                "directed": true,
                "styles": {},
                "label": "CONCERNED_ABOUT"
              },
              {
                "id": 1153056744537063400,
                "start": 3,
                "end": 2,
                "properties": {
                  "label": "CONVERSE_WITH"
                },
                "color": "#673AB7",
                "thickness_factor": 1,
                "directed": true,
                "styles": {},
                "label": "CONVERSE_WITH"
              },
              {
                "id": 1153060043071946800,
                "start": 4,
                "end": 156,
                "properties": {
                  "label": "TAKES_PLACE_IN"
                },
                "color": "#CDDC39",
                "thickness_factor": 1,
                "directed": true,
                "styles": {},
                "label": "TAKES_PLACE_IN"
              }
            ],
            "_graph_layout": {},
            "_highlight": [],
            "_license": {},
            "_model_module": "yfiles-jupyter-graphs",
            "_model_module_version": "^1.10.1",
            "_model_name": "GraphModel",
            "_neighborhood": {},
            "_nodes": [
              {
                "id": 1,
                "properties": {
                  "id": "Antonio",
                  "label": "__Entity__:Person"
                },
                "color": "#2196F3",
                "styles": {},
                "label": "Antonio",
                "scale_factor": 1,
                "type": "#2196F3",
                "size": [
                  55,
                  55
                ],
                "position": [
                  0,
                  0
                ]
              },
              {
                "id": 6,
                "properties": {
                  "id": "Sadness",
                  "label": "__Entity__:Emotion"
                },
                "color": "#4CAF50",
                "styles": {},
                "label": "Sadness",
                "scale_factor": 1,
                "type": "#4CAF50",
                "size": [
                  55,
                  55
                ],
                "position": [
                  0,
                  0
                ]
              },
              {
                "id": 7,
                "properties": {
                  "id": "Ventures",
                  "label": "__Entity__:Concept"
                },
                "color": "#F44336",
                "styles": {},
                "label": "Ventures",
                "scale_factor": 1,
                "type": "#F44336",
                "size": [
                  55,
                  55
                ],
                "position": [
                  0,
                  0
                ]
              },
              {
                "id": 10,
                "properties": {
                  "id": "Bassanio",
                  "label": "__Entity__:Person:Character"
                },
                "color": "#607D8B",
                "styles": {},
                "label": "Bassanio",
                "scale_factor": 1,
                "type": "#607D8B",
                "size": [
                  55,
                  55
                ],
                "position": [
                  0,
                  0
                ]
              },
              {
                "id": 14,
                "properties": {
                  "id": "Merchandise",
                  "label": "__Entity__:Concept"
                },
                "color": "#F44336",
                "styles": {},
                "label": "Merchandise",
                "scale_factor": 1,
                "type": "#F44336",
                "size": [
                  55,
                  55
                ],
                "position": [
                  0,
                  0
                ]
              },
              {
                "id": 42,
                "properties": {
                  "id": "Tripolis",
                  "label": "__Entity__:Place:Location"
                },
                "color": "#673AB7",
                "styles": {},
                "label": "Tripolis",
                "scale_factor": 1,
                "type": "#673AB7",
                "size": [
                  55,
                  55
                ],
                "position": [
                  0,
                  0
                ]
              },
              {
                "id": 43,
                "properties": {
                  "id": "Indies",
                  "label": "__Entity__:Place"
                },
                "color": "#CDDC39",
                "styles": {},
                "label": "Indies",
                "scale_factor": 1,
                "type": "#CDDC39",
                "size": [
                  55,
                  55
                ],
                "position": [
                  0,
                  0
                ]
              },
              {
                "id": 44,
                "properties": {
                  "id": "Mexico",
                  "label": "__Entity__:Place:Location"
                },
                "color": "#673AB7",
                "styles": {},
                "label": "Mexico",
                "scale_factor": 1,
                "type": "#673AB7",
                "size": [
                  55,
                  55
                ],
                "position": [
                  0,
                  0
                ]
              },
              {
                "id": 45,
                "properties": {
                  "id": "England",
                  "label": "__Entity__:Place:Location"
                },
                "color": "#673AB7",
                "styles": {},
                "label": "England",
                "scale_factor": 1,
                "type": "#673AB7",
                "size": [
                  55,
                  55
                ],
                "position": [
                  0,
                  0
                ]
              },
              {
                "id": 51,
                "properties": {
                  "id": "Rialto",
                  "label": "__Entity__:Place"
                },
                "color": "#CDDC39",
                "styles": {},
                "label": "Rialto",
                "scale_factor": 1,
                "type": "#CDDC39",
                "size": [
                  55,
                  55
                ],
                "position": [
                  0,
                  0
                ]
              },
              {
                "id": 15,
                "properties": {
                  "id": "Fortune",
                  "label": "__Entity__:Concept"
                },
                "color": "#F44336",
                "styles": {},
                "label": "Fortune",
                "scale_factor": 1,
                "type": "#F44336",
                "size": [
                  55,
                  55
                ],
                "position": [
                  0,
                  0
                ]
              },
              {
                "id": 12,
                "properties": {
                  "id": "Gratiano",
                  "label": "__Entity__:Person"
                },
                "color": "#2196F3",
                "styles": {},
                "label": "Gratiano",
                "scale_factor": 1,
                "type": "#2196F3",
                "size": [
                  55,
                  55
                ],
                "position": [
                  0,
                  0
                ]
              },
              {
                "id": 225,
                "properties": {
                  "id": "Mercy",
                  "label": "__Entity__:Concept"
                },
                "color": "#F44336",
                "styles": {},
                "label": "Mercy",
                "scale_factor": 1,
                "type": "#F44336",
                "size": [
                  55,
                  55
                ],
                "position": [
                  0,
                  0
                ]
              },
              {
                "id": 39,
                "properties": {
                  "id": "Shylock",
                  "label": "__Entity__:Person"
                },
                "color": "#2196F3",
                "styles": {},
                "label": "Shylock",
                "scale_factor": 1,
                "type": "#2196F3",
                "size": [
                  55,
                  55
                ],
                "position": [
                  0,
                  0
                ]
              },
              {
                "id": 61,
                "properties": {
                  "id": "Money",
                  "label": "__Entity__:Object"
                },
                "color": "#9E9E9E",
                "styles": {},
                "label": "Money",
                "scale_factor": 1,
                "type": "#9E9E9E",
                "size": [
                  55,
                  55
                ],
                "position": [
                  0,
                  0
                ]
              },
              {
                "id": 66,
                "properties": {
                  "id": "Bond",
                  "label": "Concept:__Entity__:Bond:Document:Object"
                },
                "color": "#9C27B0",
                "styles": {},
                "label": "Bond",
                "scale_factor": 1,
                "type": "#9C27B0",
                "size": [
                  55,
                  55
                ],
                "position": [
                  0,
                  0
                ]
              },
              {
                "id": 70,
                "properties": {
                  "id": "Ships",
                  "label": "__Entity__:Vehicle"
                },
                "color": "#2196F3",
                "styles": {},
                "label": "Ships",
                "scale_factor": 1,
                "type": "#2196F3",
                "size": [
                  55,
                  55
                ],
                "position": [
                  0,
                  0
                ]
              },
              {
                "id": 115,
                "properties": {
                  "id": "Antonio'S House",
                  "label": "__Entity__:Location"
                },
                "color": "#4CAF50",
                "styles": {},
                "label": "Antonio'S House",
                "scale_factor": 1,
                "type": "#4CAF50",
                "size": [
                  55,
                  55
                ],
                "position": [
                  0,
                  0
                ]
              },
              {
                "id": 131,
                "properties": {
                  "id": "Duke",
                  "label": "__Entity__:Person"
                },
                "color": "#2196F3",
                "styles": {},
                "label": "Duke",
                "scale_factor": 1,
                "type": "#2196F3",
                "size": [
                  55,
                  55
                ],
                "position": [
                  0,
                  0
                ]
              },
              {
                "id": 157,
                "properties": {
                  "id": "The Goodwins",
                  "label": "__Entity__:Location"
                },
                "color": "#4CAF50",
                "styles": {},
                "label": "The Goodwins",
                "scale_factor": 1,
                "type": "#4CAF50",
                "size": [
                  55,
                  55
                ],
                "position": [
                  0,
                  0
                ]
              },
              {
                "id": 221,
                "properties": {
                  "id": "Court Of Justice",
                  "label": "__Entity__:Place"
                },
                "color": "#CDDC39",
                "styles": {},
                "label": "Court Of Justice",
                "scale_factor": 1,
                "type": "#CDDC39",
                "size": [
                  55,
                  55
                ],
                "position": [
                  0,
                  0
                ]
              },
              {
                "id": 193,
                "properties": {
                  "id": "Venture",
                  "label": "__Entity__:Venture"
                },
                "color": "#F44336",
                "styles": {},
                "label": "Venture",
                "scale_factor": 1,
                "type": "#F44336",
                "size": [
                  55,
                  55
                ],
                "position": [
                  0,
                  0
                ]
              },
              {
                "id": 202,
                "properties": {
                  "id": "People",
                  "label": "__Entity__"
                },
                "color": "#607D8B",
                "styles": {},
                "label": "People",
                "scale_factor": 1,
                "type": "#607D8B",
                "size": [
                  55,
                  55
                ],
                "position": [
                  0,
                  0
                ]
              },
              {
                "id": 233,
                "properties": {
                  "id": "Merchant",
                  "label": "__Entity__:Person"
                },
                "color": "#2196F3",
                "styles": {},
                "label": "Merchant",
                "scale_factor": 1,
                "type": "#2196F3",
                "size": [
                  55,
                  55
                ],
                "position": [
                  0,
                  0
                ]
              },
              {
                "id": 261,
                "properties": {
                  "id": "Quarrels",
                  "label": "__Entity__"
                },
                "color": "#607D8B",
                "styles": {},
                "label": "Quarrels",
                "scale_factor": 1,
                "type": "#607D8B",
                "size": [
                  55,
                  55
                ],
                "position": [
                  0,
                  0
                ]
              },
              {
                "id": 264,
                "properties": {
                  "id": "Argosies",
                  "label": "__Entity__"
                },
                "color": "#607D8B",
                "styles": {},
                "label": "Argosies",
                "scale_factor": 1,
                "type": "#607D8B",
                "size": [
                  55,
                  55
                ],
                "position": [
                  0,
                  0
                ]
              },
              {
                "id": 266,
                "properties": {
                  "id": "Antonio'S Wife",
                  "label": "__Entity__:Person"
                },
                "color": "#2196F3",
                "styles": {},
                "label": "Antonio'S Wife",
                "scale_factor": 1,
                "type": "#2196F3",
                "size": [
                  55,
                  55
                ],
                "position": [
                  0,
                  0
                ]
              },
              {
                "id": 2,
                "properties": {
                  "id": "Salarino",
                  "label": "__Entity__:Person"
                },
                "color": "#2196F3",
                "styles": {},
                "label": "Salarino",
                "scale_factor": 1,
                "type": "#2196F3",
                "size": [
                  55,
                  55
                ],
                "position": [
                  0,
                  0
                ]
              },
              {
                "id": 3,
                "properties": {
                  "id": "Salanio",
                  "label": "__Entity__:Person"
                },
                "color": "#2196F3",
                "styles": {},
                "label": "Salanio",
                "scale_factor": 1,
                "type": "#2196F3",
                "size": [
                  55,
                  55
                ],
                "position": [
                  0,
                  0
                ]
              },
              {
                "id": 17,
                "properties": {
                  "id": "Time",
                  "label": "__Entity__:Concept"
                },
                "color": "#F44336",
                "styles": {},
                "label": "Time",
                "scale_factor": 1,
                "type": "#F44336",
                "size": [
                  55,
                  55
                ],
                "position": [
                  0,
                  0
                ]
              },
              {
                "id": 11,
                "properties": {
                  "id": "Lorenzo",
                  "label": "__Entity__:Person"
                },
                "color": "#2196F3",
                "styles": {},
                "label": "Lorenzo",
                "scale_factor": 1,
                "type": "#2196F3",
                "size": [
                  55,
                  55
                ],
                "position": [
                  0,
                  0
                ]
              },
              {
                "id": 4,
                "properties": {
                  "id": "Venice",
                  "label": "__Entity__:Place:Location:City"
                },
                "color": "#673AB7",
                "styles": {},
                "label": "Venice",
                "scale_factor": 1,
                "type": "#673AB7",
                "size": [
                  55,
                  55
                ],
                "position": [
                  0,
                  0
                ]
              },
              {
                "id": 156,
                "properties": {
                  "id": "The Rialto",
                  "label": "__Entity__:Location"
                },
                "color": "#4CAF50",
                "styles": {},
                "label": "The Rialto",
                "scale_factor": 1,
                "type": "#4CAF50",
                "size": [
                  55,
                  55
                ],
                "position": [
                  0,
                  0
                ]
              }
            ],
            "_overview": {
              "enabled": null,
              "overview_set": false
            },
            "_selected_graph": [
              [],
              []
            ],
            "_sidebar": {
              "enabled": false,
              "start_with": null
            },
            "_view_count": null,
            "_view_module": "yfiles-jupyter-graphs",
            "_view_module_version": "^1.10.1",
            "_view_name": "GraphView",
            "layout": "IPY_MODEL_091733993e13425885f46e6e3d6f7e4f",
            "tabbable": null,
            "tooltip": null
          }
        },
        "091733993e13425885f46e6e3d6f7e4f": {
          "model_module": "@jupyter-widgets/base",
          "model_name": "LayoutModel",
          "model_module_version": "2.0.0",
          "state": {
            "_model_module": "@jupyter-widgets/base",
            "_model_module_version": "2.0.0",
            "_model_name": "LayoutModel",
            "_view_count": null,
            "_view_module": "@jupyter-widgets/base",
            "_view_module_version": "2.0.0",
            "_view_name": "LayoutView",
            "align_content": null,
            "align_items": null,
            "align_self": null,
            "border_bottom": null,
            "border_left": null,
            "border_right": null,
            "border_top": null,
            "bottom": null,
            "display": null,
            "flex": null,
            "flex_flow": null,
            "grid_area": null,
            "grid_auto_columns": null,
            "grid_auto_flow": null,
            "grid_auto_rows": null,
            "grid_column": null,
            "grid_gap": null,
            "grid_row": null,
            "grid_template_areas": null,
            "grid_template_columns": null,
            "grid_template_rows": null,
            "height": "800px",
            "justify_content": null,
            "justify_items": null,
            "left": null,
            "margin": null,
            "max_height": null,
            "max_width": null,
            "min_height": null,
            "min_width": null,
            "object_fit": null,
            "object_position": null,
            "order": null,
            "overflow": null,
            "padding": null,
            "right": null,
            "top": null,
            "visibility": null,
            "width": "100%"
          }
        },
        "96bd2a7fe8ca43899bce4343278c4d17": {
          "model_module": "@jupyter-widgets/base",
          "model_name": "LayoutModel",
          "model_module_version": "2.0.0",
          "state": {
            "_model_module": "@jupyter-widgets/base",
            "_model_module_version": "2.0.0",
            "_model_name": "LayoutModel",
            "_view_count": null,
            "_view_module": "@jupyter-widgets/base",
            "_view_module_version": "2.0.0",
            "_view_name": "LayoutView",
            "align_content": null,
            "align_items": null,
            "align_self": null,
            "border_bottom": null,
            "border_left": null,
            "border_right": null,
            "border_top": null,
            "bottom": null,
            "display": null,
            "flex": null,
            "flex_flow": null,
            "grid_area": null,
            "grid_auto_columns": null,
            "grid_auto_flow": null,
            "grid_auto_rows": null,
            "grid_column": null,
            "grid_gap": null,
            "grid_row": null,
            "grid_template_areas": null,
            "grid_template_columns": null,
            "grid_template_rows": null,
            "height": "800px",
            "justify_content": null,
            "justify_items": null,
            "left": null,
            "margin": null,
            "max_height": null,
            "max_width": null,
            "min_height": null,
            "min_width": null,
            "object_fit": null,
            "object_position": null,
            "order": null,
            "overflow": null,
            "padding": null,
            "right": null,
            "top": null,
            "visibility": null,
            "width": "100%"
          }
        },
        "139133894abe479b8f888dba63cf89b6": {
          "model_module": "@jupyter-widgets/controls",
          "model_name": "HBoxModel",
          "model_module_version": "2.0.0",
          "state": {
            "_dom_classes": [],
            "_model_module": "@jupyter-widgets/controls",
            "_model_module_version": "2.0.0",
            "_model_name": "HBoxModel",
            "_view_count": null,
            "_view_module": "@jupyter-widgets/controls",
            "_view_module_version": "2.0.0",
            "_view_name": "HBoxView",
            "box_style": "",
            "children": [
              "IPY_MODEL_85411adecedf496f8e9e08a7285d0b33",
              "IPY_MODEL_56a2f1b0da144e6899b8bfed3d7d7bb3",
              "IPY_MODEL_805e744489d2432bbcd14f6e94025ba4"
            ],
            "layout": "IPY_MODEL_7fbce852789046758f61c50014117b1c",
            "tabbable": null,
            "tooltip": null
          }
        },
        "85411adecedf496f8e9e08a7285d0b33": {
          "model_module": "@jupyter-widgets/controls",
          "model_name": "HTMLModel",
          "model_module_version": "2.0.0",
          "state": {
            "_dom_classes": [],
            "_model_module": "@jupyter-widgets/controls",
            "_model_module_version": "2.0.0",
            "_model_name": "HTMLModel",
            "_view_count": null,
            "_view_module": "@jupyter-widgets/controls",
            "_view_module_version": "2.0.0",
            "_view_name": "HTMLView",
            "description": "",
            "description_allow_html": false,
            "layout": "IPY_MODEL_33004f4e13034c0ea646575b121797af",
            "placeholder": "​",
            "style": "IPY_MODEL_a6a1f638d8954851818b9a4c36142daf",
            "tabbable": null,
            "tooltip": null,
            "value": "modules.json: 100%"
          }
        },
        "56a2f1b0da144e6899b8bfed3d7d7bb3": {
          "model_module": "@jupyter-widgets/controls",
          "model_name": "FloatProgressModel",
          "model_module_version": "2.0.0",
          "state": {
            "_dom_classes": [],
            "_model_module": "@jupyter-widgets/controls",
            "_model_module_version": "2.0.0",
            "_model_name": "FloatProgressModel",
            "_view_count": null,
            "_view_module": "@jupyter-widgets/controls",
            "_view_module_version": "2.0.0",
            "_view_name": "ProgressView",
            "bar_style": "success",
            "description": "",
            "description_allow_html": false,
            "layout": "IPY_MODEL_d223deb9f95e461ab1c521dd90228860",
            "max": 349,
            "min": 0,
            "orientation": "horizontal",
            "style": "IPY_MODEL_c9f654f1ba5640fabd66c0755521e20f",
            "tabbable": null,
            "tooltip": null,
            "value": 349
          }
        },
        "805e744489d2432bbcd14f6e94025ba4": {
          "model_module": "@jupyter-widgets/controls",
          "model_name": "HTMLModel",
          "model_module_version": "2.0.0",
          "state": {
            "_dom_classes": [],
            "_model_module": "@jupyter-widgets/controls",
            "_model_module_version": "2.0.0",
            "_model_name": "HTMLModel",
            "_view_count": null,
            "_view_module": "@jupyter-widgets/controls",
            "_view_module_version": "2.0.0",
            "_view_name": "HTMLView",
            "description": "",
            "description_allow_html": false,
            "layout": "IPY_MODEL_2f5af72943c441c28c0049170f524e89",
            "placeholder": "​",
            "style": "IPY_MODEL_153e7ad279b74fa3ab69d9ed28221a61",
            "tabbable": null,
            "tooltip": null,
            "value": " 349/349 [00:00&lt;00:00, 24.6kB/s]"
          }
        },
        "7fbce852789046758f61c50014117b1c": {
          "model_module": "@jupyter-widgets/base",
          "model_name": "LayoutModel",
          "model_module_version": "2.0.0",
          "state": {
            "_model_module": "@jupyter-widgets/base",
            "_model_module_version": "2.0.0",
            "_model_name": "LayoutModel",
            "_view_count": null,
            "_view_module": "@jupyter-widgets/base",
            "_view_module_version": "2.0.0",
            "_view_name": "LayoutView",
            "align_content": null,
            "align_items": null,
            "align_self": null,
            "border_bottom": null,
            "border_left": null,
            "border_right": null,
            "border_top": null,
            "bottom": null,
            "display": null,
            "flex": null,
            "flex_flow": null,
            "grid_area": null,
            "grid_auto_columns": null,
            "grid_auto_flow": null,
            "grid_auto_rows": null,
            "grid_column": null,
            "grid_gap": null,
            "grid_row": null,
            "grid_template_areas": null,
            "grid_template_columns": null,
            "grid_template_rows": null,
            "height": null,
            "justify_content": null,
            "justify_items": null,
            "left": null,
            "margin": null,
            "max_height": null,
            "max_width": null,
            "min_height": null,
            "min_width": null,
            "object_fit": null,
            "object_position": null,
            "order": null,
            "overflow": null,
            "padding": null,
            "right": null,
            "top": null,
            "visibility": null,
            "width": null
          }
        },
        "33004f4e13034c0ea646575b121797af": {
          "model_module": "@jupyter-widgets/base",
          "model_name": "LayoutModel",
          "model_module_version": "2.0.0",
          "state": {
            "_model_module": "@jupyter-widgets/base",
            "_model_module_version": "2.0.0",
            "_model_name": "LayoutModel",
            "_view_count": null,
            "_view_module": "@jupyter-widgets/base",
            "_view_module_version": "2.0.0",
            "_view_name": "LayoutView",
            "align_content": null,
            "align_items": null,
            "align_self": null,
            "border_bottom": null,
            "border_left": null,
            "border_right": null,
            "border_top": null,
            "bottom": null,
            "display": null,
            "flex": null,
            "flex_flow": null,
            "grid_area": null,
            "grid_auto_columns": null,
            "grid_auto_flow": null,
            "grid_auto_rows": null,
            "grid_column": null,
            "grid_gap": null,
            "grid_row": null,
            "grid_template_areas": null,
            "grid_template_columns": null,
            "grid_template_rows": null,
            "height": null,
            "justify_content": null,
            "justify_items": null,
            "left": null,
            "margin": null,
            "max_height": null,
            "max_width": null,
            "min_height": null,
            "min_width": null,
            "object_fit": null,
            "object_position": null,
            "order": null,
            "overflow": null,
            "padding": null,
            "right": null,
            "top": null,
            "visibility": null,
            "width": null
          }
        },
        "a6a1f638d8954851818b9a4c36142daf": {
          "model_module": "@jupyter-widgets/controls",
          "model_name": "HTMLStyleModel",
          "model_module_version": "2.0.0",
          "state": {
            "_model_module": "@jupyter-widgets/controls",
            "_model_module_version": "2.0.0",
            "_model_name": "HTMLStyleModel",
            "_view_count": null,
            "_view_module": "@jupyter-widgets/base",
            "_view_module_version": "2.0.0",
            "_view_name": "StyleView",
            "background": null,
            "description_width": "",
            "font_size": null,
            "text_color": null
          }
        },
        "d223deb9f95e461ab1c521dd90228860": {
          "model_module": "@jupyter-widgets/base",
          "model_name": "LayoutModel",
          "model_module_version": "2.0.0",
          "state": {
            "_model_module": "@jupyter-widgets/base",
            "_model_module_version": "2.0.0",
            "_model_name": "LayoutModel",
            "_view_count": null,
            "_view_module": "@jupyter-widgets/base",
            "_view_module_version": "2.0.0",
            "_view_name": "LayoutView",
            "align_content": null,
            "align_items": null,
            "align_self": null,
            "border_bottom": null,
            "border_left": null,
            "border_right": null,
            "border_top": null,
            "bottom": null,
            "display": null,
            "flex": null,
            "flex_flow": null,
            "grid_area": null,
            "grid_auto_columns": null,
            "grid_auto_flow": null,
            "grid_auto_rows": null,
            "grid_column": null,
            "grid_gap": null,
            "grid_row": null,
            "grid_template_areas": null,
            "grid_template_columns": null,
            "grid_template_rows": null,
            "height": null,
            "justify_content": null,
            "justify_items": null,
            "left": null,
            "margin": null,
            "max_height": null,
            "max_width": null,
            "min_height": null,
            "min_width": null,
            "object_fit": null,
            "object_position": null,
            "order": null,
            "overflow": null,
            "padding": null,
            "right": null,
            "top": null,
            "visibility": null,
            "width": null
          }
        },
        "c9f654f1ba5640fabd66c0755521e20f": {
          "model_module": "@jupyter-widgets/controls",
          "model_name": "ProgressStyleModel",
          "model_module_version": "2.0.0",
          "state": {
            "_model_module": "@jupyter-widgets/controls",
            "_model_module_version": "2.0.0",
            "_model_name": "ProgressStyleModel",
            "_view_count": null,
            "_view_module": "@jupyter-widgets/base",
            "_view_module_version": "2.0.0",
            "_view_name": "StyleView",
            "bar_color": null,
            "description_width": ""
          }
        },
        "2f5af72943c441c28c0049170f524e89": {
          "model_module": "@jupyter-widgets/base",
          "model_name": "LayoutModel",
          "model_module_version": "2.0.0",
          "state": {
            "_model_module": "@jupyter-widgets/base",
            "_model_module_version": "2.0.0",
            "_model_name": "LayoutModel",
            "_view_count": null,
            "_view_module": "@jupyter-widgets/base",
            "_view_module_version": "2.0.0",
            "_view_name": "LayoutView",
            "align_content": null,
            "align_items": null,
            "align_self": null,
            "border_bottom": null,
            "border_left": null,
            "border_right": null,
            "border_top": null,
            "bottom": null,
            "display": null,
            "flex": null,
            "flex_flow": null,
            "grid_area": null,
            "grid_auto_columns": null,
            "grid_auto_flow": null,
            "grid_auto_rows": null,
            "grid_column": null,
            "grid_gap": null,
            "grid_row": null,
            "grid_template_areas": null,
            "grid_template_columns": null,
            "grid_template_rows": null,
            "height": null,
            "justify_content": null,
            "justify_items": null,
            "left": null,
            "margin": null,
            "max_height": null,
            "max_width": null,
            "min_height": null,
            "min_width": null,
            "object_fit": null,
            "object_position": null,
            "order": null,
            "overflow": null,
            "padding": null,
            "right": null,
            "top": null,
            "visibility": null,
            "width": null
          }
        },
        "153e7ad279b74fa3ab69d9ed28221a61": {
          "model_module": "@jupyter-widgets/controls",
          "model_name": "HTMLStyleModel",
          "model_module_version": "2.0.0",
          "state": {
            "_model_module": "@jupyter-widgets/controls",
            "_model_module_version": "2.0.0",
            "_model_name": "HTMLStyleModel",
            "_view_count": null,
            "_view_module": "@jupyter-widgets/base",
            "_view_module_version": "2.0.0",
            "_view_name": "StyleView",
            "background": null,
            "description_width": "",
            "font_size": null,
            "text_color": null
          }
        },
        "8dcd6c0e2302449a8c2a00e7e604fe47": {
          "model_module": "@jupyter-widgets/controls",
          "model_name": "HBoxModel",
          "model_module_version": "2.0.0",
          "state": {
            "_dom_classes": [],
            "_model_module": "@jupyter-widgets/controls",
            "_model_module_version": "2.0.0",
            "_model_name": "HBoxModel",
            "_view_count": null,
            "_view_module": "@jupyter-widgets/controls",
            "_view_module_version": "2.0.0",
            "_view_name": "HBoxView",
            "box_style": "",
            "children": [
              "IPY_MODEL_d98a1ad58be14f6091e427d6cd2ff876",
              "IPY_MODEL_0d78d590cf2d4bbbb2e8635837b2eb26",
              "IPY_MODEL_8d77336a4cf74884898ec8bbb2ba4634"
            ],
            "layout": "IPY_MODEL_290c7216985543ab84a9092d7621511b",
            "tabbable": null,
            "tooltip": null
          }
        },
        "d98a1ad58be14f6091e427d6cd2ff876": {
          "model_module": "@jupyter-widgets/controls",
          "model_name": "HTMLModel",
          "model_module_version": "2.0.0",
          "state": {
            "_dom_classes": [],
            "_model_module": "@jupyter-widgets/controls",
            "_model_module_version": "2.0.0",
            "_model_name": "HTMLModel",
            "_view_count": null,
            "_view_module": "@jupyter-widgets/controls",
            "_view_module_version": "2.0.0",
            "_view_name": "HTMLView",
            "description": "",
            "description_allow_html": false,
            "layout": "IPY_MODEL_a15f35968e3e43b3ae68f8286260f11c",
            "placeholder": "​",
            "style": "IPY_MODEL_79c9cbf2565c4806b8aacdd10e20a176",
            "tabbable": null,
            "tooltip": null,
            "value": "config_sentence_transformers.json: 100%"
          }
        },
        "0d78d590cf2d4bbbb2e8635837b2eb26": {
          "model_module": "@jupyter-widgets/controls",
          "model_name": "FloatProgressModel",
          "model_module_version": "2.0.0",
          "state": {
            "_dom_classes": [],
            "_model_module": "@jupyter-widgets/controls",
            "_model_module_version": "2.0.0",
            "_model_name": "FloatProgressModel",
            "_view_count": null,
            "_view_module": "@jupyter-widgets/controls",
            "_view_module_version": "2.0.0",
            "_view_name": "ProgressView",
            "bar_style": "success",
            "description": "",
            "description_allow_html": false,
            "layout": "IPY_MODEL_654253f2b4a54d79bbfa069fd174680a",
            "max": 116,
            "min": 0,
            "orientation": "horizontal",
            "style": "IPY_MODEL_f1144761d06349dbab11600a2ab06031",
            "tabbable": null,
            "tooltip": null,
            "value": 116
          }
        },
        "8d77336a4cf74884898ec8bbb2ba4634": {
          "model_module": "@jupyter-widgets/controls",
          "model_name": "HTMLModel",
          "model_module_version": "2.0.0",
          "state": {
            "_dom_classes": [],
            "_model_module": "@jupyter-widgets/controls",
            "_model_module_version": "2.0.0",
            "_model_name": "HTMLModel",
            "_view_count": null,
            "_view_module": "@jupyter-widgets/controls",
            "_view_module_version": "2.0.0",
            "_view_name": "HTMLView",
            "description": "",
            "description_allow_html": false,
            "layout": "IPY_MODEL_215ea9c0521f48b89e5d9024c9fb5d44",
            "placeholder": "​",
            "style": "IPY_MODEL_45af2f6bf29742e78873bf96b4d76288",
            "tabbable": null,
            "tooltip": null,
            "value": " 116/116 [00:00&lt;00:00, 11.6kB/s]"
          }
        },
        "290c7216985543ab84a9092d7621511b": {
          "model_module": "@jupyter-widgets/base",
          "model_name": "LayoutModel",
          "model_module_version": "2.0.0",
          "state": {
            "_model_module": "@jupyter-widgets/base",
            "_model_module_version": "2.0.0",
            "_model_name": "LayoutModel",
            "_view_count": null,
            "_view_module": "@jupyter-widgets/base",
            "_view_module_version": "2.0.0",
            "_view_name": "LayoutView",
            "align_content": null,
            "align_items": null,
            "align_self": null,
            "border_bottom": null,
            "border_left": null,
            "border_right": null,
            "border_top": null,
            "bottom": null,
            "display": null,
            "flex": null,
            "flex_flow": null,
            "grid_area": null,
            "grid_auto_columns": null,
            "grid_auto_flow": null,
            "grid_auto_rows": null,
            "grid_column": null,
            "grid_gap": null,
            "grid_row": null,
            "grid_template_areas": null,
            "grid_template_columns": null,
            "grid_template_rows": null,
            "height": null,
            "justify_content": null,
            "justify_items": null,
            "left": null,
            "margin": null,
            "max_height": null,
            "max_width": null,
            "min_height": null,
            "min_width": null,
            "object_fit": null,
            "object_position": null,
            "order": null,
            "overflow": null,
            "padding": null,
            "right": null,
            "top": null,
            "visibility": null,
            "width": null
          }
        },
        "a15f35968e3e43b3ae68f8286260f11c": {
          "model_module": "@jupyter-widgets/base",
          "model_name": "LayoutModel",
          "model_module_version": "2.0.0",
          "state": {
            "_model_module": "@jupyter-widgets/base",
            "_model_module_version": "2.0.0",
            "_model_name": "LayoutModel",
            "_view_count": null,
            "_view_module": "@jupyter-widgets/base",
            "_view_module_version": "2.0.0",
            "_view_name": "LayoutView",
            "align_content": null,
            "align_items": null,
            "align_self": null,
            "border_bottom": null,
            "border_left": null,
            "border_right": null,
            "border_top": null,
            "bottom": null,
            "display": null,
            "flex": null,
            "flex_flow": null,
            "grid_area": null,
            "grid_auto_columns": null,
            "grid_auto_flow": null,
            "grid_auto_rows": null,
            "grid_column": null,
            "grid_gap": null,
            "grid_row": null,
            "grid_template_areas": null,
            "grid_template_columns": null,
            "grid_template_rows": null,
            "height": null,
            "justify_content": null,
            "justify_items": null,
            "left": null,
            "margin": null,
            "max_height": null,
            "max_width": null,
            "min_height": null,
            "min_width": null,
            "object_fit": null,
            "object_position": null,
            "order": null,
            "overflow": null,
            "padding": null,
            "right": null,
            "top": null,
            "visibility": null,
            "width": null
          }
        },
        "79c9cbf2565c4806b8aacdd10e20a176": {
          "model_module": "@jupyter-widgets/controls",
          "model_name": "HTMLStyleModel",
          "model_module_version": "2.0.0",
          "state": {
            "_model_module": "@jupyter-widgets/controls",
            "_model_module_version": "2.0.0",
            "_model_name": "HTMLStyleModel",
            "_view_count": null,
            "_view_module": "@jupyter-widgets/base",
            "_view_module_version": "2.0.0",
            "_view_name": "StyleView",
            "background": null,
            "description_width": "",
            "font_size": null,
            "text_color": null
          }
        },
        "654253f2b4a54d79bbfa069fd174680a": {
          "model_module": "@jupyter-widgets/base",
          "model_name": "LayoutModel",
          "model_module_version": "2.0.0",
          "state": {
            "_model_module": "@jupyter-widgets/base",
            "_model_module_version": "2.0.0",
            "_model_name": "LayoutModel",
            "_view_count": null,
            "_view_module": "@jupyter-widgets/base",
            "_view_module_version": "2.0.0",
            "_view_name": "LayoutView",
            "align_content": null,
            "align_items": null,
            "align_self": null,
            "border_bottom": null,
            "border_left": null,
            "border_right": null,
            "border_top": null,
            "bottom": null,
            "display": null,
            "flex": null,
            "flex_flow": null,
            "grid_area": null,
            "grid_auto_columns": null,
            "grid_auto_flow": null,
            "grid_auto_rows": null,
            "grid_column": null,
            "grid_gap": null,
            "grid_row": null,
            "grid_template_areas": null,
            "grid_template_columns": null,
            "grid_template_rows": null,
            "height": null,
            "justify_content": null,
            "justify_items": null,
            "left": null,
            "margin": null,
            "max_height": null,
            "max_width": null,
            "min_height": null,
            "min_width": null,
            "object_fit": null,
            "object_position": null,
            "order": null,
            "overflow": null,
            "padding": null,
            "right": null,
            "top": null,
            "visibility": null,
            "width": null
          }
        },
        "f1144761d06349dbab11600a2ab06031": {
          "model_module": "@jupyter-widgets/controls",
          "model_name": "ProgressStyleModel",
          "model_module_version": "2.0.0",
          "state": {
            "_model_module": "@jupyter-widgets/controls",
            "_model_module_version": "2.0.0",
            "_model_name": "ProgressStyleModel",
            "_view_count": null,
            "_view_module": "@jupyter-widgets/base",
            "_view_module_version": "2.0.0",
            "_view_name": "StyleView",
            "bar_color": null,
            "description_width": ""
          }
        },
        "215ea9c0521f48b89e5d9024c9fb5d44": {
          "model_module": "@jupyter-widgets/base",
          "model_name": "LayoutModel",
          "model_module_version": "2.0.0",
          "state": {
            "_model_module": "@jupyter-widgets/base",
            "_model_module_version": "2.0.0",
            "_model_name": "LayoutModel",
            "_view_count": null,
            "_view_module": "@jupyter-widgets/base",
            "_view_module_version": "2.0.0",
            "_view_name": "LayoutView",
            "align_content": null,
            "align_items": null,
            "align_self": null,
            "border_bottom": null,
            "border_left": null,
            "border_right": null,
            "border_top": null,
            "bottom": null,
            "display": null,
            "flex": null,
            "flex_flow": null,
            "grid_area": null,
            "grid_auto_columns": null,
            "grid_auto_flow": null,
            "grid_auto_rows": null,
            "grid_column": null,
            "grid_gap": null,
            "grid_row": null,
            "grid_template_areas": null,
            "grid_template_columns": null,
            "grid_template_rows": null,
            "height": null,
            "justify_content": null,
            "justify_items": null,
            "left": null,
            "margin": null,
            "max_height": null,
            "max_width": null,
            "min_height": null,
            "min_width": null,
            "object_fit": null,
            "object_position": null,
            "order": null,
            "overflow": null,
            "padding": null,
            "right": null,
            "top": null,
            "visibility": null,
            "width": null
          }
        },
        "45af2f6bf29742e78873bf96b4d76288": {
          "model_module": "@jupyter-widgets/controls",
          "model_name": "HTMLStyleModel",
          "model_module_version": "2.0.0",
          "state": {
            "_model_module": "@jupyter-widgets/controls",
            "_model_module_version": "2.0.0",
            "_model_name": "HTMLStyleModel",
            "_view_count": null,
            "_view_module": "@jupyter-widgets/base",
            "_view_module_version": "2.0.0",
            "_view_name": "StyleView",
            "background": null,
            "description_width": "",
            "font_size": null,
            "text_color": null
          }
        },
        "c997c887e77448568334563efd514aa3": {
          "model_module": "@jupyter-widgets/controls",
          "model_name": "HBoxModel",
          "model_module_version": "2.0.0",
          "state": {
            "_dom_classes": [],
            "_model_module": "@jupyter-widgets/controls",
            "_model_module_version": "2.0.0",
            "_model_name": "HBoxModel",
            "_view_count": null,
            "_view_module": "@jupyter-widgets/controls",
            "_view_module_version": "2.0.0",
            "_view_name": "HBoxView",
            "box_style": "",
            "children": [
              "IPY_MODEL_4662e757e4c244d1938c7182ef418db1",
              "IPY_MODEL_e23dcc5190bb430f98fd26367f6d8ad8",
              "IPY_MODEL_8835bee87a7241e7832c973ea96b9ef3"
            ],
            "layout": "IPY_MODEL_263f55dd2e7142e69f0a60ea133a2e08",
            "tabbable": null,
            "tooltip": null
          }
        },
        "4662e757e4c244d1938c7182ef418db1": {
          "model_module": "@jupyter-widgets/controls",
          "model_name": "HTMLModel",
          "model_module_version": "2.0.0",
          "state": {
            "_dom_classes": [],
            "_model_module": "@jupyter-widgets/controls",
            "_model_module_version": "2.0.0",
            "_model_name": "HTMLModel",
            "_view_count": null,
            "_view_module": "@jupyter-widgets/controls",
            "_view_module_version": "2.0.0",
            "_view_name": "HTMLView",
            "description": "",
            "description_allow_html": false,
            "layout": "IPY_MODEL_5736f415ff3840f2986c044ca2f45718",
            "placeholder": "​",
            "style": "IPY_MODEL_0c3a65cc820c46d194911a0a442640b7",
            "tabbable": null,
            "tooltip": null,
            "value": "README.md: 100%"
          }
        },
        "e23dcc5190bb430f98fd26367f6d8ad8": {
          "model_module": "@jupyter-widgets/controls",
          "model_name": "FloatProgressModel",
          "model_module_version": "2.0.0",
          "state": {
            "_dom_classes": [],
            "_model_module": "@jupyter-widgets/controls",
            "_model_module_version": "2.0.0",
            "_model_name": "FloatProgressModel",
            "_view_count": null,
            "_view_module": "@jupyter-widgets/controls",
            "_view_module_version": "2.0.0",
            "_view_name": "ProgressView",
            "bar_style": "success",
            "description": "",
            "description_allow_html": false,
            "layout": "IPY_MODEL_f0c09788e6aa419c8da3e2de52fed884",
            "max": 10415,
            "min": 0,
            "orientation": "horizontal",
            "style": "IPY_MODEL_e56d2f0e24904376b542e4d3e0c7d8a5",
            "tabbable": null,
            "tooltip": null,
            "value": 10415
          }
        },
        "8835bee87a7241e7832c973ea96b9ef3": {
          "model_module": "@jupyter-widgets/controls",
          "model_name": "HTMLModel",
          "model_module_version": "2.0.0",
          "state": {
            "_dom_classes": [],
            "_model_module": "@jupyter-widgets/controls",
            "_model_module_version": "2.0.0",
            "_model_name": "HTMLModel",
            "_view_count": null,
            "_view_module": "@jupyter-widgets/controls",
            "_view_module_version": "2.0.0",
            "_view_name": "HTMLView",
            "description": "",
            "description_allow_html": false,
            "layout": "IPY_MODEL_b60f42359a4f46aca34cd9a0237affc3",
            "placeholder": "​",
            "style": "IPY_MODEL_5eab10e4606d4f1588c96f51c2e501e5",
            "tabbable": null,
            "tooltip": null,
            "value": " 10.4k/10.4k [00:00&lt;00:00, 748kB/s]"
          }
        },
        "263f55dd2e7142e69f0a60ea133a2e08": {
          "model_module": "@jupyter-widgets/base",
          "model_name": "LayoutModel",
          "model_module_version": "2.0.0",
          "state": {
            "_model_module": "@jupyter-widgets/base",
            "_model_module_version": "2.0.0",
            "_model_name": "LayoutModel",
            "_view_count": null,
            "_view_module": "@jupyter-widgets/base",
            "_view_module_version": "2.0.0",
            "_view_name": "LayoutView",
            "align_content": null,
            "align_items": null,
            "align_self": null,
            "border_bottom": null,
            "border_left": null,
            "border_right": null,
            "border_top": null,
            "bottom": null,
            "display": null,
            "flex": null,
            "flex_flow": null,
            "grid_area": null,
            "grid_auto_columns": null,
            "grid_auto_flow": null,
            "grid_auto_rows": null,
            "grid_column": null,
            "grid_gap": null,
            "grid_row": null,
            "grid_template_areas": null,
            "grid_template_columns": null,
            "grid_template_rows": null,
            "height": null,
            "justify_content": null,
            "justify_items": null,
            "left": null,
            "margin": null,
            "max_height": null,
            "max_width": null,
            "min_height": null,
            "min_width": null,
            "object_fit": null,
            "object_position": null,
            "order": null,
            "overflow": null,
            "padding": null,
            "right": null,
            "top": null,
            "visibility": null,
            "width": null
          }
        },
        "5736f415ff3840f2986c044ca2f45718": {
          "model_module": "@jupyter-widgets/base",
          "model_name": "LayoutModel",
          "model_module_version": "2.0.0",
          "state": {
            "_model_module": "@jupyter-widgets/base",
            "_model_module_version": "2.0.0",
            "_model_name": "LayoutModel",
            "_view_count": null,
            "_view_module": "@jupyter-widgets/base",
            "_view_module_version": "2.0.0",
            "_view_name": "LayoutView",
            "align_content": null,
            "align_items": null,
            "align_self": null,
            "border_bottom": null,
            "border_left": null,
            "border_right": null,
            "border_top": null,
            "bottom": null,
            "display": null,
            "flex": null,
            "flex_flow": null,
            "grid_area": null,
            "grid_auto_columns": null,
            "grid_auto_flow": null,
            "grid_auto_rows": null,
            "grid_column": null,
            "grid_gap": null,
            "grid_row": null,
            "grid_template_areas": null,
            "grid_template_columns": null,
            "grid_template_rows": null,
            "height": null,
            "justify_content": null,
            "justify_items": null,
            "left": null,
            "margin": null,
            "max_height": null,
            "max_width": null,
            "min_height": null,
            "min_width": null,
            "object_fit": null,
            "object_position": null,
            "order": null,
            "overflow": null,
            "padding": null,
            "right": null,
            "top": null,
            "visibility": null,
            "width": null
          }
        },
        "0c3a65cc820c46d194911a0a442640b7": {
          "model_module": "@jupyter-widgets/controls",
          "model_name": "HTMLStyleModel",
          "model_module_version": "2.0.0",
          "state": {
            "_model_module": "@jupyter-widgets/controls",
            "_model_module_version": "2.0.0",
            "_model_name": "HTMLStyleModel",
            "_view_count": null,
            "_view_module": "@jupyter-widgets/base",
            "_view_module_version": "2.0.0",
            "_view_name": "StyleView",
            "background": null,
            "description_width": "",
            "font_size": null,
            "text_color": null
          }
        },
        "f0c09788e6aa419c8da3e2de52fed884": {
          "model_module": "@jupyter-widgets/base",
          "model_name": "LayoutModel",
          "model_module_version": "2.0.0",
          "state": {
            "_model_module": "@jupyter-widgets/base",
            "_model_module_version": "2.0.0",
            "_model_name": "LayoutModel",
            "_view_count": null,
            "_view_module": "@jupyter-widgets/base",
            "_view_module_version": "2.0.0",
            "_view_name": "LayoutView",
            "align_content": null,
            "align_items": null,
            "align_self": null,
            "border_bottom": null,
            "border_left": null,
            "border_right": null,
            "border_top": null,
            "bottom": null,
            "display": null,
            "flex": null,
            "flex_flow": null,
            "grid_area": null,
            "grid_auto_columns": null,
            "grid_auto_flow": null,
            "grid_auto_rows": null,
            "grid_column": null,
            "grid_gap": null,
            "grid_row": null,
            "grid_template_areas": null,
            "grid_template_columns": null,
            "grid_template_rows": null,
            "height": null,
            "justify_content": null,
            "justify_items": null,
            "left": null,
            "margin": null,
            "max_height": null,
            "max_width": null,
            "min_height": null,
            "min_width": null,
            "object_fit": null,
            "object_position": null,
            "order": null,
            "overflow": null,
            "padding": null,
            "right": null,
            "top": null,
            "visibility": null,
            "width": null
          }
        },
        "e56d2f0e24904376b542e4d3e0c7d8a5": {
          "model_module": "@jupyter-widgets/controls",
          "model_name": "ProgressStyleModel",
          "model_module_version": "2.0.0",
          "state": {
            "_model_module": "@jupyter-widgets/controls",
            "_model_module_version": "2.0.0",
            "_model_name": "ProgressStyleModel",
            "_view_count": null,
            "_view_module": "@jupyter-widgets/base",
            "_view_module_version": "2.0.0",
            "_view_name": "StyleView",
            "bar_color": null,
            "description_width": ""
          }
        },
        "b60f42359a4f46aca34cd9a0237affc3": {
          "model_module": "@jupyter-widgets/base",
          "model_name": "LayoutModel",
          "model_module_version": "2.0.0",
          "state": {
            "_model_module": "@jupyter-widgets/base",
            "_model_module_version": "2.0.0",
            "_model_name": "LayoutModel",
            "_view_count": null,
            "_view_module": "@jupyter-widgets/base",
            "_view_module_version": "2.0.0",
            "_view_name": "LayoutView",
            "align_content": null,
            "align_items": null,
            "align_self": null,
            "border_bottom": null,
            "border_left": null,
            "border_right": null,
            "border_top": null,
            "bottom": null,
            "display": null,
            "flex": null,
            "flex_flow": null,
            "grid_area": null,
            "grid_auto_columns": null,
            "grid_auto_flow": null,
            "grid_auto_rows": null,
            "grid_column": null,
            "grid_gap": null,
            "grid_row": null,
            "grid_template_areas": null,
            "grid_template_columns": null,
            "grid_template_rows": null,
            "height": null,
            "justify_content": null,
            "justify_items": null,
            "left": null,
            "margin": null,
            "max_height": null,
            "max_width": null,
            "min_height": null,
            "min_width": null,
            "object_fit": null,
            "object_position": null,
            "order": null,
            "overflow": null,
            "padding": null,
            "right": null,
            "top": null,
            "visibility": null,
            "width": null
          }
        },
        "5eab10e4606d4f1588c96f51c2e501e5": {
          "model_module": "@jupyter-widgets/controls",
          "model_name": "HTMLStyleModel",
          "model_module_version": "2.0.0",
          "state": {
            "_model_module": "@jupyter-widgets/controls",
            "_model_module_version": "2.0.0",
            "_model_name": "HTMLStyleModel",
            "_view_count": null,
            "_view_module": "@jupyter-widgets/base",
            "_view_module_version": "2.0.0",
            "_view_name": "StyleView",
            "background": null,
            "description_width": "",
            "font_size": null,
            "text_color": null
          }
        },
        "62ef6685a0544289975190248771b20e": {
          "model_module": "@jupyter-widgets/base",
          "model_name": "LayoutModel",
          "model_module_version": "2.0.0",
          "state": {
            "_model_module": "@jupyter-widgets/base",
            "_model_module_version": "2.0.0",
            "_model_name": "LayoutModel",
            "_view_count": null,
            "_view_module": "@jupyter-widgets/base",
            "_view_module_version": "2.0.0",
            "_view_name": "LayoutView",
            "align_content": null,
            "align_items": null,
            "align_self": null,
            "border_bottom": null,
            "border_left": null,
            "border_right": null,
            "border_top": null,
            "bottom": null,
            "display": null,
            "flex": null,
            "flex_flow": null,
            "grid_area": null,
            "grid_auto_columns": null,
            "grid_auto_flow": null,
            "grid_auto_rows": null,
            "grid_column": null,
            "grid_gap": null,
            "grid_row": null,
            "grid_template_areas": null,
            "grid_template_columns": null,
            "grid_template_rows": null,
            "height": null,
            "justify_content": null,
            "justify_items": null,
            "left": null,
            "margin": null,
            "max_height": null,
            "max_width": null,
            "min_height": null,
            "min_width": null,
            "object_fit": null,
            "object_position": null,
            "order": null,
            "overflow": null,
            "padding": null,
            "right": null,
            "top": null,
            "visibility": null,
            "width": null
          }
        },
        "6f2deb49fed040c3a6b564fa2b10255f": {
          "model_module": "@jupyter-widgets/controls",
          "model_name": "ProgressStyleModel",
          "model_module_version": "2.0.0",
          "state": {
            "_model_module": "@jupyter-widgets/controls",
            "_model_module_version": "2.0.0",
            "_model_name": "ProgressStyleModel",
            "_view_count": null,
            "_view_module": "@jupyter-widgets/base",
            "_view_module_version": "2.0.0",
            "_view_name": "StyleView",
            "bar_color": null,
            "description_width": ""
          }
        },
        "014c43662b7a4d5bb6b1777c62fe5f38": {
          "model_module": "@jupyter-widgets/base",
          "model_name": "LayoutModel",
          "model_module_version": "2.0.0",
          "state": {
            "_model_module": "@jupyter-widgets/base",
            "_model_module_version": "2.0.0",
            "_model_name": "LayoutModel",
            "_view_count": null,
            "_view_module": "@jupyter-widgets/base",
            "_view_module_version": "2.0.0",
            "_view_name": "LayoutView",
            "align_content": null,
            "align_items": null,
            "align_self": null,
            "border_bottom": null,
            "border_left": null,
            "border_right": null,
            "border_top": null,
            "bottom": null,
            "display": null,
            "flex": null,
            "flex_flow": null,
            "grid_area": null,
            "grid_auto_columns": null,
            "grid_auto_flow": null,
            "grid_auto_rows": null,
            "grid_column": null,
            "grid_gap": null,
            "grid_row": null,
            "grid_template_areas": null,
            "grid_template_columns": null,
            "grid_template_rows": null,
            "height": null,
            "justify_content": null,
            "justify_items": null,
            "left": null,
            "margin": null,
            "max_height": null,
            "max_width": null,
            "min_height": null,
            "min_width": null,
            "object_fit": null,
            "object_position": null,
            "order": null,
            "overflow": null,
            "padding": null,
            "right": null,
            "top": null,
            "visibility": null,
            "width": null
          }
        },
        "3ffed376e042403091d427bc44f75271": {
          "model_module": "@jupyter-widgets/controls",
          "model_name": "HTMLStyleModel",
          "model_module_version": "2.0.0",
          "state": {
            "_model_module": "@jupyter-widgets/controls",
            "_model_module_version": "2.0.0",
            "_model_name": "HTMLStyleModel",
            "_view_count": null,
            "_view_module": "@jupyter-widgets/base",
            "_view_module_version": "2.0.0",
            "_view_name": "StyleView",
            "background": null,
            "description_width": "",
            "font_size": null,
            "text_color": null
          }
        },
        "93ac179c1985432bb5bbbb1483df0aef": {
          "model_module": "@jupyter-widgets/base",
          "model_name": "LayoutModel",
          "model_module_version": "2.0.0",
          "state": {
            "_model_module": "@jupyter-widgets/base",
            "_model_module_version": "2.0.0",
            "_model_name": "LayoutModel",
            "_view_count": null,
            "_view_module": "@jupyter-widgets/base",
            "_view_module_version": "2.0.0",
            "_view_name": "LayoutView",
            "align_content": null,
            "align_items": null,
            "align_self": null,
            "border_bottom": null,
            "border_left": null,
            "border_right": null,
            "border_top": null,
            "bottom": null,
            "display": null,
            "flex": null,
            "flex_flow": null,
            "grid_area": null,
            "grid_auto_columns": null,
            "grid_auto_flow": null,
            "grid_auto_rows": null,
            "grid_column": null,
            "grid_gap": null,
            "grid_row": null,
            "grid_template_areas": null,
            "grid_template_columns": null,
            "grid_template_rows": null,
            "height": null,
            "justify_content": null,
            "justify_items": null,
            "left": null,
            "margin": null,
            "max_height": null,
            "max_width": null,
            "min_height": null,
            "min_width": null,
            "object_fit": null,
            "object_position": null,
            "order": null,
            "overflow": null,
            "padding": null,
            "right": null,
            "top": null,
            "visibility": null,
            "width": null
          }
        },
        "80ba9d205ca645c8a4426f4827dc347b": {
          "model_module": "@jupyter-widgets/controls",
          "model_name": "HTMLStyleModel",
          "model_module_version": "2.0.0",
          "state": {
            "_model_module": "@jupyter-widgets/controls",
            "_model_module_version": "2.0.0",
            "_model_name": "HTMLStyleModel",
            "_view_count": null,
            "_view_module": "@jupyter-widgets/base",
            "_view_module_version": "2.0.0",
            "_view_name": "StyleView",
            "background": null,
            "description_width": "",
            "font_size": null,
            "text_color": null
          }
        },
        "bd119f6e65a9451e9e21155d87225933": {
          "model_module": "@jupyter-widgets/controls",
          "model_name": "HTMLModel",
          "model_module_version": "2.0.0",
          "state": {
            "_dom_classes": [],
            "_model_module": "@jupyter-widgets/controls",
            "_model_module_version": "2.0.0",
            "_model_name": "HTMLModel",
            "_view_count": null,
            "_view_module": "@jupyter-widgets/controls",
            "_view_module_version": "2.0.0",
            "_view_name": "HTMLView",
            "description": "",
            "description_allow_html": false,
            "layout": "IPY_MODEL_014c43662b7a4d5bb6b1777c62fe5f38",
            "placeholder": "​",
            "style": "IPY_MODEL_3ffed376e042403091d427bc44f75271",
            "tabbable": null,
            "tooltip": null,
            "value": "sentence_bert_config.json: 100%"
          }
        },
        "c09011221efc4e1e845d7e2c01825e8b": {
          "model_module": "@jupyter-widgets/controls",
          "model_name": "FloatProgressModel",
          "model_module_version": "2.0.0",
          "state": {
            "_dom_classes": [],
            "_model_module": "@jupyter-widgets/controls",
            "_model_module_version": "2.0.0",
            "_model_name": "FloatProgressModel",
            "_view_count": null,
            "_view_module": "@jupyter-widgets/controls",
            "_view_module_version": "2.0.0",
            "_view_name": "ProgressView",
            "bar_style": "success",
            "description": "",
            "description_allow_html": false,
            "layout": "IPY_MODEL_62ef6685a0544289975190248771b20e",
            "max": 53,
            "min": 0,
            "orientation": "horizontal",
            "style": "IPY_MODEL_6f2deb49fed040c3a6b564fa2b10255f",
            "tabbable": null,
            "tooltip": null,
            "value": 53
          }
        },
        "a736475867b24468b0554df0927eac7a": {
          "model_module": "@jupyter-widgets/controls",
          "model_name": "HTMLModel",
          "model_module_version": "2.0.0",
          "state": {
            "_dom_classes": [],
            "_model_module": "@jupyter-widgets/controls",
            "_model_module_version": "2.0.0",
            "_model_name": "HTMLModel",
            "_view_count": null,
            "_view_module": "@jupyter-widgets/controls",
            "_view_module_version": "2.0.0",
            "_view_name": "HTMLView",
            "description": "",
            "description_allow_html": false,
            "layout": "IPY_MODEL_93ac179c1985432bb5bbbb1483df0aef",
            "placeholder": "​",
            "style": "IPY_MODEL_80ba9d205ca645c8a4426f4827dc347b",
            "tabbable": null,
            "tooltip": null,
            "value": " 53.0/53.0 [00:00&lt;00:00, 5.53kB/s]"
          }
        },
        "78fb4e3705d84f3aafa276e730983a70": {
          "model_module": "@jupyter-widgets/base",
          "model_name": "LayoutModel",
          "model_module_version": "2.0.0",
          "state": {
            "_model_module": "@jupyter-widgets/base",
            "_model_module_version": "2.0.0",
            "_model_name": "LayoutModel",
            "_view_count": null,
            "_view_module": "@jupyter-widgets/base",
            "_view_module_version": "2.0.0",
            "_view_name": "LayoutView",
            "align_content": null,
            "align_items": null,
            "align_self": null,
            "border_bottom": null,
            "border_left": null,
            "border_right": null,
            "border_top": null,
            "bottom": null,
            "display": null,
            "flex": null,
            "flex_flow": null,
            "grid_area": null,
            "grid_auto_columns": null,
            "grid_auto_flow": null,
            "grid_auto_rows": null,
            "grid_column": null,
            "grid_gap": null,
            "grid_row": null,
            "grid_template_areas": null,
            "grid_template_columns": null,
            "grid_template_rows": null,
            "height": null,
            "justify_content": null,
            "justify_items": null,
            "left": null,
            "margin": null,
            "max_height": null,
            "max_width": null,
            "min_height": null,
            "min_width": null,
            "object_fit": null,
            "object_position": null,
            "order": null,
            "overflow": null,
            "padding": null,
            "right": null,
            "top": null,
            "visibility": null,
            "width": null
          }
        },
        "c13e254a46044e3682b03bd31adf0eda": {
          "model_module": "@jupyter-widgets/controls",
          "model_name": "HBoxModel",
          "model_module_version": "2.0.0",
          "state": {
            "_dom_classes": [],
            "_model_module": "@jupyter-widgets/controls",
            "_model_module_version": "2.0.0",
            "_model_name": "HBoxModel",
            "_view_count": null,
            "_view_module": "@jupyter-widgets/controls",
            "_view_module_version": "2.0.0",
            "_view_name": "HBoxView",
            "box_style": "",
            "children": [
              "IPY_MODEL_bd119f6e65a9451e9e21155d87225933",
              "IPY_MODEL_c09011221efc4e1e845d7e2c01825e8b",
              "IPY_MODEL_a736475867b24468b0554df0927eac7a"
            ],
            "layout": "IPY_MODEL_78fb4e3705d84f3aafa276e730983a70",
            "tabbable": null,
            "tooltip": null
          }
        },
        "bb1d6df38ffc4e25a63931b5e5fc7216": {
          "model_module": "@jupyter-widgets/base",
          "model_name": "LayoutModel",
          "model_module_version": "2.0.0",
          "state": {
            "_model_module": "@jupyter-widgets/base",
            "_model_module_version": "2.0.0",
            "_model_name": "LayoutModel",
            "_view_count": null,
            "_view_module": "@jupyter-widgets/base",
            "_view_module_version": "2.0.0",
            "_view_name": "LayoutView",
            "align_content": null,
            "align_items": null,
            "align_self": null,
            "border_bottom": null,
            "border_left": null,
            "border_right": null,
            "border_top": null,
            "bottom": null,
            "display": null,
            "flex": null,
            "flex_flow": null,
            "grid_area": null,
            "grid_auto_columns": null,
            "grid_auto_flow": null,
            "grid_auto_rows": null,
            "grid_column": null,
            "grid_gap": null,
            "grid_row": null,
            "grid_template_areas": null,
            "grid_template_columns": null,
            "grid_template_rows": null,
            "height": null,
            "justify_content": null,
            "justify_items": null,
            "left": null,
            "margin": null,
            "max_height": null,
            "max_width": null,
            "min_height": null,
            "min_width": null,
            "object_fit": null,
            "object_position": null,
            "order": null,
            "overflow": null,
            "padding": null,
            "right": null,
            "top": null,
            "visibility": null,
            "width": null
          }
        },
        "e04329b939cd499daaa9d83aa3e819ae": {
          "model_module": "@jupyter-widgets/controls",
          "model_name": "ProgressStyleModel",
          "model_module_version": "2.0.0",
          "state": {
            "_model_module": "@jupyter-widgets/controls",
            "_model_module_version": "2.0.0",
            "_model_name": "ProgressStyleModel",
            "_view_count": null,
            "_view_module": "@jupyter-widgets/base",
            "_view_module_version": "2.0.0",
            "_view_name": "StyleView",
            "bar_color": null,
            "description_width": ""
          }
        },
        "b40aff41b50a45e4ac5a7fb11a03d29f": {
          "model_module": "@jupyter-widgets/base",
          "model_name": "LayoutModel",
          "model_module_version": "2.0.0",
          "state": {
            "_model_module": "@jupyter-widgets/base",
            "_model_module_version": "2.0.0",
            "_model_name": "LayoutModel",
            "_view_count": null,
            "_view_module": "@jupyter-widgets/base",
            "_view_module_version": "2.0.0",
            "_view_name": "LayoutView",
            "align_content": null,
            "align_items": null,
            "align_self": null,
            "border_bottom": null,
            "border_left": null,
            "border_right": null,
            "border_top": null,
            "bottom": null,
            "display": null,
            "flex": null,
            "flex_flow": null,
            "grid_area": null,
            "grid_auto_columns": null,
            "grid_auto_flow": null,
            "grid_auto_rows": null,
            "grid_column": null,
            "grid_gap": null,
            "grid_row": null,
            "grid_template_areas": null,
            "grid_template_columns": null,
            "grid_template_rows": null,
            "height": null,
            "justify_content": null,
            "justify_items": null,
            "left": null,
            "margin": null,
            "max_height": null,
            "max_width": null,
            "min_height": null,
            "min_width": null,
            "object_fit": null,
            "object_position": null,
            "order": null,
            "overflow": null,
            "padding": null,
            "right": null,
            "top": null,
            "visibility": null,
            "width": null
          }
        },
        "0222b7e3f78b42bba427809dff88ccb5": {
          "model_module": "@jupyter-widgets/controls",
          "model_name": "HTMLStyleModel",
          "model_module_version": "2.0.0",
          "state": {
            "_model_module": "@jupyter-widgets/controls",
            "_model_module_version": "2.0.0",
            "_model_name": "HTMLStyleModel",
            "_view_count": null,
            "_view_module": "@jupyter-widgets/base",
            "_view_module_version": "2.0.0",
            "_view_name": "StyleView",
            "background": null,
            "description_width": "",
            "font_size": null,
            "text_color": null
          }
        },
        "40b9f392560e4b38a9fe5afe8f3c44df": {
          "model_module": "@jupyter-widgets/base",
          "model_name": "LayoutModel",
          "model_module_version": "2.0.0",
          "state": {
            "_model_module": "@jupyter-widgets/base",
            "_model_module_version": "2.0.0",
            "_model_name": "LayoutModel",
            "_view_count": null,
            "_view_module": "@jupyter-widgets/base",
            "_view_module_version": "2.0.0",
            "_view_name": "LayoutView",
            "align_content": null,
            "align_items": null,
            "align_self": null,
            "border_bottom": null,
            "border_left": null,
            "border_right": null,
            "border_top": null,
            "bottom": null,
            "display": null,
            "flex": null,
            "flex_flow": null,
            "grid_area": null,
            "grid_auto_columns": null,
            "grid_auto_flow": null,
            "grid_auto_rows": null,
            "grid_column": null,
            "grid_gap": null,
            "grid_row": null,
            "grid_template_areas": null,
            "grid_template_columns": null,
            "grid_template_rows": null,
            "height": null,
            "justify_content": null,
            "justify_items": null,
            "left": null,
            "margin": null,
            "max_height": null,
            "max_width": null,
            "min_height": null,
            "min_width": null,
            "object_fit": null,
            "object_position": null,
            "order": null,
            "overflow": null,
            "padding": null,
            "right": null,
            "top": null,
            "visibility": null,
            "width": null
          }
        },
        "67ffe958fd154a8ebf3e0781342a2a51": {
          "model_module": "@jupyter-widgets/controls",
          "model_name": "HTMLStyleModel",
          "model_module_version": "2.0.0",
          "state": {
            "_model_module": "@jupyter-widgets/controls",
            "_model_module_version": "2.0.0",
            "_model_name": "HTMLStyleModel",
            "_view_count": null,
            "_view_module": "@jupyter-widgets/base",
            "_view_module_version": "2.0.0",
            "_view_name": "StyleView",
            "background": null,
            "description_width": "",
            "font_size": null,
            "text_color": null
          }
        },
        "cb6429fdd59047d0abce253509a0a003": {
          "model_module": "@jupyter-widgets/controls",
          "model_name": "HTMLModel",
          "model_module_version": "2.0.0",
          "state": {
            "_dom_classes": [],
            "_model_module": "@jupyter-widgets/controls",
            "_model_module_version": "2.0.0",
            "_model_name": "HTMLModel",
            "_view_count": null,
            "_view_module": "@jupyter-widgets/controls",
            "_view_module_version": "2.0.0",
            "_view_name": "HTMLView",
            "description": "",
            "description_allow_html": false,
            "layout": "IPY_MODEL_b40aff41b50a45e4ac5a7fb11a03d29f",
            "placeholder": "​",
            "style": "IPY_MODEL_0222b7e3f78b42bba427809dff88ccb5",
            "tabbable": null,
            "tooltip": null,
            "value": "config.json: 100%"
          }
        },
        "3778b470c76a48f5afc3d5af6d975528": {
          "model_module": "@jupyter-widgets/controls",
          "model_name": "FloatProgressModel",
          "model_module_version": "2.0.0",
          "state": {
            "_dom_classes": [],
            "_model_module": "@jupyter-widgets/controls",
            "_model_module_version": "2.0.0",
            "_model_name": "FloatProgressModel",
            "_view_count": null,
            "_view_module": "@jupyter-widgets/controls",
            "_view_module_version": "2.0.0",
            "_view_name": "ProgressView",
            "bar_style": "success",
            "description": "",
            "description_allow_html": false,
            "layout": "IPY_MODEL_bb1d6df38ffc4e25a63931b5e5fc7216",
            "max": 571,
            "min": 0,
            "orientation": "horizontal",
            "style": "IPY_MODEL_e04329b939cd499daaa9d83aa3e819ae",
            "tabbable": null,
            "tooltip": null,
            "value": 571
          }
        },
        "c8cec944250d4937812096ae844e553f": {
          "model_module": "@jupyter-widgets/controls",
          "model_name": "HTMLModel",
          "model_module_version": "2.0.0",
          "state": {
            "_dom_classes": [],
            "_model_module": "@jupyter-widgets/controls",
            "_model_module_version": "2.0.0",
            "_model_name": "HTMLModel",
            "_view_count": null,
            "_view_module": "@jupyter-widgets/controls",
            "_view_module_version": "2.0.0",
            "_view_name": "HTMLView",
            "description": "",
            "description_allow_html": false,
            "layout": "IPY_MODEL_40b9f392560e4b38a9fe5afe8f3c44df",
            "placeholder": "​",
            "style": "IPY_MODEL_67ffe958fd154a8ebf3e0781342a2a51",
            "tabbable": null,
            "tooltip": null,
            "value": " 571/571 [00:00&lt;00:00, 58.0kB/s]"
          }
        },
        "eb2465f7b0314b38afa6bf362e1a2744": {
          "model_module": "@jupyter-widgets/base",
          "model_name": "LayoutModel",
          "model_module_version": "2.0.0",
          "state": {
            "_model_module": "@jupyter-widgets/base",
            "_model_module_version": "2.0.0",
            "_model_name": "LayoutModel",
            "_view_count": null,
            "_view_module": "@jupyter-widgets/base",
            "_view_module_version": "2.0.0",
            "_view_name": "LayoutView",
            "align_content": null,
            "align_items": null,
            "align_self": null,
            "border_bottom": null,
            "border_left": null,
            "border_right": null,
            "border_top": null,
            "bottom": null,
            "display": null,
            "flex": null,
            "flex_flow": null,
            "grid_area": null,
            "grid_auto_columns": null,
            "grid_auto_flow": null,
            "grid_auto_rows": null,
            "grid_column": null,
            "grid_gap": null,
            "grid_row": null,
            "grid_template_areas": null,
            "grid_template_columns": null,
            "grid_template_rows": null,
            "height": null,
            "justify_content": null,
            "justify_items": null,
            "left": null,
            "margin": null,
            "max_height": null,
            "max_width": null,
            "min_height": null,
            "min_width": null,
            "object_fit": null,
            "object_position": null,
            "order": null,
            "overflow": null,
            "padding": null,
            "right": null,
            "top": null,
            "visibility": null,
            "width": null
          }
        },
        "77783a7a1ab44c7abb032363b85d925f": {
          "model_module": "@jupyter-widgets/controls",
          "model_name": "HBoxModel",
          "model_module_version": "2.0.0",
          "state": {
            "_dom_classes": [],
            "_model_module": "@jupyter-widgets/controls",
            "_model_module_version": "2.0.0",
            "_model_name": "HBoxModel",
            "_view_count": null,
            "_view_module": "@jupyter-widgets/controls",
            "_view_module_version": "2.0.0",
            "_view_name": "HBoxView",
            "box_style": "",
            "children": [
              "IPY_MODEL_cb6429fdd59047d0abce253509a0a003",
              "IPY_MODEL_3778b470c76a48f5afc3d5af6d975528",
              "IPY_MODEL_c8cec944250d4937812096ae844e553f"
            ],
            "layout": "IPY_MODEL_eb2465f7b0314b38afa6bf362e1a2744",
            "tabbable": null,
            "tooltip": null
          }
        },
        "ef003e5a309b4a1e9179ea09960bd750": {
          "model_module": "@jupyter-widgets/base",
          "model_name": "LayoutModel",
          "model_module_version": "2.0.0",
          "state": {
            "_model_module": "@jupyter-widgets/base",
            "_model_module_version": "2.0.0",
            "_model_name": "LayoutModel",
            "_view_count": null,
            "_view_module": "@jupyter-widgets/base",
            "_view_module_version": "2.0.0",
            "_view_name": "LayoutView",
            "align_content": null,
            "align_items": null,
            "align_self": null,
            "border_bottom": null,
            "border_left": null,
            "border_right": null,
            "border_top": null,
            "bottom": null,
            "display": null,
            "flex": null,
            "flex_flow": null,
            "grid_area": null,
            "grid_auto_columns": null,
            "grid_auto_flow": null,
            "grid_auto_rows": null,
            "grid_column": null,
            "grid_gap": null,
            "grid_row": null,
            "grid_template_areas": null,
            "grid_template_columns": null,
            "grid_template_rows": null,
            "height": null,
            "justify_content": null,
            "justify_items": null,
            "left": null,
            "margin": null,
            "max_height": null,
            "max_width": null,
            "min_height": null,
            "min_width": null,
            "object_fit": null,
            "object_position": null,
            "order": null,
            "overflow": null,
            "padding": null,
            "right": null,
            "top": null,
            "visibility": null,
            "width": null
          }
        },
        "b6458b2822b743ccaaa54b6a6bedd68c": {
          "model_module": "@jupyter-widgets/controls",
          "model_name": "ProgressStyleModel",
          "model_module_version": "2.0.0",
          "state": {
            "_model_module": "@jupyter-widgets/controls",
            "_model_module_version": "2.0.0",
            "_model_name": "ProgressStyleModel",
            "_view_count": null,
            "_view_module": "@jupyter-widgets/base",
            "_view_module_version": "2.0.0",
            "_view_name": "StyleView",
            "bar_color": null,
            "description_width": ""
          }
        },
        "cae1df2f30e042c3929cf01398f8c39f": {
          "model_module": "@jupyter-widgets/base",
          "model_name": "LayoutModel",
          "model_module_version": "2.0.0",
          "state": {
            "_model_module": "@jupyter-widgets/base",
            "_model_module_version": "2.0.0",
            "_model_name": "LayoutModel",
            "_view_count": null,
            "_view_module": "@jupyter-widgets/base",
            "_view_module_version": "2.0.0",
            "_view_name": "LayoutView",
            "align_content": null,
            "align_items": null,
            "align_self": null,
            "border_bottom": null,
            "border_left": null,
            "border_right": null,
            "border_top": null,
            "bottom": null,
            "display": null,
            "flex": null,
            "flex_flow": null,
            "grid_area": null,
            "grid_auto_columns": null,
            "grid_auto_flow": null,
            "grid_auto_rows": null,
            "grid_column": null,
            "grid_gap": null,
            "grid_row": null,
            "grid_template_areas": null,
            "grid_template_columns": null,
            "grid_template_rows": null,
            "height": null,
            "justify_content": null,
            "justify_items": null,
            "left": null,
            "margin": null,
            "max_height": null,
            "max_width": null,
            "min_height": null,
            "min_width": null,
            "object_fit": null,
            "object_position": null,
            "order": null,
            "overflow": null,
            "padding": null,
            "right": null,
            "top": null,
            "visibility": null,
            "width": null
          }
        },
        "921bd17e346a4e79bc6756ec632b5ea4": {
          "model_module": "@jupyter-widgets/controls",
          "model_name": "HTMLStyleModel",
          "model_module_version": "2.0.0",
          "state": {
            "_model_module": "@jupyter-widgets/controls",
            "_model_module_version": "2.0.0",
            "_model_name": "HTMLStyleModel",
            "_view_count": null,
            "_view_module": "@jupyter-widgets/base",
            "_view_module_version": "2.0.0",
            "_view_name": "StyleView",
            "background": null,
            "description_width": "",
            "font_size": null,
            "text_color": null
          }
        },
        "e3e070837bd3437d8b6e6954628b32e5": {
          "model_module": "@jupyter-widgets/base",
          "model_name": "LayoutModel",
          "model_module_version": "2.0.0",
          "state": {
            "_model_module": "@jupyter-widgets/base",
            "_model_module_version": "2.0.0",
            "_model_name": "LayoutModel",
            "_view_count": null,
            "_view_module": "@jupyter-widgets/base",
            "_view_module_version": "2.0.0",
            "_view_name": "LayoutView",
            "align_content": null,
            "align_items": null,
            "align_self": null,
            "border_bottom": null,
            "border_left": null,
            "border_right": null,
            "border_top": null,
            "bottom": null,
            "display": null,
            "flex": null,
            "flex_flow": null,
            "grid_area": null,
            "grid_auto_columns": null,
            "grid_auto_flow": null,
            "grid_auto_rows": null,
            "grid_column": null,
            "grid_gap": null,
            "grid_row": null,
            "grid_template_areas": null,
            "grid_template_columns": null,
            "grid_template_rows": null,
            "height": null,
            "justify_content": null,
            "justify_items": null,
            "left": null,
            "margin": null,
            "max_height": null,
            "max_width": null,
            "min_height": null,
            "min_width": null,
            "object_fit": null,
            "object_position": null,
            "order": null,
            "overflow": null,
            "padding": null,
            "right": null,
            "top": null,
            "visibility": null,
            "width": null
          }
        },
        "287d46349ecd49d3b737bd2050fb2e4b": {
          "model_module": "@jupyter-widgets/controls",
          "model_name": "HTMLStyleModel",
          "model_module_version": "2.0.0",
          "state": {
            "_model_module": "@jupyter-widgets/controls",
            "_model_module_version": "2.0.0",
            "_model_name": "HTMLStyleModel",
            "_view_count": null,
            "_view_module": "@jupyter-widgets/base",
            "_view_module_version": "2.0.0",
            "_view_name": "StyleView",
            "background": null,
            "description_width": "",
            "font_size": null,
            "text_color": null
          }
        },
        "7d6a33cf1d504f9295641c8ec7c17207": {
          "model_module": "@jupyter-widgets/controls",
          "model_name": "HTMLModel",
          "model_module_version": "2.0.0",
          "state": {
            "_dom_classes": [],
            "_model_module": "@jupyter-widgets/controls",
            "_model_module_version": "2.0.0",
            "_model_name": "HTMLModel",
            "_view_count": null,
            "_view_module": "@jupyter-widgets/controls",
            "_view_module_version": "2.0.0",
            "_view_name": "HTMLView",
            "description": "",
            "description_allow_html": false,
            "layout": "IPY_MODEL_cae1df2f30e042c3929cf01398f8c39f",
            "placeholder": "​",
            "style": "IPY_MODEL_921bd17e346a4e79bc6756ec632b5ea4",
            "tabbable": null,
            "tooltip": null,
            "value": "model.safetensors: 100%"
          }
        },
        "cecde677c2ee45ae9331e26238c431e3": {
          "model_module": "@jupyter-widgets/controls",
          "model_name": "FloatProgressModel",
          "model_module_version": "2.0.0",
          "state": {
            "_dom_classes": [],
            "_model_module": "@jupyter-widgets/controls",
            "_model_module_version": "2.0.0",
            "_model_name": "FloatProgressModel",
            "_view_count": null,
            "_view_module": "@jupyter-widgets/controls",
            "_view_module_version": "2.0.0",
            "_view_name": "ProgressView",
            "bar_style": "success",
            "description": "",
            "description_allow_html": false,
            "layout": "IPY_MODEL_ef003e5a309b4a1e9179ea09960bd750",
            "max": 437971872,
            "min": 0,
            "orientation": "horizontal",
            "style": "IPY_MODEL_b6458b2822b743ccaaa54b6a6bedd68c",
            "tabbable": null,
            "tooltip": null,
            "value": 437971872
          }
        },
        "4bffcd06b0ed473e986c60669b007c73": {
          "model_module": "@jupyter-widgets/controls",
          "model_name": "HTMLModel",
          "model_module_version": "2.0.0",
          "state": {
            "_dom_classes": [],
            "_model_module": "@jupyter-widgets/controls",
            "_model_module_version": "2.0.0",
            "_model_name": "HTMLModel",
            "_view_count": null,
            "_view_module": "@jupyter-widgets/controls",
            "_view_module_version": "2.0.0",
            "_view_name": "HTMLView",
            "description": "",
            "description_allow_html": false,
            "layout": "IPY_MODEL_e3e070837bd3437d8b6e6954628b32e5",
            "placeholder": "​",
            "style": "IPY_MODEL_287d46349ecd49d3b737bd2050fb2e4b",
            "tabbable": null,
            "tooltip": null,
            "value": " 438M/438M [00:07&lt;00:00, 41.0MB/s]"
          }
        },
        "31f9626667294ab382444b5354c92ade": {
          "model_module": "@jupyter-widgets/base",
          "model_name": "LayoutModel",
          "model_module_version": "2.0.0",
          "state": {
            "_model_module": "@jupyter-widgets/base",
            "_model_module_version": "2.0.0",
            "_model_name": "LayoutModel",
            "_view_count": null,
            "_view_module": "@jupyter-widgets/base",
            "_view_module_version": "2.0.0",
            "_view_name": "LayoutView",
            "align_content": null,
            "align_items": null,
            "align_self": null,
            "border_bottom": null,
            "border_left": null,
            "border_right": null,
            "border_top": null,
            "bottom": null,
            "display": null,
            "flex": null,
            "flex_flow": null,
            "grid_area": null,
            "grid_auto_columns": null,
            "grid_auto_flow": null,
            "grid_auto_rows": null,
            "grid_column": null,
            "grid_gap": null,
            "grid_row": null,
            "grid_template_areas": null,
            "grid_template_columns": null,
            "grid_template_rows": null,
            "height": null,
            "justify_content": null,
            "justify_items": null,
            "left": null,
            "margin": null,
            "max_height": null,
            "max_width": null,
            "min_height": null,
            "min_width": null,
            "object_fit": null,
            "object_position": null,
            "order": null,
            "overflow": null,
            "padding": null,
            "right": null,
            "top": null,
            "visibility": null,
            "width": null
          }
        },
        "a65d9d5c160345368460c7759bd9382e": {
          "model_module": "@jupyter-widgets/controls",
          "model_name": "HBoxModel",
          "model_module_version": "2.0.0",
          "state": {
            "_dom_classes": [],
            "_model_module": "@jupyter-widgets/controls",
            "_model_module_version": "2.0.0",
            "_model_name": "HBoxModel",
            "_view_count": null,
            "_view_module": "@jupyter-widgets/controls",
            "_view_module_version": "2.0.0",
            "_view_name": "HBoxView",
            "box_style": "",
            "children": [
              "IPY_MODEL_7d6a33cf1d504f9295641c8ec7c17207",
              "IPY_MODEL_cecde677c2ee45ae9331e26238c431e3",
              "IPY_MODEL_4bffcd06b0ed473e986c60669b007c73"
            ],
            "layout": "IPY_MODEL_31f9626667294ab382444b5354c92ade",
            "tabbable": null,
            "tooltip": null
          }
        },
        "d9596623af394e8f84d2078c7ca84d28": {
          "model_module": "@jupyter-widgets/base",
          "model_name": "LayoutModel",
          "model_module_version": "2.0.0",
          "state": {
            "_model_module": "@jupyter-widgets/base",
            "_model_module_version": "2.0.0",
            "_model_name": "LayoutModel",
            "_view_count": null,
            "_view_module": "@jupyter-widgets/base",
            "_view_module_version": "2.0.0",
            "_view_name": "LayoutView",
            "align_content": null,
            "align_items": null,
            "align_self": null,
            "border_bottom": null,
            "border_left": null,
            "border_right": null,
            "border_top": null,
            "bottom": null,
            "display": null,
            "flex": null,
            "flex_flow": null,
            "grid_area": null,
            "grid_auto_columns": null,
            "grid_auto_flow": null,
            "grid_auto_rows": null,
            "grid_column": null,
            "grid_gap": null,
            "grid_row": null,
            "grid_template_areas": null,
            "grid_template_columns": null,
            "grid_template_rows": null,
            "height": null,
            "justify_content": null,
            "justify_items": null,
            "left": null,
            "margin": null,
            "max_height": null,
            "max_width": null,
            "min_height": null,
            "min_width": null,
            "object_fit": null,
            "object_position": null,
            "order": null,
            "overflow": null,
            "padding": null,
            "right": null,
            "top": null,
            "visibility": null,
            "width": null
          }
        },
        "663ba82dd9b1402183470e571de59d9b": {
          "model_module": "@jupyter-widgets/controls",
          "model_name": "ProgressStyleModel",
          "model_module_version": "2.0.0",
          "state": {
            "_model_module": "@jupyter-widgets/controls",
            "_model_module_version": "2.0.0",
            "_model_name": "ProgressStyleModel",
            "_view_count": null,
            "_view_module": "@jupyter-widgets/base",
            "_view_module_version": "2.0.0",
            "_view_name": "StyleView",
            "bar_color": null,
            "description_width": ""
          }
        },
        "3918297589d14871a053183ae49fb13d": {
          "model_module": "@jupyter-widgets/base",
          "model_name": "LayoutModel",
          "model_module_version": "2.0.0",
          "state": {
            "_model_module": "@jupyter-widgets/base",
            "_model_module_version": "2.0.0",
            "_model_name": "LayoutModel",
            "_view_count": null,
            "_view_module": "@jupyter-widgets/base",
            "_view_module_version": "2.0.0",
            "_view_name": "LayoutView",
            "align_content": null,
            "align_items": null,
            "align_self": null,
            "border_bottom": null,
            "border_left": null,
            "border_right": null,
            "border_top": null,
            "bottom": null,
            "display": null,
            "flex": null,
            "flex_flow": null,
            "grid_area": null,
            "grid_auto_columns": null,
            "grid_auto_flow": null,
            "grid_auto_rows": null,
            "grid_column": null,
            "grid_gap": null,
            "grid_row": null,
            "grid_template_areas": null,
            "grid_template_columns": null,
            "grid_template_rows": null,
            "height": null,
            "justify_content": null,
            "justify_items": null,
            "left": null,
            "margin": null,
            "max_height": null,
            "max_width": null,
            "min_height": null,
            "min_width": null,
            "object_fit": null,
            "object_position": null,
            "order": null,
            "overflow": null,
            "padding": null,
            "right": null,
            "top": null,
            "visibility": null,
            "width": null
          }
        },
        "8838360c22e84344873365c0dae4e10d": {
          "model_module": "@jupyter-widgets/controls",
          "model_name": "HTMLStyleModel",
          "model_module_version": "2.0.0",
          "state": {
            "_model_module": "@jupyter-widgets/controls",
            "_model_module_version": "2.0.0",
            "_model_name": "HTMLStyleModel",
            "_view_count": null,
            "_view_module": "@jupyter-widgets/base",
            "_view_module_version": "2.0.0",
            "_view_name": "StyleView",
            "background": null,
            "description_width": "",
            "font_size": null,
            "text_color": null
          }
        },
        "b50ac97afffe4e9192caab6f6a1180c3": {
          "model_module": "@jupyter-widgets/base",
          "model_name": "LayoutModel",
          "model_module_version": "2.0.0",
          "state": {
            "_model_module": "@jupyter-widgets/base",
            "_model_module_version": "2.0.0",
            "_model_name": "LayoutModel",
            "_view_count": null,
            "_view_module": "@jupyter-widgets/base",
            "_view_module_version": "2.0.0",
            "_view_name": "LayoutView",
            "align_content": null,
            "align_items": null,
            "align_self": null,
            "border_bottom": null,
            "border_left": null,
            "border_right": null,
            "border_top": null,
            "bottom": null,
            "display": null,
            "flex": null,
            "flex_flow": null,
            "grid_area": null,
            "grid_auto_columns": null,
            "grid_auto_flow": null,
            "grid_auto_rows": null,
            "grid_column": null,
            "grid_gap": null,
            "grid_row": null,
            "grid_template_areas": null,
            "grid_template_columns": null,
            "grid_template_rows": null,
            "height": null,
            "justify_content": null,
            "justify_items": null,
            "left": null,
            "margin": null,
            "max_height": null,
            "max_width": null,
            "min_height": null,
            "min_width": null,
            "object_fit": null,
            "object_position": null,
            "order": null,
            "overflow": null,
            "padding": null,
            "right": null,
            "top": null,
            "visibility": null,
            "width": null
          }
        },
        "6d6de2fb9cbb45aa960f20627b566c8f": {
          "model_module": "@jupyter-widgets/controls",
          "model_name": "HTMLStyleModel",
          "model_module_version": "2.0.0",
          "state": {
            "_model_module": "@jupyter-widgets/controls",
            "_model_module_version": "2.0.0",
            "_model_name": "HTMLStyleModel",
            "_view_count": null,
            "_view_module": "@jupyter-widgets/base",
            "_view_module_version": "2.0.0",
            "_view_name": "StyleView",
            "background": null,
            "description_width": "",
            "font_size": null,
            "text_color": null
          }
        },
        "966522b3df984ebb87e3df3d8c0884a8": {
          "model_module": "@jupyter-widgets/controls",
          "model_name": "HTMLModel",
          "model_module_version": "2.0.0",
          "state": {
            "_dom_classes": [],
            "_model_module": "@jupyter-widgets/controls",
            "_model_module_version": "2.0.0",
            "_model_name": "HTMLModel",
            "_view_count": null,
            "_view_module": "@jupyter-widgets/controls",
            "_view_module_version": "2.0.0",
            "_view_name": "HTMLView",
            "description": "",
            "description_allow_html": false,
            "layout": "IPY_MODEL_3918297589d14871a053183ae49fb13d",
            "placeholder": "​",
            "style": "IPY_MODEL_8838360c22e84344873365c0dae4e10d",
            "tabbable": null,
            "tooltip": null,
            "value": "tokenizer_config.json: 100%"
          }
        },
        "f992ae89589c4261b1564b4c36b2f783": {
          "model_module": "@jupyter-widgets/controls",
          "model_name": "FloatProgressModel",
          "model_module_version": "2.0.0",
          "state": {
            "_dom_classes": [],
            "_model_module": "@jupyter-widgets/controls",
            "_model_module_version": "2.0.0",
            "_model_name": "FloatProgressModel",
            "_view_count": null,
            "_view_module": "@jupyter-widgets/controls",
            "_view_module_version": "2.0.0",
            "_view_name": "ProgressView",
            "bar_style": "success",
            "description": "",
            "description_allow_html": false,
            "layout": "IPY_MODEL_d9596623af394e8f84d2078c7ca84d28",
            "max": 363,
            "min": 0,
            "orientation": "horizontal",
            "style": "IPY_MODEL_663ba82dd9b1402183470e571de59d9b",
            "tabbable": null,
            "tooltip": null,
            "value": 363
          }
        },
        "6dd817ef76464d1c8aad8c6f6c45de61": {
          "model_module": "@jupyter-widgets/controls",
          "model_name": "HTMLModel",
          "model_module_version": "2.0.0",
          "state": {
            "_dom_classes": [],
            "_model_module": "@jupyter-widgets/controls",
            "_model_module_version": "2.0.0",
            "_model_name": "HTMLModel",
            "_view_count": null,
            "_view_module": "@jupyter-widgets/controls",
            "_view_module_version": "2.0.0",
            "_view_name": "HTMLView",
            "description": "",
            "description_allow_html": false,
            "layout": "IPY_MODEL_b50ac97afffe4e9192caab6f6a1180c3",
            "placeholder": "​",
            "style": "IPY_MODEL_6d6de2fb9cbb45aa960f20627b566c8f",
            "tabbable": null,
            "tooltip": null,
            "value": " 363/363 [00:00&lt;00:00, 38.7kB/s]"
          }
        },
        "60ad725a90894f21afb9874f3217fc21": {
          "model_module": "@jupyter-widgets/base",
          "model_name": "LayoutModel",
          "model_module_version": "2.0.0",
          "state": {
            "_model_module": "@jupyter-widgets/base",
            "_model_module_version": "2.0.0",
            "_model_name": "LayoutModel",
            "_view_count": null,
            "_view_module": "@jupyter-widgets/base",
            "_view_module_version": "2.0.0",
            "_view_name": "LayoutView",
            "align_content": null,
            "align_items": null,
            "align_self": null,
            "border_bottom": null,
            "border_left": null,
            "border_right": null,
            "border_top": null,
            "bottom": null,
            "display": null,
            "flex": null,
            "flex_flow": null,
            "grid_area": null,
            "grid_auto_columns": null,
            "grid_auto_flow": null,
            "grid_auto_rows": null,
            "grid_column": null,
            "grid_gap": null,
            "grid_row": null,
            "grid_template_areas": null,
            "grid_template_columns": null,
            "grid_template_rows": null,
            "height": null,
            "justify_content": null,
            "justify_items": null,
            "left": null,
            "margin": null,
            "max_height": null,
            "max_width": null,
            "min_height": null,
            "min_width": null,
            "object_fit": null,
            "object_position": null,
            "order": null,
            "overflow": null,
            "padding": null,
            "right": null,
            "top": null,
            "visibility": null,
            "width": null
          }
        },
        "3c0a7728786448399940ee7644af7e36": {
          "model_module": "@jupyter-widgets/controls",
          "model_name": "HBoxModel",
          "model_module_version": "2.0.0",
          "state": {
            "_dom_classes": [],
            "_model_module": "@jupyter-widgets/controls",
            "_model_module_version": "2.0.0",
            "_model_name": "HBoxModel",
            "_view_count": null,
            "_view_module": "@jupyter-widgets/controls",
            "_view_module_version": "2.0.0",
            "_view_name": "HBoxView",
            "box_style": "",
            "children": [
              "IPY_MODEL_966522b3df984ebb87e3df3d8c0884a8",
              "IPY_MODEL_f992ae89589c4261b1564b4c36b2f783",
              "IPY_MODEL_6dd817ef76464d1c8aad8c6f6c45de61"
            ],
            "layout": "IPY_MODEL_60ad725a90894f21afb9874f3217fc21",
            "tabbable": null,
            "tooltip": null
          }
        },
        "67d3667f595f439ab3f99ff56e950a0b": {
          "model_module": "@jupyter-widgets/base",
          "model_name": "LayoutModel",
          "model_module_version": "2.0.0",
          "state": {
            "_model_module": "@jupyter-widgets/base",
            "_model_module_version": "2.0.0",
            "_model_name": "LayoutModel",
            "_view_count": null,
            "_view_module": "@jupyter-widgets/base",
            "_view_module_version": "2.0.0",
            "_view_name": "LayoutView",
            "align_content": null,
            "align_items": null,
            "align_self": null,
            "border_bottom": null,
            "border_left": null,
            "border_right": null,
            "border_top": null,
            "bottom": null,
            "display": null,
            "flex": null,
            "flex_flow": null,
            "grid_area": null,
            "grid_auto_columns": null,
            "grid_auto_flow": null,
            "grid_auto_rows": null,
            "grid_column": null,
            "grid_gap": null,
            "grid_row": null,
            "grid_template_areas": null,
            "grid_template_columns": null,
            "grid_template_rows": null,
            "height": null,
            "justify_content": null,
            "justify_items": null,
            "left": null,
            "margin": null,
            "max_height": null,
            "max_width": null,
            "min_height": null,
            "min_width": null,
            "object_fit": null,
            "object_position": null,
            "order": null,
            "overflow": null,
            "padding": null,
            "right": null,
            "top": null,
            "visibility": null,
            "width": null
          }
        },
        "fac032d2ed6144b8a92515084f546f9c": {
          "model_module": "@jupyter-widgets/controls",
          "model_name": "ProgressStyleModel",
          "model_module_version": "2.0.0",
          "state": {
            "_model_module": "@jupyter-widgets/controls",
            "_model_module_version": "2.0.0",
            "_model_name": "ProgressStyleModel",
            "_view_count": null,
            "_view_module": "@jupyter-widgets/base",
            "_view_module_version": "2.0.0",
            "_view_name": "StyleView",
            "bar_color": null,
            "description_width": ""
          }
        },
        "fd1fc453aa0646b79e4ef027f3dce833": {
          "model_module": "@jupyter-widgets/base",
          "model_name": "LayoutModel",
          "model_module_version": "2.0.0",
          "state": {
            "_model_module": "@jupyter-widgets/base",
            "_model_module_version": "2.0.0",
            "_model_name": "LayoutModel",
            "_view_count": null,
            "_view_module": "@jupyter-widgets/base",
            "_view_module_version": "2.0.0",
            "_view_name": "LayoutView",
            "align_content": null,
            "align_items": null,
            "align_self": null,
            "border_bottom": null,
            "border_left": null,
            "border_right": null,
            "border_top": null,
            "bottom": null,
            "display": null,
            "flex": null,
            "flex_flow": null,
            "grid_area": null,
            "grid_auto_columns": null,
            "grid_auto_flow": null,
            "grid_auto_rows": null,
            "grid_column": null,
            "grid_gap": null,
            "grid_row": null,
            "grid_template_areas": null,
            "grid_template_columns": null,
            "grid_template_rows": null,
            "height": null,
            "justify_content": null,
            "justify_items": null,
            "left": null,
            "margin": null,
            "max_height": null,
            "max_width": null,
            "min_height": null,
            "min_width": null,
            "object_fit": null,
            "object_position": null,
            "order": null,
            "overflow": null,
            "padding": null,
            "right": null,
            "top": null,
            "visibility": null,
            "width": null
          }
        },
        "8dbca3a50455457899f8b8bf1bc258d7": {
          "model_module": "@jupyter-widgets/controls",
          "model_name": "HTMLStyleModel",
          "model_module_version": "2.0.0",
          "state": {
            "_model_module": "@jupyter-widgets/controls",
            "_model_module_version": "2.0.0",
            "_model_name": "HTMLStyleModel",
            "_view_count": null,
            "_view_module": "@jupyter-widgets/base",
            "_view_module_version": "2.0.0",
            "_view_name": "StyleView",
            "background": null,
            "description_width": "",
            "font_size": null,
            "text_color": null
          }
        },
        "9b826e1823d4440180a6a2cda36a69e8": {
          "model_module": "@jupyter-widgets/base",
          "model_name": "LayoutModel",
          "model_module_version": "2.0.0",
          "state": {
            "_model_module": "@jupyter-widgets/base",
            "_model_module_version": "2.0.0",
            "_model_name": "LayoutModel",
            "_view_count": null,
            "_view_module": "@jupyter-widgets/base",
            "_view_module_version": "2.0.0",
            "_view_name": "LayoutView",
            "align_content": null,
            "align_items": null,
            "align_self": null,
            "border_bottom": null,
            "border_left": null,
            "border_right": null,
            "border_top": null,
            "bottom": null,
            "display": null,
            "flex": null,
            "flex_flow": null,
            "grid_area": null,
            "grid_auto_columns": null,
            "grid_auto_flow": null,
            "grid_auto_rows": null,
            "grid_column": null,
            "grid_gap": null,
            "grid_row": null,
            "grid_template_areas": null,
            "grid_template_columns": null,
            "grid_template_rows": null,
            "height": null,
            "justify_content": null,
            "justify_items": null,
            "left": null,
            "margin": null,
            "max_height": null,
            "max_width": null,
            "min_height": null,
            "min_width": null,
            "object_fit": null,
            "object_position": null,
            "order": null,
            "overflow": null,
            "padding": null,
            "right": null,
            "top": null,
            "visibility": null,
            "width": null
          }
        },
        "76b23192043049a49d64d320d689c35e": {
          "model_module": "@jupyter-widgets/controls",
          "model_name": "HTMLStyleModel",
          "model_module_version": "2.0.0",
          "state": {
            "_model_module": "@jupyter-widgets/controls",
            "_model_module_version": "2.0.0",
            "_model_name": "HTMLStyleModel",
            "_view_count": null,
            "_view_module": "@jupyter-widgets/base",
            "_view_module_version": "2.0.0",
            "_view_name": "StyleView",
            "background": null,
            "description_width": "",
            "font_size": null,
            "text_color": null
          }
        },
        "0881c176c84f41048d7509c05967578f": {
          "model_module": "@jupyter-widgets/controls",
          "model_name": "HTMLModel",
          "model_module_version": "2.0.0",
          "state": {
            "_dom_classes": [],
            "_model_module": "@jupyter-widgets/controls",
            "_model_module_version": "2.0.0",
            "_model_name": "HTMLModel",
            "_view_count": null,
            "_view_module": "@jupyter-widgets/controls",
            "_view_module_version": "2.0.0",
            "_view_name": "HTMLView",
            "description": "",
            "description_allow_html": false,
            "layout": "IPY_MODEL_fd1fc453aa0646b79e4ef027f3dce833",
            "placeholder": "​",
            "style": "IPY_MODEL_8dbca3a50455457899f8b8bf1bc258d7",
            "tabbable": null,
            "tooltip": null,
            "value": "vocab.txt: 100%"
          }
        },
        "56d4f87334994d1c98cf3c529a9fa06a": {
          "model_module": "@jupyter-widgets/controls",
          "model_name": "FloatProgressModel",
          "model_module_version": "2.0.0",
          "state": {
            "_dom_classes": [],
            "_model_module": "@jupyter-widgets/controls",
            "_model_module_version": "2.0.0",
            "_model_name": "FloatProgressModel",
            "_view_count": null,
            "_view_module": "@jupyter-widgets/controls",
            "_view_module_version": "2.0.0",
            "_view_name": "ProgressView",
            "bar_style": "success",
            "description": "",
            "description_allow_html": false,
            "layout": "IPY_MODEL_67d3667f595f439ab3f99ff56e950a0b",
            "max": 231536,
            "min": 0,
            "orientation": "horizontal",
            "style": "IPY_MODEL_fac032d2ed6144b8a92515084f546f9c",
            "tabbable": null,
            "tooltip": null,
            "value": 231536
          }
        },
        "b080ae0f44e34c96868e71be9e807058": {
          "model_module": "@jupyter-widgets/controls",
          "model_name": "HTMLModel",
          "model_module_version": "2.0.0",
          "state": {
            "_dom_classes": [],
            "_model_module": "@jupyter-widgets/controls",
            "_model_module_version": "2.0.0",
            "_model_name": "HTMLModel",
            "_view_count": null,
            "_view_module": "@jupyter-widgets/controls",
            "_view_module_version": "2.0.0",
            "_view_name": "HTMLView",
            "description": "",
            "description_allow_html": false,
            "layout": "IPY_MODEL_9b826e1823d4440180a6a2cda36a69e8",
            "placeholder": "​",
            "style": "IPY_MODEL_76b23192043049a49d64d320d689c35e",
            "tabbable": null,
            "tooltip": null,
            "value": " 232k/232k [00:00&lt;00:00, 7.58MB/s]"
          }
        },
        "7e2cfc1a434842df9a2bf5e5503ae23f": {
          "model_module": "@jupyter-widgets/base",
          "model_name": "LayoutModel",
          "model_module_version": "2.0.0",
          "state": {
            "_model_module": "@jupyter-widgets/base",
            "_model_module_version": "2.0.0",
            "_model_name": "LayoutModel",
            "_view_count": null,
            "_view_module": "@jupyter-widgets/base",
            "_view_module_version": "2.0.0",
            "_view_name": "LayoutView",
            "align_content": null,
            "align_items": null,
            "align_self": null,
            "border_bottom": null,
            "border_left": null,
            "border_right": null,
            "border_top": null,
            "bottom": null,
            "display": null,
            "flex": null,
            "flex_flow": null,
            "grid_area": null,
            "grid_auto_columns": null,
            "grid_auto_flow": null,
            "grid_auto_rows": null,
            "grid_column": null,
            "grid_gap": null,
            "grid_row": null,
            "grid_template_areas": null,
            "grid_template_columns": null,
            "grid_template_rows": null,
            "height": null,
            "justify_content": null,
            "justify_items": null,
            "left": null,
            "margin": null,
            "max_height": null,
            "max_width": null,
            "min_height": null,
            "min_width": null,
            "object_fit": null,
            "object_position": null,
            "order": null,
            "overflow": null,
            "padding": null,
            "right": null,
            "top": null,
            "visibility": null,
            "width": null
          }
        },
        "1d7a2133eb5741e5aedfd74dfff2ca32": {
          "model_module": "@jupyter-widgets/controls",
          "model_name": "HBoxModel",
          "model_module_version": "2.0.0",
          "state": {
            "_dom_classes": [],
            "_model_module": "@jupyter-widgets/controls",
            "_model_module_version": "2.0.0",
            "_model_name": "HBoxModel",
            "_view_count": null,
            "_view_module": "@jupyter-widgets/controls",
            "_view_module_version": "2.0.0",
            "_view_name": "HBoxView",
            "box_style": "",
            "children": [
              "IPY_MODEL_0881c176c84f41048d7509c05967578f",
              "IPY_MODEL_56d4f87334994d1c98cf3c529a9fa06a",
              "IPY_MODEL_b080ae0f44e34c96868e71be9e807058"
            ],
            "layout": "IPY_MODEL_7e2cfc1a434842df9a2bf5e5503ae23f",
            "tabbable": null,
            "tooltip": null
          }
        },
        "4121e2dc74514e5ca2e35bbad9e16f94": {
          "model_module": "@jupyter-widgets/base",
          "model_name": "LayoutModel",
          "model_module_version": "2.0.0",
          "state": {
            "_model_module": "@jupyter-widgets/base",
            "_model_module_version": "2.0.0",
            "_model_name": "LayoutModel",
            "_view_count": null,
            "_view_module": "@jupyter-widgets/base",
            "_view_module_version": "2.0.0",
            "_view_name": "LayoutView",
            "align_content": null,
            "align_items": null,
            "align_self": null,
            "border_bottom": null,
            "border_left": null,
            "border_right": null,
            "border_top": null,
            "bottom": null,
            "display": null,
            "flex": null,
            "flex_flow": null,
            "grid_area": null,
            "grid_auto_columns": null,
            "grid_auto_flow": null,
            "grid_auto_rows": null,
            "grid_column": null,
            "grid_gap": null,
            "grid_row": null,
            "grid_template_areas": null,
            "grid_template_columns": null,
            "grid_template_rows": null,
            "height": null,
            "justify_content": null,
            "justify_items": null,
            "left": null,
            "margin": null,
            "max_height": null,
            "max_width": null,
            "min_height": null,
            "min_width": null,
            "object_fit": null,
            "object_position": null,
            "order": null,
            "overflow": null,
            "padding": null,
            "right": null,
            "top": null,
            "visibility": null,
            "width": null
          }
        },
        "15d8d7eaf1e64f2e8e2f0bc76c090ad5": {
          "model_module": "@jupyter-widgets/controls",
          "model_name": "ProgressStyleModel",
          "model_module_version": "2.0.0",
          "state": {
            "_model_module": "@jupyter-widgets/controls",
            "_model_module_version": "2.0.0",
            "_model_name": "ProgressStyleModel",
            "_view_count": null,
            "_view_module": "@jupyter-widgets/base",
            "_view_module_version": "2.0.0",
            "_view_name": "StyleView",
            "bar_color": null,
            "description_width": ""
          }
        },
        "c8a0ec2e8edd4599a079da3947dac07c": {
          "model_module": "@jupyter-widgets/base",
          "model_name": "LayoutModel",
          "model_module_version": "2.0.0",
          "state": {
            "_model_module": "@jupyter-widgets/base",
            "_model_module_version": "2.0.0",
            "_model_name": "LayoutModel",
            "_view_count": null,
            "_view_module": "@jupyter-widgets/base",
            "_view_module_version": "2.0.0",
            "_view_name": "LayoutView",
            "align_content": null,
            "align_items": null,
            "align_self": null,
            "border_bottom": null,
            "border_left": null,
            "border_right": null,
            "border_top": null,
            "bottom": null,
            "display": null,
            "flex": null,
            "flex_flow": null,
            "grid_area": null,
            "grid_auto_columns": null,
            "grid_auto_flow": null,
            "grid_auto_rows": null,
            "grid_column": null,
            "grid_gap": null,
            "grid_row": null,
            "grid_template_areas": null,
            "grid_template_columns": null,
            "grid_template_rows": null,
            "height": null,
            "justify_content": null,
            "justify_items": null,
            "left": null,
            "margin": null,
            "max_height": null,
            "max_width": null,
            "min_height": null,
            "min_width": null,
            "object_fit": null,
            "object_position": null,
            "order": null,
            "overflow": null,
            "padding": null,
            "right": null,
            "top": null,
            "visibility": null,
            "width": null
          }
        },
        "3225f1f18cd14b79b12f12daca0093ca": {
          "model_module": "@jupyter-widgets/controls",
          "model_name": "HTMLStyleModel",
          "model_module_version": "2.0.0",
          "state": {
            "_model_module": "@jupyter-widgets/controls",
            "_model_module_version": "2.0.0",
            "_model_name": "HTMLStyleModel",
            "_view_count": null,
            "_view_module": "@jupyter-widgets/base",
            "_view_module_version": "2.0.0",
            "_view_name": "StyleView",
            "background": null,
            "description_width": "",
            "font_size": null,
            "text_color": null
          }
        },
        "39107fd9b93e4537ad13acd4857f2051": {
          "model_module": "@jupyter-widgets/base",
          "model_name": "LayoutModel",
          "model_module_version": "2.0.0",
          "state": {
            "_model_module": "@jupyter-widgets/base",
            "_model_module_version": "2.0.0",
            "_model_name": "LayoutModel",
            "_view_count": null,
            "_view_module": "@jupyter-widgets/base",
            "_view_module_version": "2.0.0",
            "_view_name": "LayoutView",
            "align_content": null,
            "align_items": null,
            "align_self": null,
            "border_bottom": null,
            "border_left": null,
            "border_right": null,
            "border_top": null,
            "bottom": null,
            "display": null,
            "flex": null,
            "flex_flow": null,
            "grid_area": null,
            "grid_auto_columns": null,
            "grid_auto_flow": null,
            "grid_auto_rows": null,
            "grid_column": null,
            "grid_gap": null,
            "grid_row": null,
            "grid_template_areas": null,
            "grid_template_columns": null,
            "grid_template_rows": null,
            "height": null,
            "justify_content": null,
            "justify_items": null,
            "left": null,
            "margin": null,
            "max_height": null,
            "max_width": null,
            "min_height": null,
            "min_width": null,
            "object_fit": null,
            "object_position": null,
            "order": null,
            "overflow": null,
            "padding": null,
            "right": null,
            "top": null,
            "visibility": null,
            "width": null
          }
        },
        "5684629873ba4ba48aa1dfdabeacc9ae": {
          "model_module": "@jupyter-widgets/controls",
          "model_name": "HTMLStyleModel",
          "model_module_version": "2.0.0",
          "state": {
            "_model_module": "@jupyter-widgets/controls",
            "_model_module_version": "2.0.0",
            "_model_name": "HTMLStyleModel",
            "_view_count": null,
            "_view_module": "@jupyter-widgets/base",
            "_view_module_version": "2.0.0",
            "_view_name": "StyleView",
            "background": null,
            "description_width": "",
            "font_size": null,
            "text_color": null
          }
        },
        "4c3f1abe6f184b269c728c5950b4665e": {
          "model_module": "@jupyter-widgets/controls",
          "model_name": "HTMLModel",
          "model_module_version": "2.0.0",
          "state": {
            "_dom_classes": [],
            "_model_module": "@jupyter-widgets/controls",
            "_model_module_version": "2.0.0",
            "_model_name": "HTMLModel",
            "_view_count": null,
            "_view_module": "@jupyter-widgets/controls",
            "_view_module_version": "2.0.0",
            "_view_name": "HTMLView",
            "description": "",
            "description_allow_html": false,
            "layout": "IPY_MODEL_c8a0ec2e8edd4599a079da3947dac07c",
            "placeholder": "​",
            "style": "IPY_MODEL_3225f1f18cd14b79b12f12daca0093ca",
            "tabbable": null,
            "tooltip": null,
            "value": "tokenizer.json: 100%"
          }
        },
        "a3652ab74def477eb4ffd20be6a83b42": {
          "model_module": "@jupyter-widgets/controls",
          "model_name": "FloatProgressModel",
          "model_module_version": "2.0.0",
          "state": {
            "_dom_classes": [],
            "_model_module": "@jupyter-widgets/controls",
            "_model_module_version": "2.0.0",
            "_model_name": "FloatProgressModel",
            "_view_count": null,
            "_view_module": "@jupyter-widgets/controls",
            "_view_module_version": "2.0.0",
            "_view_name": "ProgressView",
            "bar_style": "success",
            "description": "",
            "description_allow_html": false,
            "layout": "IPY_MODEL_4121e2dc74514e5ca2e35bbad9e16f94",
            "max": 466021,
            "min": 0,
            "orientation": "horizontal",
            "style": "IPY_MODEL_15d8d7eaf1e64f2e8e2f0bc76c090ad5",
            "tabbable": null,
            "tooltip": null,
            "value": 466021
          }
        },
        "ec870a128f5e4a9d9369d6c8e0e4be54": {
          "model_module": "@jupyter-widgets/controls",
          "model_name": "HTMLModel",
          "model_module_version": "2.0.0",
          "state": {
            "_dom_classes": [],
            "_model_module": "@jupyter-widgets/controls",
            "_model_module_version": "2.0.0",
            "_model_name": "HTMLModel",
            "_view_count": null,
            "_view_module": "@jupyter-widgets/controls",
            "_view_module_version": "2.0.0",
            "_view_name": "HTMLView",
            "description": "",
            "description_allow_html": false,
            "layout": "IPY_MODEL_39107fd9b93e4537ad13acd4857f2051",
            "placeholder": "​",
            "style": "IPY_MODEL_5684629873ba4ba48aa1dfdabeacc9ae",
            "tabbable": null,
            "tooltip": null,
            "value": " 466k/466k [00:00&lt;00:00, 4.97MB/s]"
          }
        },
        "2d7577fe4b4c40828775a1aad76d2fa4": {
          "model_module": "@jupyter-widgets/base",
          "model_name": "LayoutModel",
          "model_module_version": "2.0.0",
          "state": {
            "_model_module": "@jupyter-widgets/base",
            "_model_module_version": "2.0.0",
            "_model_name": "LayoutModel",
            "_view_count": null,
            "_view_module": "@jupyter-widgets/base",
            "_view_module_version": "2.0.0",
            "_view_name": "LayoutView",
            "align_content": null,
            "align_items": null,
            "align_self": null,
            "border_bottom": null,
            "border_left": null,
            "border_right": null,
            "border_top": null,
            "bottom": null,
            "display": null,
            "flex": null,
            "flex_flow": null,
            "grid_area": null,
            "grid_auto_columns": null,
            "grid_auto_flow": null,
            "grid_auto_rows": null,
            "grid_column": null,
            "grid_gap": null,
            "grid_row": null,
            "grid_template_areas": null,
            "grid_template_columns": null,
            "grid_template_rows": null,
            "height": null,
            "justify_content": null,
            "justify_items": null,
            "left": null,
            "margin": null,
            "max_height": null,
            "max_width": null,
            "min_height": null,
            "min_width": null,
            "object_fit": null,
            "object_position": null,
            "order": null,
            "overflow": null,
            "padding": null,
            "right": null,
            "top": null,
            "visibility": null,
            "width": null
          }
        },
        "65c0a03acfdf48888403a3b1901e0e6b": {
          "model_module": "@jupyter-widgets/controls",
          "model_name": "HBoxModel",
          "model_module_version": "2.0.0",
          "state": {
            "_dom_classes": [],
            "_model_module": "@jupyter-widgets/controls",
            "_model_module_version": "2.0.0",
            "_model_name": "HBoxModel",
            "_view_count": null,
            "_view_module": "@jupyter-widgets/controls",
            "_view_module_version": "2.0.0",
            "_view_name": "HBoxView",
            "box_style": "",
            "children": [
              "IPY_MODEL_4c3f1abe6f184b269c728c5950b4665e",
              "IPY_MODEL_a3652ab74def477eb4ffd20be6a83b42",
              "IPY_MODEL_ec870a128f5e4a9d9369d6c8e0e4be54"
            ],
            "layout": "IPY_MODEL_2d7577fe4b4c40828775a1aad76d2fa4",
            "tabbable": null,
            "tooltip": null
          }
        },
        "280ed9cb03274a49882d41cd3f06b8c8": {
          "model_module": "@jupyter-widgets/base",
          "model_name": "LayoutModel",
          "model_module_version": "2.0.0",
          "state": {
            "_model_module": "@jupyter-widgets/base",
            "_model_module_version": "2.0.0",
            "_model_name": "LayoutModel",
            "_view_count": null,
            "_view_module": "@jupyter-widgets/base",
            "_view_module_version": "2.0.0",
            "_view_name": "LayoutView",
            "align_content": null,
            "align_items": null,
            "align_self": null,
            "border_bottom": null,
            "border_left": null,
            "border_right": null,
            "border_top": null,
            "bottom": null,
            "display": null,
            "flex": null,
            "flex_flow": null,
            "grid_area": null,
            "grid_auto_columns": null,
            "grid_auto_flow": null,
            "grid_auto_rows": null,
            "grid_column": null,
            "grid_gap": null,
            "grid_row": null,
            "grid_template_areas": null,
            "grid_template_columns": null,
            "grid_template_rows": null,
            "height": null,
            "justify_content": null,
            "justify_items": null,
            "left": null,
            "margin": null,
            "max_height": null,
            "max_width": null,
            "min_height": null,
            "min_width": null,
            "object_fit": null,
            "object_position": null,
            "order": null,
            "overflow": null,
            "padding": null,
            "right": null,
            "top": null,
            "visibility": null,
            "width": null
          }
        },
        "497253ed131e400eb06348c99da0e18d": {
          "model_module": "@jupyter-widgets/controls",
          "model_name": "ProgressStyleModel",
          "model_module_version": "2.0.0",
          "state": {
            "_model_module": "@jupyter-widgets/controls",
            "_model_module_version": "2.0.0",
            "_model_name": "ProgressStyleModel",
            "_view_count": null,
            "_view_module": "@jupyter-widgets/base",
            "_view_module_version": "2.0.0",
            "_view_name": "StyleView",
            "bar_color": null,
            "description_width": ""
          }
        },
        "a9dbd5169463402ca6934757682a6f15": {
          "model_module": "@jupyter-widgets/base",
          "model_name": "LayoutModel",
          "model_module_version": "2.0.0",
          "state": {
            "_model_module": "@jupyter-widgets/base",
            "_model_module_version": "2.0.0",
            "_model_name": "LayoutModel",
            "_view_count": null,
            "_view_module": "@jupyter-widgets/base",
            "_view_module_version": "2.0.0",
            "_view_name": "LayoutView",
            "align_content": null,
            "align_items": null,
            "align_self": null,
            "border_bottom": null,
            "border_left": null,
            "border_right": null,
            "border_top": null,
            "bottom": null,
            "display": null,
            "flex": null,
            "flex_flow": null,
            "grid_area": null,
            "grid_auto_columns": null,
            "grid_auto_flow": null,
            "grid_auto_rows": null,
            "grid_column": null,
            "grid_gap": null,
            "grid_row": null,
            "grid_template_areas": null,
            "grid_template_columns": null,
            "grid_template_rows": null,
            "height": null,
            "justify_content": null,
            "justify_items": null,
            "left": null,
            "margin": null,
            "max_height": null,
            "max_width": null,
            "min_height": null,
            "min_width": null,
            "object_fit": null,
            "object_position": null,
            "order": null,
            "overflow": null,
            "padding": null,
            "right": null,
            "top": null,
            "visibility": null,
            "width": null
          }
        },
        "e5303c3016b24bd99658b94c22a5c1fb": {
          "model_module": "@jupyter-widgets/controls",
          "model_name": "HTMLStyleModel",
          "model_module_version": "2.0.0",
          "state": {
            "_model_module": "@jupyter-widgets/controls",
            "_model_module_version": "2.0.0",
            "_model_name": "HTMLStyleModel",
            "_view_count": null,
            "_view_module": "@jupyter-widgets/base",
            "_view_module_version": "2.0.0",
            "_view_name": "StyleView",
            "background": null,
            "description_width": "",
            "font_size": null,
            "text_color": null
          }
        },
        "52206d5e5c8d472bb404b25cd6d51e4c": {
          "model_module": "@jupyter-widgets/base",
          "model_name": "LayoutModel",
          "model_module_version": "2.0.0",
          "state": {
            "_model_module": "@jupyter-widgets/base",
            "_model_module_version": "2.0.0",
            "_model_name": "LayoutModel",
            "_view_count": null,
            "_view_module": "@jupyter-widgets/base",
            "_view_module_version": "2.0.0",
            "_view_name": "LayoutView",
            "align_content": null,
            "align_items": null,
            "align_self": null,
            "border_bottom": null,
            "border_left": null,
            "border_right": null,
            "border_top": null,
            "bottom": null,
            "display": null,
            "flex": null,
            "flex_flow": null,
            "grid_area": null,
            "grid_auto_columns": null,
            "grid_auto_flow": null,
            "grid_auto_rows": null,
            "grid_column": null,
            "grid_gap": null,
            "grid_row": null,
            "grid_template_areas": null,
            "grid_template_columns": null,
            "grid_template_rows": null,
            "height": null,
            "justify_content": null,
            "justify_items": null,
            "left": null,
            "margin": null,
            "max_height": null,
            "max_width": null,
            "min_height": null,
            "min_width": null,
            "object_fit": null,
            "object_position": null,
            "order": null,
            "overflow": null,
            "padding": null,
            "right": null,
            "top": null,
            "visibility": null,
            "width": null
          }
        },
        "ca22a18f81f243ef80ac31347179f444": {
          "model_module": "@jupyter-widgets/controls",
          "model_name": "HTMLStyleModel",
          "model_module_version": "2.0.0",
          "state": {
            "_model_module": "@jupyter-widgets/controls",
            "_model_module_version": "2.0.0",
            "_model_name": "HTMLStyleModel",
            "_view_count": null,
            "_view_module": "@jupyter-widgets/base",
            "_view_module_version": "2.0.0",
            "_view_name": "StyleView",
            "background": null,
            "description_width": "",
            "font_size": null,
            "text_color": null
          }
        },
        "b4c5fb84af354d34b05a4a507a0c9b8e": {
          "model_module": "@jupyter-widgets/controls",
          "model_name": "HTMLModel",
          "model_module_version": "2.0.0",
          "state": {
            "_dom_classes": [],
            "_model_module": "@jupyter-widgets/controls",
            "_model_module_version": "2.0.0",
            "_model_name": "HTMLModel",
            "_view_count": null,
            "_view_module": "@jupyter-widgets/controls",
            "_view_module_version": "2.0.0",
            "_view_name": "HTMLView",
            "description": "",
            "description_allow_html": false,
            "layout": "IPY_MODEL_a9dbd5169463402ca6934757682a6f15",
            "placeholder": "​",
            "style": "IPY_MODEL_e5303c3016b24bd99658b94c22a5c1fb",
            "tabbable": null,
            "tooltip": null,
            "value": "special_tokens_map.json: 100%"
          }
        },
        "1a934ea5acd9493f89b50463a92a4ede": {
          "model_module": "@jupyter-widgets/controls",
          "model_name": "FloatProgressModel",
          "model_module_version": "2.0.0",
          "state": {
            "_dom_classes": [],
            "_model_module": "@jupyter-widgets/controls",
            "_model_module_version": "2.0.0",
            "_model_name": "FloatProgressModel",
            "_view_count": null,
            "_view_module": "@jupyter-widgets/controls",
            "_view_module_version": "2.0.0",
            "_view_name": "ProgressView",
            "bar_style": "success",
            "description": "",
            "description_allow_html": false,
            "layout": "IPY_MODEL_280ed9cb03274a49882d41cd3f06b8c8",
            "max": 239,
            "min": 0,
            "orientation": "horizontal",
            "style": "IPY_MODEL_497253ed131e400eb06348c99da0e18d",
            "tabbable": null,
            "tooltip": null,
            "value": 239
          }
        },
        "230f4e5475c747ea8f2e840eba335e45": {
          "model_module": "@jupyter-widgets/controls",
          "model_name": "HTMLModel",
          "model_module_version": "2.0.0",
          "state": {
            "_dom_classes": [],
            "_model_module": "@jupyter-widgets/controls",
            "_model_module_version": "2.0.0",
            "_model_name": "HTMLModel",
            "_view_count": null,
            "_view_module": "@jupyter-widgets/controls",
            "_view_module_version": "2.0.0",
            "_view_name": "HTMLView",
            "description": "",
            "description_allow_html": false,
            "layout": "IPY_MODEL_52206d5e5c8d472bb404b25cd6d51e4c",
            "placeholder": "​",
            "style": "IPY_MODEL_ca22a18f81f243ef80ac31347179f444",
            "tabbable": null,
            "tooltip": null,
            "value": " 239/239 [00:00&lt;00:00, 24.5kB/s]"
          }
        },
        "1c0279fd21a040d08064229a06fd4bb9": {
          "model_module": "@jupyter-widgets/base",
          "model_name": "LayoutModel",
          "model_module_version": "2.0.0",
          "state": {
            "_model_module": "@jupyter-widgets/base",
            "_model_module_version": "2.0.0",
            "_model_name": "LayoutModel",
            "_view_count": null,
            "_view_module": "@jupyter-widgets/base",
            "_view_module_version": "2.0.0",
            "_view_name": "LayoutView",
            "align_content": null,
            "align_items": null,
            "align_self": null,
            "border_bottom": null,
            "border_left": null,
            "border_right": null,
            "border_top": null,
            "bottom": null,
            "display": null,
            "flex": null,
            "flex_flow": null,
            "grid_area": null,
            "grid_auto_columns": null,
            "grid_auto_flow": null,
            "grid_auto_rows": null,
            "grid_column": null,
            "grid_gap": null,
            "grid_row": null,
            "grid_template_areas": null,
            "grid_template_columns": null,
            "grid_template_rows": null,
            "height": null,
            "justify_content": null,
            "justify_items": null,
            "left": null,
            "margin": null,
            "max_height": null,
            "max_width": null,
            "min_height": null,
            "min_width": null,
            "object_fit": null,
            "object_position": null,
            "order": null,
            "overflow": null,
            "padding": null,
            "right": null,
            "top": null,
            "visibility": null,
            "width": null
          }
        },
        "18a0510c032b4f5794613d43d58953ab": {
          "model_module": "@jupyter-widgets/controls",
          "model_name": "HBoxModel",
          "model_module_version": "2.0.0",
          "state": {
            "_dom_classes": [],
            "_model_module": "@jupyter-widgets/controls",
            "_model_module_version": "2.0.0",
            "_model_name": "HBoxModel",
            "_view_count": null,
            "_view_module": "@jupyter-widgets/controls",
            "_view_module_version": "2.0.0",
            "_view_name": "HBoxView",
            "box_style": "",
            "children": [
              "IPY_MODEL_b4c5fb84af354d34b05a4a507a0c9b8e",
              "IPY_MODEL_1a934ea5acd9493f89b50463a92a4ede",
              "IPY_MODEL_230f4e5475c747ea8f2e840eba335e45"
            ],
            "layout": "IPY_MODEL_1c0279fd21a040d08064229a06fd4bb9",
            "tabbable": null,
            "tooltip": null
          }
        },
        "743cb0b2ded14c8095c8a74bc04362ed": {
          "model_module": "@jupyter-widgets/base",
          "model_name": "LayoutModel",
          "model_module_version": "2.0.0",
          "state": {
            "_model_module": "@jupyter-widgets/base",
            "_model_module_version": "2.0.0",
            "_model_name": "LayoutModel",
            "_view_count": null,
            "_view_module": "@jupyter-widgets/base",
            "_view_module_version": "2.0.0",
            "_view_name": "LayoutView",
            "align_content": null,
            "align_items": null,
            "align_self": null,
            "border_bottom": null,
            "border_left": null,
            "border_right": null,
            "border_top": null,
            "bottom": null,
            "display": null,
            "flex": null,
            "flex_flow": null,
            "grid_area": null,
            "grid_auto_columns": null,
            "grid_auto_flow": null,
            "grid_auto_rows": null,
            "grid_column": null,
            "grid_gap": null,
            "grid_row": null,
            "grid_template_areas": null,
            "grid_template_columns": null,
            "grid_template_rows": null,
            "height": null,
            "justify_content": null,
            "justify_items": null,
            "left": null,
            "margin": null,
            "max_height": null,
            "max_width": null,
            "min_height": null,
            "min_width": null,
            "object_fit": null,
            "object_position": null,
            "order": null,
            "overflow": null,
            "padding": null,
            "right": null,
            "top": null,
            "visibility": null,
            "width": null
          }
        },
        "7d7ed5e5638b4cd99a3aa4b544591df4": {
          "model_module": "@jupyter-widgets/controls",
          "model_name": "ProgressStyleModel",
          "model_module_version": "2.0.0",
          "state": {
            "_model_module": "@jupyter-widgets/controls",
            "_model_module_version": "2.0.0",
            "_model_name": "ProgressStyleModel",
            "_view_count": null,
            "_view_module": "@jupyter-widgets/base",
            "_view_module_version": "2.0.0",
            "_view_name": "StyleView",
            "bar_color": null,
            "description_width": ""
          }
        },
        "5b7ac41814e54d5a856fcb5ee7eb06c1": {
          "model_module": "@jupyter-widgets/base",
          "model_name": "LayoutModel",
          "model_module_version": "2.0.0",
          "state": {
            "_model_module": "@jupyter-widgets/base",
            "_model_module_version": "2.0.0",
            "_model_name": "LayoutModel",
            "_view_count": null,
            "_view_module": "@jupyter-widgets/base",
            "_view_module_version": "2.0.0",
            "_view_name": "LayoutView",
            "align_content": null,
            "align_items": null,
            "align_self": null,
            "border_bottom": null,
            "border_left": null,
            "border_right": null,
            "border_top": null,
            "bottom": null,
            "display": null,
            "flex": null,
            "flex_flow": null,
            "grid_area": null,
            "grid_auto_columns": null,
            "grid_auto_flow": null,
            "grid_auto_rows": null,
            "grid_column": null,
            "grid_gap": null,
            "grid_row": null,
            "grid_template_areas": null,
            "grid_template_columns": null,
            "grid_template_rows": null,
            "height": null,
            "justify_content": null,
            "justify_items": null,
            "left": null,
            "margin": null,
            "max_height": null,
            "max_width": null,
            "min_height": null,
            "min_width": null,
            "object_fit": null,
            "object_position": null,
            "order": null,
            "overflow": null,
            "padding": null,
            "right": null,
            "top": null,
            "visibility": null,
            "width": null
          }
        },
        "838c859879024a408b134af7cb5064ec": {
          "model_module": "@jupyter-widgets/controls",
          "model_name": "HTMLStyleModel",
          "model_module_version": "2.0.0",
          "state": {
            "_model_module": "@jupyter-widgets/controls",
            "_model_module_version": "2.0.0",
            "_model_name": "HTMLStyleModel",
            "_view_count": null,
            "_view_module": "@jupyter-widgets/base",
            "_view_module_version": "2.0.0",
            "_view_name": "StyleView",
            "background": null,
            "description_width": "",
            "font_size": null,
            "text_color": null
          }
        },
        "ff18140e9a5f449e89e7d623c0a5a98f": {
          "model_module": "@jupyter-widgets/base",
          "model_name": "LayoutModel",
          "model_module_version": "2.0.0",
          "state": {
            "_model_module": "@jupyter-widgets/base",
            "_model_module_version": "2.0.0",
            "_model_name": "LayoutModel",
            "_view_count": null,
            "_view_module": "@jupyter-widgets/base",
            "_view_module_version": "2.0.0",
            "_view_name": "LayoutView",
            "align_content": null,
            "align_items": null,
            "align_self": null,
            "border_bottom": null,
            "border_left": null,
            "border_right": null,
            "border_top": null,
            "bottom": null,
            "display": null,
            "flex": null,
            "flex_flow": null,
            "grid_area": null,
            "grid_auto_columns": null,
            "grid_auto_flow": null,
            "grid_auto_rows": null,
            "grid_column": null,
            "grid_gap": null,
            "grid_row": null,
            "grid_template_areas": null,
            "grid_template_columns": null,
            "grid_template_rows": null,
            "height": null,
            "justify_content": null,
            "justify_items": null,
            "left": null,
            "margin": null,
            "max_height": null,
            "max_width": null,
            "min_height": null,
            "min_width": null,
            "object_fit": null,
            "object_position": null,
            "order": null,
            "overflow": null,
            "padding": null,
            "right": null,
            "top": null,
            "visibility": null,
            "width": null
          }
        },
        "25ba767c9dd84b04b8eebb1e5e0b7b11": {
          "model_module": "@jupyter-widgets/controls",
          "model_name": "HTMLStyleModel",
          "model_module_version": "2.0.0",
          "state": {
            "_model_module": "@jupyter-widgets/controls",
            "_model_module_version": "2.0.0",
            "_model_name": "HTMLStyleModel",
            "_view_count": null,
            "_view_module": "@jupyter-widgets/base",
            "_view_module_version": "2.0.0",
            "_view_name": "StyleView",
            "background": null,
            "description_width": "",
            "font_size": null,
            "text_color": null
          }
        },
        "3112dfa93eff4a7f9e104235788ae14b": {
          "model_module": "@jupyter-widgets/controls",
          "model_name": "HTMLModel",
          "model_module_version": "2.0.0",
          "state": {
            "_dom_classes": [],
            "_model_module": "@jupyter-widgets/controls",
            "_model_module_version": "2.0.0",
            "_model_name": "HTMLModel",
            "_view_count": null,
            "_view_module": "@jupyter-widgets/controls",
            "_view_module_version": "2.0.0",
            "_view_name": "HTMLView",
            "description": "",
            "description_allow_html": false,
            "layout": "IPY_MODEL_5b7ac41814e54d5a856fcb5ee7eb06c1",
            "placeholder": "​",
            "style": "IPY_MODEL_838c859879024a408b134af7cb5064ec",
            "tabbable": null,
            "tooltip": null,
            "value": "config.json: 100%"
          }
        },
        "4a86f128c9474da98015a85aa5cb7873": {
          "model_module": "@jupyter-widgets/controls",
          "model_name": "FloatProgressModel",
          "model_module_version": "2.0.0",
          "state": {
            "_dom_classes": [],
            "_model_module": "@jupyter-widgets/controls",
            "_model_module_version": "2.0.0",
            "_model_name": "FloatProgressModel",
            "_view_count": null,
            "_view_module": "@jupyter-widgets/controls",
            "_view_module_version": "2.0.0",
            "_view_name": "ProgressView",
            "bar_style": "success",
            "description": "",
            "description_allow_html": false,
            "layout": "IPY_MODEL_743cb0b2ded14c8095c8a74bc04362ed",
            "max": 190,
            "min": 0,
            "orientation": "horizontal",
            "style": "IPY_MODEL_7d7ed5e5638b4cd99a3aa4b544591df4",
            "tabbable": null,
            "tooltip": null,
            "value": 190
          }
        },
        "47dcf4634f384f59987028df1fb1bbea": {
          "model_module": "@jupyter-widgets/controls",
          "model_name": "HTMLModel",
          "model_module_version": "2.0.0",
          "state": {
            "_dom_classes": [],
            "_model_module": "@jupyter-widgets/controls",
            "_model_module_version": "2.0.0",
            "_model_name": "HTMLModel",
            "_view_count": null,
            "_view_module": "@jupyter-widgets/controls",
            "_view_module_version": "2.0.0",
            "_view_name": "HTMLView",
            "description": "",
            "description_allow_html": false,
            "layout": "IPY_MODEL_ff18140e9a5f449e89e7d623c0a5a98f",
            "placeholder": "​",
            "style": "IPY_MODEL_25ba767c9dd84b04b8eebb1e5e0b7b11",
            "tabbable": null,
            "tooltip": null,
            "value": " 190/190 [00:00&lt;00:00, 11.7kB/s]"
          }
        },
        "7304ed01629547bd86c0a938798453bd": {
          "model_module": "@jupyter-widgets/base",
          "model_name": "LayoutModel",
          "model_module_version": "2.0.0",
          "state": {
            "_model_module": "@jupyter-widgets/base",
            "_model_module_version": "2.0.0",
            "_model_name": "LayoutModel",
            "_view_count": null,
            "_view_module": "@jupyter-widgets/base",
            "_view_module_version": "2.0.0",
            "_view_name": "LayoutView",
            "align_content": null,
            "align_items": null,
            "align_self": null,
            "border_bottom": null,
            "border_left": null,
            "border_right": null,
            "border_top": null,
            "bottom": null,
            "display": null,
            "flex": null,
            "flex_flow": null,
            "grid_area": null,
            "grid_auto_columns": null,
            "grid_auto_flow": null,
            "grid_auto_rows": null,
            "grid_column": null,
            "grid_gap": null,
            "grid_row": null,
            "grid_template_areas": null,
            "grid_template_columns": null,
            "grid_template_rows": null,
            "height": null,
            "justify_content": null,
            "justify_items": null,
            "left": null,
            "margin": null,
            "max_height": null,
            "max_width": null,
            "min_height": null,
            "min_width": null,
            "object_fit": null,
            "object_position": null,
            "order": null,
            "overflow": null,
            "padding": null,
            "right": null,
            "top": null,
            "visibility": null,
            "width": null
          }
        },
        "5bf323a8d9974dc2b5b821523bab8d7d": {
          "model_module": "@jupyter-widgets/controls",
          "model_name": "HBoxModel",
          "model_module_version": "2.0.0",
          "state": {
            "_dom_classes": [],
            "_model_module": "@jupyter-widgets/controls",
            "_model_module_version": "2.0.0",
            "_model_name": "HBoxModel",
            "_view_count": null,
            "_view_module": "@jupyter-widgets/controls",
            "_view_module_version": "2.0.0",
            "_view_name": "HBoxView",
            "box_style": "",
            "children": [
              "IPY_MODEL_3112dfa93eff4a7f9e104235788ae14b",
              "IPY_MODEL_4a86f128c9474da98015a85aa5cb7873",
              "IPY_MODEL_47dcf4634f384f59987028df1fb1bbea"
            ],
            "layout": "IPY_MODEL_7304ed01629547bd86c0a938798453bd",
            "tabbable": null,
            "tooltip": null
          }
        }
      }
    }
  },
  "cells": [
    {
      "cell_type": "markdown",
      "metadata": {
        "id": "view-in-github",
        "colab_type": "text"
      },
      "source": [
        "<a href=\"https://colab.research.google.com/github/soumomo/-Healthcare-Data-Cleaning/blob/main/GraphRAG_Neo4j.ipynb\" target=\"_parent\"><img src=\"https://colab.research.google.com/assets/colab-badge.svg\" alt=\"Open In Colab\"/></a>"
      ]
    },
    {
      "cell_type": "markdown",
      "source": [
        "### What is Langchain?\n",
        "LangChain is an open-source framework for building LLM-powered applications, offering core components like Models (LLM integration), Prompt Templates (structured prompts), Memory (context retention), Indexes & Retrievers (efficient document retrieval), Agents (dynamic decision-making), and Chains (workflow automation). It simplifies RAG applications by enabling efficient document ingestion, retrieval, contextualized responses, and state management using vector databases, embeddings, and intelligent querying. This allows for seamless integration with external data sources and scalable AI-driven search and reasoning systems. 🚀"
      ],
      "metadata": {
        "id": "b7zow2uXarlR"
      }
    },
    {
      "cell_type": "markdown",
      "source": [
        "1. **`langchain-community`** – Contains community-maintained integrations and tools for working with various LLM providers, databases, and APIs.  \n",
        "2. **`langchain-experimental`** – Includes experimental and early-stage features for advanced LangChain applications, such as novel retrieval methods and agent capabilities.  \n",
        "3. **`langchain-groq`** – Provides integration with **Groq's LLMs**, enabling fast and efficient model inference.  \n",
        "4. **`langchain-huggingface`** – Facilitates the use of **Hugging Face models** (transformers, embeddings, and pipelines) within LangChain applications. 🚀"
      ],
      "metadata": {
        "id": "0_nW4OcOvkFS"
      }
    },
    {
      "cell_type": "markdown",
      "source": [
        "##Imports"
      ],
      "metadata": {
        "id": "wRhSxH1clXCF"
      }
    },
    {
      "cell_type": "code",
      "source": [
        "!pip install --upgrade --quiet langchain langchain-community langchain-experimental langchain-groq langchain-huggingface\n",
        "!pip install --upgrade --quiet  sentence-transformers\n",
        "!pip install --upgrade --quiet transformers\n",
        "!pip install --upgrade --quiet neo4j tiktoken yfiles_jupyter_graphs\n",
        "!pip install --upgrade --quiet pypdf\n"
      ],
      "metadata": {
        "collapsed": true,
        "id": "vdtlwkZlu0rN",
        "colab": {
          "base_uri": "https://localhost:8080/"
        },
        "outputId": "3a86bce3-eaa8-4c8d-9f8f-c3795c1713f5"
      },
      "execution_count": 1,
      "outputs": [
        {
          "output_type": "stream",
          "name": "stdout",
          "text": [
            "\u001b[?25l   \u001b[90m━━━━━━━━━━━━━━━━━━━━━━━━━━━━━━━━━━━━━━━━\u001b[0m \u001b[32m0.0/2.5 MB\u001b[0m \u001b[31m?\u001b[0m eta \u001b[36m-:--:--\u001b[0m\r\u001b[2K   \u001b[91m━━━━━━━━━━━━━━━━━━━━━━━━\u001b[0m\u001b[91m╸\u001b[0m\u001b[90m━━━━━━━━━━━━━━━\u001b[0m \u001b[32m1.5/2.5 MB\u001b[0m \u001b[31m48.6 MB/s\u001b[0m eta \u001b[36m0:00:01\u001b[0m\r\u001b[2K   \u001b[91m━━━━━━━━━━━━━━━━━━━━━━━━━━━━━━━━━━━━━━━\u001b[0m\u001b[91m╸\u001b[0m \u001b[32m2.5/2.5 MB\u001b[0m \u001b[31m42.8 MB/s\u001b[0m eta \u001b[36m0:00:01\u001b[0m\r\u001b[2K   \u001b[90m━━━━━━━━━━━━━━━━━━━━━━━━━━━━━━━━━━━━━━━━\u001b[0m \u001b[32m2.5/2.5 MB\u001b[0m \u001b[31m23.3 MB/s\u001b[0m eta \u001b[36m0:00:00\u001b[0m\n",
            "\u001b[2K   \u001b[90m━━━━━━━━━━━━━━━━━━━━━━━━━━━━━━━━━━━━━━━━\u001b[0m \u001b[32m209.2/209.2 kB\u001b[0m \u001b[31m6.5 MB/s\u001b[0m eta \u001b[36m0:00:00\u001b[0m\n",
            "\u001b[2K   \u001b[90m━━━━━━━━━━━━━━━━━━━━━━━━━━━━━━━━━━━━━━━━\u001b[0m \u001b[32m124.9/124.9 kB\u001b[0m \u001b[31m5.1 MB/s\u001b[0m eta \u001b[36m0:00:00\u001b[0m\n",
            "\u001b[2K   \u001b[90m━━━━━━━━━━━━━━━━━━━━━━━━━━━━━━━━━━━━━━━━\u001b[0m \u001b[32m50.9/50.9 kB\u001b[0m \u001b[31m2.0 MB/s\u001b[0m eta \u001b[36m0:00:00\u001b[0m\n",
            "\u001b[2K   \u001b[90m━━━━━━━━━━━━━━━━━━━━━━━━━━━━━━━━━━━━━━━━\u001b[0m \u001b[32m363.4/363.4 MB\u001b[0m \u001b[31m3.5 MB/s\u001b[0m eta \u001b[36m0:00:00\u001b[0m\n",
            "\u001b[2K   \u001b[90m━━━━━━━━━━━━━━━━━━━━━━━━━━━━━━━━━━━━━━━━\u001b[0m \u001b[32m13.8/13.8 MB\u001b[0m \u001b[31m55.4 MB/s\u001b[0m eta \u001b[36m0:00:00\u001b[0m\n",
            "\u001b[2K   \u001b[90m━━━━━━━━━━━━━━━━━━━━━━━━━━━━━━━━━━━━━━━━\u001b[0m \u001b[32m24.6/24.6 MB\u001b[0m \u001b[31m41.4 MB/s\u001b[0m eta \u001b[36m0:00:00\u001b[0m\n",
            "\u001b[2K   \u001b[90m━━━━━━━━━━━━━━━━━━━━━━━━━━━━━━━━━━━━━━━━\u001b[0m \u001b[32m883.7/883.7 kB\u001b[0m \u001b[31m24.1 MB/s\u001b[0m eta \u001b[36m0:00:00\u001b[0m\n",
            "\u001b[2K   \u001b[90m━━━━━━━━━━━━━━━━━━━━━━━━━━━━━━━━━━━━━━━━\u001b[0m \u001b[32m664.8/664.8 MB\u001b[0m \u001b[31m2.4 MB/s\u001b[0m eta \u001b[36m0:00:00\u001b[0m\n",
            "\u001b[2K   \u001b[90m━━━━━━━━━━━━━━━━━━━━━━━━━━━━━━━━━━━━━━━━\u001b[0m \u001b[32m211.5/211.5 MB\u001b[0m \u001b[31m6.0 MB/s\u001b[0m eta \u001b[36m0:00:00\u001b[0m\n",
            "\u001b[2K   \u001b[90m━━━━━━━━━━━━━━━━━━━━━━━━━━━━━━━━━━━━━━━━\u001b[0m \u001b[32m56.3/56.3 MB\u001b[0m \u001b[31m12.5 MB/s\u001b[0m eta \u001b[36m0:00:00\u001b[0m\n",
            "\u001b[2K   \u001b[90m━━━━━━━━━━━━━━━━━━━━━━━━━━━━━━━━━━━━━━━━\u001b[0m \u001b[32m127.9/127.9 MB\u001b[0m \u001b[31m7.3 MB/s\u001b[0m eta \u001b[36m0:00:00\u001b[0m\n",
            "\u001b[2K   \u001b[90m━━━━━━━━━━━━━━━━━━━━━━━━━━━━━━━━━━━━━━━━\u001b[0m \u001b[32m207.5/207.5 MB\u001b[0m \u001b[31m6.0 MB/s\u001b[0m eta \u001b[36m0:00:00\u001b[0m\n",
            "\u001b[2K   \u001b[90m━━━━━━━━━━━━━━━━━━━━━━━━━━━━━━━━━━━━━━━━\u001b[0m \u001b[32m21.1/21.1 MB\u001b[0m \u001b[31m55.8 MB/s\u001b[0m eta \u001b[36m0:00:00\u001b[0m\n",
            "\u001b[2K   \u001b[90m━━━━━━━━━━━━━━━━━━━━━━━━━━━━━━━━━━━━━━━━\u001b[0m \u001b[32m340.6/340.6 kB\u001b[0m \u001b[31m18.2 MB/s\u001b[0m eta \u001b[36m0:00:00\u001b[0m\n",
            "\u001b[2K   \u001b[90m━━━━━━━━━━━━━━━━━━━━━━━━━━━━━━━━━━━━━━━━\u001b[0m \u001b[32m10.2/10.2 MB\u001b[0m \u001b[31m96.7 MB/s\u001b[0m eta \u001b[36m0:00:00\u001b[0m\n",
            "\u001b[2K   \u001b[90m━━━━━━━━━━━━━━━━━━━━━━━━━━━━━━━━━━━━━━━━\u001b[0m \u001b[32m312.3/312.3 kB\u001b[0m \u001b[31m16.4 MB/s\u001b[0m eta \u001b[36m0:00:00\u001b[0m\n",
            "\u001b[2K   \u001b[90m━━━━━━━━━━━━━━━━━━━━━━━━━━━━━━━━━━━━━━━━\u001b[0m \u001b[32m1.2/1.2 MB\u001b[0m \u001b[31m55.8 MB/s\u001b[0m eta \u001b[36m0:00:00\u001b[0m\n",
            "\u001b[2K   \u001b[90m━━━━━━━━━━━━━━━━━━━━━━━━━━━━━━━━━━━━━━━━\u001b[0m \u001b[32m15.6/15.6 MB\u001b[0m \u001b[31m88.4 MB/s\u001b[0m eta \u001b[36m0:00:00\u001b[0m\n",
            "\u001b[2K   \u001b[90m━━━━━━━━━━━━━━━━━━━━━━━━━━━━━━━━━━━━━━━━\u001b[0m \u001b[32m139.8/139.8 kB\u001b[0m \u001b[31m9.5 MB/s\u001b[0m eta \u001b[36m0:00:00\u001b[0m\n",
            "\u001b[2K   \u001b[90m━━━━━━━━━━━━━━━━━━━━━━━━━━━━━━━━━━━━━━━━\u001b[0m \u001b[32m2.3/2.3 MB\u001b[0m \u001b[31m58.9 MB/s\u001b[0m eta \u001b[36m0:00:00\u001b[0m\n",
            "\u001b[2K   \u001b[90m━━━━━━━━━━━━━━━━━━━━━━━━━━━━━━━━━━━━━━━━\u001b[0m \u001b[32m1.6/1.6 MB\u001b[0m \u001b[31m64.5 MB/s\u001b[0m eta \u001b[36m0:00:00\u001b[0m\n",
            "\u001b[2K   \u001b[90m━━━━━━━━━━━━━━━━━━━━━━━━━━━━━━━━━━━━━━━━\u001b[0m \u001b[32m302.3/302.3 kB\u001b[0m \u001b[31m15.3 MB/s\u001b[0m eta \u001b[36m0:00:00\u001b[0m\n",
            "\u001b[?25h"
          ]
        }
      ]
    },
    {
      "cell_type": "markdown",
      "source": [
        "##Uploading the PDF"
      ],
      "metadata": {
        "id": "QBT6Bw24j5W1"
      }
    },
    {
      "cell_type": "code",
      "execution_count": null,
      "metadata": {
        "colab": {
          "base_uri": "https://localhost:8080/",
          "height": 74
        },
        "id": "8A5-kp1ljAF-",
        "outputId": "0e961569-4cb4-48e9-8866-f0609fe169d3"
      },
      "outputs": [
        {
          "output_type": "display_data",
          "data": {
            "text/plain": [
              "<IPython.core.display.HTML object>"
            ],
            "text/html": [
              "\n",
              "     <input type=\"file\" id=\"files-9c4fe5c6-893d-4bc1-bbe0-0e68edfe77ea\" name=\"files[]\" multiple disabled\n",
              "        style=\"border:none\" />\n",
              "     <output id=\"result-9c4fe5c6-893d-4bc1-bbe0-0e68edfe77ea\">\n",
              "      Upload widget is only available when the cell has been executed in the\n",
              "      current browser session. Please rerun this cell to enable.\n",
              "      </output>\n",
              "      <script>// Copyright 2017 Google LLC\n",
              "//\n",
              "// Licensed under the Apache License, Version 2.0 (the \"License\");\n",
              "// you may not use this file except in compliance with the License.\n",
              "// You may obtain a copy of the License at\n",
              "//\n",
              "//      http://www.apache.org/licenses/LICENSE-2.0\n",
              "//\n",
              "// Unless required by applicable law or agreed to in writing, software\n",
              "// distributed under the License is distributed on an \"AS IS\" BASIS,\n",
              "// WITHOUT WARRANTIES OR CONDITIONS OF ANY KIND, either express or implied.\n",
              "// See the License for the specific language governing permissions and\n",
              "// limitations under the License.\n",
              "\n",
              "/**\n",
              " * @fileoverview Helpers for google.colab Python module.\n",
              " */\n",
              "(function(scope) {\n",
              "function span(text, styleAttributes = {}) {\n",
              "  const element = document.createElement('span');\n",
              "  element.textContent = text;\n",
              "  for (const key of Object.keys(styleAttributes)) {\n",
              "    element.style[key] = styleAttributes[key];\n",
              "  }\n",
              "  return element;\n",
              "}\n",
              "\n",
              "// Max number of bytes which will be uploaded at a time.\n",
              "const MAX_PAYLOAD_SIZE = 100 * 1024;\n",
              "\n",
              "function _uploadFiles(inputId, outputId) {\n",
              "  const steps = uploadFilesStep(inputId, outputId);\n",
              "  const outputElement = document.getElementById(outputId);\n",
              "  // Cache steps on the outputElement to make it available for the next call\n",
              "  // to uploadFilesContinue from Python.\n",
              "  outputElement.steps = steps;\n",
              "\n",
              "  return _uploadFilesContinue(outputId);\n",
              "}\n",
              "\n",
              "// This is roughly an async generator (not supported in the browser yet),\n",
              "// where there are multiple asynchronous steps and the Python side is going\n",
              "// to poll for completion of each step.\n",
              "// This uses a Promise to block the python side on completion of each step,\n",
              "// then passes the result of the previous step as the input to the next step.\n",
              "function _uploadFilesContinue(outputId) {\n",
              "  const outputElement = document.getElementById(outputId);\n",
              "  const steps = outputElement.steps;\n",
              "\n",
              "  const next = steps.next(outputElement.lastPromiseValue);\n",
              "  return Promise.resolve(next.value.promise).then((value) => {\n",
              "    // Cache the last promise value to make it available to the next\n",
              "    // step of the generator.\n",
              "    outputElement.lastPromiseValue = value;\n",
              "    return next.value.response;\n",
              "  });\n",
              "}\n",
              "\n",
              "/**\n",
              " * Generator function which is called between each async step of the upload\n",
              " * process.\n",
              " * @param {string} inputId Element ID of the input file picker element.\n",
              " * @param {string} outputId Element ID of the output display.\n",
              " * @return {!Iterable<!Object>} Iterable of next steps.\n",
              " */\n",
              "function* uploadFilesStep(inputId, outputId) {\n",
              "  const inputElement = document.getElementById(inputId);\n",
              "  inputElement.disabled = false;\n",
              "\n",
              "  const outputElement = document.getElementById(outputId);\n",
              "  outputElement.innerHTML = '';\n",
              "\n",
              "  const pickedPromise = new Promise((resolve) => {\n",
              "    inputElement.addEventListener('change', (e) => {\n",
              "      resolve(e.target.files);\n",
              "    });\n",
              "  });\n",
              "\n",
              "  const cancel = document.createElement('button');\n",
              "  inputElement.parentElement.appendChild(cancel);\n",
              "  cancel.textContent = 'Cancel upload';\n",
              "  const cancelPromise = new Promise((resolve) => {\n",
              "    cancel.onclick = () => {\n",
              "      resolve(null);\n",
              "    };\n",
              "  });\n",
              "\n",
              "  // Wait for the user to pick the files.\n",
              "  const files = yield {\n",
              "    promise: Promise.race([pickedPromise, cancelPromise]),\n",
              "    response: {\n",
              "      action: 'starting',\n",
              "    }\n",
              "  };\n",
              "\n",
              "  cancel.remove();\n",
              "\n",
              "  // Disable the input element since further picks are not allowed.\n",
              "  inputElement.disabled = true;\n",
              "\n",
              "  if (!files) {\n",
              "    return {\n",
              "      response: {\n",
              "        action: 'complete',\n",
              "      }\n",
              "    };\n",
              "  }\n",
              "\n",
              "  for (const file of files) {\n",
              "    const li = document.createElement('li');\n",
              "    li.append(span(file.name, {fontWeight: 'bold'}));\n",
              "    li.append(span(\n",
              "        `(${file.type || 'n/a'}) - ${file.size} bytes, ` +\n",
              "        `last modified: ${\n",
              "            file.lastModifiedDate ? file.lastModifiedDate.toLocaleDateString() :\n",
              "                                    'n/a'} - `));\n",
              "    const percent = span('0% done');\n",
              "    li.appendChild(percent);\n",
              "\n",
              "    outputElement.appendChild(li);\n",
              "\n",
              "    const fileDataPromise = new Promise((resolve) => {\n",
              "      const reader = new FileReader();\n",
              "      reader.onload = (e) => {\n",
              "        resolve(e.target.result);\n",
              "      };\n",
              "      reader.readAsArrayBuffer(file);\n",
              "    });\n",
              "    // Wait for the data to be ready.\n",
              "    let fileData = yield {\n",
              "      promise: fileDataPromise,\n",
              "      response: {\n",
              "        action: 'continue',\n",
              "      }\n",
              "    };\n",
              "\n",
              "    // Use a chunked sending to avoid message size limits. See b/62115660.\n",
              "    let position = 0;\n",
              "    do {\n",
              "      const length = Math.min(fileData.byteLength - position, MAX_PAYLOAD_SIZE);\n",
              "      const chunk = new Uint8Array(fileData, position, length);\n",
              "      position += length;\n",
              "\n",
              "      const base64 = btoa(String.fromCharCode.apply(null, chunk));\n",
              "      yield {\n",
              "        response: {\n",
              "          action: 'append',\n",
              "          file: file.name,\n",
              "          data: base64,\n",
              "        },\n",
              "      };\n",
              "\n",
              "      let percentDone = fileData.byteLength === 0 ?\n",
              "          100 :\n",
              "          Math.round((position / fileData.byteLength) * 100);\n",
              "      percent.textContent = `${percentDone}% done`;\n",
              "\n",
              "    } while (position < fileData.byteLength);\n",
              "  }\n",
              "\n",
              "  // All done.\n",
              "  yield {\n",
              "    response: {\n",
              "      action: 'complete',\n",
              "    }\n",
              "  };\n",
              "}\n",
              "\n",
              "scope.google = scope.google || {};\n",
              "scope.google.colab = scope.google.colab || {};\n",
              "scope.google.colab._files = {\n",
              "  _uploadFiles,\n",
              "  _uploadFilesContinue,\n",
              "};\n",
              "})(self);\n",
              "</script> "
            ]
          },
          "metadata": {}
        },
        {
          "output_type": "stream",
          "name": "stdout",
          "text": [
            "Saving Atomic Habits James Clear.pdf to Atomic Habits James Clear.pdf\n"
          ]
        }
      ],
      "source": [
        "# Imports\n",
        "from langchain.document_loaders import PyPDFLoader\n",
        "from langchain.text_splitter import RecursiveCharacterTextSplitter\n",
        "from google.colab import files\n",
        "import os\n",
        "\n",
        "# Upload the PDF file using Google Colab's file upload utility\n",
        "uploaded = files.upload()\n",
        "\n",
        "# Get the file path\n",
        "pdf_path = list(uploaded.keys())[0]\n",
        "\n",
        "# Load the PDF using Langchain's PyPDFLoader\n",
        "loader = PyPDFLoader(pdf_path)\n",
        "documents = loader.load()\n"
      ]
    },
    {
      "cell_type": "code",
      "source": [
        "#type(documents)"
      ],
      "metadata": {
        "colab": {
          "base_uri": "https://localhost:8080/"
        },
        "id": "SfvrYM1454B4",
        "outputId": "c9cb0fb3-29e5-4172-9f78-4bb295f5ca5d"
      },
      "execution_count": null,
      "outputs": [
        {
          "output_type": "execute_result",
          "data": {
            "text/plain": [
              "list"
            ]
          },
          "metadata": {},
          "execution_count": 25
        }
      ]
    },
    {
      "cell_type": "code",
      "source": [
        "#documents[0]"
      ],
      "metadata": {
        "id": "3mF5C7sR6PRe"
      },
      "execution_count": null,
      "outputs": []
    },
    {
      "cell_type": "code",
      "source": [
        "#len(documents)"
      ],
      "metadata": {
        "id": "3nQx85ybAcjn"
      },
      "execution_count": null,
      "outputs": []
    },
    {
      "cell_type": "markdown",
      "source": [
        "##Setting up the Environment for Developing"
      ],
      "metadata": {
        "id": "SB7uogzLlaV7"
      }
    },
    {
      "cell_type": "markdown",
      "source": [
        "### Environment in a Development Project\n",
        "In a development project, an **environment** refers to a configured system setup where software is developed, tested, and deployed, often using **environment variables** to manage sensitive information like API keys securely. In **Google Colab**, environment variables can be stored in **secrets** (e.g., `os.environ[\"API_KEY\"] = \"your_key\"`) to prevent hardcoding sensitive data. This ensures security, flexibility, and easier configuration management across different environments. 🚀"
      ],
      "metadata": {
        "id": "wa2VpZsojBKj"
      }
    },
    {
      "cell_type": "code",
      "source": [
        "import os\n",
        "from google.colab import userdata\n",
        "\n",
        "os.environ[\"GROQ_API_KEY\"] = userdata.get('GROQ_API_KEY')\n",
        "os.environ[\"HF_TOKEN\"] = userdata.get('HF_TOKEN')\n",
        "os.environ[\"NEO4J_URI\"] = userdata.get('NEO4J_URI')\n",
        "os.environ[\"NEO4J_USERNAME\"] = userdata.get('NEO4J_USERNAME')\n",
        "os.environ[\"NEO4J_PASSWORD\"] = userdata.get('NEO4J_PASSWORD')"
      ],
      "metadata": {
        "id": "MvIX2qW_j9qu"
      },
      "execution_count": null,
      "outputs": []
    },
    {
      "cell_type": "code",
      "source": [
        "from langchain_core.prompts import ChatPromptTemplate\n",
        "from langchain_core.prompts.prompt import PromptTemplate\n",
        "\n",
        "from typing import Tuple, List, Optional\n",
        "\n",
        "from langchain_core.messages import AIMessage, HumanMessage\n",
        "from langchain_core.output_parsers import StrOutputParser\n",
        "\n",
        "from langchain_core.runnables import ConfigurableField\n",
        "\n",
        "from yfiles_jupyter_graphs import GraphWidget\n",
        "from neo4j import GraphDatabase\n",
        "\n",
        "from langchain_community.vectorstores import Neo4jVector\n",
        "from langchain_community.graphs import Neo4jGraph\n",
        "\n",
        "from langchain_huggingface import HuggingFaceEmbeddings"
      ],
      "metadata": {
        "id": "dTc1oouVwoYu"
      },
      "execution_count": null,
      "outputs": []
    },
    {
      "cell_type": "code",
      "source": [
        "try:\n",
        "  import google.colab\n",
        "  from google.colab import output\n",
        "  output.enable_custom_widget_manager()\n",
        "except:\n",
        "  pass"
      ],
      "metadata": {
        "id": "zZK-vw_Sy4cu"
      },
      "execution_count": null,
      "outputs": []
    },
    {
      "cell_type": "code",
      "source": [
        "from langchain_core.runnables import (\n",
        "    RunnableBranch,\n",
        "    RunnableLambda,\n",
        "    RunnableParallel,\n",
        "    RunnablePassthrough,\n",
        ")"
      ],
      "metadata": {
        "id": "M5FS6bBWj9om"
      },
      "execution_count": null,
      "outputs": []
    },
    {
      "cell_type": "markdown",
      "source": [
        "##Extracting Text from Wikipedia Pages\n",
        "--Using WikipediaLoader from Langchain"
      ],
      "metadata": {
        "id": "eyN_RBsiqYSz"
      }
    },
    {
      "cell_type": "code",
      "source": [
        "# from langchain.document_loaders import WikipediaLoader\n",
        "# raw_documents = WikipediaLoader(query=\"The Merchant of Venice\").load()"
      ],
      "metadata": {
        "id": "PdPlfdqFzg7g",
        "colab": {
          "base_uri": "https://localhost:8080/"
        },
        "outputId": "4983dfe9-926a-4dfb-a836-74046b595285"
      },
      "execution_count": null,
      "outputs": [
        {
          "output_type": "stream",
          "name": "stderr",
          "text": [
            "/usr/local/lib/python3.11/dist-packages/wikipedia/wikipedia.py:389: GuessedAtParserWarning: No parser was explicitly specified, so I'm using the best available HTML parser for this system (\"lxml\"). This usually isn't a problem, but if you run this code on another system, or in a different virtual environment, it may use a different parser and behave differently.\n",
            "\n",
            "The code that caused this warning is on line 389 of the file /usr/local/lib/python3.11/dist-packages/wikipedia/wikipedia.py. To get rid of this warning, pass the additional argument 'features=\"lxml\"' to the BeautifulSoup constructor.\n",
            "\n",
            "  lis = BeautifulSoup(html).find_all('li')\n"
          ]
        }
      ]
    },
    {
      "cell_type": "code",
      "source": [
        "# len(raw_documents)"
      ],
      "metadata": {
        "colab": {
          "base_uri": "https://localhost:8080/"
        },
        "id": "5M9pNMDrzoFi",
        "outputId": "6c665e98-c1a4-4e35-adbb-5ac0ac0bd2ec"
      },
      "execution_count": null,
      "outputs": [
        {
          "output_type": "execute_result",
          "data": {
            "text/plain": [
              "24"
            ]
          },
          "metadata": {},
          "execution_count": 9
        }
      ]
    },
    {
      "cell_type": "code",
      "source": [
        "# raw_documents[0]"
      ],
      "metadata": {
        "colab": {
          "base_uri": "https://localhost:8080/"
        },
        "collapsed": true,
        "id": "_beA0mmX7Wcc",
        "outputId": "8425973f-5518-40b1-f82f-4d86fbda7178"
      },
      "execution_count": null,
      "outputs": [
        {
          "output_type": "execute_result",
          "data": {
            "text/plain": [
              "Document(metadata={'title': 'The Merchant of Venice', 'summary': 'The Merchant of Venice is a play by William Shakespeare, believed to have been written between 1596 and 1598. A merchant in Venice named Antonio defaults on a large loan taken out on behalf of his dear friend, Bassanio, and provided by a Jewish moneylender, Shylock, with seemingly inevitable fatal consequences.\\nAlthough classified as a comedy in the First Folio and sharing certain aspects with Shakespeare\\'s other romantic comedies, the play is most remembered for its dramatic scenes, and it is best known for the character Shylock and his famous demand for a \"pound of flesh\".\\nThe play contains two famous speeches, that of Shylock, \"Hath not a Jew eyes?\" on the subject of humanity, and that of Portia on \"the quality of mercy\".  Debate exists on whether the play is anti-Semitic, with Shylock\\'s insistence on his legal right to the pound of flesh being in opposition to his seemingly universal plea for the rights of all people suffering discrimination.', 'source': 'https://en.wikipedia.org/wiki/The_Merchant_of_Venice'}, page_content='The Merchant of Venice is a play by William Shakespeare, believed to have been written between 1596 and 1598. A merchant in Venice named Antonio defaults on a large loan taken out on behalf of his dear friend, Bassanio, and provided by a Jewish moneylender, Shylock, with seemingly inevitable fatal consequences.\\nAlthough classified as a comedy in the First Folio and sharing certain aspects with Shakespeare\\'s other romantic comedies, the play is most remembered for its dramatic scenes, and it is best known for the character Shylock and his famous demand for a \"pound of flesh\".\\nThe play contains two famous speeches, that of Shylock, \"Hath not a Jew eyes?\" on the subject of humanity, and that of Portia on \"the quality of mercy\".  Debate exists on whether the play is anti-Semitic, with Shylock\\'s insistence on his legal right to the pound of flesh being in opposition to his seemingly universal plea for the rights of all people suffering discrimination.\\n\\n\\n== Characters ==\\n\\n\\n== Plot summary ==\\n\\nBassanio, a young Venetian of noble rank, wishes to woo the beautiful and wealthy heiress of Belmont, Portia. Having squandered his estate, he needs 3,000 ducats to subsidise his expenditures as a suitor. Bassanio approaches his friend Antonio, a wealthy merchant of Venice, who has previously and repeatedly bailed him out. Antonio agrees, but has no liquid cash as  his ships and merchandise are busy at sea to Tripolis, the Indies, Mexico and England – he promises to cover a bond if Bassanio can find a lender, so Bassanio turns to the Jewish moneylender Shylock and names Antonio as the loan\\'s guarantor.\\nAntonio has already antagonized Shylock through his outspoken antisemitism and because Antonio\\'s habit of lending money without interest forces Shylock to charge lower rates. Shylock is at first reluctant to grant the loan, citing abuse he has suffered at Antonio\\'s hand. He finally agrees to lend the sum to Bassanio without interest upon one condition: if Antonio were unable to repay it at the specified date, Shylock may take a pound of Antonio\\'s flesh. Bassanio does not want Antonio to accept such a risky condition; Antonio is surprised by what he sees as the moneylender\\'s generosity (no \"usance\" – interest – is asked for), and he signs the contract. With money in hand, Bassanio leaves for Belmont with his friend Gratiano, who has asked to accompany him. Gratiano is a likeable young man, but he is often flippant, overly talkative, and tactless. Bassanio warns his companion to exercise self-control, and the two leave for Belmont.\\nMeanwhile, in Belmont, Portia is awash with suitors. Her father left a will stipulating that each of her suitors must choose correctly from one of three caskets, made of gold, silver and lead respectively. Whoever picks the right casket wins Portia\\'s hand. The first suitor, the Prince of Morocco, chooses the gold casket, interpreting its slogan, \"Who chooseth me shall gain what many men desire\", as referring to Portia. The second suitor, the conceited Prince of Aragon, chooses the silver casket, which proclaims, \"Who chooseth me shall get as much as he deserves\", as he believes he is full of merit. Both suitors leave empty-handed, having rejected the lead casket because of the baseness of its material and the uninviting nature of its slogan, \"Who chooseth me must give and hazard all he hath\". The last suitor is Bassanio, whom Portia wishes to succeed, having met him before. As Bassanio ponders his choice, members of Portia\\'s household sing a song that says that \"fancy\" (not true love) is \"It is engendered in the eye, / With gazing fed\"; Bassanio chooses the lead casket and wins Portia\\'s hand.\\n\\nAt Venice, Antonio\\'s ships are reported lost at sea, so the merchant cannot repay the bond. Shylock has become more determined to exact revenge from Christians because his daughter Jessica eloped with the Christian Lorenzo and converted. She took a substantial amount of Shylock\\'s wealth with her, as well as a turquoise ring which S')"
            ]
          },
          "metadata": {},
          "execution_count": 10
        }
      ]
    },
    {
      "cell_type": "markdown",
      "source": [
        "##Constants"
      ],
      "metadata": {
        "id": "LhdrdifqmFI9"
      }
    },
    {
      "cell_type": "code",
      "source": [
        "chunk_size = 512\n",
        "chunk_overlap = 24\n",
        "\n",
        "model_name = \"deepseek-r1-distill-llama-70b\"\n",
        "embedding_model = \"sentence-transformers/all-mpnet-base-v2\"\n",
        "temperature = 0.2\n",
        "tokens_per_minute = 900"
      ],
      "metadata": {
        "id": "fK1MDDVR1TKg"
      },
      "execution_count": null,
      "outputs": []
    },
    {
      "cell_type": "markdown",
      "source": [
        "##Text Splitting using Recursive Charecter Text Splitter"
      ],
      "metadata": {
        "id": "5EZCmxNQq-6D"
      }
    },
    {
      "cell_type": "code",
      "source": [
        "# # For Wikipedia\n",
        "# from langchain.text_splitter import RecursiveCharacterTextSplitter\n",
        "# text_splitter = RecursiveCharacterTextSplitter(chunk_size=chunk_size, chunk_overlap=chunk_overlap)\n",
        "# documents = text_splitter.split_documents(raw_documents[:4])"
      ],
      "metadata": {
        "id": "kGS_yTfrz0Km"
      },
      "execution_count": null,
      "outputs": []
    },
    {
      "cell_type": "code",
      "source": [
        "# For PDF (Custom Upload)\n",
        "from langchain.text_splitter import RecursiveCharacterTextSplitter\n",
        "text_splitter = RecursiveCharacterTextSplitter(chunk_size=chunk_size, chunk_overlap=chunk_overlap)\n",
        "document_chunks = text_splitter.split_documents(documents)"
      ],
      "metadata": {
        "id": "FFo8rElTIjYT"
      },
      "execution_count": null,
      "outputs": []
    },
    {
      "cell_type": "code",
      "source": [
        "#chunks"
      ],
      "metadata": {
        "id": "NH25P9SmnRoK"
      },
      "execution_count": null,
      "outputs": []
    },
    {
      "cell_type": "markdown",
      "source": [
        "##Initializing a Large Language Model (LLM) and Graph Transformer instance"
      ],
      "metadata": {
        "id": "ELkC9PrSmK7d"
      }
    },
    {
      "cell_type": "code",
      "source": [
        "from langchain_groq import ChatGroq\n",
        "\n",
        "llm = ChatGroq(\n",
        "            model_name=model_name,\n",
        "            temperature=temperature,\n",
        "            max_tokens=None,\n",
        "            groq_api_key=os.environ[\"GROQ_API_KEY\"],\n",
        "            timeout=60\n",
        "        )"
      ],
      "metadata": {
        "id": "09E1Hro31Et9"
      },
      "execution_count": null,
      "outputs": []
    },
    {
      "cell_type": "code",
      "source": [
        "# Import the LLMGraphTransformer for converting text into a structured graph\n",
        "from langchain_experimental.graph_transformers import LLMGraphTransformer\n",
        "\n",
        "# Initialize the Graph Transformer with a Large Language Model (LLM)\n",
        "llm_transformer = LLMGraphTransformer(llm=llm)\n",
        "\n",
        "# Convert a list of textual documents into a structured graph representation\n",
        "graph_documents = llm_transformer.convert_to_graph_documents(document_chunks)\n",
        "\n",
        "# The output 'graph_documents' contains entities (nodes) and their relationships (edges),\n",
        "# which can be used for knowledge graph construction, search, and reasoning.\n"
      ],
      "metadata": {
        "id": "1rbZJRwh2u9m"
      },
      "execution_count": null,
      "outputs": []
    },
    {
      "cell_type": "code",
      "source": [
        "#graph_documents"
      ],
      "metadata": {
        "colab": {
          "base_uri": "https://localhost:8080/"
        },
        "id": "r9QRPGMF3NHE",
        "outputId": "4b47ce02-ab1b-4bef-e015-577b17d7979b"
      },
      "execution_count": null,
      "outputs": [
        {
          "output_type": "execute_result",
          "data": {
            "text/plain": [
              "[GraphDocument(nodes=[Node(id='Antonio', type='Person', properties={}), Node(id='Salarino', type='Person', properties={}), Node(id='Salanio', type='Person', properties={}), Node(id='Venice', type='Location', properties={}), Node(id='Street', type='Location', properties={}), Node(id='Sadness', type='Emotion', properties={})], relationships=[Relationship(source=Node(id='Antonio', type='Person', properties={}), target=Node(id='Sadness', type='Emotion', properties={}), type='FEELING', properties={}), Relationship(source=Node(id='Salarino', type='Person', properties={}), target=Node(id='Antonio', type='Person', properties={}), type='SPEAKING_TO', properties={}), Relationship(source=Node(id='Salanio', type='Person', properties={}), target=Node(id='Antonio', type='Person', properties={}), type='SPEAKING_TO', properties={}), Relationship(source=Node(id='Antonio', type='Person', properties={}), target=Node(id='Ventures', type='Venture', properties={}), type='VENTURES', properties={}), Relationship(source=Node(id='Ventures', type='Venture', properties={}), target=Node(id='Sea', type='Sea', properties={}), type='VENTURES', properties={})], source=Document(metadata={'producer': 'PDFium', 'creator': 'PDFium', 'creationdate': 'D:20250318171920', 'source': 'The-Merchant-of-Venice-PDF (1).pdf', 'total_pages': 72, 'page': 0, 'page_label': '1'}, page_content=\"2 \\n \\nACT I \\nSCENE I. Venice. A street. \\nEnter ANTONIO, SALARINO, and SALANIO \\nANTONIO \\nIn sooth, I know not why I am so sad: \\nIt wearies me; you say it wearies you; \\nBut how I caught it, found it, or came by it, \\nWhat stuff 'tis made of, whereof it is born, \\nI am to learn; \\nAnd such a want-wit sadness makes of me, \\nThat I have much ado to know myself. \\nSALARINO \\nYour mind is tossing on the ocean; \\nThere, where your argosies with portly sail, \\nLike signiors and rich burghers on the flood, \\nOr, as it were, the pageants of the sea, \\nDo overpeer the petty traffickers, \\nThat curtsy to them, do them reverence, \\nAs they fly by them with their woven wings. \\nSALANIO \\nBelieve me, sir, had I such venture forth, \\nThe better part of my affections would \\nBe with my hopes abroad. I should be still \\nPlucking the grass, to know where sits the wind, \\nPeering in maps for ports and piers and roads; \\nAnd every object that might make me fear \\nMisfortune to my ventures, out of doubt \\nWould make me sad. \\nSALARINO \\nMy wind cooling my broth \\nWould blow me to an ague, when I thought \\nWhat harm a wind too great at sea might do. \\nI should not see the sandy hour-glass run, \\nBut I should think of shallows and of flats, \\nAnd see my wealthy Andrew dock'd in sand, \\nVailing her high-top lower than her ribs \\nTo kiss her burial. Should I go to church \\nAnd see the holy edifice of stone, \\nAnd not bethink me straight of dangerous rocks, \\nWhich touching but my gentle vessel's side, \\nWould scatter all her spices on the stream, \\nEnrobe the roaring waters with my silks, \\nAnd, in a word, but even now worth this, \\nAnd now worth nothing? Shall I have the thought \\nTo think on this, and shall I lack the thought \\nThat such a thing bechanced would make me sad? \\nBut tell not me; I know, Antonio \\nIs sad to think upon his merchandise.\")),\n",
              " GraphDocument(nodes=[Node(id='Antonio', type='Person', properties={}), Node(id='Salarino', type='Person', properties={}), Node(id='Bassanio', type='Person', properties={}), Node(id='Lorenzo', type='Person', properties={}), Node(id='Gratiano', type='Person', properties={}), Node(id='Nestor', type='Person', properties={}), Node(id='Ventures', type='Concept', properties={}), Node(id='Merchandise', type='Concept', properties={}), Node(id='Fortune', type='Concept', properties={}), Node(id='Place', type='Location', properties={}), Node(id='Time', type='Concept', properties={})], relationships=[Relationship(source=Node(id='Antonio', type='Person', properties={}), target=Node(id='Bassanio', type='Person', properties={}), type='KINSMAN', properties={}), Relationship(source=Node(id='Bassanio', type='Person', properties={}), target=Node(id='Lorenzo', type='Person', properties={}), type='COMPANION', properties={}), Relationship(source=Node(id='Bassanio', type='Person', properties={}), target=Node(id='Gratiano', type='Person', properties={}), type='COMPANION', properties={}), Relationship(source=Node(id='Salarino', type='Person', properties={}), target=Node(id='Salanio', type='Person', properties={}), type='FRIEND', properties={}), Relationship(source=Node(id='Salarino', type='Person', properties={}), target=Node(id='Antonio', type='Person', properties={}), type='FRIEND', properties={}), Relationship(source=Node(id='Gratiano', type='Person', properties={}), target=Node(id='Antonio', type='Person', properties={}), type='CONCERN', properties={}), Relationship(source=Node(id='Antonio', type='Person', properties={}), target=Node(id='Ventures', type='Concept', properties={}), type='HAS', properties={}), Relationship(source=Node(id='Antonio', type='Person', properties={}), target=Node(id='Merchandise', type='Concept', properties={}), type='HAS', properties={}), Relationship(source=Node(id='Antonio', type='Person', properties={}), target=Node(id='Fortune', type='Concept', properties={}), type='THANKS', properties={}), Relationship(source=Node(id='Bassanio', type='Person', properties={}), target=Node(id='Place', type='Location', properties={}), type='MEETING', properties={}), Relationship(source=Node(id='Salarino', type='Person', properties={}), target=Node(id='Time', type='Concept', properties={}), type='REFERS', properties={})], source=Document(metadata={'producer': 'PDFium', 'creator': 'PDFium', 'creationdate': 'D:20250318171920', 'source': 'The-Merchant-of-Venice-PDF (1).pdf', 'total_pages': 72, 'page': 1, 'page_label': '2'}, page_content=\"3 \\n \\nANTONIO \\nBelieve me, no: I thank my fortune for it, \\nMy ventures are not in one bottom trusted, \\nNor to one place; nor is my whole estate \\nUpon the fortune of this present year: \\nTherefore my merchandise makes me not sad. \\nSALARINO \\nWhy, then you are in love. \\nANTONIO \\nFie, fie! \\nSALARINO \\nNot in love neither? Then let us say you are sad, \\nBecause you are not merry: and 'twere as easy \\nFor you to laugh and leap and say you are merry, \\nBecause you are not sad. Now, by two-headed Janus, \\nNature hath framed strange fellows in her time: \\nSome that will evermore peep through their eyes \\nAnd laugh like parrots at a bag-piper, \\nAnd other of such vinegar aspect \\nThat they'll not show their teeth in way of smile, \\nThough Nestor swear the jest be laughable. \\nEnter BASSANIO, LORENZO, and GRATIANO \\nSALANIO \\nHere comes Bassanio, your most noble kinsman, \\nGratiano and Lorenzo. Fare ye well: \\nWe leave you now with better company. \\nSALARINO \\nI would have stay'd till I had made you merry, \\nIf worthier friends had not prevented me. \\nANTONIO \\nYour worth is very dear in my regard. \\nI take it, your own business calls on you \\nAnd you embrace the occasion to depart. \\nSALARINO \\nGood morrow, my good lords. \\nBASSANIO \\nGood signiors both, when shall we laugh? say, when? \\nYou grow exceeding strange: must it be so? \\nSALARINO \\nWe'll make our leisures to attend on yours. \\nExeunt Salarino and Salanio \\nLORENZO \\nMy Lord Bassanio, since you have found Antonio, \\nWe two will leave you: but at dinner-time, \\nI pray you, have in mind where we must meet. \\nBASSANIO \\nI will not fail you. \\nGRATIANO \\nYou look not well, Signior Antonio; \\nYou have too much respect upon the world:\")),\n",
              " GraphDocument(nodes=[Node(id='Antonio', type='Person', properties={}), Node(id='Gratiano', type='Person', properties={}), Node(id='Lorenzo', type='Person', properties={}), Node(id='Bassanio', type='Person', properties={})], relationships=[Relationship(source=Node(id='Antonio', type='Person', properties={}), target=Node(id='Gratiano', type='Person', properties={}), type='SPEAKS_TO', properties={}), Relationship(source=Node(id='Gratiano', type='Person', properties={}), target=Node(id='Lorenzo', type='Person', properties={}), type='SPEAKS_TO', properties={}), Relationship(source=Node(id='Lorenzo', type='Person', properties={}), target=Node(id='Antonio', type='Person', properties={}), type='LEAVES', properties={}), Relationship(source=Node(id='Gratiano', type='Person', properties={}), target=Node(id='Bassanio', type='Person', properties={}), type='SPEAKS_TO', properties={})], source=Document(metadata={'producer': 'PDFium', 'creator': 'PDFium', 'creationdate': 'D:20250318171920', 'source': 'The-Merchant-of-Venice-PDF (1).pdf', 'total_pages': 72, 'page': 2, 'page_label': '3'}, page_content=\"4 \\n \\nThey lose it that do buy it with much care: \\nBelieve me, you are marvellously changed. \\nANTONIO \\nI hold the world but as the world, Gratiano; \\nA stage where every man must play a part, \\nAnd mine a sad one. \\nGRATIANO \\nLet me play the fool: \\nWith mirth and laughter let old wrinkles come, \\nAnd let my liver rather heat with wine \\nThan my heart cool with mortifying groans. \\nWhy should a man, whose blood is warm within, \\nSit like his grandsire cut in alabaster? \\nSleep when he wakes and creep into the jaundice \\nBy being peevish? I tell thee what, Antonio-- \\nI love thee, and it is my love that speaks-- \\nThere are a sort of men whose visages \\nDo cream and mantle like a standing pond, \\nAnd do a wilful stillness entertain, \\nWith purpose to be dress'd in an opinion \\nOf wisdom, gravity, profound conceit, \\nAs who should say 'I am Sir Oracle, \\nAnd when I ope my lips let no dog bark!' \\nO my Antonio, I do know of these \\nThat therefore only are reputed wise \\nFor saying nothing; when, I am very sure, \\nIf they should speak, would almost damn those ears, \\nWhich, hearing them, would call their brothers fools. \\nI'll tell thee more of this another time: \\nBut fish not, with this melancholy bait, \\nFor this fool gudgeon, this opinion. \\nCome, good Lorenzo. Fare ye well awhile: \\nI'll end my exhortation after dinner. \\nLORENZO \\nWell, we will leave you then till dinner-time: \\nI must be one of these same dumb wise men, \\nFor Gratiano never lets me speak. \\nGRATIANO \\nWell, keep me company but two years moe, \\nThou shalt not know the sound of thine own tongue. \\nANTONIO \\nFarewell: I'll grow a talker for this gear. \\nGRATIANO \\nThanks, i' faith, for silence is only commendable \\nIn a neat's tongue dried and a maid not vendible. \\nExeunt GRATIANO and LORENZO \\nANTONIO \\nIs that any thing now? \\nBASSANIO \\nGratiano speaks an infinite deal of nothing, more\")),\n",
              " GraphDocument(nodes=[], relationships=[], source=Document(metadata={'producer': 'PDFium', 'creator': 'PDFium', 'creationdate': 'D:20250318171920', 'source': 'The-Merchant-of-Venice-PDF (1).pdf', 'total_pages': 72, 'page': 3, 'page_label': '4'}, page_content=\"5 \\n \\nthan any man in all Venice. His reasons are as two \\ngrains of wheat hid in two bushels of chaff: you \\nshall seek all day ere you find them, and when you \\nhave them, they are not worth the search. \\nANTONIO \\nWell, tell me now what lady is the same \\nTo whom you swore a secret pilgrimage, \\nThat you to-day promised to tell me of? \\nBASSANIO \\nTis not unknown to you, Antonio, \\nHow much I have disabled mine estate, \\nBy something showing a more swelling port \\nThan my faint means would grant continuance: \\nNor do I now make moan to be abridged \\nFrom such a noble rate; but my chief care \\nIs to come fairly off from the great debts \\nWherein my time something too prodigal \\nHath left me gaged. To you, Antonio, \\nI owe the most, in money and in love, \\nAnd from your love I have a warranty \\nTo unburden all my plots and purposes \\nHow to get clear of all the debts I owe. \\nANTONIO \\nI pray you, good Bassanio, let me know it; \\nAnd if it stand, as you yourself still do, \\nWithin the eye of honour, be assured, \\nMy purse, my person, my extremest means, \\nLie all unlock'd to your occasions. \\nBASSANIO \\nIn my school-days, when I had lost one shaft, \\nI shot his fellow of the self-same flight \\nThe self-same way with more advised watch, \\nTo find the other forth, and by adventuring both \\nI oft found both: I urge this childhood proof, \\nBecause what follows is pure innocence. \\nI owe you much, and, like a wilful youth, \\nThat which I owe is lost; but if you please \\nTo shoot another arrow that self way \\nWhich you did shoot the first, I do not doubt, \\nAs I will watch the aim, or to find both \\nOr bring your latter hazard back again \\nAnd thankfully rest debtor for the first. \\nANTONIO \\nYou know me well, and herein spend but time \\nTo wind about my love with circumstance; \\nAnd out of doubt you do me now more wrong \\nIn making question of my uttermost \\nThan if you had made waste of all I have: \\nThen do but say to me what I should do \\nThat in your knowledge may by me be done,\")),\n",
              " GraphDocument(nodes=[Node(id='Bassanio', type='Person', properties={}), Node(id='Antonio', type='Person', properties={}), Node(id='Portia', type='Person', properties={}), Node(id='Nerissa', type='Person', properties={}), Node(id='Belmont', type='Place', properties={})], relationships=[Relationship(source=Node(id='Bassanio', type='Person', properties={}), target=Node(id='Portia', type='Person', properties={}), type='INTERESTED_IN', properties={}), Relationship(source=Node(id='Bassanio', type='Person', properties={}), target=Node(id='Antonio', type='Person', properties={}), type='ASKS_FOR_HELP', properties={}), Relationship(source=Node(id='Portia', type='Person', properties={}), target=Node(id='Belmont', type='Place', properties={}), type='LIVES_IN', properties={}), Relationship(source=Node(id='Portia', type='Person', properties={}), target=Node(id='Nerissa', type='Person', properties={}), type='ATTENDANT_OF', properties={})], source=Document(metadata={'producer': 'PDFium', 'creator': 'PDFium', 'creationdate': 'D:20250318171920', 'source': 'The-Merchant-of-Venice-PDF (1).pdf', 'total_pages': 72, 'page': 4, 'page_label': '5'}, page_content=\"6 \\n \\nAnd I am prest unto it: therefore, speak. \\nBASSANIO \\nIn Belmont is a lady richly left; \\nAnd she is fair, and, fairer than that word, \\nOf wondrous virtues: sometimes from her eyes \\nI did receive fair speechless messages: \\nHer name is Portia, nothing undervalued \\nTo Cato's daughter, Brutus' Portia: \\nNor is the wide world ignorant of her worth, \\nFor the four winds blow in from every coast \\nRenowned suitors, and her sunny locks \\nHang on her temples like a golden fleece; \\nWhich makes her seat of Belmont Colchos' strand, \\nAnd many Jasons come in quest of her. \\nO my Antonio, had I but the means \\nTo hold a rival place with one of them, \\nI have a mind presages me such thrift, \\nThat I should questionless be fortunate! \\nANTONIO \\nThou know'st that all my fortunes are at sea; \\nNeither have I money nor commodity \\nTo raise a present sum: therefore go forth; \\nTry what my credit can in Venice do: \\nThat shall be rack'd, even to the uttermost, \\nTo furnish thee to Belmont, to fair Portia. \\nGo, presently inquire, and so will I, \\nWhere money is, and I no question make \\nTo have it of my trust or for my sake. \\nExeunt \\nSCENE II: Belmont. A room in PORTIA'S house. \\nEnter PORTIA and NERISSA \\nPORTIA \\nBy my troth, Nerissa, my little body is aweary of \\nthis great world. \\nNERISSA \\nYou would be, sweet madam, if your miseries were in \\nthe same abundance as your good fortunes are: and \\nyet, for aught I see, they are as sick that surfeit \\nwith too much as they that starve with nothing. It \\nis no mean happiness therefore, to be seated in the \\nmean: superfluity comes sooner by white hairs, but \\ncompetency lives longer. \\nPORTIA \\nGood sentences and well pronounced. \\nNERISSA \\nThey would be better, if well followed. \\nPORTIA \\nIf to do were as easy as to know what were good to \\ndo, chapels had been churches and poor men's \\ncottages princes' palaces. It is a good divine that\")),\n",
              " GraphDocument(nodes=[Node(id='Portia', type='Person', properties={}), Node(id='Nerissa', type='Person', properties={}), Node(id='Neapolitan Prince', type='Person', properties={}), Node(id='County Palatine', type='Person', properties={}), Node(id='Monsieur Le Bon', type='Person', properties={}), Node(id='Horse', type='Animal', properties={}), Node(id='Gold Chest', type='Object', properties={}), Node(id='Silver Chest', type='Object', properties={}), Node(id='Lead Chest', type='Object', properties={})], relationships=[Relationship(source=Node(id='Portia', type='Person', properties={}), target=Node(id='Nerissa', type='Person', properties={}), type='CONVERSES_WITH', properties={}), Relationship(source=Node(id='Portia', type='Person', properties={}), target=Node(id='Neapolitan Prince', type='Person', properties={}), type='DESCRIBES', properties={}), Relationship(source=Node(id='Portia', type='Person', properties={}), target=Node(id='County Palatine', type='Person', properties={}), type='DESCRIBES', properties={}), Relationship(source=Node(id='Portia', type='Person', properties={}), target=Node(id='Monsieur Le Bon', type='Person', properties={}), type='DESCRIBES', properties={}), Relationship(source=Node(id='Neapolitan Prince', type='Person', properties={}), target=Node(id='Horse', type='Animal', properties={}), type='HAS', properties={}), Relationship(source=Node(id=\"Portia'S Father\", type='Person', properties={}), target=Node(id='Gold Chest', type='Object', properties={}), type='DEVISED_BY', properties={}), Relationship(source=Node(id=\"Portia'S Father\", type='Person', properties={}), target=Node(id='Silver Chest', type='Object', properties={}), type='DEVISED_BY', properties={}), Relationship(source=Node(id=\"Portia'S Father\", type='Person', properties={}), target=Node(id='Lead Chest', type='Object', properties={}), type='DEVISED_BY', properties={}), Relationship(source=Node(id='Gold Chest', type='Object', properties={}), target=Node(id='Lottery', type='Event', properties={}), type='PART_OF', properties={}), Relationship(source=Node(id='Silver Chest', type='Object', properties={}), target=Node(id='Lottery', type='Event', properties={}), type='PART_OF', properties={}), Relationship(source=Node(id='Lead Chest', type='Object', properties={}), target=Node(id='Lottery', type='Event', properties={}), type='PART_OF', properties={})], source=Document(metadata={'producer': 'PDFium', 'creator': 'PDFium', 'creationdate': 'D:20250318171920', 'source': 'The-Merchant-of-Venice-PDF (1).pdf', 'total_pages': 72, 'page': 5, 'page_label': '6'}, page_content=\"7 \\n \\nfollows his own instructions: I can easier teach \\ntwenty what were good to be done, than be one of the \\ntwenty to follow mine own teaching. The brain may \\ndevise laws for the blood, but a hot temper leaps \\no'er a cold decree: such a hare is madness the \\nyouth, to skip o'er the meshes of good counsel the \\ncripple. But this reasoning is not in the fashion to \\nchoose me a husband. O me, the word 'choose!' I may \\nneither choose whom I would nor refuse whom I \\ndislike; so is the will of a living daughter curbed \\nby the will of a dead father. Is it not hard, \\nNerissa, that I cannot choose one nor refuse none? \\nNERISSA \\nYour father was ever virtuous; and holy men at their \\ndeath have good inspirations: therefore the lottery, \\nthat he hath devised in these three chests of gold, \\nsilver and lead, whereof who chooses his meaning \\nchooses you, will, no doubt, never be chosen by any \\nrightly but one who shall rightly love. But what \\nwarmth is there in your affection towards any of \\nthese princely suitors that are already come? \\nPORTIA \\nI pray thee, over-name them; and as thou namest \\nthem, I will describe them; and, according to my \\ndescription, level at my affection. \\nNERISSA \\nFirst, there is the Neapolitan prince. \\nPORTIA \\nAy, that's a colt indeed, for he doth nothing but \\ntalk of his horse; and he makes it a great \\nappropriation to his own good parts, that he can \\nshoe him himself. I am much afeard my lady his \\nmother played false with a smith. \\nNERISSA \\nThen there is the County Palatine. \\nPORTIA \\nHe doth nothing but frown, as who should say 'If you \\nwill not have me, choose:' he hears merry tales and \\nsmiles not: I fear he will prove the weeping \\nphilosopher when he grows old, being so full of \\nunmannerly sadness in his youth. I had rather be \\nmarried to a death's-head with a bone in his mouth \\nthan to either of these. God defend me from these \\ntwo! \\nNERISSA \\nHow say you by the French lord, Monsieur Le Bon? \\nPORTIA \\nGod made him, and therefore let him pass for a man. \\nIn truth, I know it is a sin to be a mocker: but, \\nhe! why, he hath a horse better than the\")),\n",
              " GraphDocument(nodes=[Node(id='Portia', type='Person', properties={}), Node(id='Nerissa', type='Person', properties={}), Node(id='Falconbridge', type='Person', properties={}), Node(id='Scottish Lord', type='Person', properties={}), Node(id=\"Young German Duke Of Saxony'S Nephew\", type='Person', properties={})], relationships=[Relationship(source=Node(id='Portia', type='Person', properties={}), target=Node(id='Falconbridge', type='Person', properties={}), type='CANNOT_CONVERSE_WITH', properties={}), Relationship(source=Node(id='Portia', type='Person', properties={}), target=Node(id='Scottish Lord', type='Person', properties={}), type='HAS_NEIGHBOURLY_CHARITY', properties={}), Relationship(source=Node(id='Portia', type='Person', properties={}), target=Node(id=\"Young German Duke Of Saxony'S Nephew\", type='Person', properties={}), type='DISLIKED', properties={})], source=Document(metadata={'producer': 'PDFium', 'creator': 'PDFium', 'creationdate': 'D:20250318171920', 'source': 'The-Merchant-of-Venice-PDF (1).pdf', 'total_pages': 72, 'page': 6, 'page_label': '7'}, page_content=\"8 \\n \\nNeapolitan's, a better bad habit of frowning than \\nthe Count Palatine; he is every man in no man; if a \\nthrostle sing, he falls straight a capering: he will \\nfence with his own shadow: if I should marry him, I \\nshould marry twenty husbands. If he would despise me \\nI would forgive him, for if he love me to madness, I \\nshall never requite him. \\nNERISSA \\nWhat say you, then, to Falconbridge, the young baron \\nof England? \\nPORTIA \\nYou know I say nothing to him, for he understands \\nnot me, nor I him: he hath neither Latin, French, \\nnor Italian, and you will come into the court and \\nswear that I have a poor pennyworth in the English. \\nHe is a proper man's picture, but, alas, who can \\nconverse with a dumb-show? How oddly he is suited! \\nI think he bought his doublet in Italy, his round \\nhose in France, his bonnet in Germany and his \\nbehavior every where. \\nNERISSA \\nWhat think you of the Scottish lord, his neighbour? \\nPORTIA \\nThat he hath a neighbourly charity in him, for he \\nborrowed a box of the ear of the Englishman and \\nswore he would pay him again when he was able: I \\nthink the Frenchman became his surety and sealed \\nunder for another. \\nNERISSA \\nHow like you the young German, the Duke of Saxony's nephew? \\nPORTIA \\nVery vilely in the morning, when he is sober, and \\nmost vilely in the afternoon, when he is drunk: when \\nhe is best, he is a little worse than a man, and \\nwhen he is worst, he is little better than a beast: \\nand the worst fall that ever fell, I hope I shall \\nmake shift to go without him. \\nNERISSA \\nIf he should offer to choose, and choose the right \\ncasket, you should refuse to perform your father's \\nwill, if you should refuse to accept him. \\nPORTIA \\nTherefore, for fear of the worst, I pray thee, set a \\ndeep glass of rhenish wine on the contrary casket, \\nfor if the devil be within and that temptation \\nwithout, I know he will choose it. I will do any \\nthing, Nerissa, ere I'll be married to a sponge. \\nNERISSA \\nYou need not fear, lady, the having any of these \\nlords: they have acquainted me with their\")),\n",
              " GraphDocument(nodes=[Node(id='Portia', type='Person', properties={}), Node(id='Nerissa', type='Person', properties={}), Node(id='Bassanio', type='Person', properties={}), Node(id='Shylock', type='Person', properties={}), Node(id='Prince Of Morocco', type='Person', properties={})], relationships=[Relationship(source=Node(id='Portia', type='Person', properties={}), target=Node(id='Bassanio', type='Person', properties={}), type='SUITOR', properties={}), Relationship(source=Node(id='Nerissa', type='Person', properties={}), target=Node(id='Bassanio', type='Person', properties={}), type='PRAISE', properties={}), Relationship(source=Node(id='Portia', type='Person', properties={}), target=Node(id='Prince Of Morocco', type='Person', properties={}), type='SUITOR', properties={}), Relationship(source=Node(id='Bassanio', type='Person', properties={}), target=Node(id='Shylock', type='Person', properties={}), type='LOAN', properties={})], source=Document(metadata={'producer': 'PDFium', 'creator': 'PDFium', 'creationdate': 'D:20250318171920', 'source': 'The-Merchant-of-Venice-PDF (1).pdf', 'total_pages': 72, 'page': 7, 'page_label': '8'}, page_content=\"9 \\n \\ndeterminations; which is, indeed, to return to their \\nhome and to trouble you with no more suit, unless \\nyou may be won by some other sort than your father's \\nimposition depending on the caskets. \\nPORTIA \\nIf I live to be as old as Sibylla, I will die as \\nchaste as Diana, unless I be obtained by the manner \\nof my father's will. I am glad this parcel of wooers \\nare so reasonable, for there is not one among them \\nbut I dote on his very absence, and I pray God grant \\nthem a fair departure. \\nNERISSA \\nDo you not remember, lady, in your father's time, a \\nVenetian, a scholar and a soldier, that came hither \\nin company of the Marquis of Montferrat? \\nPORTIA \\nYes, yes, it was Bassanio; as I think, he was so called. \\nNERISSA \\nTrue, madam: he, of all the men that ever my foolish \\neyes looked upon, was the best deserving a fair lady. \\nPORTIA \\nI remember him well, and I remember him worthy of \\nthy praise. \\nEnter a Serving-man \\nHow now! what news? \\nServant \\nThe four strangers seek for you, madam, to take \\ntheir leave: and there is a forerunner come from a \\nfifth, the Prince of Morocco, who brings word the \\nprince his master will be here to-night. \\nPORTIA \\nIf I could bid the fifth welcome with so good a \\nheart as I can bid the other four farewell, I should \\nbe glad of his approach: if he have the condition \\nof a saint and the complexion of a devil, I had \\nrather he should shrive me than wive me. Come, \\nNerissa. Sirrah, go before. \\nWhiles we shut the gates \\nupon one wooer, another knocks at the door. \\nExeunt \\nSCENE III. Venice. A public place. \\nEnter BASSANIO and SHYLOCK \\nSHYLOCK \\nThree thousand ducats; well. \\nBASSANIO \\nAy, sir, for three months. \\nSHYLOCK \\nFor three months; well.\")),\n",
              " GraphDocument(nodes=[Node(id='Bassanio', type='Person', properties={}), Node(id='Shylock', type='Person', properties={}), Node(id='Antonio', type='Person', properties={}), Node(id='Tripolis', type='Place', properties={}), Node(id='Indies', type='Place', properties={}), Node(id='Mexico', type='Place', properties={}), Node(id='England', type='Place', properties={}), Node(id='Ducats', type='Currency', properties={}), Node(id='Argosy', type='Ship', properties={}), Node(id='Pirates', type='Person', properties={}), Node(id='Winds', type='Natural element', properties={}), Node(id='Rocks', type='Natural element', properties={}), Node(id='Rialto', type='Place', properties={})], relationships=[Relationship(source=Node(id='Bassanio', type='Person', properties={}), target=Node(id='Ducats', type='Currency', properties={}), type='REQUESTS', properties={}), Relationship(source=Node(id='Shylock', type='Person', properties={}), target=Node(id='Antonio', type='Person', properties={}), type='MENTIONS', properties={}), Relationship(source=Node(id='Antonio', type='Person', properties={}), target=Node(id='Tripolis', type='Place', properties={}), type='HAS', properties={}), Relationship(source=Node(id='Antonio', type='Person', properties={}), target=Node(id='Indies', type='Place', properties={}), type='HAS', properties={}), Relationship(source=Node(id='Antonio', type='Person', properties={}), target=Node(id='Mexico', type='Place', properties={}), type='HAS', properties={}), Relationship(source=Node(id='Antonio', type='Person', properties={}), target=Node(id='England', type='Place', properties={}), type='HAS', properties={}), Relationship(source=Node(id='Antonio', type='Person', properties={}), target=Node(id='Rialto', type='Place', properties={}), type='HAS', properties={}), Relationship(source=Node(id='Shylock', type='Person', properties={}), target=Node(id='Pirates', type='Person', properties={}), type='DISCUSSES', properties={}), Relationship(source=Node(id='Shylock', type='Person', properties={}), target=Node(id='Winds', type='Natural element', properties={}), type='DISCUSSES', properties={}), Relationship(source=Node(id='Shylock', type='Person', properties={}), target=Node(id='Rocks', type='Natural element', properties={}), type='DISCUSSES', properties={}), Relationship(source=Node(id='Bassanio', type='Person', properties={}), target=Node(id='Antonio', type='Person', properties={}), type='INVITES', properties={}), Relationship(source=Node(id='Shylock', type='Person', properties={}), target=Node(id='Antonio', type='Person', properties={}), type='HATES', properties={})], source=Document(metadata={'producer': 'PDFium', 'creator': 'PDFium', 'creationdate': 'D:20250318171920', 'source': 'The-Merchant-of-Venice-PDF (1).pdf', 'total_pages': 72, 'page': 8, 'page_label': '9'}, page_content='10 \\n \\nBASSANIO \\nFor the which, as I told you, Antonio shall be bound. \\nSHYLOCK \\nAntonio shall become bound; well. \\nBASSANIO \\nMay you stead me? will you pleasure me? shall I \\nknow your answer? \\nSHYLOCK \\nThree thousand ducats for three months and Antonio bound. \\nBASSANIO \\nYour answer to that. \\nSHYLOCK \\nAntonio is a good man. \\nBASSANIO \\nHave you heard any imputation to the contrary? \\nSHYLOCK \\nOh, no, no, no, no: my meaning in saying he is a \\ngood man is to have you understand me that he is \\nsufficient. Yet his means are in supposition: he \\nhath an argosy bound to Tripolis, another to the \\nIndies; I understand moreover, upon the Rialto, he \\nhath a third at Mexico, a fourth for England, and \\nother ventures he hath, squandered abroad. But ships \\nare but boards, sailors but men: there be land-rats \\nand water-rats, water-thieves and land-thieves, I \\nmean pirates, and then there is the peril of waters, \\nwinds and rocks. The man is, notwithstanding, \\nsufficient. Three thousand ducats; I think I may \\ntake his bond. \\nBASSANIO \\nBe assured you may. \\nSHYLOCK \\nI will be assured I may; and, that I may be assured, \\nI will bethink me. May I speak with Antonio? \\nBASSANIO \\nIf it please you to dine with us. \\nSHYLOCK \\nYes, to smell pork; to eat of the habitation which \\nyour prophet the Nazarite conjured the devil into. I \\nwill buy with you, sell with you, talk with you, \\nwalk with you, and so following, but I will not eat \\nwith you, drink with you, nor pray with you. What \\nnews on the Rialto? Who is he comes here? \\nEnter ANTONIO \\nBASSANIO \\nThis is Signior Antonio. \\nSHYLOCK \\n[Aside] How like a fawning publican he looks! \\nI hate him for he is a Christian, \\nBut more for that in low simplicity')),\n",
              " GraphDocument(nodes=[Node(id='Shylock', type='Person', properties={}), Node(id='Bassanio', type='Person', properties={}), Node(id='Antonio', type='Person', properties={}), Node(id='Tubal', type='Person', properties={}), Node(id='Jacob', type='Person', properties={}), Node(id='Laban', type='Person', properties={})], relationships=[Relationship(source=Node(id='Shylock', type='Person', properties={}), target=Node(id='Bassanio', type='Person', properties={}), type='SPEAKS_TO', properties={}), Relationship(source=Node(id='Bassanio', type='Person', properties={}), target=Node(id='Shylock', type='Person', properties={}), type='SPEAKS_TO', properties={}), Relationship(source=Node(id='Shylock', type='Person', properties={}), target=Node(id='Tubal', type='Person', properties={}), type='OF_TRIBE', properties={}), Relationship(source=Node(id='Shylock', type='Person', properties={}), target=Node(id='Jacob', type='Person', properties={}), type='MENTIONED_BY', properties={}), Relationship(source=Node(id='Jacob', type='Person', properties={}), target=Node(id='Abram', type='Person', properties={}), type='DESCENDANT_OF', properties={}), Relationship(source=Node(id='Jacob', type='Person', properties={}), target=Node(id='Laban', type='Person', properties={}), type='GRAZED_SHEEP_FOR', properties={})], source=Document(metadata={'producer': 'PDFium', 'creator': 'PDFium', 'creationdate': 'D:20250318171920', 'source': 'The-Merchant-of-Venice-PDF (1).pdf', 'total_pages': 72, 'page': 9, 'page_label': '10'}, page_content=\"11 \\n \\nHe lends out money gratis and brings down \\nThe rate of usance here with us in Venice. \\nIf I can catch him once upon the hip, \\nI will feed fat the ancient grudge I bear him. \\nHe hates our sacred nation, and he rails, \\nEven there where merchants most do congregate, \\nOn me, my bargains and my well-won thrift, \\nWhich he calls interest. Cursed be my tribe, \\nIf I forgive him! \\nBASSANIO \\nShylock, do you hear? \\nSHYLOCK \\nI am debating of my present store, \\nAnd, by the near guess of my memory, \\nI cannot instantly raise up the gross \\nOf full three thousand ducats. What of that? \\nTubal, a wealthy Hebrew of my tribe, \\nWill furnish me. But soft! how many months \\nDo you desire? \\nTo ANTONIO \\nRest you fair, good signior; \\nYour worship was the last man in our mouths. \\nANTONIO \\nShylock, although I neither lend nor borrow \\nBy taking nor by giving of excess, \\nYet, to supply the ripe wants of my friend, \\nI'll break a custom. Is he yet possess'd \\nHow much ye would? \\nSHYLOCK \\nAy, ay, three thousand ducats. \\nANTONIO \\nAnd for three months. \\nSHYLOCK \\nI had forgot; three months; you told me so. \\nWell then, your bond; and let me see; but hear you; \\nMethought you said you neither lend nor borrow \\nUpon advantage. \\nANTONIO \\nI do never use it. \\nSHYLOCK \\nWhen Jacob grazed his uncle Laban's sheep-- \\nThis Jacob from our holy Abram was, \\nAs his wise mother wrought in his behalf, \\nThe third possessor; ay, he was the third-- \\nANTONIO \\nAnd what of him? did he take interest? \\nSHYLOCK \\nNo, not take interest, not, as you would say, \\nDirectly interest: mark what Jacob did. \\nWhen Laban and himself were compromised\")),\n",
              " GraphDocument(nodes=[Node(id='Antonio', type='Person', properties={}), Node(id='Shylock', type='Person', properties={}), Node(id='Bassanio', type='Person', properties={}), Node(id='Jacob', type='Person', properties={}), Node(id='Ewes', type='Animal', properties={}), Node(id='Rams', type='Animal', properties={}), Node(id='Lambs', type='Animal', properties={}), Node(id='Money', type='Object', properties={}), Node(id='Thrift', type='Concept', properties={}), Node(id='Usury', type='Concept', properties={})], relationships=[Relationship(source=Node(id='Antonio', type='Person', properties={}), target=Node(id='Shylock', type='Person', properties={}), type='ASKS_FOR', properties={}), Relationship(source=Node(id='Shylock', type='Person', properties={}), target=Node(id='Antonio', type='Person', properties={}), type='HAS_HISTORY_WITH', properties={}), Relationship(source=Node(id='Antonio', type='Person', properties={}), target=Node(id='Bassanio', type='Person', properties={}), type='WARNS', properties={}), Relationship(source=Node(id='Jacob', type='Person', properties={}), target=Node(id='Thrift', type='Concept', properties={}), type='THRIVES_THROUGH', properties={}), Relationship(source=Node(id='Shylock', type='Person', properties={}), target=Node(id='Money', type='Object', properties={}), type='LENDS', properties={}), Relationship(source=Node(id='Antonio', type='Person', properties={}), target=Node(id='Money', type='Object', properties={}), type='BORROWS', properties={}), Relationship(source=Node(id='Ewes', type='Animal', properties={}), target=Node(id='Rams', type='Animal', properties={}), type='BRED_WITH', properties={}), Relationship(source=Node(id='Ewes', type='Animal', properties={}), target=Node(id='Lambs', type='Animal', properties={}), type='PRODUCE', properties={}), Relationship(source=Node(id='Shylock', type='Person', properties={}), target=Node(id='Usury', type='Concept', properties={}), type='PRACTICES', properties={})], source=Document(metadata={'producer': 'PDFium', 'creator': 'PDFium', 'creationdate': 'D:20250318171920', 'source': 'The-Merchant-of-Venice-PDF (1).pdf', 'total_pages': 72, 'page': 10, 'page_label': '11'}, page_content=\"12 \\n \\nThat all the eanlings which were streak'd and pied \\nShould fall as Jacob's hire, the ewes, being rank, \\nIn the end of autumn turned to the rams, \\nAnd, when the work of generation was \\nBetween these woolly breeders in the act, \\nThe skilful shepherd peel'd me certain wands, \\nAnd, in the doing of the deed of kind, \\nHe stuck them up before the fulsome ewes, \\nWho then conceiving did in eaning time \\nFall parti-colour'd lambs, and those were Jacob's. \\nThis was a way to thrive, and he was blest: \\nAnd thrift is blessing, if men steal it not. \\nANTONIO \\nThis was a venture, sir, that Jacob served for; \\nA thing not in his power to bring to pass, \\nBut sway'd and fashion'd by the hand of heaven. \\nWas this inserted to make interest good? \\nOr is your gold and silver ewes and rams? \\nSHYLOCK \\nI cannot tell; I make it breed as fast: \\nBut note me, signior. \\nANTONIO \\nMark you this, Bassanio, \\nThe devil can cite Scripture for his purpose. \\nAn evil soul producing holy witness \\nIs like a villain with a smiling cheek, \\nA goodly apple rotten at the heart: \\nO, what a goodly outside falsehood hath! \\nSHYLOCK \\nThree thousand ducats; 'tis a good round sum. \\nThree months from twelve; then, let me see; the rate-- \\nANTONIO \\nWell, Shylock, shall we be beholding to you? \\nSHYLOCK \\nSignior Antonio, many a time and oft \\nIn the Rialto you have rated me \\nAbout my moneys and my usances: \\nStill have I borne it with a patient shrug, \\nFor sufferance is the badge of all our tribe. \\nYou call me misbeliever, cut-throat dog, \\nAnd spit upon my Jewish gaberdine, \\nAnd all for use of that which is mine own. \\nWell then, it now appears you need my help: \\nGo to, then; you come to me, and you say \\nShylock, we would have moneys:' you say so; \\nYou, that did void your rheum upon my beard \\nAnd foot me as you spurn a stranger cur \\nOver your threshold: moneys is your suit \\nWhat should I say to you? Should I not say \\nHath a dog money? is it possible\")),\n",
              " GraphDocument(nodes=[Node(id='Antonio', type='Person', properties={}), Node(id='Bassanio', type='Person', properties={}), Node(id='Shylock', type='Person', properties={})], relationships=[Relationship(source=Node(id='Shylock', type='Person', properties={}), target=Node(id='Antonio', type='Person', properties={}), type='LENDER', properties={}), Relationship(source=Node(id='Shylock', type='Person', properties={}), target=Node(id='Bassanio', type='Person', properties={}), type='LENDER', properties={}), Relationship(source=Node(id='Antonio', type='Person', properties={}), target=Node(id='Bassanio', type='Person', properties={}), type='GUARANTOR', properties={})], source=Document(metadata={'producer': 'PDFium', 'creator': 'PDFium', 'creationdate': 'D:20250318171920', 'source': 'The-Merchant-of-Venice-PDF (1).pdf', 'total_pages': 72, 'page': 11, 'page_label': '12'}, page_content=\"13 \\n \\nA cur can lend three thousand ducats?' Or \\nShall I bend low and in a bondman's key, \\nWith bated breath and whispering humbleness, Say this; \\nFair sir, you spit on me on Wednesday last; \\nYou spurn'd me such a day; another time \\nYou call'd me dog; and for these courtesies \\nI'll lend you thus much moneys'? \\nANTONIO \\nI am as like to call thee so again, \\nTo spit on thee again, to spurn thee too. \\nIf thou wilt lend this money, lend it not \\nAs to thy friends; for when did friendship take \\nA breed for barren metal of his friend? \\nBut lend it rather to thine enemy, \\nWho, if he break, thou mayst with better face \\nExact the penalty. \\nSHYLOCK \\nWhy, look you, how you storm! \\nI would be friends with you and have your love, \\nForget the shames that you have stain'd me with, \\nSupply your present wants and take no doit \\nOf usance for my moneys, and you'll not hear me: \\nThis is kind I offer. \\nBASSANIO \\nThis were kindness. \\nSHYLOCK \\nThis kindness will I show. \\nGo with me to a notary, seal me there \\nYour single bond; and, in a merry sport, \\nIf you repay me not on such a day, \\nIn such a place, such sum or sums as are \\nExpress'd in the condition, let the forfeit \\nBe nominated for an equal pound \\nOf your fair flesh, to be cut off and taken \\nIn what part of your body pleaseth me. \\nANTONIO \\nContent, i' faith: I'll seal to such a bond \\nAnd say there is much kindness in the Jew. \\nBASSANIO \\nYou shall not seal to such a bond for me: \\nI'll rather dwell in my necessity. \\nANTONIO \\nWhy, fear not, man; I will not forfeit it: \\nWithin these two months, that's a month before \\nThis bond expires, I do expect return \\nOf thrice three times the value of this bond. \\nSHYLOCK \\nO father Abram, what these Christians are, \\nWhose own hard dealings teaches them suspect \\nThe thoughts of others! Pray you, tell me this;\")),\n",
              " GraphDocument(nodes=[Node(id='Antonio', type='Person', properties={}), Node(id='Shylock', type='Person', properties={}), Node(id='Bassanio', type='Person', properties={}), Node(id='Bond', type='Document', properties={}), Node(id='Notary', type='Person', properties={}), Node(id='Ducats', type='Money', properties={}), Node(id='House', type='Location', properties={}), Node(id='Knave', type='Person', properties={}), Node(id='Ships', type='Vehicle', properties={})], relationships=[Relationship(source=Node(id='Shylock', type='Person', properties={}), target=Node(id='Bond', type='Document', properties={}), type='OFFERS', properties={}), Relationship(source=Node(id='Antonio', type='Person', properties={}), target=Node(id='Bond', type='Document', properties={}), type='AGREES_TO', properties={}), Relationship(source=Node(id='Shylock', type='Person', properties={}), target=Node(id='Ducats', type='Money', properties={}), type='PURSES', properties={}), Relationship(source=Node(id='Shylock', type='Person', properties={}), target=Node(id='House', type='Location', properties={}), type='LEAVES_IN_GUARD', properties={}), Relationship(source=Node(id='Bassanio', type='Person', properties={}), target=Node(id='Shylock', type='Person', properties={}), type='DISTRUSTS', properties={}), Relationship(source=Node(id='Antonio', type='Person', properties={}), target=Node(id='Ships', type='Vehicle', properties={}), type='OWNS', properties={})], source=Document(metadata={'producer': 'PDFium', 'creator': 'PDFium', 'creationdate': 'D:20250318171920', 'source': 'The-Merchant-of-Venice-PDF (1).pdf', 'total_pages': 72, 'page': 12, 'page_label': '13'}, page_content=\"14 \\n \\nIf he should break his day, what should I gain \\nBy the exaction of the forfeiture? \\nA pound of man's flesh taken from a man \\nIs not so estimable, profitable neither, \\nAs flesh of muttons, beefs, or goats. I say, \\nTo buy his favour, I extend this friendship: \\nIf he will take it, so; if not, adieu; \\nAnd, for my love, I pray you wrong me not. \\nANTONIO \\nYes Shylock, I will seal unto this bond. \\nSHYLOCK \\nThen meet me forthwith at the notary's; \\nGive him direction for this merry bond, \\nAnd I will go and purse the ducats straight, \\nSee to my house, left in the fearful guard \\nOf an unthrifty knave, and presently \\nI will be with you. \\nANTONIO \\nHie thee, gentle Jew. \\nExit Shylock \\nThe Hebrew will turn Christian: he grows kind. \\nBASSANIO \\nI like not fair terms and a villain's mind. \\nANTONIO \\nCome on: in this there can be no dismay; \\nMy ships come home a month before the day. \\nExeunt\")),\n",
              " GraphDocument(nodes=[Node(id='Prince Of Morocco', type='Person', properties={}), Node(id='Portia', type='Person', properties={}), Node(id='Nerissa', type='Person', properties={}), Node(id='Belmont', type='Location', properties={}), Node(id=\"Portia'S House\", type='Location', properties={}), Node(id='Caskets', type='Object', properties={}), Node(id='Scimitar', type='Object', properties={}), Node(id='Sophy', type='Person', properties={}), Node(id='Persian Prince', type='Person', properties={}), Node(id='Sultan Solyman', type='Person', properties={}), Node(id='Hercules', type='Person', properties={}), Node(id='Lichas', type='Person', properties={}), Node(id='Fortune', type='Concept', properties={}), Node(id='Sun', type='Celestial body', properties={}), Node(id='Fairest Creature Northward Born', type='Creature', properties={})], relationships=[Relationship(source=Node(id='Prince Of Morocco', type='Person', properties={}), target=Node(id='Sun', type='Celestial body', properties={}), type='NEIGHBOR_TO', properties={}), Relationship(source=Node(id='Prince Of Morocco', type='Person', properties={}), target=Node(id='Fairest Creature Northward Born', type='Creature', properties={}), type='SEEKS_TO_BRING', properties={}), Relationship(source=Node(id='Prince Of Morocco', type='Person', properties={}), target=Node(id='Caskets', type='Object', properties={}), type='SEEKS_TO_TRY_FORTUNE_WITH', properties={}), Relationship(source=Node(id='Prince Of Morocco', type='Person', properties={}), target=Node(id='Scimitar', type='Object', properties={}), type='POSSESSES', properties={}), Relationship(source=Node(id='Scimitar', type='Object', properties={}), target=Node(id='Sophy', type='Person', properties={}), type='SLEW', properties={}), Relationship(source=Node(id='Scimitar', type='Object', properties={}), target=Node(id='Persian Prince', type='Person', properties={}), type='SLEW', properties={}), Relationship(source=Node(id='Prince Of Morocco', type='Person', properties={}), target=Node(id='Sultan Solyman', type='Person', properties={}), type='WON_FROM', properties={}), Relationship(source=Node(id='Portia', type='Person', properties={}), target=Node(id='Father', type='Person', properties={}), type='RESTRICTED_BY', properties={}), Relationship(source=Node(id='Portia', type='Person', properties={}), target=Node(id='Lottery', type='Concept', properties={}), type='SUBJECT_TO', properties={}), Relationship(source=Node(id='Hercules', type='Person', properties={}), target=Node(id='Lichas', type='Person', properties={}), type='PLAY_DICE_WITH', properties={}), Relationship(source=Node(id='Hercules', type='Person', properties={}), target=Node(id='Fortune', type='Concept', properties={}), type='SUBJECT_TO', properties={}), Relationship(source=Node(id='Prince Of Morocco', type='Person', properties={}), target=Node(id='Fortune', type='Concept', properties={}), type='LED_BY', properties={})], source=Document(metadata={'producer': 'PDFium', 'creator': 'PDFium', 'creationdate': 'D:20250318171920', 'source': 'The-Merchant-of-Venice-PDF (1).pdf', 'total_pages': 72, 'page': 13, 'page_label': '14'}, page_content=\"15 \\n \\nACT II \\nSCENE I. Belmont. A room in PORTIA'S house. \\nFlourish of cornets. Enter the PRINCE OF MOROCCO and his train; PORTIA, NERISSA, \\nand others attending \\nMOROCCO \\nMislike me not for my complexion, \\nThe shadow'd livery of the burnish'd sun, \\nTo whom I am a neighbour and near bred. \\nBring me the fairest creature northward born, \\nWhere Phoebus' fire scarce thaws the icicles, \\nAnd let us make incision for your love, \\nTo prove whose blood is reddest, his or mine. \\nI tell thee, lady, this aspect of mine \\nHath fear'd the valiant: by my love I swear \\nThe best-regarded virgins of our clime \\nHave loved it too: I would not change this hue, \\nExcept to steal your thoughts, my gentle queen. \\nPORTIA \\nIn terms of choice I am not solely led \\nBy nice direction of a maiden's eyes; \\nBesides, the lottery of my destiny \\nBars me the right of voluntary choosing: \\nBut if my father had not scanted me \\nAnd hedged me by his wit, to yield myself \\nHis wife who wins me by that means I told you, \\nYourself, renowned prince, then stood as fair \\nAs any comer I have look'd on yet \\nFor my affection. \\nMOROCCO \\nEven for that I thank you: \\nTherefore, I pray you, lead me to the caskets \\nTo try my fortune. By this scimitar \\nThat slew the Sophy and a Persian prince \\nThat won three fields of Sultan Solyman, \\nI would outstare the sternest eyes that look, \\nOutbrave the heart most daring on the earth, \\nPluck the young sucking cubs from the she-bear, \\nYea, mock the lion when he roars for prey, \\nTo win thee, lady. But, alas the while! \\nIf Hercules and Lichas play at dice \\nWhich is the better man, the greater throw \\nMay turn by fortune from the weaker hand: \\nSo is Alcides beaten by his page; \\nAnd so may I, blind fortune leading me, \\nMiss that which one unworthier may attain, \\nAnd die with grieving. \\nPORTIA \\nYou must take your chance,\")),\n",
              " GraphDocument(nodes=[], relationships=[], source=Document(metadata={'producer': 'PDFium', 'creator': 'PDFium', 'creationdate': 'D:20250318171920', 'source': 'The-Merchant-of-Venice-PDF (1).pdf', 'total_pages': 72, 'page': 14, 'page_label': '15'}, page_content=\"16 \\n \\nAnd either not attempt to choose at all \\nOr swear before you choose, if you choose wrong \\nNever to speak to lady afterward \\nIn way of marriage: therefore be advised. \\nMOROCCO \\nNor will not. Come, bring me unto my chance. \\nPORTIA \\nFirst, forward to the temple: after dinner \\nYour hazard shall be made. \\nMOROCCO \\nGood fortune then! \\nTo make me blest or cursed'st among men. \\nCornets, and exeunt \\nSCENE II. Venice. A street. \\nEnter LAUNCELOT \\nLAUNCELOT \\nCertainly my conscience will serve me to run from \\nthis Jew my master. The fiend is at mine elbow and \\ntempts me saying to me 'Gobbo, Launcelot Gobbo, good \\nLauncelot,' or 'good Gobbo,' or good Launcelot \\nGobbo, use your legs, take the start, run away. My \\nconscience says 'No; take heed,' honest Launcelot; \\ntake heed, honest Gobbo, or, as aforesaid, 'honest \\nLauncelot Gobbo; do not run; scorn running with thy \\nheels.' Well, the most courageous fiend bids me \\npack: 'Via!' says the fiend; 'away!' says the \\nfiend; 'for the heavens, rouse up a brave mind,' \\nsays the fiend, 'and run.' Well, my conscience, \\nhanging about the neck of my heart, says very wisely \\nto me 'My honest friend Launcelot, being an honest \\nman's son,' or rather an honest woman's son; for, \\nindeed, my father did something smack, something \\ngrow to, he had a kind of taste; well, my conscience \\nsays 'Launcelot, budge not.' 'Budge,' says the \\nfiend. 'Budge not,' says my conscience. \\nConscience,' say I, 'you counsel well;' ' Fiend,' \\nsay I, 'you counsel well:' to be ruled by my \\nconscience, I should stay with the Jew my master, \\nwho, God bless the mark, is a kind of devil; and, to \\nrun away from the Jew, I should be ruled by the \\nfiend, who, saving your reverence, is the devil \\nhimself. Certainly the Jew is the very devil \\nincarnal; and, in my conscience, my conscience is \\nbut a kind of hard conscience, to offer to counsel \\nme to stay with the Jew. The fiend gives the more \\nfriendly counsel: I will run, fiend; my heels are \\nat your command; I will run. \\nEnter Old GOBBO, with a basket\")),\n",
              " GraphDocument(nodes=[Node(id='Gobbo', type='Person', properties={}), Node(id='Launcelot', type='Person', properties={}), Node(id='Jew', type='Person', properties={}), Node(id=\"Jew'S House\", type='Location', properties={})], relationships=[Relationship(source=Node(id='Gobbo', type='Person', properties={}), target=Node(id='Launcelot', type='Person', properties={}), type='FATHER', properties={}), Relationship(source=Node(id='Launcelot', type='Person', properties={}), target=Node(id='Jew', type='Person', properties={}), type='SERVANT', properties={}), Relationship(source=Node(id='Jew', type='Person', properties={}), target=Node(id=\"Jew'S House\", type='Location', properties={}), type='OWNER', properties={})], source=Document(metadata={'producer': 'PDFium', 'creator': 'PDFium', 'creationdate': 'D:20250318171920', 'source': 'The-Merchant-of-Venice-PDF (1).pdf', 'total_pages': 72, 'page': 15, 'page_label': '16'}, page_content=\"17 \\n \\nGOBBO \\nMaster young man, you, I pray you, which is the way \\nto master Jew's? \\nLAUNCELOT \\n[Aside] O heavens, this is my true-begotten father! \\nwho, being more than sand-blind, high-gravel blind, \\nknows me not: I will try confusions with him. \\nGOBBO \\nMaster young gentleman, I pray you, which is the way \\nto master Jew's? \\nLAUNCELOT \\nTurn up on your right hand at the next turning, but, \\nat the next turning of all, on your left; marry, at \\nthe very next turning, turn of no hand, but turn \\ndown indirectly to the Jew's house. \\nGOBBO \\nBy God's sonties, 'twill be a hard way to hit. Can \\nyou tell me whether one Launcelot, \\nthat dwells with him, dwell with him or no? \\nLAUNCELOT \\nTalk you of young Master Launcelot? \\nAside \\nMark me now; now will I raise the waters. Talk you \\nof young Master Launcelot? \\nGOBBO \\nNo master, sir, but a poor man's son: his father, \\nthough I say it, is an honest exceeding poor man \\nand, God be thanked, well to live. \\nLAUNCELOT \\nWell, let his father be what a' will, we talk of \\nyoung Master Launcelot. \\nGOBBO \\nYour worship's friend and Launcelot, sir. \\nLAUNCELOT \\nBut I pray you, ergo, old man, ergo, I beseech you, \\ntalk you of young Master Launcelot? \\nGOBBO \\nOf Launcelot, an't please your mastership. \\nLAUNCELOT \\nErgo, Master Launcelot. Talk not of Master \\nLauncelot, father; for the young gentleman, \\naccording to Fates and Destinies and such odd \\nsayings, the Sisters Three and such branches of \\nlearning, is indeed deceased, or, as you would say \\nin plain terms, gone to heaven. \\nGOBBO \\nMarry, God forbid! the boy was the very staff of my \\nage, my very prop. \\nLAUNCELOT \\nDo I look like a cudgel or a hovel-post, a staff or\")),\n",
              " GraphDocument(nodes=[Node(id='Launcelot', type='Person', properties={}), Node(id='Gobbo', type='Person', properties={}), Node(id='Margery', type='Person', properties={}), Node(id=\"Launcelot'S Master\", type='Person', properties={}), Node(id='Dobbin', type='Animal', properties={}), Node(id='Present', type='Object', properties={})], relationships=[Relationship(source=Node(id='Launcelot', type='Person', properties={}), target=Node(id='Gobbo', type='Person', properties={}), type='SON', properties={}), Relationship(source=Node(id='Gobbo', type='Person', properties={}), target=Node(id='Margery', type='Person', properties={}), type='WIFE', properties={}), Relationship(source=Node(id='Launcelot', type='Person', properties={}), target=Node(id=\"Launcelot'S Master\", type='Person', properties={}), type='MASTER', properties={}), Relationship(source=Node(id='Launcelot', type='Person', properties={}), target=Node(id='Present', type='Object', properties={}), type='BROUGHT', properties={}), Relationship(source=Node(id='Gobbo', type='Person', properties={}), target=Node(id='Dobbin', type='Animal', properties={}), type='OWNER', properties={}), Relationship(source=Node(id='Launcelot', type='Person', properties={}), target=Node(id='Dobbin', type='Animal', properties={}), type='COMPARED', properties={})], source=Document(metadata={'producer': 'PDFium', 'creator': 'PDFium', 'creationdate': 'D:20250318171920', 'source': 'The-Merchant-of-Venice-PDF (1).pdf', 'total_pages': 72, 'page': 16, 'page_label': '17'}, page_content=\"18 \\n \\na prop? Do you know me, father? \\nGOBBO \\nAlack the day, I know you not, young gentleman: \\nbut, I pray you, tell me, is my boy, God rest his \\nsoul, alive or dead? \\nLAUNCELOT \\nDo you not know me, father? \\nGOBBO \\nAlack, sir, I am sand-blind; I know you not. \\nLAUNCELOT \\nNay, indeed, if you had your eyes, you might fail of \\nthe knowing me: it is a wise father that knows his \\nown child. Well, old man, I will tell you news of \\nyour son: give me your blessing: truth will come \\nto light; murder cannot be hid long; a man's son \\nmay, but at the length truth will out. \\nGOBBO \\nPray you, sir, stand up: I am sure you are not \\nLauncelot, my boy. \\nLAUNCELOT \\nPray you, let's have no more fooling about it, but \\ngive me your blessing: I am Launcelot, your boy \\nthat was, your son that is, your child that shall \\nbe. \\nGOBBO \\nI cannot think you are my son. \\nLAUNCELOT \\nI know not what I shall think of that: but I am \\nLauncelot, the Jew's man, and I am sure Margery your \\nwife is my mother. \\nGOBBO \\nHer name is Margery, indeed: I'll be sworn, if thou \\nbe Launcelot, thou art mine own flesh and blood. \\nLord worshipped might he be! what a beard hast thou \\ngot! thou hast got more hair on thy chin than \\nDobbin my fill-horse has on his tail. \\nLAUNCELOT \\nIt should seem, then, that Dobbin's tail grows \\nbackward: I am sure he had more hair of his tail \\nthan I have of my face when I last saw him. \\nGOBBO \\nLord, how art thou changed! How dost thou and thy \\nmaster agree? I have brought him a present. How \\ngree you now? \\nLAUNCELOT \\nWell, well: but, for mine own part, as I have set \\nup my rest to run away, so I will not rest till I \\nhave run some ground. My master's a very Jew: give \\nhim a present! give him a halter: I am famished in \\nhis service; you may tell every finger I have with\")),\n",
              " GraphDocument(nodes=[Node(id='Launcelot', type='Person', properties={}), Node(id='Bassanio', type='Person', properties={}), Node(id='Leonardo', type='Person', properties={}), Node(id='Gratiano', type='Person', properties={}), Node(id='Gobbo', type='Person', properties={})], relationships=[Relationship(source=Node(id='Launcelot', type='Person', properties={}), target=Node(id='Bassanio', type='Person', properties={}), type='SERVES', properties={}), Relationship(source=Node(id='Bassanio', type='Person', properties={}), target=Node(id='Leonardo', type='Person', properties={}), type='GIVES_ORDERS_TO', properties={}), Relationship(source=Node(id='Bassanio', type='Person', properties={}), target=Node(id='Gratiano', type='Person', properties={}), type='REQUESTS_PRESENCE_OF', properties={}), Relationship(source=Node(id='Gobbo', type='Person', properties={}), target=Node(id='Launcelot', type='Person', properties={}), type='FATHER', properties={}), Relationship(source=Node(id='Gobbo', type='Person', properties={}), target=Node(id='Bassanio', type='Person', properties={}), type='SERVES', properties={})], source=Document(metadata={'producer': 'PDFium', 'creator': 'PDFium', 'creationdate': 'D:20250318171920', 'source': 'The-Merchant-of-Venice-PDF (1).pdf', 'total_pages': 72, 'page': 17, 'page_label': '18'}, page_content=\"19 \\n \\nmy ribs. Father, I am glad you are come: give me \\nyour present to one Master Bassanio, who, indeed, \\ngives rare new liveries: if I serve not him, I \\nwill run as far as God has any ground. O rare \\nfortune! here comes the man: to him, father; for I \\nam a Jew, if I serve the Jew any longer. \\nEnter BASSANIO, with LEONARDO and other followers \\nBASSANIO \\nYou may do so; but let it be so hasted that supper \\nbe ready at the farthest by five of the clock. See \\nthese letters delivered; put the liveries to making, \\nand desire Gratiano to come anon to my lodging. \\nExit a Servant \\nLAUNCELOT \\nTo him, father. \\nGOBBO \\nGod bless your worship! \\nBASSANIO \\nGramercy! wouldst thou aught with me? \\nGOBBO \\nHere's my son, sir, a poor boy,-- \\nLAUNCELOT \\nNot a poor boy, sir, but the rich Jew's man; that \\nwould, sir, as my father shall specify-- \\nGOBBO \\nHe hath a great infection, sir, as one would say, to serve-- \\nLAUNCELOT \\nIndeed, the short and the long is, I serve the Jew, \\nand have a desire, as my father shall specify-- \\nGOBBO \\nHis master and he, saving your worship's reverence, \\nare scarce cater-cousins-- \\nLAUNCELOT \\nTo be brief, the very truth is that the Jew, having \\ndone me wrong, doth cause me, as my father, being, I \\nhope, an old man, shall frutify unto you-- \\nGOBBO \\nI have here a dish of doves that I would bestow upon \\nyour worship, and my suit is-- \\nLAUNCELOT \\nIn very brief, the suit is impertinent to myself, as \\nyour worship shall know by this honest old man; and, \\nthough I say it, though old man, yet poor man, my father. \\nBASSANIO \\nOne speak for both. What would you? \\nLAUNCELOT \\nServe you, sir. \\nGOBBO \\nThat is the very defect of the matter, sir. \\nBASSANIO\")),\n",
              " GraphDocument(nodes=[Node(id='Bassanio', type='Person', properties={}), Node(id='Shylock', type='Person', properties={}), Node(id='Launcelot', type='Person', properties={}), Node(id='Leonardo', type='Person', properties={}), Node(id='Gratiano', type='Person', properties={}), Node(id='Old Gobbo', type='Person', properties={})], relationships=[Relationship(source=Node(id='Bassanio', type='Person', properties={}), target=Node(id='Launcelot', type='Person', properties={}), type='SPEAKS_WITH', properties={}), Relationship(source=Node(id='Shylock', type='Person', properties={}), target=Node(id='Launcelot', type='Person', properties={}), type='MASTER_OF', properties={}), Relationship(source=Node(id='Bassanio', type='Person', properties={}), target=Node(id='Leonardo', type='Person', properties={}), type='GIVES_INSTRUCTION', properties={}), Relationship(source=Node(id='Gratiano', type='Person', properties={}), target=Node(id='Bassanio', type='Person', properties={}), type='SEEKS', properties={}), Relationship(source=Node(id='Launcelot', type='Person', properties={}), target=Node(id='Shylock', type='Person', properties={}), type='LEAVES_SERVICE_OF', properties={}), Relationship(source=Node(id='Bassanio', type='Person', properties={}), target=Node(id='Bassanio', type='Person', properties={}), type='HOSTS_FEAST', properties={}), Relationship(source=Node(id='Launcelot', type='Person', properties={}), target=Node(id='Old Gobbo', type='Person', properties={}), type='SON_OF', properties={})], source=Document(metadata={'producer': 'PDFium', 'creator': 'PDFium', 'creationdate': 'D:20250318171920', 'source': 'The-Merchant-of-Venice-PDF (1).pdf', 'total_pages': 72, 'page': 18, 'page_label': '19'}, page_content=\"20 \\n \\nI know thee well; thou hast obtain'd thy suit: \\nShylock thy master spoke with me this day, \\nAnd hath preferr'd thee, if it be preferment \\nTo leave a rich Jew's service, to become \\nThe follower of so poor a gentleman. \\nLAUNCELOT \\nThe old proverb is very well parted between my \\nmaster Shylock and you, sir: you have the grace of \\nGod, sir, and he hath enough. \\nBASSANIO \\nThou speak'st it well. Go, father, with thy son. \\nTake leave of thy old master and inquire \\nMy lodging out. Give him a livery \\nMore guarded than his fellows': see it done. \\nLAUNCELOT \\nFather, in. I cannot get a service, no; I have \\nne'er a tongue in my head. Well, if any man in \\nItaly have a fairer table which doth offer to swear \\nupon a book, I shall have good fortune. Go to, \\nhere's a simple line of life: here's a small trifle \\nof wives: alas, fifteen wives is nothing! eleven \\nwidows and nine maids is a simple coming-in for one \\nman: and then to 'scape drowning thrice, and to be \\nin peril of my life with the edge of a feather-bed; \\nhere are simple scapes. Well, if Fortune be a \\nwoman, she's a good wench for this gear. Father, \\ncome; I'll take my leave of the Jew in the twinkling of an eye. \\nExeunt Launcelot and Old Gobbo \\nBASSANIO \\nI pray thee, good Leonardo, think on this: \\nThese things being bought and orderly bestow'd, \\nReturn in haste, for I do feast to-night \\nMy best-esteem'd acquaintance: hie thee, go. \\nLEONARDO \\nMy best endeavours shall be done herein. \\nEnter GRATIANO \\nGRATIANO \\nWhere is your master? \\nLEONARDO \\nYonder, sir, he walks. \\nExit \\nGRATIANO \\nSignior Bassanio! \\nBASSANIO \\nGratiano! \\nGRATIANO \\nI have a suit to you. \\nBASSANIO \\nYou have obtain'd it. \\nGRATIANO\")),\n",
              " GraphDocument(nodes=[Node(id='Bassanio', type='Person', properties={}), Node(id='Gratiano', type='Person', properties={}), Node(id='Jessica', type='Person', properties={}), Node(id='Launcelot', type='Person', properties={}), Node(id='Lorenzo', type='Person', properties={}), Node(id='Shylock', type='Person', properties={})], relationships=[Relationship(source=Node(id='Bassanio', type='Person', properties={}), target=Node(id='Gratiano', type='Person', properties={}), type='SPEAKS_TO', properties={}), Relationship(source=Node(id='Jessica', type='Person', properties={}), target=Node(id='Launcelot', type='Person', properties={}), type='SPEAKS_TO', properties={}), Relationship(source=Node(id='Jessica', type='Person', properties={}), target=Node(id='Launcelot', type='Person', properties={}), type='GIVES_LETTER', properties={}), Relationship(source=Node(id='Launcelot', type='Person', properties={}), target=Node(id='Lorenzo', type='Person', properties={}), type='DELIVERS_TO', properties={}), Relationship(source=Node(id='Jessica', type='Person', properties={}), target=Node(id='Shylock', type='Person', properties={}), type='DAUGHTER_OF', properties={})], source=Document(metadata={'producer': 'PDFium', 'creator': 'PDFium', 'creationdate': 'D:20250318171920', 'source': 'The-Merchant-of-Venice-PDF (1).pdf', 'total_pages': 72, 'page': 19, 'page_label': '20'}, page_content=\"21 \\n \\nYou must not deny me: I must go with you to Belmont. \\nBASSANIO \\nWhy then you must. But hear thee, Gratiano; \\nThou art too wild, too rude and bold of voice; \\nParts that become thee happily enough \\nAnd in such eyes as ours appear not faults; \\nBut where thou art not known, why, there they show \\nSomething too liberal. Pray thee, take pain \\nTo allay with some cold drops of modesty \\nThy skipping spirit, lest through thy wild behavior \\nI be misconstrued in the place I go to, \\nAnd lose my hopes. \\nGRATIANO \\nSignior Bassanio, hear me: \\nIf I do not put on a sober habit, \\nTalk with respect and swear but now and then, \\nWear prayer-books in my pocket, look demurely, \\nNay more, while grace is saying, hood mine eyes \\nThus with my hat, and sigh and say 'amen,' \\nUse all the observance of civility, \\nLike one well studied in a sad ostent \\nTo please his grandam, never trust me more. \\nBASSANIO \\nWell, we shall see your bearing. \\nGRATIANO \\nNay, but I bar to-night: you shall not gauge me \\nBy what we do to-night. \\nBASSANIO \\nNo, that were pity: \\nI would entreat you rather to put on \\nYour boldest suit of mirth, for we have friends \\nThat purpose merriment. But fare you well: \\nI have some business. \\nGRATIANO \\nAnd I must to Lorenzo and the rest: \\nBut we will visit you at supper-time. \\nExeunt \\nSCENE III. The same. A room in SHYLOCK'S house. \\nEnter JESSICA and LAUNCELOT \\nJESSICA \\nI am sorry thou wilt leave my father so: \\nOur house is hell, and thou, a merry devil, \\nDidst rob it of some taste of tediousness. \\nBut fare thee well, there is a ducat for thee: \\nAnd, Launcelot, soon at supper shalt thou see \\nLorenzo, who is thy new master's guest: \\nGive him this letter; do it secretly; \\nAnd so farewell: I would not have my father\")),\n",
              " GraphDocument(nodes=[], relationships=[], source=Document(metadata={'producer': 'PDFium', 'creator': 'PDFium', 'creationdate': 'D:20250318171920', 'source': 'The-Merchant-of-Venice-PDF (1).pdf', 'total_pages': 72, 'page': 20, 'page_label': '21'}, page_content=\"22 \\n \\nSee me in talk with thee. \\nLAUNCELOT \\nAdieu! tears exhibit my tongue. Most beautiful \\npagan, most sweet Jew! if a Christian did not play \\nthe knave and get thee, I am much deceived. But, \\nadieu: these foolish drops do something drown my \\nmanly spirit: adieu. \\nJESSICA \\nFarewell, good Launcelot. \\nExit Launcelot \\nAlack, what heinous sin is it in me \\nTo be ashamed to be my father's child! \\nBut though I am a daughter to his blood, \\nI am not to his manners. O Lorenzo, \\nIf thou keep promise, I shall end this strife, \\nBecome a Christian and thy loving wife. \\nExit \\nSCENE IV. The same. A street. \\nEnter GRATIANO, LORENZO, SALARINO, and SALANIO \\nLORENZO \\nNay, we will slink away in supper-time, \\nDisguise us at my lodging and return, \\nAll in an hour. \\nGRATIANO \\nWe have not made good preparation. \\nSALARINO \\nWe have not spoke us yet of torchbearers. \\nSALANIO \\nTis vile, unless it may be quaintly order'd, \\nAnd better in my mind not undertook. \\nLORENZO \\nTis now but four o'clock: we have two hours \\nTo furnish us. \\nEnter LAUNCELOT, with a letter \\nFriend Launcelot, what's the news? \\nLAUNCELOT \\nAn it shall please you to break up \\nthis, it shall seem to signify. \\nLORENZO \\nI know the hand: in faith, 'tis a fair hand; \\nAnd whiter than the paper it writ on \\nIs the fair hand that writ. \\nGRATIANO \\nLove-news, in faith. \\nLAUNCELOT \\nBy your leave, sir. \\nLORENZO \\nWhither goest thou?\")),\n",
              " GraphDocument(nodes=[Node(id='Launcelot', type='Person', properties={}), Node(id='Lorenzo', type='Person', properties={}), Node(id='Gratiano', type='Person', properties={}), Node(id='Salanio', type='Person', properties={}), Node(id='Jessica', type='Person', properties={}), Node(id='Shylock', type='Person', properties={})], relationships=[Relationship(source=Node(id='Lorenzo', type='Person', properties={}), target=Node(id='Launcelot', type='Person', properties={}), type='MESSAGE', properties={}), Relationship(source=Node(id='Lorenzo', type='Person', properties={}), target=Node(id='Jessica', type='Person', properties={}), type='PLANNING', properties={}), Relationship(source=Node(id='Lorenzo', type='Person', properties={}), target=Node(id='Gratiano', type='Person', properties={}), type='MEETING', properties={}), Relationship(source=Node(id='Shylock', type='Person', properties={}), target=Node(id='Jessica', type='Person', properties={}), type='CALLING', properties={})], source=Document(metadata={'producer': 'PDFium', 'creator': 'PDFium', 'creationdate': 'D:20250318171920', 'source': 'The-Merchant-of-Venice-PDF (1).pdf', 'total_pages': 72, 'page': 21, 'page_label': '22'}, page_content=\"23 \\n \\nLAUNCELOT \\nMarry, sir, to bid my old master the \\nJew to sup to-night with my new master the Christian. \\nLORENZO \\nHold here, take this: tell gentle Jessica \\nI will not fail her; speak it privately. \\nGo, gentlemen, \\nExit Launcelot \\nWill you prepare you for this masque tonight? \\nI am provided of a torch-bearer. \\nSALANIO \\nAy, marry, I'll be gone about it straight. \\nSALANIO \\nAnd so will I. \\nLORENZO \\nMeet me and Gratiano \\nAt Gratiano's lodging some hour hence. \\nSALARINO \\nTis good we do so. \\nExeunt SALARINO and SALANIO \\nGRATIANO \\nWas not that letter from fair Jessica? \\nLORENZO \\nI must needs tell thee all. She hath directed \\nHow I shall take her from her father's house, \\nWhat gold and jewels she is furnish'd with, \\nWhat page's suit she hath in readiness. \\nIf e'er the Jew her father come to heaven, \\nIt will be for his gentle daughter's sake: \\nAnd never dare misfortune cross her foot, \\nUnless she do it under this excuse, \\nThat she is issue to a faithless Jew. \\nCome, go with me; peruse this as thou goest: \\nFair Jessica shall be my torch-beare r. \\nExeunt \\nSCENE V. The same. Before SHYLOCK'S house. \\nEnter SHYLOCK and LAUNCELOT \\nSHYLOCK \\nWell, thou shalt see, thy eyes shall be thy judge, \\nThe difference of old Shylock and Bassanio:-- \\nWhat, Jessica!--thou shalt not gormandise, \\nAs thou hast done with me:--What, Jessica!-- \\nAnd sleep and snore, and rend apparel out;-- \\nWhy, Jessica, I say! \\nLAUNCELOT \\nWhy, Jessica! \\nSHYLOCK \\nWho bids thee call? I do not bid thee call.\")),\n",
              " GraphDocument(nodes=[Node(id='Shylock', type='Person', properties={}), Node(id='Jessica', type='Person', properties={}), Node(id='Launcelot', type='Person', properties={}), Node(id='Christian_Boy', type='Person', properties={}), Node(id=\"Hagar'S_Offspring\", type='Person', properties={}), Node(id='Supper', type='Event', properties={}), Node(id='Masque', type='Event', properties={})], relationships=[Relationship(source=Node(id='Shylock', type='Person', properties={}), target=Node(id='Jessica', type='Person', properties={}), type='FATHER', properties={}), Relationship(source=Node(id='Shylock', type='Person', properties={}), target=Node(id='Launcelot', type='Person', properties={}), type='SERVANT', properties={}), Relationship(source=Node(id='Launcelot', type='Person', properties={}), target=Node(id='Christian_Boy', type='Person', properties={}), type='CHRISTIAN_BOY', properties={}), Relationship(source=Node(id='Shylock', type='Person', properties={}), target=Node(id=\"Hagar'S_Offspring\", type='Person', properties={}), type=\"HAGAR'S_OFFSPRING\", properties={}), Relationship(source=Node(id='Shylock', type='Person', properties={}), target=Node(id='Supper', type='Event', properties={}), type='GOING_TO', properties={}), Relationship(source=Node(id='Jessica', type='Person', properties={}), target=Node(id='Masque', type='Event', properties={}), type='GAZE_UPON', properties={}), Relationship(source=Node(id='Christian_Boy', type='Person', properties={}), target=Node(id='Jessica', type='Person', properties={}), type='WORTH', properties={})], source=Document(metadata={'producer': 'PDFium', 'creator': 'PDFium', 'creationdate': 'D:20250318171920', 'source': 'The-Merchant-of-Venice-PDF (1).pdf', 'total_pages': 72, 'page': 22, 'page_label': '23'}, page_content=\"24 \\n \\nLAUNCELOT \\nYour worship was wont to tell me that \\nI could do nothing without bidding. \\nEnter Jessica \\nJESSICA \\nCall you? what is your will? \\nSHYLOCK \\nI am bid forth to supper, Jessica: \\nThere are my keys. But wherefore should I go? \\nI am not bid for love; they flatter me: \\nBut yet I'll go in hate, to feed upon \\nThe prodigal Christian. Jessica, my girl, \\nLook to my house. I am right loath to go: \\nThere is some ill a-brewing towards my rest, \\nFor I did dream of money-bags to-night. \\nLAUNCELOT \\nI beseech you, sir, go: my young master doth expect \\nyour reproach. \\nSHYLOCK \\nSo do I his. \\nLAUNCELOT \\nAn they have conspired together, I will not say you \\nshall see a masque; but if you do, then it was not \\nfor nothing that my nose fell a-bleeding on \\nBlack-Monday last at six o'clock i' the morning, \\nfalling out that year on Ash-Wednesday was four \\nyear, in the afternoon. \\nSHYLOCK \\nWhat, are there masques? Hear you me, Jessica: \\nLock up my doors; and when you hear the drum \\nAnd the vile squealing of the wry-neck'd fife, \\nClamber not you up to the casements then, \\nNor thrust your head into the public street \\nTo gaze on Christian fools with varnish'd faces, \\nBut stop my house's ears, I mean my casements: \\nLet not the sound of shallow foppery enter \\nMy sober house. By Jacob's staff, I swear, \\nI have no mind of feasting forth to-night: \\nBut I will go. Go you before me, sirrah; \\nSay I will come. \\nLAUNCELOT \\nI will go before, sir. Mistress, look out at \\nwindow, for all this, There will come a Christian \\nboy, will be worth a Jewess' eye. \\nExit \\nSHYLOCK \\nWhat says that fool of Hagar's offspring, ha? \\nJESSICA \\nHis words were 'Farewell mistress;' nothing else. \\nSHYLOCK\")),\n",
              " GraphDocument(nodes=[Node(id='Patch', type='Entity', properties={}), Node(id='Jessica', type='Person', properties={}), Node(id='Gratiano', type='Person', properties={}), Node(id='Salarino', type='Person', properties={}), Node(id='Lorenzo', type='Person', properties={}), Node(id='Venus', type='Mythology', properties={}), Node(id='Prodigal', type='Concept', properties={}), Node(id='Strumpet Wind', type='Concept', properties={}), Node(id='Native Bay', type='Location', properties={}), Node(id='Strumpet Wind', type='Concept', properties={})], relationships=[Relationship(source=Node(id='Patch', type='Entity', properties={}), target=Node(id='Jessica', type='Person', properties={}), type='INTERACTS', properties={}), Relationship(source=Node(id='Jessica', type='Person', properties={}), target=Node(id='Gratiano', type='Person', properties={}), type='INTERACTS', properties={}), Relationship(source=Node(id='Gratiano', type='Person', properties={}), target=Node(id='Salarino', type='Person', properties={}), type='INTERACTS', properties={}), Relationship(source=Node(id='Salarino', type='Person', properties={}), target=Node(id='Lorenzo', type='Person', properties={}), type='INTERACTS', properties={}), Relationship(source=Node(id='Lorenzo', type='Person', properties={}), target=Node(id='Venus', type='Mythology', properties={}), type='REFERENCES', properties={}), Relationship(source=Node(id='Venus', type='Mythology', properties={}), target=Node(id='Prodigal', type='Concept', properties={}), type='SYMBOLIZES', properties={}), Relationship(source=Node(id='Prodigal', type='Concept', properties={}), target=Node(id='Strumpet Wind', type='Concept', properties={}), type='COMPARED', properties={}), Relationship(source=Node(id='Strumpet Wind', type='Concept', properties={}), target=Node(id='Native Bay', type='Location', properties={}), type='AFFECTS', properties={}), Relationship(source=Node(id='Native Bay', type='Location', properties={}), target=Node(id='Strumpet Wind', type='Concept', properties={}), type='INTERACTS', properties={})], source=Document(metadata={'producer': 'PDFium', 'creator': 'PDFium', 'creationdate': 'D:20250318171920', 'source': 'The-Merchant-of-Venice-PDF (1).pdf', 'total_pages': 72, 'page': 23, 'page_label': '24'}, page_content=\"25 \\n \\nThe patch is kind enough, but a huge feeder; \\nSnail-slow in profit, and he sleeps by day \\nMore than the wild-cat: drones hive not with me; \\nTherefore I part with him, and part with him \\nTo one that would have him help to waste \\nHis borrow'd purse. Well, Jessica, go in; \\nPerhaps I will return immediately: \\nDo as I bid you; shut doors after you: \\nFast bind, fast find; \\nA proverb never stale in thrifty mind. \\nExit \\nJESSICA \\nFarewell; and if my fortune be not crost, \\nI have a father, you a daughter, lost. \\nExit \\nSCENE VI. The same. \\nEnter GRATIANO and SALARINO, masqued \\nGRATIANO \\nThis is the pent-house under which Lorenzo \\nDesired us to make stand. \\nSALARINO \\nHis hour is almost past. \\nGRATIANO \\nAnd it is marvel he out-dwells his hour, \\nFor lovers ever run before the clock. \\nSALARINO \\nO, ten times faster Venus' pigeons fly \\nTo seal love's bonds new-made, than they are wont \\nTo keep obliged faith unforfeited! \\nGRATIANO \\nThat ever holds: who riseth from a feast \\nWith that keen appetite that he sits down? \\nWhere is the horse that doth untread again \\nHis tedious measures with the unbated fire \\nThat he did pace them first? All things that are, \\nAre with more spirit chased than enjoy'd. \\nHow like a younker or a prodigal \\nThe scarfed bark puts from her native bay, \\nHugg'd and embraced by the strumpet wind! \\nHow like the prodigal doth she return, \\nWith over-weather'd ribs and ragged sails, \\nLean, rent and beggar'd by the strumpet wind! \\nSALARINO \\nHere comes Lorenzo: more of this hereafter. \\nEnter LORENZO \\nLORENZO \\nSweet friends, your patience for my long abode; \\nNot I, but my affairs, have made you wait:\")),\n",
              " GraphDocument(nodes=[Node(id='Lorenzo', type='Person', properties={}), Node(id='Jessica', type='Person', properties={}), Node(id='Gratiano', type='Person', properties={}), Node(id='Bassanio', type='Person', properties={}), Node(id='Jew', type='Person', properties={})], relationships=[Relationship(source=Node(id='Lorenzo', type='Person', properties={}), target=Node(id='Jessica', type='Person', properties={}), type='LOVERS', properties={}), Relationship(source=Node(id='Gratiano', type='Person', properties={}), target=Node(id='Lorenzo', type='Person', properties={}), type='ACCOMPANYING', properties={}), Relationship(source=Node(id='Lorenzo', type='Person', properties={}), target=Node(id='Bassanio', type='Person', properties={}), type='ATTENDING', properties={}), Relationship(source=Node(id='Jessica', type='Person', properties={}), target=Node(id='Jew', type='Person', properties={}), type='DAUGHTER_OF', properties={})], source=Document(metadata={'producer': 'PDFium', 'creator': 'PDFium', 'creationdate': 'D:20250318171920', 'source': 'The-Merchant-of-Venice-PDF (1).pdf', 'total_pages': 72, 'page': 24, 'page_label': '25'}, page_content=\"26 \\n \\nWhen you shall please to play the thieves for wives, \\nI'll watch as long for you then. Approach; \\nHere dwells my father Jew. Ho! who's within? \\nEnter JESSICA, above, in boy's clothes \\nJESSICA \\nWho are you? Tell me, for more certainty, \\nAlbeit I'll swear that I do know your tongue. \\nLORENZO \\nLorenzo, and thy love. \\nJESSICA \\nLorenzo, certain, and my love indeed, \\nFor who love I so much? And now who knows \\nBut you, Lorenzo, whether I am yours? \\nLORENZO \\nHeaven and thy thoughts are witness that thou art. \\nJESSICA \\nHere, catch this casket; it is worth the pains. \\nI am glad 'tis night, you do not look on me, \\nFor I am much ashamed of my exchange: \\nBut love is blind and lovers cannot see \\nThe pretty follies that themselves commit; \\nFor if they could, Cupid himself would blush \\nTo see me thus transformed to a boy. \\nLORENZO \\nDescend, for you must be my torchbearer. \\nJESSICA \\nWhat, must I hold a candle to my shames? \\nThey in themselves, good-sooth, are too too light. \\nWhy, 'tis an office of discovery, love; \\nAnd I should be obscured. \\nLORENZO \\nSo are you, sweet, \\nEven in the lovely garnish of a boy. \\nBut come at once; \\nFor the close night doth play the runaway, \\nAnd we are stay'd for at Bassanio's feast. \\nJESSICA \\nI will make fast the doors, and gild myself \\nWith some more ducats, and be with you straight. \\nExit above \\nGRATIANO \\nNow, by my hood, a Gentile and no Jew. \\nLORENZO \\nBeshrew me but I love her heartily; \\nFor she is wise, if I can judge of her, \\nAnd fair she is, if that mine eyes be true, \\nAnd true she is, as she hath proved herself, \\nAnd therefore, like herself, wise, fair and true, \\nShall she be placed in my constant soul. \\nEnter JESSICA, below\")),\n",
              " GraphDocument(nodes=[Node(id='Antonio', type='Person', properties={}), Node(id='Gratiano', type='Person', properties={}), Node(id='Portia', type='Person', properties={}), Node(id='Prince Of Morocco', type='Person', properties={}), Node(id='Bassanio', type='Person', properties={}), Node(id='Jessica', type='Person', properties={}), Node(id='Salarino', type='Person', properties={}), Node(id='Belmont', type='Location', properties={}), Node(id=\"Antonio'S House\", type='Location', properties={}), Node(id='Gold Casket', type='Object', properties={}), Node(id='Silver Casket', type='Object', properties={}), Node(id='Lead Casket', type='Object', properties={})], relationships=[Relationship(source=Node(id='Antonio', type='Person', properties={}), target=Node(id=\"Antonio'S House\", type='Location', properties={}), type='IS_IN', properties={}), Relationship(source=Node(id='Gratiano', type='Person', properties={}), target=Node(id='Antonio', type='Person', properties={}), type='ACCOMPANIES', properties={}), Relationship(source=Node(id='Jessica', type='Person', properties={}), target=Node(id='Salarino', type='Person', properties={}), type='EXITS_WITH', properties={}), Relationship(source=Node(id='Portia', type='Person', properties={}), target=Node(id='Belmont', type='Location', properties={}), type='IS_IN', properties={}), Relationship(source=Node(id='Prince Of Morocco', type='Person', properties={}), target=Node(id='Portia', type='Person', properties={}), type='ACCOMPANIES', properties={}), Relationship(source=Node(id='Gold Casket', type='Object', properties={}), target=Node(id='Belmont', type='Location', properties={}), type='IS_IN', properties={}), Relationship(source=Node(id='Silver Casket', type='Object', properties={}), target=Node(id='Belmont', type='Location', properties={}), type='IS_IN', properties={}), Relationship(source=Node(id='Lead Casket', type='Object', properties={}), target=Node(id='Belmont', type='Location', properties={}), type='IS_IN', properties={}), Relationship(source=Node(id='Bassanio', type='Person', properties={}), target=Node(id='Ship', type='Location', properties={}), type='IS_IN', properties={})], source=Document(metadata={'producer': 'PDFium', 'creator': 'PDFium', 'creationdate': 'D:20250318171920', 'source': 'The-Merchant-of-Venice-PDF (1).pdf', 'total_pages': 72, 'page': 25, 'page_label': '26'}, page_content=\"27 \\n \\nWhat, art thou come? On, gentlemen; away! \\nOur masquing mates by this time for us stay. \\nExit with Jessica and Salarino \\nEnter ANTONIO \\nANTONIO \\nWho's there? \\nGRATIANO \\nSignior Antonio! \\nANTONIO \\nFie, fie, Gratiano! where are all the rest? \\nTis nine o'clock: our friends all stay for you. \\nNo masque to-night: the wind is come about; \\nBassanio presently will go aboard: \\nI have sent twenty out to seek for you. \\nGRATIANO \\nI am glad on't: I desire no more delight \\nThan to be under sail and gone to-night. \\nExeunt \\nSCENE VII. Belmont. A room in PORTIA'S house. \\nFlourish of cornets. Enter PORTIA, with the PRINCE OF MOROCCO, and their trains \\nPORTIA \\nGo draw aside the curtains and discover \\nThe several caskets to this noble prince. \\nNow make your choice. \\nMOROCCO \\nThe first, of gold, who this inscription bears, \\nWho chooseth me shall gain what many men desire;' \\nThe second, silver, which this promise carries, \\nWho chooseth me shall get as much as he deserves;' \\nThis third, dull lead, with warning all as blunt, \\nWho chooseth me must give and hazard all he hath.' \\nHow shall I know if I do choose the right? \\nPORTIA \\nThe one of them contains my picture, prince: \\nIf you choose that, then I am yours withal. \\nMOROCCO \\nSome god direct my judgment! Let me see; \\nI will survey the inscriptions back again. \\nWhat says this leaden casket? \\nWho chooseth me must give and hazard all he hath.' \\nMust give: for what? for lead? hazard for lead? \\nThis casket threatens. Men that hazard all \\nDo it in hope of fair advantages: \\nA golden mind stoops not to shows of dross; \\nI'll then nor give nor hazard aught for lead. \\nWhat says the silver with her virgin hue? \\nWho chooseth me shall get as much as he deserves.' \\nAs much as he deserves! Pause there, Morocco,\")),\n",
              " GraphDocument(nodes=[Node(id='Morocco', type='Person', properties={}), Node(id='Portia', type='Person', properties={}), Node(id='Golden Casket', type='Object', properties={}), Node(id='Scroll', type='Document', properties={}), Node(id='All That Glitters Is Not Gold', type='Phrase', properties={})], relationships=[Relationship(source=Node(id='Morocco', type='Person', properties={}), target=Node(id='Golden Casket', type='Object', properties={}), type='CHOSEN_BY', properties={}), Relationship(source=Node(id='Golden Casket', type='Object', properties={}), target=Node(id='Scroll', type='Document', properties={}), type='CONTAINS', properties={}), Relationship(source=Node(id='Scroll', type='Document', properties={}), target=Node(id='All That Glitters Is Not Gold', type='Phrase', properties={}), type='HAS_MESSAGE', properties={})], source=Document(metadata={'producer': 'PDFium', 'creator': 'PDFium', 'creationdate': 'D:20250318171920', 'source': 'The-Merchant-of-Venice-PDF (1).pdf', 'total_pages': 72, 'page': 26, 'page_label': '27'}, page_content=\"28 \\n \\nAnd weigh thy value with an even hand: \\nIf thou be'st rated by thy estimation, \\nThou dost deserve enough; and yet enough \\nMay not extend so far as to the lady: \\nAnd yet to be afeard of my deserving \\nWere but a weak disabling of myself. \\nAs much as I deserve! Why, that's the lady: \\nI do in birth deserve her, and in fortunes, \\nIn graces and in qualities of breeding; \\nBut more than these, in love I do deserve. \\nWhat if I stray'd no further, but chose here? \\nLet's see once more this saying graved in gold \\nWho chooseth me shall gain what many men desire.' \\nWhy, that's the lady; all the world desires her; \\nFrom the four corners of the earth they come, \\nTo kiss this shrine, this mortal-breathing saint: \\nThe Hyrcanian deserts and the vasty wilds \\nOf wide Arabia are as thoroughfares now \\nFor princes to come view fair Portia: \\nThe watery kingdom, whose ambitious head \\nSpits in the face of heaven, is no bar \\nTo stop the foreign spirits, but they come, \\nAs o'er a brook, to see fair Portia. \\nOne of these three contains her heavenly picture. \\nIs't like that lead contains her? 'Twere damnation \\nTo think so base a thought: it were too gross \\nTo rib her cerecloth in the obscure grave. \\nOr shall I think in silver she's immured, \\nBeing ten times undervalued to tried gold? \\nO sinful thought! Never so rich a gem \\nWas set in worse than gold. They have in England \\nA coin that bears the figure of an angel \\nStamped in gold, but that's insculp'd upon; \\nBut here an angel in a golden bed \\nLies all within. Deliver me the key: \\nHere do I choose, and thrive I as I may! \\nPORTIA \\nThere, take it, prince; and if my form lie there, \\nThen I am yours. \\nHe unlocks the golden casket \\nMOROCCO \\nO hell! what have we here? \\nA carrion Death, within whose empty eye \\nThere is a written scroll! I'll read the writing. \\nReads \\nAll that glitters is not gold; \\nOften have you heard that told: \\nMany a man his life hath sold \\nBut my outside to behold: \\nGilded tombs do worms enfold.\")),\n",
              " GraphDocument(nodes=[Node(id='Bassanio', type='Person', properties={}), Node(id='Gratiano', type='Person', properties={}), Node(id='Lorenzo', type='Person', properties={}), Node(id='Jessica', type='Person', properties={}), Node(id='Antonio', type='Person', properties={}), Node(id='Shylock', type='Person', properties={}), Node(id='Portia', type='Person', properties={}), Node(id='Salanio', type='Person', properties={}), Node(id='Salarino', type='Person', properties={}), Node(id='Ship', type='Object', properties={}), Node(id='Gondola', type='Object', properties={}), Node(id='Ducats', type='Object', properties={}), Node(id='Stones', type='Object', properties={}), Node(id='Justice', type='Concept', properties={}), Node(id='Law', type='Concept', properties={}), Node(id='Venice', type='Place', properties={})], relationships=[Relationship(source=Node(id='Bassanio', type='Person', properties={}), target=Node(id='Gratiano', type='Person', properties={}), type='ACCOMPANIES', properties={}), Relationship(source=Node(id='Lorenzo', type='Person', properties={}), target=Node(id='Gondola', type='Object', properties={}), type='IS_WITH', properties={}), Relationship(source=Node(id='Lorenzo', type='Person', properties={}), target=Node(id='Jessica', type='Person', properties={}), type='IS_WITH', properties={}), Relationship(source=Node(id='Shylock', type='Person', properties={}), target=Node(id='Jessica', type='Person', properties={}), type='DAUGHTER_OF', properties={}), Relationship(source=Node(id='Jessica', type='Person', properties={}), target=Node(id='Ducats', type='Object', properties={}), type='STOLEN_FROM', properties={}), Relationship(source=Node(id='Jessica', type='Person', properties={}), target=Node(id='Stones', type='Object', properties={}), type='STOLEN_FROM', properties={}), Relationship(source=Node(id='Antonio', type='Person', properties={}), target=Node(id='Duke', type='Person', properties={}), type='CERTIFIED', properties={}), Relationship(source=Node(id='Shylock', type='Person', properties={}), target=Node(id='Justice', type='Concept', properties={}), type='CRIES_OUT_FOR', properties={}), Relationship(source=Node(id='Shylock', type='Person', properties={}), target=Node(id='Daughter', type='Person', properties={}), type='CRIES_OUT_FOR', properties={}), Relationship(source=Node(id='Shylock', type='Person', properties={}), target=Node(id='Ducats', type='Object', properties={}), type='CRIES_OUT_FOR', properties={}), Relationship(source=Node(id='Boys', type='Person', properties={}), target=Node(id='Shylock', type='Person', properties={}), type='FOLLOWS', properties={}), Relationship(source=Node(id='Salanio', type='Person', properties={}), target=Node(id='Antonio', type='Person', properties={}), type='DISCUSSES', properties={}), Relationship(source=Node(id='Salarino', type='Person', properties={}), target=Node(id='Antonio', type='Person', properties={}), type='DISCUSSES', properties={})], source=Document(metadata={'producer': 'PDFium', 'creator': 'PDFium', 'creationdate': 'D:20250318171920', 'source': 'The-Merchant-of-Venice-PDF (1).pdf', 'total_pages': 72, 'page': 27, 'page_label': '28'}, page_content=\"29 \\n \\nHad you been as wise as bold, \\nYoung in limbs, in judgment old, \\nYour answer had not been inscroll'd: \\nFare you well; your suit is cold. \\nCold, indeed; and labour lost: \\nThen, farewell, heat, and welcome, frost! \\nPortia, adieu. I have too grieved a heart \\nTo take a tedious leave: thus losers part. \\nExit with his train. Flourish of cornets \\nPORTIA \\nA gentle riddance. Draw the curtains, go. \\nLet all of his complexion choose me so. \\nExeunt \\nSCENE VIII. Venice. A street. \\nEnter SALARINO and SALANIO \\nSALARINO \\nWhy, man, I saw Bassanio under sail: \\nWith him is Gratiano gone along; \\nAnd in their ship I am sure Lorenzo is not. \\nSALANIO \\nThe villain Jew with outcries raised the duke, \\nWho went with him to search Bassanio's ship. \\nSALARINO \\nHe came too late, the ship was under sail: \\nBut there the duke was given to understand \\nThat in a gondola were seen together \\nLorenzo and his amorous Jessica: \\nBesides, Antonio certified the duke \\nThey were not with Bassanio in his ship. \\nSALANIO \\nI never heard a passion so confused, \\nSo strange, outrageous, and so variable, \\nAs the dog Jew did utter in the streets: \\nMy daughter! O my ducats! O my daughter! \\nFled with a Christian! O my Christian ducats! \\nJustice! the law! my ducats, and my daughter! \\nA sealed bag, two sealed bags of ducats, \\nOf double ducats, stolen from me by my daughter! \\nAnd jewels, two stones, two rich and precious stones, \\nStolen by my daughter! Justice! find the girl; \\nShe hath the stones upon her, and the ducats.' \\nSALARINO \\nWhy, all the boys in Venice follow him, \\nCrying, his stones, his daughter, and his ducats. \\nSALANIO \\nLet good Antonio look he keep his day, \\nOr he shall pay for this. \\nSALARINO\")),\n",
              " GraphDocument(nodes=[Node(id='Marry', type='Person', properties={}), Node(id='Frenchman', type='Person', properties={}), Node(id='Antonio', type='Person', properties={}), Node(id='Salanio', type='Person', properties={}), Node(id='Bassanio', type='Person', properties={}), Node(id='Jew', type='Person', properties={}), Node(id='Portia', type='Person', properties={}), Node(id='Nerissa', type='Person', properties={}), Node(id='Servitor', type='Person', properties={}), Node(id='Prince Of Arragon', type='Person', properties={}), Node(id='Narrow Seas', type='Place', properties={}), Node(id='Belmont', type='Place', properties={}), Node(id=\"Portia'S House\", type='Place', properties={}), Node(id='Vessel', type='Object', properties={}), Node(id='Caskets', type='Object', properties={}), Node(id='Bond', type='Object', properties={})], relationships=[Relationship(source=Node(id='Frenchman', type='Person', properties={}), target=Node(id='Salanio', type='Person', properties={}), type='TOLD', properties={}), Relationship(source=Node(id='Salanio', type='Person', properties={}), target=Node(id='Antonio', type='Person', properties={}), type='CONCERNED_ABOUT', properties={}), Relationship(source=Node(id='Bassanio', type='Person', properties={}), target=Node(id='Antonio', type='Person', properties={}), type='PARTED_FROM', properties={}), Relationship(source=Node(id='Antonio', type='Person', properties={}), target=Node(id='Bassanio', type='Person', properties={}), type='ADVISED', properties={}), Relationship(source=Node(id='Portia', type='Person', properties={}), target=Node(id='Caskets', type='Object', properties={}), type='PRESENTED', properties={}), Relationship(source=Node(id='Prince Of Arragon', type='Person', properties={}), target=Node(id='Caskets', type='Object', properties={}), type='CHOOSING', properties={}), Relationship(source=Node(id='Nerissa', type='Person', properties={}), target=Node(id='Portia', type='Person', properties={}), type='SERVING', properties={}), Relationship(source=Node(id='Servitor', type='Person', properties={}), target=Node(id='Nerissa', type='Person', properties={}), type='ASSISTING', properties={})], source=Document(metadata={'producer': 'PDFium', 'creator': 'PDFium', 'creationdate': 'D:20250318171920', 'source': 'The-Merchant-of-Venice-PDF (1).pdf', 'total_pages': 72, 'page': 28, 'page_label': '29'}, page_content=\"30 \\n \\nMarry, well remember'd. \\nI reason'd with a Frenchman yesterday, \\nWho told me, in the narrow seas that part \\nThe French and English, there miscarried \\nA vessel of our country richly fraught: \\nI thought upon Antonio when he told me; \\nAnd wish'd in silence that it were not his. \\nSALANIO \\nYou were best to tell Antonio what you hear; \\nYet do not suddenly, for it may grieve him. \\nSALARINO \\nA kinder gentleman treads not the earth. \\nI saw Bassanio and Antonio part: \\nBassanio told him he would make some speed \\nOf his return: he answer'd, 'Do not so; \\nSlubber not business for my sake, Bassanio \\nBut stay the very riping of the time; \\nAnd for the Jew's bond which he hath of me, \\nLet it not enter in your mind of love: \\nBe merry, and employ your chiefest thoughts \\nTo courtship and such fair ostents of love \\nAs shall conveniently become you there:' \\nAnd even there, his eye being big with tears, \\nTurning his face, he put his hand behind him, \\nAnd with affection wondrous sensible \\nHe wrung Bassanio's hand; and so they parted. \\nSALANIO \\nI think he only loves the world for him. \\nI pray thee, let us go and find him out \\nAnd quicken his embraced heaviness \\nWith some delight or other. \\nSALARINO \\nDo we so. \\nExeunt \\nSCENE IX. Belmont. A room in PORTIA'S house. \\nEnter NERISSA with a Servitor \\nNERISSA \\nQuick, quick, I pray thee; draw the curtain straight: \\nThe Prince of Arragon hath ta'en his oath, \\nAnd comes to his election presently. \\nFlourish of cornets. Enter the PRINCE OF ARRAGON, PORTIA, and their trains \\nPORTIA \\nBehold, there stand the caskets, noble prince: \\nIf you choose that wherein I am contain'd, \\nStraight shall our nuptial rites be solemnized: \\nBut if you fail, without more speech, my lord, \\nYou must be gone from hence immediately. \\nARRAGON\")),\n",
              " GraphDocument(nodes=[Node(id='Portia', type='Person', properties={}), Node(id='Arragon', type='Person', properties={}), Node(id='Goldcasket', type='Object', properties={}), Node(id='Silvercasket', type='Object', properties={}), Node(id='Leadcasket', type='Object', properties={}), Node(id='Inscriptiongold', type='Text', properties={}), Node(id='Inscriptionsilver', type='Text', properties={}), Node(id='Inscriptionlead', type='Text', properties={})], relationships=[Relationship(source=Node(id='Portia', type='Person', properties={}), target=Node(id='Goldcasket', type='Object', properties={}), type='SET_UP_BY', properties={}), Relationship(source=Node(id='Portia', type='Person', properties={}), target=Node(id='Silvercasket', type='Object', properties={}), type='SET_UP_BY', properties={}), Relationship(source=Node(id='Portia', type='Person', properties={}), target=Node(id='Leadcasket', type='Object', properties={}), type='SET_UP_BY', properties={}), Relationship(source=Node(id='Arragon', type='Person', properties={}), target=Node(id='Silvercasket', type='Object', properties={}), type='CHOSEN_BY', properties={}), Relationship(source=Node(id='Goldcasket', type='Object', properties={}), target=Node(id='Inscriptiongold', type='Text', properties={}), type='HAS_INSCRIPTION', properties={}), Relationship(source=Node(id='Silvercasket', type='Object', properties={}), target=Node(id='Inscriptionsilver', type='Text', properties={}), type='HAS_INSCRIPTION', properties={}), Relationship(source=Node(id='Leadcasket', type='Object', properties={}), target=Node(id='Inscriptionlead', type='Text', properties={}), type='HAS_INSCRIPTION', properties={})], source=Document(metadata={'producer': 'PDFium', 'creator': 'PDFium', 'creationdate': 'D:20250318171920', 'source': 'The-Merchant-of-Venice-PDF (1).pdf', 'total_pages': 72, 'page': 29, 'page_label': '30'}, page_content=\"31 \\n \\nI am enjoin'd by oath to observe three things: \\nFirst, never to unfold to any one \\nWhich casket 'twas I chose; next, if I fail \\nOf the right casket, never in my life \\nTo woo a maid in way of marriage: Lastly, \\nIf I do fail in fortune of my choice, \\nImmediately to leave you and be gone. \\nPORTIA \\nTo these injunctions every one doth swear \\nThat comes to hazard for my worthless self. \\nARRAGON \\nAnd so have I address'd me. Fortune now \\nTo my heart's hope! Gold; silver; and base lead. \\nWho chooseth me must give and hazard all he hath.' \\nYou shall look fairer, ere I give or hazard. \\nWhat says the golden chest? ha! let me see: \\nWho chooseth me shall gain what many men desire.' \\nWhat many men desire! that 'many' may be meant \\nBy the fool multitude, that choose by show, \\nNot learning more than the fond eye doth teach; \\nWhich pries not to the interior, but, like the martlet, \\nBuilds in the weather on the outward wall, \\nEven in the force and road of casualty. \\nI will not choose what many men desire, \\nBecause I will not jump with common spirits \\nAnd rank me with the barbarous multitudes. \\nWhy, then to thee, thou silver treasure-house; \\nTell me once more what title thou dost bear: \\nWho chooseth me shall get as much as he deserves:' \\nAnd well said too; for who shall go about \\nTo cozen fortune and be honourable \\nWithout the stamp of merit? Let none presume \\nTo wear an undeserved dignity. \\nO, that estates, degrees and offices \\nWere not derived corruptly, and that clear honour \\nWere purchased by the merit of the wearer! \\nHow many then should cover that stand bare! \\nHow many be commanded that command! \\nHow much low peasantry would then be glean'd \\nFrom the true seed of honour! and how much honour \\nPick'd from the chaff and ruin of the times \\nTo be new-varnish'd! Well, but to my choice: \\nWho chooseth me shall get as much as he deserves.' \\nI will assume desert. Give me a key for this, \\nAnd instantly unlock my fortunes here. \\nHe opens the silver casket \\nPORTIA \\nToo long a pause for that which you find there. \\nARRAGON \\nWhat's here? the portrait of a blinking idiot,\")),\n",
              " GraphDocument(nodes=[Node(id='Portia', type='Person', properties={}), Node(id='Arragon', type='Person', properties={}), Node(id='Nerissa', type='Person', properties={}), Node(id='Servant', type='Person', properties={}), Node(id='Schedule', type='Thing', properties={}), Node(id='Gifts Of Rich Value', type='Thing', properties={}), Node(id='Young Venetian', type='Person', properties={})], relationships=[Relationship(source=Node(id='Portia', type='Person', properties={}), target=Node(id='Nerissa', type='Person', properties={}), type='SPEAKS_TO', properties={}), Relationship(source=Node(id='Arragon', type='Person', properties={}), target=Node(id='Portia', type='Person', properties={}), type='SPEAKS_TO', properties={}), Relationship(source=Node(id='Servant', type='Person', properties={}), target=Node(id='Young Venetian', type='Person', properties={}), type='ANNOUNCES', properties={}), Relationship(source=Node(id='Young Venetian', type='Person', properties={}), target=Node(id='Gifts Of Rich Value', type='Thing', properties={}), type='BRINGS', properties={}), Relationship(source=Node(id='Young Venetian', type='Person', properties={}), target=Node(id='Portia', type='Person', properties={}), type='BRINGS', properties={})], source=Document(metadata={'producer': 'PDFium', 'creator': 'PDFium', 'creationdate': 'D:20250318171920', 'source': 'The-Merchant-of-Venice-PDF (1).pdf', 'total_pages': 72, 'page': 30, 'page_label': '31'}, page_content=\"32 \\n \\nPresenting me a schedule! I will read it. \\nHow much unlike art thou to Portia! \\nHow much unlike my hopes and my deservings! \\nWho chooseth me shall have as much as he deserves.' \\nDid I deserve no more than a fool's head? \\nIs that my prize? are my deserts no better? \\nPORTIA \\nTo offend, and judge, are distinct offices \\nAnd of opposed natures. \\nARRAGON \\nWhat is here? \\nReads \\nThe fire seven times tried this: \\nSeven times tried that judgment is, \\nThat did never choose amiss. \\nSome there be that shadows kiss; \\nSuch have but a shadow's bliss: \\nThere be fools alive, I wis, \\nSilver'd o'er; and so was this. \\nTake what wife you will to bed, \\nI will ever be your head: \\nSo be gone: you are sped. \\nStill more fool I shall appear \\nBy the time I linger here \\nWith one fool's head I came to woo, \\nBut I go away with two. \\nSweet, adieu. I'll keep my oath, \\nPatiently to bear my wroth. \\nExeunt Arragon and train \\nPORTIA \\nThus hath the candle singed the moth. \\nO, these deliberate fools! when they do choose, \\nThey have the wisdom by their wit to lose. \\nNERISSA \\nThe ancient saying is no heresy, \\nHanging and wiving goes by destiny. \\nPORTIA \\nCome, draw the curtain, Nerissa. \\nEnter a Servant \\nServant \\nWhere is my lady? \\nPORTIA \\nHere: what would my lord? \\nServant \\nMadam, there is alighted at your gate \\nA young Venetian, one that comes before \\nTo signify the approaching of his lord; \\nFrom whom he bringeth sensible regreets, \\nTo wit, besides commends and courteous breath, \\nGifts of rich value. Yet I have not seen\")),\n",
              " GraphDocument(nodes=[Node(id='Portia', type='Person', properties={}), Node(id='Nerissa', type='Person', properties={}), Node(id='Bassanio', type='Person', properties={}), Node(id='Cupid', type='Person', properties={})], relationships=[Relationship(source=Node(id='Portia', type='Person', properties={}), target=Node(id='Nerissa', type='Person', properties={}), type='SPEAKS_TO', properties={}), Relationship(source=Node(id='Nerissa', type='Person', properties={}), target=Node(id='Bassanio', type='Person', properties={}), type='REFERS_TO', properties={}), Relationship(source=Node(id='Nerissa', type='Person', properties={}), target=Node(id='Cupid', type='Person', properties={}), type='REFERS_TO', properties={})], source=Document(metadata={'producer': 'PDFium', 'creator': 'PDFium', 'creationdate': 'D:20250318171920', 'source': 'The-Merchant-of-Venice-PDF (1).pdf', 'total_pages': 72, 'page': 31, 'page_label': '32'}, page_content=\"33 \\n \\nSo likely an ambassador of love: \\nA day in April never came so sweet, \\nTo show how costly summer was at hand, \\nAs this fore-spurrer comes before his lord. \\nPORTIA \\nNo more, I pray thee: I am half afeard \\nThou wilt say anon he is some kin to thee, \\nThou spend'st such high-day wit in praising him. \\nCome, come, Nerissa; for I long to see \\nQuick Cupid's post that comes so mannerly. \\nNERISSA \\nBassanio, lord Love, if thy will it be! \\nExeunt\")),\n",
              " GraphDocument(nodes=[Node(id='Salanio', type='Person', properties={}), Node(id='Salarino', type='Person', properties={}), Node(id='Shylock', type='Person', properties={}), Node(id='Antonio', type='Person', properties={}), Node(id='Venice', type='Location', properties={}), Node(id='The Rialto', type='Location', properties={}), Node(id='The Goodwins', type='Location', properties={})], relationships=[Relationship(source=Node(id='Salanio', type='Person', properties={}), target=Node(id='Salarino', type='Person', properties={}), type='CONVERSE_WITH', properties={}), Relationship(source=Node(id='Shylock', type='Person', properties={}), target=Node(id='Salanio', type='Person', properties={}), type='CONVERSE_WITH', properties={}), Relationship(source=Node(id='Shylock', type='Person', properties={}), target=Node(id='Salarino', type='Person', properties={}), type='CONVERSE_WITH', properties={}), Relationship(source=Node(id='Antonio', type='Person', properties={}), target=Node(id='The Goodwins', type='Location', properties={}), type='LOSES', properties={}), Relationship(source=Node(id='The Goodwins', type='Location', properties={}), target=Node(id='Antonio', type='Person', properties={}), type='IS_WRECKED_AT', properties={}), Relationship(source=Node(id='Venice', type='Location', properties={}), target=Node(id='The Rialto', type='Location', properties={}), type='TAKES_PLACE_IN', properties={}), Relationship(source=Node(id='Salanio', type='Person', properties={}), target=Node(id='The Rialto', type='Location', properties={}), type='MENTIONS', properties={}), Relationship(source=Node(id='Shylock', type='Person', properties={}), target=Node(id=\"Daughter'S Flight\", type='Event', properties={}), type='DISCUSSES', properties={})], source=Document(metadata={'producer': 'PDFium', 'creator': 'PDFium', 'creationdate': 'D:20250318171920', 'source': 'The-Merchant-of-Venice-PDF (1).pdf', 'total_pages': 72, 'page': 32, 'page_label': '33'}, page_content=\"34 \\n \\nACT III \\nSCENE I. Venice. A street. \\nEnter SALANIO and SALARINO \\nSALANIO \\nNow, what news on the Rialto? \\nSALARINO \\nWhy, yet it lives there uncheck'd that Antonio hath \\na ship of rich lading wrecked on the narrow seas; \\nthe Goodwins, I think they call the place; a very \\ndangerous flat and fatal, where the carcasses of many \\na tall ship lie buried, as they say, if my gossip \\nReport be an honest woman of her word. \\nSALANIO \\nI would she were as lying a gossip in that as ever \\nknapped ginger or made her neighbours believe she \\nwept for the death of a third husband. But it is \\ntrue, without any slips of prolixity or crossing the \\nplain highway of talk, that the good Antonio, the \\nhonest Antonio,--O that I had a title good enough \\nto keep his name company!-- \\nSALARINO \\nCome, the full stop. \\nSALANIO \\nHa! what sayest thou? Why, the end is, he hath \\nlost a ship. \\nSALARINO \\nI would it might prove the end of his losses. \\nSALANIO \\nLet me say 'amen' betimes, lest the devil cross my \\nprayer, for here he comes in the likeness of a Jew. \\nEnter SHYLOCK \\nHow now, Shylock! what news among the merchants? \\nSHYLOCK \\nYou know, none so well, none so well as you, of my \\ndaughter's flight. \\nSALARINO \\nThat's certain: I, for my part, knew the tailor \\nthat made the wings she flew withal. \\nSALANIO \\nAnd Shylock, for his own part, knew the bird was \\nfledged; and then it is the complexion of them all \\nto leave the dam. \\nSHYLOCK \\nShe is damned for it. \\nSALANIO \\nThat's certain, if the devil may be her judge. \\nSHYLOCK \\nMy own flesh and blood to rebel!\")),\n",
              " GraphDocument(nodes=[], relationships=[], source=Document(metadata={'producer': 'PDFium', 'creator': 'PDFium', 'creationdate': 'D:20250318171920', 'source': 'The-Merchant-of-Venice-PDF (1).pdf', 'total_pages': 72, 'page': 33, 'page_label': '34'}, page_content=\"35 \\n \\nSALANIO \\nOut upon it, old carrion! rebels it at these years? \\nSHYLOCK \\nI say, my daughter is my flesh and blood. \\nSALARINO \\nThere is more difference between thy flesh and hers \\nthan between jet and ivory; more between your bloods \\nthan there is between red wine and rhenish. But \\ntell us, do you hear whether Antonio have had any \\nloss at sea or no? \\nSHYLOCK \\nThere I have another bad match: a bankrupt, a \\nprodigal, who dare scarce show his head on the \\nRialto; a beggar, that was used to come so smug upon \\nthe mart; let him look to his bond: he was wont to \\ncall me usurer; let him look to his bond: he was \\nwont to lend money for a Christian courtesy; let him \\nlook to his bond. \\nSALARINO \\nWhy, I am sure, if he forfeit, thou wilt not take \\nhis flesh: what's that good for? \\nSHYLOCK \\nTo bait fish withal: if it will feed nothing else, \\nit will feed my revenge. He hath disgraced me, and \\nhindered me half a million; laughed at my losses, \\nmocked at my gains, scorned my nation, thwarted my \\nbargains, cooled my friends, heated mine \\nenemies; and what's his reason? I am a Jew. Hath \\nnot a Jew eyes? hath not a Jew hands, organs, \\ndimensions, senses, affections, passions? fed with \\nthe same food, hurt with the same weapons, subject \\nto the same diseases, healed by the same means, \\nwarmed and cooled by the same winter and summer, as \\na Christian is? If you prick us, do we not bleed? \\nif you tickle us, do we not laugh? if you poison \\nus, do we not die? and if you wrong us, shall we not \\nrevenge? If we are like you in the rest, we will \\nresemble you in that. If a Jew wrong a Christian, \\nwhat is his humility? Revenge. If a Christian \\nwrong a Jew, what should his sufferance be by \\nChristian example? Why, revenge. The villany you \\nteach me, I will execute, and it shall go hard but I \\nwill better the instruction. \\nEnter a Servant \\nServant \\nGentlemen, my master Antonio is at his house and \\ndesires to speak with you both. \\nSALARINO \\nWe have been up and down to seek him. \\nEnter TUBAL\")),\n",
              " GraphDocument(nodes=[Node(id='Shylock', type='Person', properties={}), Node(id='Tubal', type='Person', properties={}), Node(id='Salanio', type='Person', properties={}), Node(id='Salarino', type='Person', properties={}), Node(id='Servant', type='Person', properties={}), Node(id='Genoa', type='Location', properties={}), Node(id='Frankfort', type='Location', properties={}), Node(id='Tubal', type='Person', properties={}), Node(id='Antonio', type='Person', properties={}), Node(id='Ducats', type='Object', properties={}), Node(id='Jewels', type='Object', properties={}), Node(id='Argosy', type='Object', properties={}), Node(id='Tripolis', type='Location', properties={}), Node(id='Venice', type='Location', properties={})], relationships=[Relationship(source=Node(id='Shylock', type='Person', properties={}), target=Node(id='Tubal', type='Person', properties={}), type='SPEAKS_TO', properties={}), Relationship(source=Node(id='Tubal', type='Person', properties={}), target=Node(id='Shylock', type='Person', properties={}), type='SPEAKS_TO', properties={}), Relationship(source=Node(id='Shylock', type='Person', properties={}), target=Node(id='Genoa', type='Location', properties={}), type='REFERS_TO', properties={}), Relationship(source=Node(id='Tubal', type='Person', properties={}), target=Node(id='Genoa', type='Location', properties={}), type='VISITED', properties={}), Relationship(source=Node(id='Shylock', type='Person', properties={}), target=Node(id='Frankfort', type='Location', properties={}), type='REFERS_TO', properties={}), Relationship(source=Node(id='Tubal', type='Person', properties={}), target=Node(id='Antonio', type='Person', properties={}), type='INFORMS_ABOUT', properties={}), Relationship(source=Node(id='Shylock', type='Person', properties={}), target=Node(id='Tubal', type='Person', properties={}), type='THANKS', properties={}), Relationship(source=Node(id='Tubal', type='Person', properties={}), target=Node(id='Antonio', type='Person', properties={}), type='REPORTS_ON', properties={}), Relationship(source=Node(id='Shylock', type='Person', properties={}), target=Node(id='Ducats', type='Object', properties={}), type='LOSES', properties={}), Relationship(source=Node(id='Shylock', type='Person', properties={}), target=Node(id='Jewels', type='Object', properties={}), type='LOSES', properties={}), Relationship(source=Node(id='Tubal', type='Person', properties={}), target=Node(id='Tripolis', type='Location', properties={}), type='VISITED', properties={}), Relationship(source=Node(id='Tubal', type='Person', properties={}), target=Node(id='Argosy', type='Object', properties={}), type='REPORTS_ON', properties={}), Relationship(source=Node(id='Shylock', type='Person', properties={}), target=Node(id='Venice', type='Location', properties={}), type='REFERS_TO', properties={})], source=Document(metadata={'producer': 'PDFium', 'creator': 'PDFium', 'creationdate': 'D:20250318171920', 'source': 'The-Merchant-of-Venice-PDF (1).pdf', 'total_pages': 72, 'page': 34, 'page_label': '35'}, page_content=\"36 \\n \\nSALANIO \\nHere comes another of the tribe: a third cannot be \\nmatched, unless the devil himself turn Jew. \\nExeunt SALANIO, SALARINO, and Servant \\nSHYLOCK \\nHow now, Tubal! what news from Genoa? hast thou \\nfound my daughter? \\nTUBAL \\nI often came where I did hear of her, but cannot find her. \\nSHYLOCK \\nWhy, there, there, there, there! a diamond gone, \\ncost me two thousand ducats in Frankfort! The curse \\nnever fell upon our nation till now; I never felt it \\ntill now: two thousand ducats in that; and other \\nprecious, precious jewels. I would my daughter \\nwere dead at my foot, and the jewels in her ear! \\nwould she were hearsed at my foot, and the ducats in \\nher coffin! No news of them? Why, so: and I know \\nnot what's spent in the search: why, thou loss upon \\nloss! the thief gone with so much, and so much to \\nfind the thief; and no satisfaction, no revenge: \\nnor no in luck stirring but what lights on my \\nshoulders; no sighs but of my breathing; no tears \\nbut of my shedding. \\nTUBAL \\nYes, other men have ill luck too: Antonio, as I \\nheard in Genoa,-- \\nSHYLOCK \\nWhat, what, what? ill luck, ill luck? \\nTUBAL \\nHath an argosy cast away, coming from Tripolis. \\nSHYLOCK \\nI thank God, I thank God. Is't true, is't true? \\nTUBAL \\nI spoke with some of the sailors that escaped the wreck. \\nSHYLOCK \\nI thank thee, good Tubal: good news, good news! \\nha, ha! where? in Genoa? \\nTUBAL \\nYour daughter spent in Genoa, as I heard, in one \\nnight fourscore ducats. \\nSHYLOCK \\nThou stickest a dagger in me: I shall never see my \\ngold again: fourscore ducats at a sitting! \\nfourscore ducats! \\nTUBAL \\nThere came divers of Antonio's creditors in my \\ncompany to Venice, that swear he cannot choose but break. \\nSHYLOCK \\nI am very glad of it: I'll plague him; I'll torture\")),\n",
              " GraphDocument(nodes=[Node(id='Shylock', type='Person', properties={}), Node(id='Tubal', type='Person', properties={}), Node(id='Turquoise', type='Object', properties={}), Node(id='Leah', type='Person', properties={}), Node(id='Monkeys', type='Animal', properties={}), Node(id='Antonio', type='Person', properties={}), Node(id='Synagogue', type='Location', properties={}), Node(id='Portia', type='Person', properties={}), Node(id='Bassanio', type='Person', properties={}), Node(id='Gratiano', type='Person', properties={}), Node(id='Nerissa', type='Person', properties={}), Node(id='Attendants', type='Group', properties={}), Node(id='Belmont', type='Location', properties={}), Node(id='Casket', type='Object', properties={})], relationships=[Relationship(source=Node(id='Shylock', type='Person', properties={}), target=Node(id='Turquoise', type='Object', properties={}), type='OWNS', properties={}), Relationship(source=Node(id='Tubal', type='Person', properties={}), target=Node(id='Turquoise', type='Object', properties={}), type='SHOWED', properties={}), Relationship(source=Node(id='Leah', type='Person', properties={}), target=Node(id='Turquoise', type='Object', properties={}), type='GAVE', properties={}), Relationship(source=Node(id='Turquoise', type='Object', properties={}), target=Node(id='Monkeys', type='Animal', properties={}), type='TRADED_FOR', properties={}), Relationship(source=Node(id='Tubal', type='Person', properties={}), target=Node(id='Antonio', type='Person', properties={}), type='DISCUSSES', properties={}), Relationship(source=Node(id='Shylock', type='Person', properties={}), target=Node(id='Synagogue', type='Location', properties={}), type='MEETING_LOCATION', properties={}), Relationship(source=Node(id='Portia', type='Person', properties={}), target=Node(id='Bassanio', type='Person', properties={}), type='PERSUADES', properties={}), Relationship(source=Node(id='Bassanio', type='Person', properties={}), target=Node(id='Casket', type='Object', properties={}), type='CHOOSES', properties={}), Relationship(source=Node(id='Belmont', type='Location', properties={}), target=Node(id='Portia', type='Person', properties={}), type='LOCATED_IN', properties={})], source=Document(metadata={'producer': 'PDFium', 'creator': 'PDFium', 'creationdate': 'D:20250318171920', 'source': 'The-Merchant-of-Venice-PDF (1).pdf', 'total_pages': 72, 'page': 35, 'page_label': '36'}, page_content=\"37 \\n \\nhim: I am glad of it. \\nTUBAL \\nOne of them showed me a ring that he had of your \\ndaughter for a monkey. \\nSHYLOCK \\nOut upon her! Thou torturest me, Tubal: it was my \\nturquoise; I had it of Leah when I was a bachelor: \\nI would not have given it for a wilderness of monkeys. \\nTUBAL \\nBut Antonio is certainly undone. \\nSHYLOCK \\nNay, that's true, that's very true. Go, Tubal, fee \\nme an officer; bespeak him a fortnight before. I \\nwill have the heart of him, if he forfeit; for, were \\nhe out of Venice, I can make what merchandise I \\nwill. Go, go, Tubal, and meet me at our synagogue; \\ngo, good Tubal; at our synagogue, Tubal. \\nExeunt \\nSCENE II. Belmont. A room in PORTIA'S house. \\nEnter BASSANIO, PORTIA, GRATIANO, NERISSA, and Attendants \\nPORTIA \\nI pray you, tarry: pause a day or two \\nBefore you hazard; for, in choosing wrong, \\nI lose your company: therefore forbear awhile. \\nThere's something tells me, but it is not love, \\nI would not lose you; and you know yourself, \\nHate counsels not in such a quality. \\nBut lest you should not understand me well,-- \\nAnd yet a maiden hath no tongue but thought,-- \\nI would detain you here some month or two \\nBefore you venture for me. I could teach you \\nHow to choose right, but I am then forsworn; \\nSo will I never be: so may you miss me; \\nBut if you do, you'll make me wish a sin, \\nThat I had been forsworn. Beshrew your eyes, \\nThey have o'erlook'd me and divided me; \\nOne half of me is yours, the other half yours, \\nMine own, I would say; but if mine, then yours, \\nAnd so all yours. O, these naughty times \\nPut bars between the owners and their rights! \\nAnd so, though yours, not yours. Prove it so, \\nLet fortune go to hell for it, not I. \\nI speak too long; but 'tis to peize the time, \\nTo eke it and to draw it out in length, \\nTo stay you from election. \\nBASSANIO \\nLet me choose \\nFor as I am, I live upon the rack.\")),\n",
              " GraphDocument(nodes=[], relationships=[], source=Document(metadata={'producer': 'PDFium', 'creator': 'PDFium', 'creationdate': 'D:20250318171920', 'source': 'The-Merchant-of-Venice-PDF (1).pdf', 'total_pages': 72, 'page': 36, 'page_label': '37'}, page_content=\"38 \\n \\nPORTIA \\nUpon the rack, Bassanio! then confess \\nWhat treason there is mingled with your love. \\nBASSANIO \\nNone but that ugly treason of mistrust, \\nWhich makes me fear the enjoying of my love: \\nThere may as well be amity and life \\nTween snow and fire, as treason and my love. \\nPORTIA \\nAy, but I fear you speak upon the rack, \\nWhere men enforced do speak anything. \\nBASSANIO \\nPromise me life, and I'll confess the truth. \\nPORTIA \\nWell then, confess and live. \\nBASSANIO \\nConfess' and 'love' \\nHad been the very sum of my confession: \\nO happy torment, when my torturer \\nDoth teach me answers for deliverance! \\nBut let me to my fortune and the caskets. \\nPORTIA \\nAway, then! I am lock'd in one of them: \\nIf you do love me, you will find me out. \\nNerissa and the rest, stand all aloof. \\nLet music sound while he doth make his choice; \\nThen, if he lose, he makes a swan-like end, \\nFading in music: that the comparison \\nMay stand more proper, my eye shall be the stream \\nAnd watery death-bed for him. He may win; \\nAnd what is music then? Then music is \\nEven as the flourish when true subjects bow \\nTo a new-crowned monarch: such it is \\nAs are those dulcet sounds in break of day \\nThat creep into the dreaming bridegroom's ear, \\nAnd summon him to marriage. Now he goes, \\nWith no less presence, but with much more love, \\nThan young Alcides, when he did redeem \\nThe virgin tribute paid by howling Troy \\nTo the sea-monster: I stand for sacrifice \\nThe rest aloof are the Dardanian wives, \\nWith bleared visages, come forth to view \\nThe issue of the exploit. Go, Hercules! \\nLive thou, I live: with much, much more dismay \\nI view the fight than thou that makest the fray. \\nMusic, whilst BASSANIO comments on the caskets to himself \\nSONG. \\nTell me where is fancy bred, \\nOr in the heart, or in the head? \\nHow begot, how nourished?\")),\n",
              " GraphDocument(nodes=[Node(id='The Merchant Of Venice', type='Play', properties={}), Node(id='Bassanio', type='Character', properties={}), Node(id='Portia', type='Character', properties={}), Node(id='Ornament', type='Concept', properties={}), Node(id='Law', type='Concept', properties={}), Node(id='Religion', type='Concept', properties={}), Node(id='Beauty', type='Concept', properties={}), Node(id='Doubt', type='Emotion', properties={}), Node(id='Despair', type='Emotion', properties={}), Node(id='Fear', type='Emotion', properties={}), Node(id='Jealousy', type='Emotion', properties={}), Node(id='Love', type='Emotion', properties={})], relationships=[Relationship(source=Node(id='Bassanio', type='Character', properties={}), target=Node(id='Ornament', type='Concept', properties={}), type='CRITICIZES', properties={}), Relationship(source=Node(id='Bassanio', type='Character', properties={}), target=Node(id='Law', type='Concept', properties={}), type='DISCUSSES', properties={}), Relationship(source=Node(id='Bassanio', type='Character', properties={}), target=Node(id='Religion', type='Concept', properties={}), type='DISCUSSES', properties={}), Relationship(source=Node(id='Bassanio', type='Character', properties={}), target=Node(id='Beauty', type='Concept', properties={}), type='DISCUSSES', properties={}), Relationship(source=Node(id='Portia', type='Character', properties={}), target=Node(id='Doubt', type='Emotion', properties={}), type='DISCUSSES', properties={}), Relationship(source=Node(id='Portia', type='Character', properties={}), target=Node(id='Despair', type='Emotion', properties={}), type='DISCUSSES', properties={}), Relationship(source=Node(id='Portia', type='Character', properties={}), target=Node(id='Fear', type='Emotion', properties={}), type='DISCUSSES', properties={}), Relationship(source=Node(id='Portia', type='Character', properties={}), target=Node(id='Jealousy', type='Emotion', properties={}), type='DISCUSSES', properties={}), Relationship(source=Node(id='Portia', type='Character', properties={}), target=Node(id='Love', type='Emotion', properties={}), type='ADVISES', properties={})], source=Document(metadata={'producer': 'PDFium', 'creator': 'PDFium', 'creationdate': 'D:20250318171920', 'source': 'The-Merchant-of-Venice-PDF (1).pdf', 'total_pages': 72, 'page': 37, 'page_label': '38'}, page_content=\"39 \\n \\nReply, reply. \\nIt is engender'd in the eyes, \\nWith gazing fed; and fancy dies \\nIn the cradle where it lies. \\nLet us all ring fancy's knell \\nI'll begin it,--Ding, dong, bell. \\nALL \\nDing, dong, bell. \\nBASSANIO \\nSo may the outward shows be least themselves: \\nThe world is still deceived with ornament. \\nIn law, what plea so tainted and corrupt, \\nBut, being seasoned with a gracious voice, \\nObscures the show of evil? In religion, \\nWhat damned error, but some sober brow \\nWill bless it and approve it with a text, \\nHiding the grossness with fair ornament? \\nThere is no vice so simple but assumes \\nSome mark of virtue on his outward parts: \\nHow many cowards, whose hearts are all as false \\nAs stairs of sand, wear yet upon their chins \\nThe beards of Hercules and frowning Mars; \\nWho, inward search'd, have livers white as milk; \\nAnd these assume but valour's excrement \\nTo render them redoubted! Look on beauty, \\nAnd you shall see 'tis purchased by the weight; \\nWhich therein works a miracle in nature, \\nMaking them lightest that wear most of it: \\nSo are those crisped snaky golden locks \\nWhich make such wanton gambols with the wind, \\nUpon supposed fairness, often known \\nTo be the dowry of a second head, \\nThe skull that bred them in the sepulchre. \\nThus ornament is but the guiled shore \\nTo a most dangerous sea; the beauteous scarf \\nVeiling an Indian beauty; in a word, \\nThe seeming truth which cunning times put on \\nTo entrap the wisest. Therefore, thou gaudy gold, \\nHard food for Midas, I will none of thee; \\nNor none of thee, thou pale and common drudge \\nTween man and man: but thou, thou meagre lead, \\nWhich rather threatenest than dost promise aught, \\nThy paleness moves me more than eloquence; \\nAnd here choose I; joy be the consequence! \\nPORTIA \\n[Aside] How all the other passions fleet to air, \\nAs doubtful thoughts, and rash-embraced despair, \\nAnd shuddering fear, and green-eyed jealousy! O love, \\nBe moderate; allay thy ecstasy, \\nIn measure rein thy joy; scant this excess.\")),\n",
              " GraphDocument(nodes=[Node(id='Bassanio', type='Person', properties={}), Node(id='Portia', type='Person', properties={}), Node(id='Scroll', type='Object', properties={})], relationships=[Relationship(source=Node(id='Bassanio', type='Person', properties={}), target=Node(id='Portia', type='Person', properties={}), type='INTERACTS_WITH', properties={}), Relationship(source=Node(id='Bassanio', type='Person', properties={}), target=Node(id='Scroll', type='Object', properties={}), type='READS', properties={})], source=Document(metadata={'producer': 'PDFium', 'creator': 'PDFium', 'creationdate': 'D:20250318171920', 'source': 'The-Merchant-of-Venice-PDF (1).pdf', 'total_pages': 72, 'page': 38, 'page_label': '39'}, page_content=\"40 \\n \\nI feel too much thy blessing: make it less, \\nFor fear I surfeit. \\nBASSANIO \\nWhat find I here? \\nOpening the leaden casket \\nFair Portia's counterfeit! What demi-god \\nHath come so near creation? Move these eyes? \\nOr whether, riding on the balls of mine, \\nSeem they in motion? Here are sever'd lips, \\nParted with sugar breath: so sweet a bar \\nShould sunder such sweet friends. Here in her hairs \\nThe painter plays the spider and hath woven \\nA golden mesh to entrap the hearts of men, \\nFaster than gnats in cobwebs; but her eyes,-- \\nHow could he see to do them? having made one, \\nMethinks it should have power to steal both his \\nAnd leave itself unfurnish'd. Yet look, how far \\nThe substance of my praise doth wrong this shadow \\nIn underprizing it, so far this shadow \\nDoth limp behind the substance. Here's the scroll, \\nThe continent and summary of my fortune. \\nReads \\nYou that choose not by the view, \\nChance as fair and choose as true! \\nSince this fortune falls to you, \\nBe content and seek no new, \\nIf you be well pleased with this \\nAnd hold your fortune for your bliss, \\nTurn you where your lady is \\nAnd claim her with a loving kiss. \\nA gentle scroll. Fair lady, by your leave; \\nI come by note, to give and to receive. \\nLike one of two contending in a prize, \\nThat thinks he hath done well in people's eyes, \\nHearing applause and universal shout, \\nGiddy in spirit, still gazing in a doubt \\nWhether these pearls of praise be his or no; \\nSo, thrice fair lady, stand I, even so; \\nAs doubtful whether what I see be true, \\nUntil confirm'd, sign'd, ratified by you. \\nPORTIA \\nYou see me, Lord Bassanio, where I stand, \\nSuch as I am: though for myself alone \\nI would not be ambitious in my wish, \\nTo wish myself much better; yet, for you \\nI would be trebled twenty times myself; \\nA thousand times more fair, ten thousand times more rich; \\nThat only to stand high in your account, \\nI might in virtue, beauties, livings, friends, \\nExceed account; but the full sum of me\")),\n",
              " GraphDocument(nodes=[Node(id='Bassanio', type='Person', properties={}), Node(id='Nerissa', type='Person', properties={}), Node(id='Gratiano', type='Person', properties={}), Node(id='Ring', type='Object', properties={}), Node(id='Casket', type='Object', properties={}), Node(id='Marriage', type='Concept', properties={})], relationships=[Relationship(source=Node(id='Bassanio', type='Person', properties={}), target=Node(id='Ring', type='Object', properties={}), type='GAVE', properties={}), Relationship(source=Node(id='Nerissa', type='Person', properties={}), target=Node(id='Ring', type='Object', properties={}), type='RECEIVED', properties={}), Relationship(source=Node(id='Gratiano', type='Person', properties={}), target=Node(id='Marriage', type='Concept', properties={}), type='WISHES', properties={}), Relationship(source=Node(id='Bassanio', type='Person', properties={}), target=Node(id='Casket', type='Object', properties={}), type='DEPENDS_ON', properties={})], source=Document(metadata={'producer': 'PDFium', 'creator': 'PDFium', 'creationdate': 'D:20250318171920', 'source': 'The-Merchant-of-Venice-PDF (1).pdf', 'total_pages': 72, 'page': 39, 'page_label': '40'}, page_content=\"41 \\n \\nIs sum of something, which, to term in gross, \\nIs an unlesson'd girl, unschool'd, unpractised; \\nHappy in this, she is not yet so old \\nBut she may learn; happier than this, \\nShe is not bred so dull but she can learn; \\nHappiest of all is that her gentle spirit \\nCommits itself to yours to be directed, \\nAs from her lord, her governor, her king. \\nMyself and what is mine to you and yours \\nIs now converted: but now I was the lord \\nOf this fair mansion, master of my servants, \\nQueen o'er myself: and even now, but now, \\nThis house, these servants and this same myself \\nAre yours, my lord: I give them with this ring; \\nWhich when you part from, lose, or give away, \\nLet it presage the ruin of your love \\nAnd be my vantage to exclaim on you. \\nBASSANIO \\nMadam, you have bereft me of all words, \\nOnly my blood speaks to you in my veins; \\nAnd there is such confusion in my powers, \\nAs after some oration fairly spoke \\nBy a beloved prince, there doth appear \\nAmong the buzzing pleased multitude; \\nWhere every something, being blent together, \\nTurns to a wild of nothing, save of joy, \\nExpress'd and not express'd. But when this ring \\nParts from this finger, then parts life from hence: \\nO, then be bold to say Bassanio's dead! \\nNERISSA \\nMy lord and lady, it is now our time, \\nThat have stood by and seen our wishes prosper, \\nTo cry, good joy: good joy, my lord and lady! \\nGRATIANO \\nMy lord Bassanio and my gentle lady, \\nI wish you all the joy that you can wish; \\nFor I am sure you can wish none from me: \\nAnd when your honours mean to solemnize \\nThe bargain of your faith, I do beseech you, \\nEven at that time I may be married too. \\nBASSANIO \\nWith all my heart, so thou canst get a wife. \\nGRATIANO \\nI thank your lordship, you have got me one. \\nMy eyes, my lord, can look as swift as yours: \\nYou saw the mistress, I beheld the maid; \\nYou loved, I loved for intermission. \\nNo more pertains to me, my lord, than you. \\nYour fortune stood upon the casket there, \\nAnd so did mine too, as the matter falls;\")),\n",
              " GraphDocument(nodes=[Node(id='Bassanio', type='Person', properties={}), Node(id='Portia', type='Person', properties={}), Node(id='Nerissa', type='Person', properties={}), Node(id='Gratiano', type='Person', properties={}), Node(id='Lorenzo', type='Person', properties={}), Node(id='Jessica', type='Person', properties={}), Node(id='Salerio', type='Person', properties={}), Node(id='Antonio', type='Person', properties={})], relationships=[Relationship(source=Node(id='Bassanio', type='Person', properties={}), target=Node(id='Portia', type='Person', properties={}), type='ACQUAINTANCE', properties={}), Relationship(source=Node(id='Bassanio', type='Person', properties={}), target=Node(id='Nerissa', type='Person', properties={}), type='ACQUAINTANCE', properties={}), Relationship(source=Node(id='Bassanio', type='Person', properties={}), target=Node(id='Gratiano', type='Person', properties={}), type='ACQUAINTANCE', properties={}), Relationship(source=Node(id='Bassanio', type='Person', properties={}), target=Node(id='Lorenzo', type='Person', properties={}), type='ACQUAINTANCE', properties={}), Relationship(source=Node(id='Bassanio', type='Person', properties={}), target=Node(id='Salerio', type='Person', properties={}), type='ACQUAINTANCE', properties={}), Relationship(source=Node(id='Portia', type='Person', properties={}), target=Node(id='Lorenzo', type='Person', properties={}), type='ACQUAINTANCE', properties={}), Relationship(source=Node(id='Portia', type='Person', properties={}), target=Node(id='Salerio', type='Person', properties={}), type='ACQUAINTANCE', properties={}), Relationship(source=Node(id='Nerissa', type='Person', properties={}), target=Node(id='Gratiano', type='Person', properties={}), type='ACQUAINTANCE', properties={}), Relationship(source=Node(id='Gratiano', type='Person', properties={}), target=Node(id='Nerissa', type='Person', properties={}), type='ACQUAINTANCE', properties={}), Relationship(source=Node(id='Lorenzo', type='Person', properties={}), target=Node(id='Jessica', type='Person', properties={}), type='ACQUAINTANCE', properties={}), Relationship(source=Node(id='Salerio', type='Person', properties={}), target=Node(id='Antonio', type='Person', properties={}), type='ACQUAINTANCE', properties={})], source=Document(metadata={'producer': 'PDFium', 'creator': 'PDFium', 'creationdate': 'D:20250318171920', 'source': 'The-Merchant-of-Venice-PDF (1).pdf', 'total_pages': 72, 'page': 40, 'page_label': '41'}, page_content=\"42 \\n \\nFor wooing here until I sweat again, \\nAnd sweating until my very roof was dry \\nWith oaths of love, at last, if promise last, \\nI got a promise of this fair one here \\nTo have her love, provided that your fortune \\nAchieved her mistress. \\nPORTIA \\nIs this true, Nerissa? \\nNERISSA \\nMadam, it is, so you stand pleased withal. \\nBASSANIO \\nAnd do you, Gratiano, mean good faith? \\nGRATIANO \\nYes, faith, my lord. \\nBASSANIO \\nOur feast shall be much honour'd in your marriage. \\nGRATIANO \\nWe'll play with them the first boy for a thousand ducats. \\nNERISSA \\nWhat, and stake down? \\nGRATIANO \\nNo; we shall ne'er win at that sport, and stake down. \\nBut who comes here? Lorenzo and his infidel? What, \\nand my old Venetian friend Salerio? \\nEnter LORENZO, JESSICA, and SALERIO, a Messenger from Venice \\nBASSANIO \\nLorenzo and Salerio, welcome hither; \\nIf that the youth of my new interest here \\nHave power to bid you welcome. By your leave, \\nI bid my very friends and countrymen, \\nSweet Portia, welcome. \\nPORTIA \\nSo do I, my lord: \\nThey are entirely welcome. \\nLORENZO \\nI thank your honour. For my part, my lord, \\nMy purpose was not to have seen you here; \\nBut meeting with Salerio by the way, \\nHe did entreat me, past all saying nay, \\nTo come with him along. \\nSALERIO \\nI did, my lord; \\nAnd I have reason for it. Signior Antonio \\nCommends him to you. \\nGives Bassanio a letter \\nBASSANIO \\nEre I ope his letter, \\nI pray you, tell me how my good friend doth. \\nSALERIO \\nNot sick, my lord, unless it be in mind;\")),\n",
              " GraphDocument(nodes=[Node(id='Gratiano', type='Person', properties={}), Node(id='Nerissa', type='Person', properties={}), Node(id='Salerio', type='Person', properties={}), Node(id='Portia', type='Person', properties={}), Node(id='Bassanio', type='Person', properties={}), Node(id='Antonio', type='Person', properties={}), Node(id='Venice', type='Location', properties={}), Node(id='Mexico', type='Location', properties={}), Node(id='England', type='Location', properties={}), Node(id='Lisbon', type='Location', properties={}), Node(id='Barbary', type='Location', properties={}), Node(id='India', type='Location', properties={}), Node(id='Letter', type='Object', properties={}), Node(id='Venture', type='Venture', properties={}), Node(id='Debt', type='Debt', properties={})], relationships=[Relationship(source=Node(id='Gratiano', type='Person', properties={}), target=Node(id='Nerissa', type='Person', properties={}), type='GREETED', properties={}), Relationship(source=Node(id='Salerio', type='Person', properties={}), target=Node(id='Venice', type='Location', properties={}), type='FROM', properties={}), Relationship(source=Node(id='Portia', type='Person', properties={}), target=Node(id='Bassanio', type='Person', properties={}), type='SPOKE_TO', properties={}), Relationship(source=Node(id='Bassanio', type='Person', properties={}), target=Node(id='Letter', type='Object', properties={}), type='RECEIVED', properties={}), Relationship(source=Node(id='Letter', type='Object', properties={}), target=Node(id='Bassanio', type='Person', properties={}), type='AFFECTED', properties={}), Relationship(source=Node(id='Bassanio', type='Person', properties={}), target=Node(id='Antonio', type='Person', properties={}), type='CONCERNED_ABOUT', properties={}), Relationship(source=Node(id='Antonio', type='Person', properties={}), target=Node(id='Venture', type='Venture', properties={}), type='FAILED', properties={}), Relationship(source=Node(id='Venture', type='Venture', properties={}), target=Node(id='Mexico', type='Location', properties={}), type='FAILED_IN', properties={}), Relationship(source=Node(id='Venture', type='Venture', properties={}), target=Node(id='England', type='Location', properties={}), type='FAILED_IN', properties={}), Relationship(source=Node(id='Venture', type='Venture', properties={}), target=Node(id='Lisbon', type='Location', properties={}), type='FAILED_IN', properties={}), Relationship(source=Node(id='Venture', type='Venture', properties={}), target=Node(id='Barbary', type='Location', properties={}), type='FAILED_IN', properties={}), Relationship(source=Node(id='Venture', type='Venture', properties={}), target=Node(id='India', type='Location', properties={}), type='FAILED_IN', properties={}), Relationship(source=Node(id='Bassanio', type='Person', properties={}), target=Node(id='Debt', type='Debt', properties={}), type='IN_DEBT', properties={})], source=Document(metadata={'producer': 'PDFium', 'creator': 'PDFium', 'creationdate': 'D:20250318171920', 'source': 'The-Merchant-of-Venice-PDF (1).pdf', 'total_pages': 72, 'page': 41, 'page_label': '42'}, page_content=\"43 \\n \\nNor well, unless in mind: his letter there \\nWill show you his estate. \\nGRATIANO \\nNerissa, cheer yon stranger; bid her welcome. \\nYour hand, Salerio: what's the news from Venice? \\nHow doth that royal merchant, good Antonio? \\nI know he will be glad of our success; \\nWe are the Jasons, we have won the fleece. \\nSALERIO \\nI would you had won the fleece that he hath lost. \\nPORTIA \\nThere are some shrewd contents in yon same paper, \\nThat steals the colour from Bassanio's cheek: \\nSome dear friend dead; else nothing in the world \\nCould turn so much the constitution \\nOf any constant man. What, worse and worse! \\nWith leave, Bassanio: I am half yourself, \\nAnd I must freely have the half of anything \\nThat this same paper brings you. \\nBASSANIO \\nO sweet Portia, \\nHere are a few of the unpleasant'st words \\nThat ever blotted paper! Gentle lady, \\nWhen I did first impart my love to you, \\nI freely told you, all the wealth I had \\nRan in my veins, I was a gentleman; \\nAnd then I told you true: and yet, dear lady, \\nRating myself at nothing, you shall see \\nHow much I was a braggart. When I told you \\nMy state was nothing, I should then have told you \\nThat I was worse than nothing; for, indeed, \\nI have engaged myself to a dear friend, \\nEngaged my friend to his mere enemy, \\nTo feed my means. Here is a letter, lady; \\nThe paper as the body of my friend, \\nAnd every word in it a gaping wound, \\nIssuing life-blood. But is it true, Salerio? \\nHave all his ventures fail'd? What, not one hit? \\nFrom Tripolis, from Mexico and England, \\nFrom Lisbon, Barbary and India? \\nAnd not one vessel 'scape the dreadful touch \\nOf merchant-marring rocks? \\nSALERIO \\nNot one, my lord. \\nBesides, it should appear, that if he had \\nThe present money to discharge the Jew, \\nHe would not take it. Never did I know \\nA creature, that did bear the shape of man, \\nSo keen and greedy to confound a man: \\nHe plies the duke at morning and at night,\")),\n",
              " GraphDocument(nodes=[Node(id='Portia', type='Person', properties={}), Node(id='Bassanio', type='Person', properties={}), Node(id='Jessica', type='Person', properties={}), Node(id='Antonio', type='Person', properties={}), Node(id='Shylock', type='Person', properties={}), Node(id='Tubal', type='Person', properties={}), Node(id='Chus', type='Person', properties={})], relationships=[Relationship(source=Node(id='Bassanio', type='Person', properties={}), target=Node(id='Shylock', type='Person', properties={}), type='OWES', properties={}), Relationship(source=Node(id='Portia', type='Person', properties={}), target=Node(id='Bassanio', type='Person', properties={}), type='HELPS', properties={}), Relationship(source=Node(id='Bassanio', type='Person', properties={}), target=Node(id='Antonio', type='Person', properties={}), type='FRIEND', properties={}), Relationship(source=Node(id='Shylock', type='Person', properties={}), target=Node(id='Antonio', type='Person', properties={}), type='CONFLICT', properties={}), Relationship(source=Node(id='Portia', type='Person', properties={}), target=Node(id='Venice', type='Place', properties={}), type='TRAVELS_TO', properties={}), Relationship(source=Node(id='Bassanio', type='Person', properties={}), target=Node(id='Antonio', type='Person', properties={}), type='RECEIVES_LETTER_FROM', properties={})], source=Document(metadata={'producer': 'PDFium', 'creator': 'PDFium', 'creationdate': 'D:20250318171920', 'source': 'The-Merchant-of-Venice-PDF (1).pdf', 'total_pages': 72, 'page': 42, 'page_label': '43'}, page_content=\"44 \\n \\nAnd doth impeach the freedom of the state, \\nIf they deny him justice: twenty merchants, \\nThe duke himself, and the magnificoes \\nOf greatest port, have all persuaded with him; \\nBut none can drive him from the envious plea \\nOf forfeiture, of justice and his bond. \\nJESSICA \\nWhen I was with him I have heard him swear \\nTo Tubal and to Chus, his countrymen, \\nThat he would rather have Antonio's flesh \\nThan twenty times the value of the sum \\nThat he did owe him: and I know, my lord, \\nIf law, authority and power deny not, \\nIt will go hard with poor Antonio. \\nPORTIA \\nIs it your dear friend that is thus in trouble? \\nBASSANIO \\nThe dearest friend to me, the kindest man, \\nThe best-condition'd and unwearied spirit \\nIn doing courtesies, and one in whom \\nThe ancient Roman honour more appears \\nThan any that draws breath in Italy. \\nPORTIA \\nWhat sum owes he the Jew? \\nBASSANIO \\nFor me three thousand ducats. \\nPORTIA \\nWhat, no more? \\nPay him six thousand, and deface the bond; \\nDouble six thousand, and then treble that, \\nBefore a friend of this description \\nShall lose a hair through Bassanio's fault. \\nFirst go with me to church and call me wife, \\nAnd then away to Venice to your friend; \\nFor never shall you lie by Portia's side \\nWith an unquiet soul. You shall have gold \\nTo pay the petty debt twenty times over: \\nWhen it is paid, bring your true friend along. \\nMy maid Nerissa and myself meantime \\nWill live as maids and widows. Come, away! \\nFor you shall hence upon your wedding-day: \\nBid your friends welcome, show a merry cheer: \\nSince you are dear bought, I will love you dear. \\nBut let me hear the letter of your friend. \\nBASSANIO \\n[Reads] Sweet Bassanio, my ships have all \\nmiscarried, my creditors grow cruel, my estate is \\nvery low, my bond to the Jew is forfeit; and since \\nin paying it, it is impossible I should live, all \\ndebts are cleared between you and I, if I might but\")),\n",
              " GraphDocument(nodes=[Node(id='Portia', type='Person', properties={}), Node(id='Bassanio', type='Person', properties={}), Node(id='Shylock', type='Person', properties={}), Node(id='Antonio', type='Person', properties={}), Node(id='Salarino', type='Person', properties={}), Node(id='Gaoler', type='Person', properties={}), Node(id='Duke', type='Person', properties={}), Node(id='Venice', type='City', properties={}), Node(id='Street', type='Location', properties={}), Node(id='Document', type='Document', properties={})], relationships=[Relationship(source=Node(id='Bassanio', type='Person', properties={}), target=Node(id='Business', type='Concept', properties={}), type='DISPATCHES', properties={}), Relationship(source=Node(id='Portia', type='Person', properties={}), target=Node(id='Bassanio', type='Person', properties={}), type='TELLS', properties={}), Relationship(source=Node(id='Antonio', type='Person', properties={}), target=Node(id='Money', type='Concept', properties={}), type='LENDS', properties={}), Relationship(source=Node(id='Shylock', type='Person', properties={}), target=Node(id='Antonio', type='Person', properties={}), type='CLIENT', properties={}), Relationship(source=Node(id='Shylock', type='Person', properties={}), target=Node(id='Bond', type='Concept', properties={}), type='DEMANDS', properties={}), Relationship(source=Node(id='Antonio', type='Person', properties={}), target=Node(id='People', type='Concept', properties={}), type='DELIVERS', properties={}), Relationship(source=Node(id='Shylock', type='Person', properties={}), target=Node(id='Antonio', type='Person', properties={}), type='HATES', properties={}), Relationship(source=Node(id='Duke', type='Person', properties={}), target=Node(id='Justice', type='Concept', properties={}), type='GRANTS', properties={}), Relationship(source=Node(id='Gaoler', type='Person', properties={}), target=Node(id='Antonio', type='Person', properties={}), type='LOOKS_AFTER', properties={}), Relationship(source=Node(id='Document', type='Document', properties={}), target=Node(id='Scene Iii', type='Concept', properties={}), type='DESCRIBES', properties={}), Relationship(source=Node(id='Scene Iii', type='Concept', properties={}), target=Node(id='Venice', type='City', properties={}), type='IS_SET_IN', properties={}), Relationship(source=Node(id='Scene Iii', type='Concept', properties={}), target=Node(id='Street', type='Location', properties={}), type='TAKES_PLACE_AT', properties={})], source=Document(metadata={'producer': 'PDFium', 'creator': 'PDFium', 'creationdate': 'D:20250318171920', 'source': 'The-Merchant-of-Venice-PDF (1).pdf', 'total_pages': 72, 'page': 43, 'page_label': '44'}, page_content=\"45 \\n \\nsee you at my death. Notwithstanding, use your \\npleasure: if your love do not persuade you to come, \\nlet not my letter. \\nPORTIA \\nO love, dispatch all business, and be gone! \\nBASSANIO \\nSince I have your good leave to go away, \\nI will make haste: but, till I come again, \\nNo bed shall e'er be guilty of my stay, \\nNo rest be interposer 'twixt us twain. \\nExeunt \\nSCENE III. Venice. A street. \\nEnter SHYLOCK, SALARINO, ANTONIO, and Gaoler \\nSHYLOCK \\nGaoler, look to him: tell not me of mercy; \\nThis is the fool that lent out money gratis: \\nGaoler, look to him. \\nANTONIO \\nHear me yet, good Shylock. \\nSHYLOCK \\nI'll have my bond; speak not against my bond: \\nI have sworn an oath that I will have my bond. \\nThou call'dst me dog before thou hadst a cause; \\nBut, since I am a dog, beware my fangs: \\nThe duke shall grant me justice. I do wonder, \\nThou naughty gaoler, that thou art so fond \\nTo come abroad with him at his request. \\nANTONIO \\nI pray thee, hear me speak. \\nSHYLOCK \\nI'll have my bond; I will not hear thee speak: \\nI'll have my bond; and therefore speak no more. \\nI'll not be made a soft and dull-eyed fool, \\nTo shake the head, relent, and sigh, and yield \\nTo Christian intercessors. Follow not; \\nI'll have no speaking: I will have my bond. \\nExit \\nSALARINO \\nIt is the most impenetrable cur \\nThat ever kept with men. \\nANTONIO \\nLet him alone: \\nI'll follow him no more with bootless prayers. \\nHe seeks my life; his reason well I know: \\nI oft deliver'd from his forfeitures \\nMany that have at times made moan to me; \\nTherefore he hates me. \\nSALARINO\")),\n",
              " GraphDocument(nodes=[Node(id='Antonio', type='Person', properties={}), Node(id='Portia', type='Person', properties={}), Node(id='Nerissa', type='Person', properties={}), Node(id='Lorenzo', type='Person', properties={}), Node(id='Jessica', type='Person', properties={}), Node(id='Balthasar', type='Person', properties={}), Node(id='Bassanio', type='Person', properties={})], relationships=[Relationship(source=Node(id='Antonio', type='Person', properties={}), target=Node(id='Bassanio', type='Person', properties={}), type='CREDITOR', properties={}), Relationship(source=Node(id='Portia', type='Person', properties={}), target=Node(id='Nerissa', type='Person', properties={}), type='FRIEND', properties={}), Relationship(source=Node(id='Portia', type='Person', properties={}), target=Node(id='Lorenzo', type='Person', properties={}), type='FRIEND', properties={}), Relationship(source=Node(id='Portia', type='Person', properties={}), target=Node(id='Jessica', type='Person', properties={}), type='FRIEND', properties={}), Relationship(source=Node(id='Portia', type='Person', properties={}), target=Node(id='Balthasar', type='Person', properties={}), type='SERVANT', properties={}), Relationship(source=Node(id='Portia', type='Person', properties={}), target=Node(id='Antonio', type='Person', properties={}), type='BENEFACTOR', properties={})], source=Document(metadata={'producer': 'PDFium', 'creator': 'PDFium', 'creationdate': 'D:20250318171920', 'source': 'The-Merchant-of-Venice-PDF (1).pdf', 'total_pages': 72, 'page': 44, 'page_label': '45'}, page_content=\"46 \\n \\nI am sure the duke \\nWill never grant this forfeiture to hold. \\nANTONIO \\nThe duke cannot deny the course of law: \\nFor the commodity that strangers have \\nWith us in Venice, if it be denied, \\nWill much impeach the justice of his state; \\nSince that the trade and profit of the city \\nConsisteth of all nations. Therefore, go: \\nThese griefs and losses have so bated me, \\nThat I shall hardly spare a pound of flesh \\nTo-morrow to my bloody creditor. \\nWell, gaoler, on. Pray God, Bassanio come \\nTo see me pay his debt, and then I care not! \\nExeunt \\nSCENE IV. Belmont. A room in PORTIA'S house. \\nEnter PORTIA, NERISSA, LORENZO, JESSICA, and BALTHASAR \\nLORENZO \\nMadam, although I speak it in your presence, \\nYou have a noble and a true conceit \\nOf godlike amity; which appears most strongly \\nIn bearing thus the absence of your lord. \\nBut if you knew to whom you show this honour, \\nHow true a gentleman you send relief, \\nHow dear a lover of my lord your husband, \\nI know you would be prouder of the work \\nThan customary bounty can enforce you. \\nPORTIA \\nI never did repent for doing good, \\nNor shall not now: for in companions \\nThat do converse and waste the time together, \\nWhose souls do bear an equal yoke Of love, \\nThere must be needs a like proportion \\nOf lineaments, of manners and of spirit; \\nWhich makes me think that this Antonio, \\nBeing the bosom lover of my lord, \\nMust needs be like my lord. If it be so, \\nHow little is the cost I have bestow'd \\nIn purchasing the semblance of my soul \\nFrom out the state of hellish misery! \\nThis comes too near the praising of myself; \\nTherefore no more of it: hear other things. \\nLorenzo, I commit into your hands \\nThe husbandry and manage of my house \\nUntil my lord's return: for mine own part, \\nI have toward heaven breathed a secret vow \\nTo live in prayer and contemplation, \\nOnly attended by Nerissa here,\")),\n",
              " GraphDocument(nodes=[Node(id='Portia', type='Person', properties={}), Node(id='Lorenzo', type='Person', properties={}), Node(id='Jessica', type='Person', properties={}), Node(id='Nerissa', type='Person', properties={}), Node(id='Balthasar', type='Person', properties={}), Node(id='Bassanio', type='Person', properties={}), Node(id='Doctor_Bellario', type='Person', properties={}), Node(id='Monastery', type='Place', properties={}), Node(id='Padua', type='Place', properties={}), Node(id='Venice', type='Place', properties={}), Node(id='Common_Ferry', type='Place', properties={})], relationships=[Relationship(source=Node(id='Portia', type='Person', properties={}), target=Node(id='Lorenzo', type='Person', properties={}), type='SPEAKS_TO', properties={}), Relationship(source=Node(id='Portia', type='Person', properties={}), target=Node(id='Jessica', type='Person', properties={}), type='SPEAKS_TO', properties={}), Relationship(source=Node(id='Portia', type='Person', properties={}), target=Node(id='Nerissa', type='Person', properties={}), type='SPEAKS_TO', properties={}), Relationship(source=Node(id='Portia', type='Person', properties={}), target=Node(id='Balthasar', type='Person', properties={}), type='GIVES_LETTER_TO', properties={}), Relationship(source=Node(id='Lorenzo', type='Person', properties={}), target=Node(id='Monastery', type='Place', properties={}), type='GOES_TO', properties={}), Relationship(source=Node(id='Jessica', type='Person', properties={}), target=Node(id='Monastery', type='Place', properties={}), type='GOES_TO', properties={}), Relationship(source=Node(id='Balthasar', type='Person', properties={}), target=Node(id='Padua', type='Place', properties={}), type='GOES_TO', properties={}), Relationship(source=Node(id='Balthasar', type='Person', properties={}), target=Node(id='Common_Ferry', type='Place', properties={}), type='GOES_TO', properties={}), Relationship(source=Node(id='Portia', type='Person', properties={}), target=Node(id='Doctor_Bellario', type='Person', properties={}), type='SENDS_LETTER_TO', properties={}), Relationship(source=Node(id='Portia', type='Person', properties={}), target=Node(id='Nerissa', type='Person', properties={}), type='PLANS_TO_DISGUISE_AS', properties={}), Relationship(source=Node(id='Nerissa', type='Person', properties={}), target=Node(id='Portia', type='Person', properties={}), type='PLANS_TO_DISGUISE_AS', properties={})], source=Document(metadata={'producer': 'PDFium', 'creator': 'PDFium', 'creationdate': 'D:20250318171920', 'source': 'The-Merchant-of-Venice-PDF (1).pdf', 'total_pages': 72, 'page': 45, 'page_label': '46'}, page_content=\"47 \\n \\nUntil her husband and my lord's return: \\nThere is a monastery two miles off; \\nAnd there will we abide. I do desire you \\nNot to deny this imposition; \\nThe which my love and some necessity \\nNow lays upon you. \\nLORENZO \\nMadam, with all my heart; \\nI shall obey you in all fair commands. \\nPORTIA \\nMy people do already know my mind, \\nAnd will acknowledge you and Jessica \\nIn place of Lord Bassanio and myself. \\nAnd so farewell, till we shall meet again. \\nLORENZO \\nFair thoughts and happy hours attend on you! \\nJESSICA \\nI wish your ladyship all heart's content. \\nPORTIA \\nI thank you for your wish, and am well pleased \\nTo wish it back on you: fare you well Jessica. \\nExeunt JESSICA and LORENZO \\nNow, Balthasar, \\nAs I have ever found thee honest-true, \\nSo let me find thee still. Take this same letter, \\nAnd use thou all the endeavour of a man \\nIn speed to Padua: see thou render this \\nInto my cousin's hand, Doctor Bellario; \\nAnd, look, what notes and garments he doth give thee, \\nBring them, I pray thee, with imagined speed \\nUnto the tranect, to the common ferry \\nWhich trades to Venice. Waste no time in words, \\nBut get thee gone: I shall be there before thee. \\nBALTHASAR \\nMadam, I go with all convenient speed. \\nExit \\nPORTIA \\nCome on, Nerissa; I have work in hand \\nThat you yet know not of: we'll see our husbands \\nBefore they think of us. \\nNERISSA \\nShall they see us? \\nPORTIA \\nThey shall, Nerissa; but in such a habit, \\nThat they shall think we are accomplished \\nWith that we lack. I'll hold thee any wager, \\nWhen we are both accoutred like young men, \\nI'll prove the prettier fellow of the two, \\nAnd wear my dagger with the braver grace, \\nAnd speak between the change of man and boy\")),\n",
              " GraphDocument(nodes=[Node(id='Portia', type='Person', properties={}), Node(id='Nerissa', type='Person', properties={}), Node(id='Launcelot', type='Person', properties={}), Node(id='Jessica', type='Person', properties={}), Node(id='Twenty-Mile Journey', type='Event', properties={}), Node(id='Plan', type='Concept', properties={}), Node(id='Husband', type='Person', properties={})], relationships=[Relationship(source=Node(id='Portia', type='Person', properties={}), target=Node(id='Nerissa', type='Person', properties={}), type='COLLABORATES_WITH', properties={}), Relationship(source=Node(id='Portia', type='Person', properties={}), target=Node(id='Plan', type='Concept', properties={}), type='DISCUSSES', properties={}), Relationship(source=Node(id='Plan', type='Concept', properties={}), target=Node(id='Twenty-Mile Journey', type='Event', properties={}), type='INVOLVES', properties={}), Relationship(source=Node(id='Launcelot', type='Person', properties={}), target=Node(id='Jessica', type='Person', properties={}), type='DISCUSSES_WITH', properties={}), Relationship(source=Node(id='Jessica', type='Person', properties={}), target=Node(id='Husband', type='Person', properties={}), type='SAVED_BY', properties={})], source=Document(metadata={'producer': 'PDFium', 'creator': 'PDFium', 'creationdate': 'D:20250318171920', 'source': 'The-Merchant-of-Venice-PDF (1).pdf', 'total_pages': 72, 'page': 46, 'page_label': '47'}, page_content=\"48 \\n \\nWith a reed voice, and turn two mincing steps \\nInto a manly stride, and speak of frays \\nLike a fine bragging youth, and tell quaint lies, \\nHow honourable ladies sought my love, \\nWhich I denying, they fell sick and died; \\nI could not do withal; then I'll repent, \\nAnd wish for all that, that I had not killed them; \\nAnd twenty of these puny lies I'll tell, \\nThat men shall swear I have discontinued school \\nAbove a twelvemonth. I have within my mind \\nA thousand raw tricks of these bragging Jacks, \\nWhich I will practise. \\nNERISSA \\nWhy, shall we turn to men? \\nPORTIA \\nFie, what a question's that, \\nIf thou wert near a lewd interpreter! \\nBut come, I'll tell thee all my whole device \\nWhen I am in my coach, which stays for us \\nAt the park gate; and therefore haste away, \\nFor we must measure twenty miles to-day. \\nExeunt \\nSCENE V. The same. A garden. \\nEnter LAUNCELOT and JESSICA \\nLAUNCELOT \\nYes, truly; for, look you, the sins of the father \\nare to be laid upon the children: therefore, I \\npromise ye, I fear you. I was always plain with \\nyou, and so now I speak my agitation of the matter: \\ntherefore be of good cheer, for truly I think you \\nare damned. There is but one hope in it that can do \\nyou any good; and that is but a kind of bastard \\nhope neither. \\nJESSICA \\nAnd what hope is that, I pray thee? \\nLAUNCELOT \\nMarry, you may partly hope that your father got you \\nnot, that you are not the Jew's daughter. \\nJESSICA \\nThat were a kind of bastard hope, indeed: so the \\nsins of my mother should be visited upon me. \\nLAUNCELOT \\nTruly then I fear you are damned both by father and \\nmother: thus when I shun Scylla, your father, I \\nfall into Charybdis, your mother: well, you are \\ngone both ways. \\nJESSICA \\nI shall be saved by my husband; he hath made me a\")),\n",
              " GraphDocument(nodes=[Node(id='Christian', type='Person', properties={}), Node(id='Launcelot', type='Person', properties={}), Node(id='Lorenzo', type='Person', properties={}), Node(id='Jessica', type='Person', properties={}), Node(id='Moor', type='Person', properties={})], relationships=[Relationship(source=Node(id='Launcelot', type='Person', properties={}), target=Node(id='Jessica', type='Person', properties={}), type='INTERACTS_WITH', properties={}), Relationship(source=Node(id='Lorenzo', type='Person', properties={}), target=Node(id='Launcelot', type='Person', properties={}), type='INTERACTS_WITH', properties={}), Relationship(source=Node(id='Lorenzo', type='Person', properties={}), target=Node(id='Jessica', type='Person', properties={}), type='INTERACTS_WITH', properties={}), Relationship(source=Node(id='Launcelot', type='Person', properties={}), target=Node(id='Moor', type='Person', properties={}), type='REFERS_TO', properties={})], source=Document(metadata={'producer': 'PDFium', 'creator': 'PDFium', 'creationdate': 'D:20250318171920', 'source': 'The-Merchant-of-Venice-PDF (1).pdf', 'total_pages': 72, 'page': 47, 'page_label': '48'}, page_content=\"49 \\n \\nChristian. \\nLAUNCELOT \\nTruly, the more to blame he: we were Christians \\nenow before; e'en as many as could well live, one by \\nanother. This making Christians will raise the \\nprice of hogs: if we grow all to be pork-eaters, we \\nshall not shortly have a rasher on the coals for money. \\nEnter LORENZO \\nJESSICA \\nI'll tell my husband, Launcelot, what you say: here he comes. \\nLORENZO \\nI shall grow jealous of you shortly, Launcelot, if \\nyou thus get my wife into corners. \\nJESSICA \\nNay, you need not fear us, Lorenzo: Launcelot and I \\nare out. He tells me flatly, there is no mercy for \\nme in heaven, because I am a Jew's daughter: and he \\nsays, you are no good member of the commonwealth, \\nfor in converting Jews to Christians, you raise the \\nprice of pork. \\nLORENZO \\nI shall answer that better to the commonwealth than \\nyou can the getting up of the negro's belly: the \\nMoor is with child by you, Launcelot. \\nLAUNCELOT \\nIt is much that the Moor should be more than reason: \\nbut if she be less than an honest woman, she is \\nindeed more than I took her for. \\nLORENZO \\nHow every fool can play upon the word! I think the \\nbest grace of wit will shortly turn into silence, \\nand discourse grow commendable in none only but \\nparrots. Go in, sirrah; bid them prepare for dinner. \\nLAUNCELOT \\nThat is done, sir; they have all stomachs. \\nLORENZO \\nGoodly Lord, what a wit-snapper are you! then bid \\nthem prepare dinner. \\nLAUNCELOT \\nThat is done too, sir; only 'cover' is the word. \\nLORENZO \\nWill you cover then, sir? \\nLAUNCELOT \\nNot so, sir, neither; I know my duty. \\nLORENZO \\nYet more quarrelling with occasion! Wilt thou show \\nthe whole wealth of thy wit in an instant? I pray \\ntree, understand a plain man in his plain meaning: \\ngo to thy fellows; bid them cover the table, serve \\nin the meat, and we will come in to dinner.\")),\n",
              " GraphDocument(nodes=[Node(id='Lorenzo', type='Person', properties={}), Node(id='Jessica', type='Person', properties={}), Node(id='Launcelot', type='Person', properties={}), Node(id='Portia', type='Person', properties={})], relationships=[Relationship(source=Node(id='Lorenzo', type='Person', properties={}), target=Node(id='Jessica', type='Person', properties={}), type='MARRIED', properties={}), Relationship(source=Node(id='Jessica', type='Person', properties={}), target=Node(id='Portia', type='Person', properties={}), type='COMMENTS_ON', properties={}), Relationship(source=Node(id='Launcelot', type='Person', properties={}), target=Node(id='Table', type='Object', properties={}), type='SERVES', properties={})], source=Document(metadata={'producer': 'PDFium', 'creator': 'PDFium', 'creationdate': 'D:20250318171920', 'source': 'The-Merchant-of-Venice-PDF (1).pdf', 'total_pages': 72, 'page': 48, 'page_label': '49'}, page_content=\"50 \\n \\nLAUNCELOT \\nFor the table, sir, it shall be served in; for the \\nmeat, sir, it shall be covered; for your coming in \\nto dinner, sir, why, let it be as humours and \\nconceits shall govern. \\nExit \\nLORENZO \\nO dear discretion, how his words are suited! \\nThe fool hath planted in his memory \\nAn army of good words; and I do know \\nA many fools, that stand in better place, \\nGarnish'd like him, that for a tricksy word \\nDefy the matter. How cheerest thou, Jessica? \\nAnd now, good sweet, say thy opinion, \\nHow dost thou like the Lord Bassanio's wife? \\nJESSICA \\nPast all expressing. It is very meet \\nThe Lord Bassanio live an upright life; \\nFor, having such a blessing in his lady, \\nHe finds the joys of heaven here on earth; \\nAnd if on earth he do not mean it, then \\nIn reason he should never come to heaven \\nWhy, if two gods should play some heavenly match \\nAnd on the wager lay two earthly women, \\nAnd Portia one, there must be something else \\nPawn'd with the other, for the poor rude world \\nHath not her fellow. \\nLORENZO \\nEven such a husband \\nHast thou of me as she is for a wife. \\nJESSICA \\nNay, but ask my opinion too of that. \\nLORENZO \\nI will anon: first, let us go to dinner. \\nJESSICA \\nNay, let me praise you while I have a stomach. \\nLORENZO \\nNo, pray thee, let it serve for table-talk; \\nThen, howso'er thou speak'st, 'mong other things \\nI shall digest it. \\nJESSICA \\nWell, I'll set you forth. \\nExeunt\")),\n",
              " GraphDocument(nodes=[Node(id='Duke', type='Person', properties={}), Node(id='Magnificoes', type='Person', properties={}), Node(id='Antonio', type='Person', properties={}), Node(id='Bassanio', type='Person', properties={}), Node(id='Gratiano', type='Person', properties={}), Node(id='Salerio', type='Person', properties={}), Node(id='Shylock', type='Person', properties={}), Node(id='Venice', type='Place', properties={}), Node(id='Court Of Justice', type='Place', properties={})], relationships=[Relationship(source=Node(id='Duke', type='Person', properties={}), target=Node(id='Venice', type='Place', properties={}), type='LOCATED_IN', properties={}), Relationship(source=Node(id='Duke', type='Person', properties={}), target=Node(id='Court Of Justice', type='Place', properties={}), type='PART_OF', properties={}), Relationship(source=Node(id='Antonio', type='Person', properties={}), target=Node(id='Court Of Justice', type='Place', properties={}), type='LOCATED_IN', properties={}), Relationship(source=Node(id='Bassanio', type='Person', properties={}), target=Node(id='Court Of Justice', type='Place', properties={}), type='LOCATED_IN', properties={}), Relationship(source=Node(id='Gratiano', type='Person', properties={}), target=Node(id='Court Of Justice', type='Place', properties={}), type='LOCATED_IN', properties={}), Relationship(source=Node(id='Salerio', type='Person', properties={}), target=Node(id='Court Of Justice', type='Place', properties={}), type='LOCATED_IN', properties={}), Relationship(source=Node(id='Shylock', type='Person', properties={}), target=Node(id='Court Of Justice', type='Place', properties={}), type='LOCATED_IN', properties={})], source=Document(metadata={'producer': 'PDFium', 'creator': 'PDFium', 'creationdate': 'D:20250318171920', 'source': 'The-Merchant-of-Venice-PDF (1).pdf', 'total_pages': 72, 'page': 49, 'page_label': '50'}, page_content=\"51 \\n \\nACT IV \\nSCENE I. Venice. A court of justice. \\nEnter the DUKE, the Magnificoes, ANTONIO, BASSANIO, GRATIANO, SALERIO, and \\nothers \\nDUKE \\nWhat, is Antonio here? \\nANTONIO \\nReady, so please your grace. \\nDUKE \\nI am sorry for thee: thou art come to answer \\nA stony adversary, an inhuman wretch \\nuncapable of pity, void and empty \\nFrom any dram of mercy. \\nANTONIO \\nI have heard \\nYour grace hath ta'en great pains to qualify \\nHis rigorous course; but since he stands obdurate \\nAnd that no lawful means can carry me \\nOut of his envy's reach, I do oppose \\nMy patience to his fury, and am arm'd \\nTo suffer, with a quietness of spirit, \\nThe very tyranny and rage of his. \\nDUKE \\nGo one, and call the Jew into the court. \\nSALERIO \\nHe is ready at the door: he comes, my lord. \\nEnter SHYLOCK \\nDUKE \\nMake room, and let him stand before our face. \\nShylock, the world thinks, and I think so too, \\nThat thou but lead'st this fashion of thy malice \\nTo the last hour of act; and then 'tis thought \\nThou'lt show thy mercy and remorse more strange \\nThan is thy strange apparent cruelty; \\nAnd where thou now exact'st the penalty, \\nWhich is a pound of this poor merchant's flesh, \\nThou wilt not only loose the forfeiture, \\nBut, touch'd with human gentleness and love, \\nForgive a moiety of the principal; \\nGlancing an eye of pity on his losses, \\nThat have of late so huddled on his back, \\nEnow to press a royal merchant down \\nAnd pluck commiseration of his state \\nFrom brassy bosoms and rough hearts of flint, \\nFrom stubborn Turks and Tartars, never train'd \\nTo offices of tender courtesy. \\nWe all expect a gentle answer, Jew. \\nSHYLOCK\")),\n",
              " GraphDocument(nodes=[Node(id='Shylock', type='Person', properties={}), Node(id='Bassanio', type='Person', properties={}), Node(id='Antonio', type='Person', properties={})], relationships=[Relationship(source=Node(id='Shylock', type='Person', properties={}), target=Node(id='Antonio', type='Person', properties={}), type='SUES', properties={}), Relationship(source=Node(id='Bassanio', type='Person', properties={}), target=Node(id='Shylock', type='Person', properties={}), type='QUESTIONS', properties={}), Relationship(source=Node(id='Antonio', type='Person', properties={}), target=Node(id='Shylock', type='Person', properties={}), type='PRAYS', properties={})], source=Document(metadata={'producer': 'PDFium', 'creator': 'PDFium', 'creationdate': 'D:20250318171920', 'source': 'The-Merchant-of-Venice-PDF (1).pdf', 'total_pages': 72, 'page': 50, 'page_label': '51'}, page_content=\"52 \\n \\nI have possess'd your grace of what I purpose; \\nAnd by our holy Sabbath have I sworn \\nTo have the due and forfeit of my bond: \\nIf you deny it, let the danger light \\nUpon your charter and your city's freedom. \\nYou'll ask me, why I rather choose to have \\nA weight of carrion flesh than to receive \\nThree thousand ducats: I'll not answer that: \\nBut, say, it is my humour: is it answer'd? \\nWhat if my house be troubled with a rat \\nAnd I be pleased to give ten thousand ducats \\nTo have it baned? What, are you answer'd yet? \\nSome men there are love not a gaping pig; \\nSome, that are mad if they behold a cat; \\nAnd others, when the bagpipe sings i' the nose, \\nCannot contain their urine: for affection, \\nMistress of passion, sways it to the mood \\nOf what it likes or loathes. Now, for your answer: \\nAs there is no firm reason to be render'd, \\nWhy he cannot abide a gaping pig; \\nWhy he, a harmless necessary cat; \\nWhy he, a woollen bagpipe; but of force \\nMust yield to such inevitable shame \\nAs to offend, himself being offended; \\nSo can I give no reason, nor I will not, \\nMore than a lodged hate and a certain loathing \\nI bear Antonio, that I follow thus \\nA losing suit against him. Are you answer'd? \\nBASSANIO \\nThis is no answer, thou unfeeling man, \\nTo excuse the current of thy cruelty. \\nSHYLOCK \\nI am not bound to please thee with my answers. \\nBASSANIO \\nDo all men kill the things they do not love? \\nSHYLOCK \\nHates any man the thing he would not kill? \\nBASSANIO \\nEvery offence is not a hate at first. \\nSHYLOCK \\nWhat, wouldst thou have a serpent sting thee twice? \\nANTONIO \\nI pray you, think you question with the Jew: \\nYou may as well go stand upon the beach \\nAnd bid the main flood bate his usual height; \\nYou may as well use question with the wolf \\nWhy he hath made the ewe bleat for the lamb; \\nYou may as well forbid the mountain pines \\nTo wag their high tops and to make no noise, \\nWhen they are fretten with the gusts of heaven;\")),\n",
              " GraphDocument(nodes=[Node(id='Shylock', type='Person', properties={}), Node(id='Bassanio', type='Person', properties={}), Node(id='Antonio', type='Person', properties={}), Node(id='Duke', type='Person', properties={}), Node(id='Salerio', type='Person', properties={}), Node(id='Bellario', type='Person', properties={}), Node(id='Law', type='Concept', properties={}), Node(id='Bond', type='Concept', properties={}), Node(id='Mercy', type='Concept', properties={}), Node(id='Justice', type='Concept', properties={})], relationships=[Relationship(source=Node(id='Shylock', type='Person', properties={}), target=Node(id='Antonio', type='Person', properties={}), type='DEMANDS', properties={}), Relationship(source=Node(id='Bassanio', type='Person', properties={}), target=Node(id='Antonio', type='Person', properties={}), type='OFFERS', properties={}), Relationship(source=Node(id='Duke', type='Person', properties={}), target=Node(id='Bellario', type='Person', properties={}), type='MENTIONS', properties={}), Relationship(source=Node(id='Shylock', type='Person', properties={}), target=Node(id='Law', type='Concept', properties={}), type='QUESTIONS', properties={}), Relationship(source=Node(id='Duke', type='Person', properties={}), target=Node(id='Court', type='Concept', properties={}), type='DISMISSES', properties={}), Relationship(source=Node(id='Shylock', type='Person', properties={}), target=Node(id='Justice', type='Concept', properties={}), type='QUESTIONS', properties={}), Relationship(source=Node(id='Bassanio', type='Person', properties={}), target=Node(id='Antonio', type='Person', properties={}), type='SUPPORTS', properties={}), Relationship(source=Node(id='Antonio', type='Person', properties={}), target=Node(id='Mercy', type='Concept', properties={}), type='REQUESTS', properties={})], source=Document(metadata={'producer': 'PDFium', 'creator': 'PDFium', 'creationdate': 'D:20250318171920', 'source': 'The-Merchant-of-Venice-PDF (1).pdf', 'total_pages': 72, 'page': 51, 'page_label': '52'}, page_content=\"53 \\n \\nYou may as well do anything most hard, \\nAs seek to soften that--than which what's harder?-- \\nHis Jewish heart: therefore, I do beseech you, \\nMake no more offers, use no farther means, \\nBut with all brief and plain conveniency \\nLet me have judgment and the Jew his will. \\nBASSANIO \\nFor thy three thousand ducats here is six. \\nSHYLOCK \\nWhat judgment shall I dread, doing \\nWere in six parts and every part a ducat, \\nI would not draw them; I would have my bond. \\nDUKE \\nHow shalt thou hope for mercy, rendering none? \\nSHYLOCK \\nWhat judgment shall I dread, doing no wrong? \\nYou have among you many a purchased slave, \\nWhich, like your asses and your dogs and mules, \\nYou use in abject and in slavish parts, \\nBecause you bought them: shall I say to you, \\nLet them be free, marry them to your heirs? \\nWhy sweat they under burthens? let their beds \\nBe made as soft as yours and let their palates \\nBe season'd with such viands? You will answer \\nThe slaves are ours:' so do I answer you: \\nThe pound of flesh, which I demand of him, \\nIs dearly bought; 'tis mine and I will have it. \\nIf you deny me, fie upon your law! \\nThere is no force in the decrees of Venice. \\nI stand for judgment: answer; shall I have it? \\nDUKE \\nUpon my power I may dismiss this court, \\nUnless Bellario, a learned doctor, \\nWhom I have sent for to determine this, \\nCome here to-day. \\nSALERIO \\nMy lord, here stays without \\nA messenger with letters from the doctor, \\nNew come from Padua. \\nDUKE \\nBring us the letter; call the messenger. \\nBASSANIO \\nGood cheer, Antonio! What, man, courage yet! \\nThe Jew shall have my flesh, blood, bones and all, \\nEre thou shalt lose for me one drop of blood. \\nANTONIO \\nI am a tainted wether of the flock, \\nMeetest for death: the weakest kind of fruit \\nDrops earliest to the ground; and so let me \\nYou cannot better be employ'd, Bassanio,\")),\n",
              " GraphDocument(nodes=[Node(id='Duke', type='Person', properties={}), Node(id='Nerissa', type='Person', properties={}), Node(id='Bassanio', type='Person', properties={}), Node(id='Shylock', type='Person', properties={}), Node(id='Gratiano', type='Person', properties={}), Node(id='Padua', type='Place', properties={}), Node(id='Bellario', type='Person', properties={}), Node(id=\"Lawyer'S Clerk\", type='Occupation', properties={}), Node(id='Letter', type='Document', properties={}), Node(id='Doctor', type='Person', properties={}), Node(id='Clerk', type='Person', properties={})], relationships=[Relationship(source=Node(id='Nerissa', type='Person', properties={}), target=Node(id=\"Lawyer'S Clerk\", type='Occupation', properties={}), type='DRESSED_AS', properties={}), Relationship(source=Node(id='Nerissa', type='Person', properties={}), target=Node(id='Padua', type='Place', properties={}), type='CAME_FROM', properties={}), Relationship(source=Node(id='Nerissa', type='Person', properties={}), target=Node(id='Bellario', type='Person', properties={}), type='CAME_FROM', properties={}), Relationship(source=Node(id='Bassanio', type='Person', properties={}), target=Node(id='Shylock', type='Person', properties={}), type='SPEAKS_TO', properties={}), Relationship(source=Node(id='Shylock', type='Person', properties={}), target=Node(id='Bassanio', type='Person', properties={}), type='SHARPENS_KNIFE_TO', properties={}), Relationship(source=Node(id='Shylock', type='Person', properties={}), target=Node(id='Bassanio', type='Person', properties={}), type='CUTS_FORFEITURE_FROM', properties={}), Relationship(source=Node(id='Gratiano', type='Person', properties={}), target=Node(id='Shylock', type='Person', properties={}), type='ACCUSES', properties={}), Relationship(source=Node(id='Shylock', type='Person', properties={}), target=Node(id='Gratiano', type='Person', properties={}), type='RESPONDS_TO', properties={}), Relationship(source=Node(id='Duke', type='Person', properties={}), target=Node(id='Letter', type='Document', properties={}), type='RECEIVES', properties={}), Relationship(source=Node(id='Letter', type='Document', properties={}), target=Node(id='Doctor', type='Person', properties={}), type='COMMENDS', properties={}), Relationship(source=Node(id='Duke', type='Person', properties={}), target=Node(id='Doctor', type='Person', properties={}), type='ADMITS', properties={}), Relationship(source=Node(id='Nerissa', type='Person', properties={}), target=Node(id='Doctor', type='Person', properties={}), type='MENTIONS', properties={}), Relationship(source=Node(id='Clerk', type='Person', properties={}), target=Node(id='Letter', type='Document', properties={}), type='READS', properties={}), Relationship(source=Node(id='Letter', type='Document', properties={}), target=Node(id='Bellario', type='Person', properties={}), type='MENTIONS', properties={})], source=Document(metadata={'producer': 'PDFium', 'creator': 'PDFium', 'creationdate': 'D:20250318171920', 'source': 'The-Merchant-of-Venice-PDF (1).pdf', 'total_pages': 72, 'page': 52, 'page_label': '53'}, page_content=\"54 \\n \\nThan to live still and write mine epitaph. \\nEnter NERISSA, dressed like a lawyer's clerk \\nDUKE \\nCame you from Padua, from Bellario? \\nNERISSA \\nFrom both, my lord. Bellario greets your grace. \\nPresenting a letter \\nBASSANIO \\nWhy dost thou whet thy knife so earnestly? \\nSHYLOCK \\nTo cut the forfeiture from that bankrupt there. \\nGRATIANO \\nNot on thy sole, but on thy soul, harsh Jew, \\nThou makest thy knife keen; but no metal can, \\nNo, not the hangman's axe, bear half the keenness \\nOf thy sharp envy. Can no prayers pierce thee? \\nSHYLOCK \\nNo, none that thou hast wit enough to make. \\nGRATIANO \\nO, be thou damn'd, inexecrable dog! \\nAnd for thy life let justice be accused. \\nThou almost makest me waver in my faith \\nTo hold opinion with Pythagoras, \\nThat souls of animals infuse themselves \\nInto the trunks of men: thy currish spirit \\nGovern'd a wolf, who, hang'd for human slaughter, \\nEven from the gallows did his fell soul fleet, \\nAnd, whilst thou lay'st in thy unhallow'd dam, \\nInfused itself in thee; for thy desires \\nAre wolvish, bloody, starved and ravenous. \\nSHYLOCK \\nTill thou canst rail the seal from off my bond, \\nThou but offend'st thy lungs to speak so loud: \\nRepair thy wit, good youth, or it will fall \\nTo cureless ruin. I stand here for law. \\nDUKE \\nThis letter from Bellario doth commend \\nA young and learned doctor to our court. \\nWhere is he? \\nNERISSA \\nHe attendeth here hard by, \\nTo know your answer, whether you'll admit him. \\nDUKE \\nWith all my heart. Some three or four of you \\nGo give him courteous conduct to this place. \\nMeantime the court shall hear Bellario's letter. \\nClerk \\n[Reads] \\nYour grace shall understand that at the receipt of \\nyour letter I am very sick: but in the instant that\")),\n",
              " GraphDocument(nodes=[Node(id='Duke', type='Person', properties={}), Node(id='Balthasar', type='Person', properties={}), Node(id='Antonio', type='Person', properties={}), Node(id='Shylock', type='Person', properties={}), Node(id='Portia', type='Person', properties={}), Node(id='Bellario', type='Person', properties={})], relationships=[Relationship(source=Node(id='Duke', type='Person', properties={}), target=Node(id='Balthasar', type='Person', properties={}), type='REPRESENTATIVE', properties={}), Relationship(source=Node(id='Balthasar', type='Person', properties={}), target=Node(id='Antonio', type='Person', properties={}), type='ACQUAINTED_WITH', properties={}), Relationship(source=Node(id='Balthasar', type='Person', properties={}), target=Node(id='Shylock', type='Person', properties={}), type='ACQUAINTED_WITH', properties={}), Relationship(source=Node(id='Portia', type='Person', properties={}), target=Node(id='Duke', type='Person', properties={}), type='WELCOMED_BY', properties={}), Relationship(source=Node(id='Portia', type='Person', properties={}), target=Node(id='Antonio', type='Person', properties={}), type='INFORMED_ABOUT', properties={}), Relationship(source=Node(id='Portia', type='Person', properties={}), target=Node(id='Shylock', type='Person', properties={}), type='INFORMED_ABOUT', properties={}), Relationship(source=Node(id='Antonio', type='Person', properties={}), target=Node(id='Shylock', type='Person', properties={}), type='CASE_INVOLVED', properties={})], source=Document(metadata={'producer': 'PDFium', 'creator': 'PDFium', 'creationdate': 'D:20250318171920', 'source': 'The-Merchant-of-Venice-PDF (1).pdf', 'total_pages': 72, 'page': 53, 'page_label': '54'}, page_content=\"55 \\n \\nyour messenger came, in loving visitation was with \\nme a young doctor of Rome; his name is Balthasar. I \\nacquainted him with the cause in controversy between \\nthe Jew and Antonio the merchant: we turned o'er \\nmany books together: he is furnished with my \\nopinion; which, bettered with his own learning, the \\ngreatness whereof I cannot enough commend, comes \\nwith him, at my importunity, to fill up your grace's \\nrequest in my stead. I beseech you, let his lack of \\nyears be no impediment to let him lack a reverend \\nestimation; for I never knew so young a body with so \\nold a head. I leave him to your gracious \\nacceptance, whose trial shall better publish his \\ncommendation. \\nDUKE \\nYou hear the learn'd Bellario, what he writes: \\nAnd here, I take it, is the doctor come. \\nEnter PORTIA, dressed like a doctor of laws \\nGive me your hand. Come you from old Bellario? \\nPORTIA \\nI did, my lord. \\nDUKE \\nYou are welcome: take your place. \\nAre you acquainted with the difference \\nThat holds this present question in the court? \\nPORTIA \\nI am informed thoroughly of the cause. \\nWhich is the merchant here, and which the Jew? \\nDUKE \\nAntonio and old Shylock, both stand forth. \\nPORTIA \\nIs your name Shylock? \\nSHYLOCK \\nShylock is my name. \\nPORTIA \\nOf a strange nature is the suit you follow; \\nYet in such rule that the Venetian law \\nCannot impugn you as you do proceed. \\nYou stand within his danger, do you not? \\nANTONIO \\nAy, so he says. \\nPORTIA \\nDo you confess the bond? \\nANTONIO \\nI do. \\nPORTIA \\nThen must the Jew be merciful. \\nSHYLOCK \\nOn what compulsion must I? tell me that. \\nPORTIA\")),\n",
              " GraphDocument(nodes=[Node(id='Portia', type='Person', properties={}), Node(id='Shylock', type='Person', properties={}), Node(id='Bassanio', type='Person', properties={}), Node(id='Merchant', type='Person', properties={}), Node(id='Mercy', type='Concept', properties={}), Node(id='Justice', type='Concept', properties={}), Node(id='Law', type='Concept', properties={}), Node(id='Bond', type='Concept', properties={}), Node(id='Court Of Venice', type='Organization', properties={})], relationships=[Relationship(source=Node(id='Portia', type='Person', properties={}), target=Node(id='Mercy', type='Concept', properties={}), type='ADVOCATES_FOR', properties={}), Relationship(source=Node(id='Portia', type='Person', properties={}), target=Node(id='Justice', type='Concept', properties={}), type='REPRESENTS', properties={}), Relationship(source=Node(id='Shylock', type='Person', properties={}), target=Node(id='Law', type='Concept', properties={}), type='INSISTS_ON', properties={}), Relationship(source=Node(id='Shylock', type='Person', properties={}), target=Node(id='Bond', type='Concept', properties={}), type='DEMANDS', properties={}), Relationship(source=Node(id='Bassanio', type='Person', properties={}), target=Node(id='Merchant', type='Person', properties={}), type='SUPPORTS', properties={}), Relationship(source=Node(id='Bassanio', type='Person', properties={}), target=Node(id='Money', type='Concept', properties={}), type='OFFERS', properties={}), Relationship(source=Node(id='Merchant', type='Person', properties={}), target=Node(id='Bond', type='Concept', properties={}), type='IS_BOUND_BY', properties={}), Relationship(source=Node(id='Court Of Venice', type='Organization', properties={}), target=Node(id='Law', type='Concept', properties={}), type='UPHOLDS', properties={})], source=Document(metadata={'producer': 'PDFium', 'creator': 'PDFium', 'creationdate': 'D:20250318171920', 'source': 'The-Merchant-of-Venice-PDF (1).pdf', 'total_pages': 72, 'page': 54, 'page_label': '55'}, page_content=\"56 \\n \\nThe quality of mercy is not strain'd, \\nIt droppeth as the gentle rain from heaven \\nUpon the place beneath: it is twice blest; \\nIt blesseth him that gives and him that takes: \\nTis mightiest in the mightiest: it becomes \\nThe throned monarch better than his crown; \\nHis sceptre shows the force of temporal power, \\nThe attribute to awe and majesty, \\nWherein doth sit the dread and fear of kings; \\nBut mercy is above this sceptred sway; \\nIt is enthroned in the hearts of kings, \\nIt is an attribute to God himself; \\nAnd earthly power doth then show likest God's \\nWhen mercy seasons justice. Therefore, Jew, \\nThough justice be thy plea, consider this, \\nThat, in the course of justice, none of us \\nShould see salvation: we do pray for mercy; \\nAnd that same prayer doth teach us all to render \\nThe deeds of mercy. I have spoke thus much \\nTo mitigate the justice of thy plea; \\nWhich if thou follow, this strict court of Venice \\nMust needs give sentence 'gainst the merchant there. \\nSHYLOCK \\nMy deeds upon my head! I crave the law, \\nThe penalty and forfeit of my bond. \\nPORTIA \\nIs he not able to discharge the money? \\nBASSANIO \\nYes, here I tender it for him in the court; \\nYea, twice the sum: if that will not suffice, \\nI will be bound to pay it ten times o'er, \\nOn forfeit of my hands, my head, my heart: \\nIf this will not suffice, it must appear \\nThat malice bears down truth. And I beseech you, \\nWrest once the law to your authority: \\nTo do a great right, do a little wrong, \\nAnd curb this cruel devil of his will. \\nPORTIA \\nIt must not be; there is no power in Venice \\nCan alter a decree established: \\nTwill be recorded for a precedent, \\nAnd many an error by the same example \\nWill rush into the state: it cannot be. \\nSHYLOCK \\nA Daniel come to judgment! yea, a Daniel! \\nO wise young judge, how I do honour thee! \\nPORTIA \\nI pray you, let me look upon the bond. \\nSHYLOCK \\nHere 'tis, most reverend doctor, here it is.\")),\n",
              " GraphDocument(nodes=[Node(id='Portia', type='Person', properties={}), Node(id='Shylock', type='Person', properties={}), Node(id='Antonio', type='Person', properties={}), Node(id='Bond', type='Bond', properties={}), Node(id='Law', type='Law', properties={}), Node(id='Court', type='Court', properties={})], relationships=[Relationship(source=Node(id='Portia', type='Person', properties={}), target=Node(id='Court', type='Court', properties={}), type='JUDGE', properties={}), Relationship(source=Node(id='Shylock', type='Person', properties={}), target=Node(id='Bond', type='Bond', properties={}), type='HAS', properties={}), Relationship(source=Node(id='Antonio', type='Person', properties={}), target=Node(id='Bond', type='Bond', properties={}), type='AFFECTEDBY', properties={}), Relationship(source=Node(id='Bond', type='Bond', properties={}), target=Node(id='Law', type='Law', properties={}), type='ENFORCEDBY', properties={})], source=Document(metadata={'producer': 'PDFium', 'creator': 'PDFium', 'creationdate': 'D:20250318171920', 'source': 'The-Merchant-of-Venice-PDF (1).pdf', 'total_pages': 72, 'page': 55, 'page_label': '56'}, page_content=\"57 \\n \\nPORTIA \\nShylock, there's thrice thy money offer'd thee. \\nSHYLOCK \\nAn oath, an oath, I have an oath in heaven: \\nShall I lay perjury upon my soul? \\nNo, not for Venice. \\nPORTIA \\nWhy, this bond is forfeit; \\nAnd lawfully by this the Jew may claim \\nA pound of flesh, to be by him cut off \\nNearest the merchant's heart. Be merciful: \\nTake thrice thy money; bid me tear the bond. \\nSHYLOCK \\nWhen it is paid according to the tenor. \\nIt doth appear you are a worthy judge; \\nYou know the law, your exposition \\nHath been most sound: I charge you by the law, \\nWhereof you are a well-deserving pillar, \\nProceed to judgment: by my soul I swear \\nThere is no power in the tongue of man \\nTo alter me: I stay here on my bond. \\nANTONIO \\nMost heartily I do beseech the court \\nTo give the judgment. \\nPORTIA \\nWhy then, thus it is: \\nYou must prepare your bosom for his knife. \\nSHYLOCK \\nO noble judge! O excellent young man! \\nPORTIA \\nFor the intent and purpose of the law \\nHath full relation to the penalty, \\nWhich here appeareth due upon the bond. \\nSHYLOCK \\nTis very true: O wise and upright judge! \\nHow much more elder art thou than thy looks! \\nPORTIA \\nTherefore lay bare your bosom. \\nSHYLOCK \\nAy, his breast: \\nSo says the bond: doth it not, noble judge? \\nNearest his heart:' those are the very words. \\nPORTIA \\nIt is so. Are there balance here to weigh \\nThe flesh? \\nSHYLOCK \\nI have them ready. \\nPORTIA \\nHave by some surgeon, Shylock, on your charge, \\nTo stop his wounds, lest he do bleed to death.\")),\n",
              " GraphDocument(nodes=[Node(id='Shylock', type='Person', properties={}), Node(id='Portia', type='Person', properties={}), Node(id='Antonio', type='Person', properties={}), Node(id='Bassanio', type='Person', properties={}), Node(id='Gratiano', type='Person', properties={}), Node(id='Nerissa', type='Person', properties={}), Node(id=\"Shylock'S Daughter\", type='Person', properties={})], relationships=[Relationship(source=Node(id='Antonio', type='Person', properties={}), target=Node(id='Merchant', type='Occupation', properties={}), type='IS_A', properties={}), Relationship(source=Node(id='Bassanio', type='Person', properties={}), target=Node(id='Portia', type='Person', properties={}), type='MARRIED_TO', properties={}), Relationship(source=Node(id='Gratiano', type='Person', properties={}), target=Node(id='Nerissa', type='Person', properties={}), type='MARRIED_TO', properties={}), Relationship(source=Node(id='Shylock', type='Person', properties={}), target=Node(id=\"Shylock'S Daughter\", type='Person', properties={}), type='HAS_DAUGHTER', properties={}), Relationship(source=Node(id='Shylock', type='Person', properties={}), target=Node(id='Christians', type='Group', properties={}), type='DISLIKES', properties={})], source=Document(metadata={'producer': 'PDFium', 'creator': 'PDFium', 'creationdate': 'D:20250318171920', 'source': 'The-Merchant-of-Venice-PDF (1).pdf', 'total_pages': 72, 'page': 56, 'page_label': '57'}, page_content=\"58 \\n \\nSHYLOCK \\nIs it so nominated in the bond? \\nPORTIA \\nIt is not so express'd: but what of that? \\nTwere good you do so much for charity. \\nSHYLOCK \\nI cannot find it; 'tis not in the bond. \\nPORTIA \\nYou, merchant, have you any thing to say? \\nANTONIO \\nBut little: I am arm'd and well prepared. \\nGive me your hand, Bassanio: fare you well! \\nGrieve not that I am fallen to this for you; \\nFor herein Fortune shows herself more kind \\nThan is her custom: it is still her use \\nTo let the wretched man outlive his wealth, \\nTo view with hollow eye and wrinkled brow \\nAn age of poverty; from which lingering penance \\nOf such misery doth she cut me off. \\nCommend me to your honourable wife: \\nTell her the process of Antonio's end; \\nSay how I loved you, speak me fair in death; \\nAnd, when the tale is told, bid her be judge \\nWhether Bassanio had not once a love. \\nRepent but you that you shall lose your friend, \\nAnd he repents not that he pays your debt; \\nFor if the Jew do cut but deep enough, \\nI'll pay it presently with all my heart. \\nBASSANIO \\nAntonio, I am married to a wife \\nWhich is as dear to me as life itself; \\nBut life itself, my wife, and all the world, \\nAre not with me esteem'd above thy life: \\nI would lose all, ay, sacrifice them all \\nHere to this devil, to deliver you. \\nPORTIA \\nYour wife would give you little thanks for that, \\nIf she were by, to hear you make the offer. \\nGRATIANO \\nI have a wife, whom, I protest, I love: \\nI would she were in heaven, so she could \\nEntreat some power to change this currish Jew. \\nNERISSA \\nTis well you offer it behind her back; \\nThe wish would make else an unquiet house. \\nSHYLOCK \\nThese be the Christian husbands. I have a daughter; \\nWould any of the stock of Barrabas \\nHad been her husband rather than a Christian! \\nAside\")),\n",
              " GraphDocument(nodes=[Node(id='Portia', type='Person', properties={}), Node(id='Shylock', type='Person', properties={}), Node(id='Gratiano', type='Person', properties={}), Node(id='Bassanio', type='Person', properties={})], relationships=[Relationship(source=Node(id='Portia', type='Person', properties={}), target=Node(id='Shylock', type='Person', properties={}), type='JUDGE', properties={}), Relationship(source=Node(id='Shylock', type='Person', properties={}), target=Node(id='Portia', type='Person', properties={}), type='MERCHANT', properties={}), Relationship(source=Node(id='Gratiano', type='Person', properties={}), target=Node(id='Bassanio', type='Person', properties={}), type='SUPPORTER', properties={}), Relationship(source=Node(id='Bassanio', type='Person', properties={}), target=Node(id='Portia', type='Person', properties={}), type='CHRISTIAN', properties={})], source=Document(metadata={'producer': 'PDFium', 'creator': 'PDFium', 'creationdate': 'D:20250318171920', 'source': 'The-Merchant-of-Venice-PDF (1).pdf', 'total_pages': 72, 'page': 57, 'page_label': '58'}, page_content=\"59 \\n \\nWe trifle time: I pray thee, pursue sentence. \\nPORTIA \\nA pound of that same merchant's flesh is thine: \\nThe court awards it, and the law doth give it. \\nSHYLOCK \\nMost rightful judge! \\nPORTIA \\nAnd you must cut this flesh from off his breast: \\nThe law allows it, and the court awards it. \\nSHYLOCK \\nMost learned judge! A sentence! Come, prepare! \\nPORTIA \\nTarry a little; there is something else. \\nThis bond doth give thee here no jot of blood; \\nThe words expressly are 'a pound of flesh:' \\nTake then thy bond, take thou thy pound of flesh; \\nBut, in the cutting it, if thou dost shed \\nOne drop of Christian blood, thy lands and goods \\nAre, by the laws of Venice, confiscate \\nUnto the state of Venice. \\nGRATIANO \\nO upright judge! Mark, Jew: O learned judge! \\nSHYLOCK \\nIs that the law? \\nPORTIA \\nThyself shalt see the act: \\nFor, as thou urgest justice, be assured \\nThou shalt have justice, more than thou desirest. \\nGRATIANO \\nO learned judge! Mark, Jew: a learned judge! \\nSHYLOCK \\nI take this offer, then; pay the bond thrice \\nAnd let the Christian go. \\nBASSANIO \\nHere is the money. \\nPORTIA \\nSoft! \\nThe Jew shall have all justice; soft! no haste: \\nHe shall have nothing but the penalty. \\nGRATIANO \\nO Jew! an upright judge, a learned judge! \\nPORTIA \\nTherefore prepare thee to cut off the flesh. \\nShed thou no blood, nor cut thou less nor more \\nBut just a pound of flesh: if thou cut'st more \\nOr less than a just pound, be it but so much \\nAs makes it light or heavy in the substance, \\nOr the division of the twentieth part \\nOf one poor scruple, nay, if the scale do turn \\nBut in the estimation of a hair,\")),\n",
              " GraphDocument(nodes=[Node(id='Gratiano', type='Person', properties={}), Node(id='Portia', type='Person', properties={}), Node(id='Shylock', type='Person', properties={}), Node(id='Bassanio', type='Person', properties={}), Node(id='Duke', type='Person', properties={}), Node(id='Justice', type='Concept', properties={}), Node(id='Law', type='Concept', properties={})], relationships=[Relationship(source=Node(id='Gratiano', type='Person', properties={}), target=Node(id='Shylock', type='Person', properties={}), type='REFERS_TO', properties={}), Relationship(source=Node(id='Portia', type='Person', properties={}), target=Node(id='Shylock', type='Person', properties={}), type='SPEAKS_TO', properties={}), Relationship(source=Node(id='Bassanio', type='Person', properties={}), target=Node(id='Shylock', type='Person', properties={}), type='OFFERS', properties={}), Relationship(source=Node(id='Portia', type='Person', properties={}), target=Node(id='Justice', type='Concept', properties={}), type='ADVOCATES_FOR', properties={}), Relationship(source=Node(id='Law', type='Concept', properties={}), target=Node(id='Shylock', type='Person', properties={}), type='ENFORCES', properties={}), Relationship(source=Node(id='Duke', type='Person', properties={}), target=Node(id='Shylock', type='Person', properties={}), type='RULES_OVER', properties={})], source=Document(metadata={'producer': 'PDFium', 'creator': 'PDFium', 'creationdate': 'D:20250318171920', 'source': 'The-Merchant-of-Venice-PDF (1).pdf', 'total_pages': 72, 'page': 58, 'page_label': '59'}, page_content=\"60 \\n \\nThou diest and all thy goods are confiscate. \\nGRATIANO \\nA second Daniel, a Daniel, Jew! \\nNow, infidel, I have you on the hip. \\nPORTIA \\nWhy doth the Jew pause? take thy forfeiture. \\nSHYLOCK \\nGive me my principal, and let me go. \\nBASSANIO \\nI have it ready for thee; here it is. \\nPORTIA \\nHe hath refused it in the open court: \\nHe shall have merely justice and his bond. \\nGRATIANO \\nA Daniel, still say I, a second Daniel! \\nI thank thee, Jew, for teaching me that word. \\nSHYLOCK \\nShall I not have barely my principal? \\nPORTIA \\nThou shalt have nothing but the forfeiture, \\nTo be so taken at thy peril, Jew. \\nSHYLOCK \\nWhy, then the devil give him good of it! \\nI'll stay no longer question. \\nPORTIA \\nTarry, Jew: \\nThe law hath yet another hold on you. \\nIt is enacted in the laws of Venice, \\nIf it be proved against an alien \\nThat by direct or indirect attempts \\nHe seek the life of any citizen, \\nThe party 'gainst the which he doth contrive \\nShall seize one half his goods; the other half \\nComes to the privy coffer of the state; \\nAnd the offender's life lies in the mercy \\nOf the duke only, 'gainst all other voice. \\nIn which predicament, I say, thou stand'st; \\nFor it appears, by manifest proceeding, \\nThat indirectly and directly too \\nThou hast contrived against the very life \\nOf the defendant; and thou hast incurr'd \\nThe danger formerly by me rehearsed. \\nDown therefore and beg mercy of the duke. \\nGRATIANO \\nBeg that thou mayst have leave to hang thyself: \\nAnd yet, thy wealth being forfeit to the state, \\nThou hast not left the value of a cord; \\nTherefore thou must be hang'd at the state's charge. \\nDUKE \\nThat thou shalt see the difference of our spirits,\")),\n",
              " GraphDocument(nodes=[Node(id='Portia', type='Person', properties={}), Node(id='Shylock', type='Person', properties={}), Node(id='Antonio', type='Person', properties={}), Node(id='Gratiano', type='Person', properties={}), Node(id='Duke', type='Person', properties={}), Node(id='Lorenzo', type='Person', properties={}), Node(id='Court', type='Organization', properties={})], relationships=[Relationship(source=Node(id='Portia', type='Person', properties={}), target=Node(id='Shylock', type='Person', properties={}), type='PARDONED', properties={}), Relationship(source=Node(id='Shylock', type='Person', properties={}), target=Node(id='Antonio', type='Person', properties={}), type='REFUSED_TO_PARDON', properties={}), Relationship(source=Node(id='Antonio', type='Person', properties={}), target=Node(id='Duke', type='Person', properties={}), type='PROPOSED_CONDITIONS', properties={}), Relationship(source=Node(id='Gratiano', type='Person', properties={}), target=Node(id='Shylock', type='Person', properties={}), type='MOCKED', properties={}), Relationship(source=Node(id='Shylock', type='Person', properties={}), target=Node(id='Portia', type='Person', properties={}), type='AGREED_TO_CONDITIONS', properties={}), Relationship(source=Node(id='Duke', type='Person', properties={}), target=Node(id='Shylock', type='Person', properties={}), type='ORDERED_TO_COMPLY', properties={}), Relationship(source=Node(id='Portia', type='Person', properties={}), target=Node(id='Clerk', type='Person', properties={}), type='INSTRUCTED', properties={}), Relationship(source=Node(id='Shylock', type='Person', properties={}), target=Node(id='Court', type='Organization', properties={}), type='REQUESTED_TO_LEAVE', properties={}), Relationship(source=Node(id='Gratiano', type='Person', properties={}), target=Node(id='Shylock', type='Person', properties={}), type='COMMENTED_ON', properties={}), Relationship(source=Node(id='Duke', type='Person', properties={}), target=Node(id='Portia', type='Person', properties={}), type='INVITED_TO_DINNER', properties={})], source=Document(metadata={'producer': 'PDFium', 'creator': 'PDFium', 'creationdate': 'D:20250318171920', 'source': 'The-Merchant-of-Venice-PDF (1).pdf', 'total_pages': 72, 'page': 59, 'page_label': '60'}, page_content=\"61 \\n \\nI pardon thee thy life before thou ask it: \\nFor half thy wealth, it is Antonio's; \\nThe other half comes to the general state, \\nWhich humbleness may drive unto a fine. \\nPORTIA \\nAy, for the state, not for Antonio. \\nSHYLOCK \\nNay, take my life and all; pardon not that: \\nYou take my house when you do take the prop \\nThat doth sustain my house; you take my life \\nWhen you do take the means whereby I live. \\nPORTIA \\nWhat mercy can you render him, Antonio? \\nGRATIANO \\nA halter gratis; nothing else, for God's sake. \\nANTONIO \\nSo please my lord the duke and all the court \\nTo quit the fine for one half of his goods, \\nI am content; so he will let me have \\nThe other half in use, to render it, \\nUpon his death, unto the gentleman \\nThat lately stole his daughter: \\nTwo things provided more, that, for this favour, \\nHe presently become a Christian; \\nThe other, that he do record a gift, \\nHere in the court, of all he dies possess'd, \\nUnto his son Lorenzo and his daughter. \\nDUKE \\nHe shall do this, or else I do recant \\nThe pardon that I late pronounced here. \\nPORTIA \\nArt thou contented, Jew? what dost thou say? \\nSHYLOCK \\nI am content. \\nPORTIA \\nClerk, draw a deed of gift. \\nSHYLOCK \\nI pray you, give me leave to go from hence; \\nI am not well: send the deed after me, \\nAnd I will sign it. \\nDUKE \\nGet thee gone, but do it. \\nGRATIANO \\nIn christening shalt thou have two god-fathers: \\nHad I been judge, thou shouldst have had ten more, \\nTo bring thee to the gallows, not the font. \\nExit SHYLOCK \\nDUKE \\nSir, I entreat you home with me to dinner. \\nPORTIA\")),\n",
              " GraphDocument(nodes=[Node(id='Duke', type='Person', properties={}), Node(id='Antonio', type='Person', properties={}), Node(id='Bassanio', type='Person', properties={}), Node(id='Portia', type='Person', properties={})], relationships=[Relationship(source=Node(id='Duke', type='Person', properties={}), target=Node(id='Antonio', type='Person', properties={}), type='GRATIFY', properties={}), Relationship(source=Node(id='Antonio', type='Person', properties={}), target=Node(id='Bassanio', type='Person', properties={}), type='INDEBTED_TO', properties={}), Relationship(source=Node(id='Bassanio', type='Person', properties={}), target=Node(id='Portia', type='Person', properties={}), type='ACQUITTED_BY', properties={}), Relationship(source=Node(id='Portia', type='Person', properties={}), target=Node(id='Bassanio', type='Person', properties={}), type='RECEIVED_RING_FROM', properties={}), Relationship(source=Node(id='Portia', type='Person', properties={}), target=Node(id='Antonio', type='Person', properties={}), type='ACQUITTED', properties={})], source=Document(metadata={'producer': 'PDFium', 'creator': 'PDFium', 'creationdate': 'D:20250318171920', 'source': 'The-Merchant-of-Venice-PDF (1).pdf', 'total_pages': 72, 'page': 60, 'page_label': '61'}, page_content=\"62 \\n \\nI humbly do desire your grace of pardon: \\nI must away this night toward Padua, \\nAnd it is meet I presently set forth. \\nDUKE \\nI am sorry that your leisure serves you not. \\nAntonio, gratify this gentleman, \\nFor, in my mind, you are much bound to him. \\nExeunt Duke and his train \\nBASSANIO \\nMost worthy gentleman, I and my friend \\nHave by your wisdom been this day acquitted \\nOf grievous penalties; in lieu whereof, \\nThree thousand ducats, due unto the Jew, \\nWe freely cope your courteous pains withal. \\nANTONIO \\nAnd stand indebted, over and above, \\nIn love and service to you evermore. \\nPORTIA \\nHe is well paid that is well satisfied; \\nAnd I, delivering you, am satisfied \\nAnd therein do account myself well paid: \\nMy mind was never yet more mercenary. \\nI pray you, know me when we meet again: \\nI wish you well, and so I take my leave. \\nBASSANIO \\nDear sir, of force I must attempt you further: \\nTake some remembrance of us, as a tribute, \\nNot as a fee: grant me two things, I pray you, \\nNot to deny me, and to pardon me. \\nPORTIA \\nYou press me far, and therefore I will yield. \\nTo ANTONIO \\nGive me your gloves, I'll wear them for your sake; \\nTo BASSANIO \\nAnd, for your love, I'll take this ring from you: \\nDo not draw back your hand; I'll take no more; \\nAnd you in love shall not deny me this. \\nBASSANIO \\nThis ring, good sir, alas, it is a trifle! \\nI will not shame myself to give you this. \\nPORTIA \\nI will have nothing else but only this; \\nAnd now methinks I have a mind to it. \\nBASSANIO \\nThere's more depends on this than on the value. \\nThe dearest ring in Venice will I give you, \\nAnd find it out by proclamation: \\nOnly for this, I pray you, pardon me. \\nPORTIA \\nI see, sir, you are liberal in offers\")),\n",
              " GraphDocument(nodes=[Node(id='Bassanio', type='Person', properties={}), Node(id='Portia', type='Person', properties={}), Node(id='Antonio', type='Person', properties={}), Node(id='Gratiano', type='Person', properties={}), Node(id='Nerissa', type='Person', properties={}), Node(id='Lorenzo', type='Person', properties={})], relationships=[Relationship(source=Node(id='Bassanio', type='Person', properties={}), target=Node(id='Gratiano', type='Person', properties={}), type='GIVES_RING', properties={}), Relationship(source=Node(id='Gratiano', type='Person', properties={}), target=Node(id='Portia', type='Person', properties={}), type='GIVES_RING', properties={}), Relationship(source=Node(id='Portia', type='Person', properties={}), target=Node(id='Nerissa', type='Person', properties={}), type='PLANS_WITH', properties={}), Relationship(source=Node(id='Portia', type='Person', properties={}), target=Node(id='Lorenzo', type='Person', properties={}), type='GOES_TO', properties={}), Relationship(source=Node(id='Nerissa', type='Person', properties={}), target=Node(id='Lorenzo', type='Person', properties={}), type='GOES_TO', properties={}), Relationship(source=Node(id='Antonio', type='Person', properties={}), target=Node(id='Bassanio', type='Person', properties={}), type='ADVISES', properties={}), Relationship(source=Node(id='Bassanio', type='Person', properties={}), target=Node(id='Antonio', type='Person', properties={}), type='PLANS_WITH', properties={})], source=Document(metadata={'producer': 'PDFium', 'creator': 'PDFium', 'creationdate': 'D:20250318171920', 'source': 'The-Merchant-of-Venice-PDF (1).pdf', 'total_pages': 72, 'page': 61, 'page_label': '62'}, page_content=\"63 \\n \\nYou taught me first to beg; and now methinks \\nYou teach me how a beggar should be answer'd. \\nBASSANIO \\nGood sir, this ring was given me by my wife; \\nAnd when she put it on, she made me vow \\nThat I should neither sell nor give nor lose it. \\nPORTIA \\nThat 'scuse serves many men to save their gifts. \\nAn if your wife be not a mad-woman, \\nAnd know how well I have deserved the ring, \\nShe would not hold out enemy for ever, \\nFor giving it to me. Well, peace be with you! \\nExeunt Portia and Nerissa \\nANTONIO \\nMy Lord Bassanio, let him have the ring: \\nLet his deservings and my love withal \\nBe valued against your wife's commandment. \\nBASSANIO \\nGo, Gratiano, run and overtake him; \\nGive him the ring, and bring him, if thou canst, \\nUnto Antonio's house: away! make haste. \\nExit Gratiano \\nCome, you and I will thither presently; \\nAnd in the morning early will we both \\nFly toward Belmont: come, Antonio. \\nExeunt \\nSCENE II. The same. A street. \\nEnter PORTIA and NERISSA \\nPORTIA \\nInquire the Jew's house out, give him this deed \\nAnd let him sign it: we'll away to-night \\nAnd be a day before our husbands home: \\nThis deed will be well welcome to Lorenzo. \\nEnter GRATIANO \\nGRATIANO \\nFair sir, you are well o'erta'en \\nMy Lord Bassanio upon more advice \\nHath sent you here this ring, and doth entreat \\nYour company at dinner. \\nPORTIA \\nThat cannot be: \\nHis ring I do accept most thankfully: \\nAnd so, I pray you, tell him: furthermore, \\nI pray you, show my youth old Shylock's house. \\nGRATIANO \\nThat will I do. \\nNERISSA \\nSir, I would speak with you.\")),\n",
              " GraphDocument(nodes=[Node(id='Portia', type='Person', properties={}), Node(id='Nerissa', type='Person', properties={}), Node(id=\"My Husband'S Ring\", type='Object', properties={}), Node(id='This House', type='Location', properties={}), Node(id='Make Haste', type='Action', properties={}), Node(id='Show Me To This House', type='Action', properties={})], relationships=[Relationship(source=Node(id='Portia', type='Person', properties={}), target=Node(id='Nerissa', type='Person', properties={}), type='SPEAKS_TO', properties={}), Relationship(source=Node(id='Portia', type='Person', properties={}), target=Node(id='Make Haste', type='Action', properties={}), type='MAKES_HASTE', properties={}), Relationship(source=Node(id='Nerissa', type='Person', properties={}), target=Node(id='Show Me To This House', type='Action', properties={}), type='SHOWS_TO', properties={}), Relationship(source=Node(id='Portia', type='Person', properties={}), target=Node(id=\"My Husband'S Ring\", type='Object', properties={}), type='GIVES_RING_TO', properties={})], source=Document(metadata={'producer': 'PDFium', 'creator': 'PDFium', 'creationdate': 'D:20250318171920', 'source': 'The-Merchant-of-Venice-PDF (1).pdf', 'total_pages': 72, 'page': 62, 'page_label': '63'}, page_content=\"64 \\n \\nAside to PORTIA \\nI'll see if I can get my husband's ring, \\nWhich I did make him swear to keep for ever. \\nPORTIA \\n[Aside to NERISSA] Thou mayst, I warrant. \\nWe shall have old swearing \\nThat they did give the rings away to men; \\nBut we'll outface them, and outswear them too. \\nAloud \\nAway! make haste: thou knowist where I will tarry. \\nNERISSA \\nCome, good sir, will you show me to this house? \\nExeunt\")),\n",
              " GraphDocument(nodes=[], relationships=[], source=Document(metadata={'producer': 'PDFium', 'creator': 'PDFium', 'creationdate': 'D:20250318171920', 'source': 'The-Merchant-of-Venice-PDF (1).pdf', 'total_pages': 72, 'page': 63, 'page_label': '64'}, page_content=\"65 \\n \\nACT V \\nSCENE I. Belmont. Avenue to PORTIA'S house. \\nEnter LORENZO and JESSICA \\nLORENZO \\nThe moon shines bright: in such a night as this, \\nWhen the sweet wind did gently kiss the trees \\nAnd they did make no noise, in such a night \\nTroilus methinks mounted the Troyan walls \\nAnd sigh'd his soul toward the Grecian tents, \\nWhere Cressid lay that night. \\nJESSICA \\nIn such a night \\nDid Thisbe fearfully o'ertrip the dew \\nAnd saw the lion's shadow ere himself \\nAnd ran dismay'd away. \\nLORENZO \\nIn such a night \\nStood Dido with a willow in her hand \\nUpon the wild sea banks and waft her love \\nTo come again to Carthage. \\nJESSICA \\nIn such a night \\nMedea gather'd the enchanted herbs \\nThat did renew old AEson. \\nLORENZO \\nIn such a night \\nDid Jessica steal from the wealthy Jew \\nAnd with an unthrift love did run from Venice \\nAs far as Belmont. \\nJESSICA \\nIn such a night \\nDid young Lorenzo swear he loved her well, \\nStealing her soul with many vows of faith \\nAnd ne'er a true one. \\nLORENZO \\nIn such a night \\nDid pretty Jessica, like a little shrew, \\nSlander her love, and he forgave it her. \\nJESSICA \\nI would out-night you, did no body come; \\nBut, hark, I hear the footing of a man. \\nEnter STEPHANO \\nLORENZO \\nWho comes so fast in silence of the night? \\nSTEPHANO \\nA friend. \\nLORENZO \\nA friend! what friend? your name, I pray you, friend?\")),\n",
              " GraphDocument(nodes=[], relationships=[], source=Document(metadata={'producer': 'PDFium', 'creator': 'PDFium', 'creationdate': 'D:20250318171920', 'source': 'The-Merchant-of-Venice-PDF (1).pdf', 'total_pages': 72, 'page': 64, 'page_label': '65'}, page_content=\"66 \\n \\nSTEPHANO \\nStephano is my name; and I bring word \\nMy mistress will before the break of day \\nBe here at Belmont; she doth stray about \\nBy holy crosses, where she kneels and prays \\nFor happy wedlock hours. \\nLORENZO \\nWho comes with her? \\nSTEPHANO \\nNone but a holy hermit and her maid. \\nI pray you, is my master yet return'd? \\nLORENZO \\nHe is not, nor we have not heard from him. \\nBut go we in, I pray thee, Jessica, \\nAnd ceremoniously let us prepare \\nSome welcome for the mistress of the house. \\nEnter LAUNCELOT \\nLAUNCELOT \\nSola, sola! wo ha, ho! sola, sola! \\nLORENZO \\nWho calls? \\nLAUNCELOT \\nSola! did you see Master Lorenzo? \\nMaster Lorenzo, sola, sola! \\nLORENZO \\nLeave hollaing, man: here. \\nLAUNCELOT \\nSola! where? where? \\nLORENZO \\nHere. \\nLAUNCELOT \\nTell him there's a post come from my master, with \\nhis horn full of good news: my master will be here \\nere morning. \\nExit \\nLORENZO \\nSweet soul, let's in, and there expect their coming. \\nAnd yet no matter: why should we go in? \\nMy friend Stephano, signify, I pray you, \\nWithin the house, your mistress is at hand; \\nAnd bring your music forth into the air. \\nExit Stephano \\nHow sweet the moonlight sleeps upon this bank! \\nHere will we sit and let the sounds of music \\nCreep in our ears: soft stillness and the night \\nBecome the touches of sweet harmony. \\nSit, Jessica. Look how the floor of heaven \\nIs thick inlaid with patines of bright gold: \\nThere's not the smallest orb which thou behold'st \\nBut in his motion like an angel sings,\")),\n",
              " GraphDocument(nodes=[], relationships=[], source=Document(metadata={'producer': 'PDFium', 'creator': 'PDFium', 'creationdate': 'D:20250318171920', 'source': 'The-Merchant-of-Venice-PDF (1).pdf', 'total_pages': 72, 'page': 65, 'page_label': '66'}, page_content=\"67 \\n \\nStill quiring to the young-eyed cherubins; \\nSuch harmony is in immortal souls; \\nBut whilst this muddy vesture of decay \\nDoth grossly close it in, we cannot hear it. \\nEnter Musicians \\nCome, ho! and wake Diana with a hymn! \\nWith sweetest touches pierce your mistress' ear, \\nAnd draw her home with music. \\nMusic \\nJESSICA \\nI am never merry when I hear sweet music. \\nLORENZO \\nThe reason is, your spirits are attentive: \\nFor do but note a wild and wanton herd, \\nOr race of youthful and unhandled colts, \\nFetching mad bounds, bellowing and neighing loud, \\nWhich is the hot condition of their blood; \\nIf they but hear perchance a trumpet sound, \\nOr any air of music touch their ears, \\nYou shall perceive them make a mutual stand, \\nTheir savage eyes turn'd to a modest gaze \\nBy the sweet power of music: therefore the poet \\nDid feign that Orpheus drew trees, stones and floods; \\nSince nought so stockish, hard and full of rage, \\nBut music for the time doth change his nature. \\nThe man that hath no music in himself, \\nNor is not moved with concord of sweet sounds, \\nIs fit for treasons, stratagems and spoils; \\nThe motions of his spirit are dull as night \\nAnd his affections dark as Erebus: \\nLet no such man be trusted. Mark the music. \\nEnter PORTIA and NERISSA \\nPORTIA \\nThat light we see is burning in my hall. \\nHow far that little candle throws his beams! \\nSo shines a good deed in a naughty world. \\nNERISSA \\nWhen the moon shone, we did not see the candle. \\nPORTIA \\nSo doth the greater glory dim the less: \\nA substitute shines brightly as a king \\nUnto the king be by, and then his state \\nEmpties itself, as doth an inland brook \\nInto the main of waters. Music! hark! \\nNERISSA \\nIt is your music, madam, of the house. \\nPORTIA \\nNothing is good, I see, without respect: \\nMethinks it sounds much sweeter than by day. \\nNERISSA\")),\n",
              " GraphDocument(nodes=[Node(id='Portia', type='Person', properties={}), Node(id='Lorenzo', type='Person', properties={}), Node(id='Nerissa', type='Person', properties={}), Node(id='Jessica', type='Person', properties={}), Node(id='Bassanio', type='Person', properties={}), Node(id='Antonio', type='Person', properties={}), Node(id='Gratiano', type='Person', properties={}), Node(id='Servants', type='Servants', properties={}), Node(id='Followers', type='Followers', properties={}), Node(id='Trumpet', type='Object', properties={})], relationships=[Relationship(source=Node(id='Portia', type='Person', properties={}), target=Node(id='Bassanio', type='Person', properties={}), type='HUSBAND', properties={}), Relationship(source=Node(id='Lorenzo', type='Person', properties={}), target=Node(id='Jessica', type='Person', properties={}), type='HUSBAND', properties={}), Relationship(source=Node(id='Nerissa', type='Person', properties={}), target=Node(id='Portia', type='Person', properties={}), type='SERVANT_OF', properties={}), Relationship(source=Node(id='Trumpet', type='Object', properties={}), target=Node(id='Bassanio', type='Person', properties={}), type='BELONGS_TO', properties={}), Relationship(source=Node(id='Servants', type='Servants', properties={}), target=Node(id='Bassanio', type='Person', properties={}), type='PART_OF', properties={}), Relationship(source=Node(id='Followers', type='Followers', properties={}), target=Node(id='Bassanio', type='Person', properties={}), type='PART_OF', properties={})], source=Document(metadata={'producer': 'PDFium', 'creator': 'PDFium', 'creationdate': 'D:20250318171920', 'source': 'The-Merchant-of-Venice-PDF (1).pdf', 'total_pages': 72, 'page': 66, 'page_label': '67'}, page_content=\"68 \\n \\nSilence bestows that virtue on it, madam. \\nPORTIA \\nThe crow doth sing as sweetly as the lark, \\nWhen neither is attended, and I think \\nThe nightingale, if she should sing by day, \\nWhen every goose is cackling, would be thought \\nNo better a musician than the wren. \\nHow many things by season season'd are \\nTo their right praise and true perfection! \\nPeace, ho! the moon sleeps with Endymion \\nAnd would not be awaked. \\nMusic ceases \\nLORENZO \\nThat is the voice, \\nOr I am much deceived, of Portia. \\nPORTIA \\nHe knows me as the blind man knows the cuckoo, \\nBy the bad voice. \\nLORENZO \\nDear lady, welcome home. \\nPORTIA \\nWe have been praying for our husbands' healths, \\nWhich speed, we hope, the better for our words. \\nAre they return'd? \\nLORENZO \\nMadam, they are not yet; \\nBut there is come a messenger before, \\nTo signify their coming. \\nPORTIA \\nGo in, Nerissa; \\nGive order to my servants that they take \\nNo note at all of our being absent hence; \\nNor you, Lorenzo; Jessica, nor you. \\nA tucket sounds \\nLORENZO \\nYour husband is at hand; I hear his trumpet: \\nWe are no tell-tales, madam; fear you not. \\nPORTIA \\nThis night methinks is but the daylight sick; \\nIt looks a little paler: 'tis a day, \\nSuch as the day is when the sun is hid. \\nEnter BASSANIO, ANTONIO, GRATIANO, and their followers \\nBASSANIO \\nWe should hold day with the Antipodes, \\nIf you would walk in absence of the sun. \\nPORTIA \\nLet me give light, but let me not be light; \\nFor a light wife doth make a heavy husband, \\nAnd never be Bassanio so for me: \\nBut God sort all! You are welcome home, my lord.\")),\n",
              " GraphDocument(nodes=[Node(id='Bassanio', type='Person', properties={}), Node(id='Antonio', type='Person', properties={}), Node(id='Portia', type='Person', properties={}), Node(id='Gratiano', type='Person', properties={}), Node(id='Nerissa', type='Person', properties={})], relationships=[Relationship(source=Node(id='Bassanio', type='Person', properties={}), target=Node(id='Portia', type='Person', properties={}), type='THANKED', properties={}), Relationship(source=Node(id='Bassanio', type='Person', properties={}), target=Node(id='Antonio', type='Person', properties={}), type='INTRODUCED_TO', properties={}), Relationship(source=Node(id='Antonio', type='Person', properties={}), target=Node(id='Bassanio', type='Person', properties={}), type='BOUND_TO', properties={}), Relationship(source=Node(id='Portia', type='Person', properties={}), target=Node(id='Antonio', type='Person', properties={}), type='WELCOMED', properties={}), Relationship(source=Node(id='Gratiano', type='Person', properties={}), target=Node(id='Nerissa', type='Person', properties={}), type='QUARRELED_WITH', properties={}), Relationship(source=Node(id='Gratiano', type='Person', properties={}), target=Node(id=\"Judge'S Clerk\", type='Person', properties={}), type='GAVE_RING_TO', properties={}), Relationship(source=Node(id='Portia', type='Person', properties={}), target=Node(id='Gratiano', type='Person', properties={}), type='SCOLDED', properties={}), Relationship(source=Node(id='Nerissa', type='Person', properties={}), target=Node(id='Gratiano', type='Person', properties={}), type='GAVE_RING_TO', properties={}), Relationship(source=Node(id='Portia', type='Person', properties={}), target=Node(id='Bassanio', type='Person', properties={}), type='GAVE_RING_TO', properties={}), Relationship(source=Node(id='Portia', type='Person', properties={}), target=Node(id='Bassanio', type='Person', properties={}), type='MADE_SWEAR', properties={})], source=Document(metadata={'producer': 'PDFium', 'creator': 'PDFium', 'creationdate': 'D:20250318171920', 'source': 'The-Merchant-of-Venice-PDF (1).pdf', 'total_pages': 72, 'page': 67, 'page_label': '68'}, page_content=\"69 \\n \\nBASSANIO \\nI thank you, madam. Give welcome to my friend. \\nThis is the man, this is Antonio, \\nTo whom I am so infinitely bound. \\nPORTIA \\nYou should in all sense be much bound to him. \\nFor, as I hear, he was much bound for you. \\nANTONIO \\nNo more than I am well acquitted of. \\nPORTIA \\nSir, you are very welcome to our house: \\nIt must appear in other ways than words, \\nTherefore I scant this breathing courtesy. \\nGRATIANO \\n[To NERISSA] By yonder moon I swear you do me wrong; \\nIn faith, I gave it to the judge's clerk: \\nWould he were gelt that had it, for my part, \\nSince you do take it, love, so much at heart. \\nPORTIA \\nA quarrel, ho, already! what's the matter? \\nGRATIANO \\nAbout a hoop of gold, a paltry ring \\nThat she did give me, whose posy was \\nFor all the world like cutler's poetry \\nUpon a knife, 'Love me, and leave me not.' \\nNERISSA \\nWhat talk you of the posy or the value? \\nYou swore to me, when I did give it you, \\nThat you would wear it till your hour of death \\nAnd that it should lie with you in your grave: \\nThough not for me, yet for your vehement oaths, \\nYou should have been respective and have kept it. \\nGave it a judge's clerk! no, God's my judge, \\nThe clerk will ne'er wear hair on's face that had it. \\nGRATIANO \\nHe will, an if he live to be a man. \\nNERISSA \\nAy, if a woman live to be a man. \\nGRATIANO \\nNow, by this hand, I gave it to a youth, \\nA kind of boy, a little scrubbed boy, \\nNo higher than thyself; the judge's clerk, \\nA prating boy, that begg'd it as a fee: \\nI could not for my heart deny it him. \\nPORTIA \\nYou were to blame, I must be plain with you, \\nTo part so slightly with your wife's first gift: \\nA thing stuck on with oaths upon your finger \\nAnd so riveted with faith unto your flesh. \\nI gave my love a ring and made him swear\")),\n",
              " GraphDocument(nodes=[Node(id='Bassanio', type='Person', properties={}), Node(id='Gratiano', type='Person', properties={}), Node(id='Portia', type='Person', properties={}), Node(id='Nerissa', type='Person', properties={}), Node(id='Judge', type='Person', properties={}), Node(id='Clerk', type='Person', properties={})], relationships=[Relationship(source=Node(id='Bassanio', type='Person', properties={}), target=Node(id='Judge', type='Person', properties={}), type='GAVE_RING', properties={}), Relationship(source=Node(id='Gratiano', type='Person', properties={}), target=Node(id='Clerk', type='Person', properties={}), type='GAVE_RING', properties={}), Relationship(source=Node(id='Portia', type='Person', properties={}), target=Node(id='Bassanio', type='Person', properties={}), type='DISPLEASURE', properties={}), Relationship(source=Node(id='Nerissa', type='Person', properties={}), target=Node(id='Gratiano', type='Person', properties={}), type='DISPLEASURE', properties={})], source=Document(metadata={'producer': 'PDFium', 'creator': 'PDFium', 'creationdate': 'D:20250318171920', 'source': 'The-Merchant-of-Venice-PDF (1).pdf', 'total_pages': 72, 'page': 68, 'page_label': '69'}, page_content=\"70 \\n \\nNever to part with it; and here he stands; \\nI dare be sworn for him he would not leave it \\nNor pluck it from his finger, for the wealth \\nThat the world masters. Now, in faith, Gratiano, \\nYou give your wife too unkind a cause of grief: \\nAn 'twere to me, I should be mad at it. \\nBASSANIO \\n[Aside] Why, I were best to cut my left hand off \\nAnd swear I lost the ring defending it. \\nGRATIANO \\nMy Lord Bassanio gave his ring away \\nUnto the judge that begg'd it and indeed \\nDeserved it too; and then the boy, his clerk, \\nThat took some pains in writing, he begg'd mine; \\nAnd neither man nor master would take aught \\nBut the two rings. \\nPORTIA \\nWhat ring gave you my lord? \\nNot that, I hope, which you received of me. \\nBASSANIO \\nIf I could add a lie unto a fault, \\nI would deny it; but you see my finger \\nHath not the ring upon it; it is gone. \\nPORTIA \\nEven so void is your false heart of truth. \\nBy heaven, I will ne'er come in your bed \\nUntil I see the ring. \\nNERISSA \\nNor I in yours \\nTill I again see mine. \\nBASSANIO \\nSweet Portia, \\nIf you did know to whom I gave the ring, \\nIf you did know for whom I gave the ring \\nAnd would conceive for what I gave the ring \\nAnd how unwillingly I left the ring, \\nWhen nought would be accepted but the ring, \\nYou would abate the strength of your displeasure. \\nPORTIA \\nIf you had known the virtue of the ring, \\nOr half her worthiness that gave the ring, \\nOr your own honour to contain the ring, \\nYou would not then have parted with the ring. \\nWhat man is there so much unreasonable, \\nIf you had pleased to have defended it \\nWith any terms of zeal, wanted the modesty \\nTo urge the thing held as a ceremony? \\nNerissa teaches me what to believe: \\nI'll die for't but some woman had the ring. \\nBASSANIO\")),\n",
              " GraphDocument(nodes=[Node(id='Portia', type='Person', properties={}), Node(id='Bassanio', type='Person', properties={}), Node(id='Doctor', type='Person', properties={}), Node(id='Nerissa', type='Person', properties={}), Node(id='Gratiano', type='Person', properties={}), Node(id='Antonio', type='Person', properties={}), Node(id='Ring', type='Object', properties={})], relationships=[Relationship(source=Node(id='Portia', type='Person', properties={}), target=Node(id='Ring', type='Object', properties={}), type='OWNED', properties={}), Relationship(source=Node(id='Bassanio', type='Person', properties={}), target=Node(id='Ring', type='Object', properties={}), type='SENT', properties={}), Relationship(source=Node(id='Doctor', type='Person', properties={}), target=Node(id='Ring', type='Object', properties={}), type='RECEIVED', properties={}), Relationship(source=Node(id='Portia', type='Person', properties={}), target=Node(id='Doctor', type='Person', properties={}), type='THREATENED', properties={}), Relationship(source=Node(id='Nerissa', type='Person', properties={}), target=Node(id='Doctor', type='Person', properties={}), type='WARNED', properties={}), Relationship(source=Node(id='Gratiano', type='Person', properties={}), target=Node(id='Doctor', type='Person', properties={}), type='JOKED', properties={}), Relationship(source=Node(id='Antonio', type='Person', properties={}), target=Node(id='Quarrels', type='Event', properties={}), type='SUBJECT', properties={}), Relationship(source=Node(id='Portia', type='Person', properties={}), target=Node(id='Bassanio', type='Person', properties={}), type='FORGAVE', properties={}), Relationship(source=Node(id='Bassanio', type='Person', properties={}), target=Node(id='Portia', type='Person', properties={}), type='SWORE', properties={})], source=Document(metadata={'producer': 'PDFium', 'creator': 'PDFium', 'creationdate': 'D:20250318171920', 'source': 'The-Merchant-of-Venice-PDF (1).pdf', 'total_pages': 72, 'page': 69, 'page_label': '70'}, page_content=\"71 \\n \\nNo, by my honour, madam, by my soul, \\nNo woman had it, but a civil doctor, \\nWhich did refuse three thousand ducats of me \\nAnd begg'd the ring; the which I did deny him \\nAnd suffer'd him to go displeased away; \\nEven he that did uphold the very life \\nOf my dear friend. What should I say, sweet lady? \\nI was enforced to send it after him; \\nI was beset with shame and courtesy; \\nMy honour would not let ingratitude \\nSo much besmear it. Pardon me, good lady; \\nFor, by these blessed candles of the night, \\nHad you been there, I think you would have begg'd \\nThe ring of me to give the worthy doctor. \\nPORTIA \\nLet not that doctor e'er come near my house: \\nSince he hath got the jewel that I loved, \\nAnd that which you did swear to keep for me, \\nI will become as liberal as you; \\nI'll not deny him any thing I have, \\nNo, not my body nor my husband's bed: \\nKnow him I shall, I am well sure of it: \\nLie not a night from home; watch me like Argus: \\nIf you do not, if I be left alone, \\nNow, by mine honour, which is yet mine own, \\nI'll have that doctor for my bedfellow. \\nNERISSA \\nAnd I his clerk; therefore be well advised \\nHow you do leave me to mine own protection. \\nGRATIANO \\nWell, do you so; let not me take him, then; \\nFor if I do, I'll mar the young clerk's pen. \\nANTONIO \\nI am the unhappy subject of these quarrels. \\nPORTIA \\nSir, grieve not you; you are welcome notwithstanding. \\nBASSANIO \\nPortia, forgive me this enforced wrong; \\nAnd, in the hearing of these many friends, \\nI swear to thee, even by thine own fair eyes, \\nWherein I see myself-- \\nPORTIA \\nMark you but that! \\nIn both my eyes he doubly sees himself; \\nIn each eye, one: swear by your double self, \\nAnd there's an oath of credit. \\nBASSANIO \\nNay, but hear me: \\nPardon this fault, and by my soul I swear \\nI never more will break an oath with thee.\")),\n",
              " GraphDocument(nodes=[Node(id='Antonio', type='Person', properties={}), Node(id='Portia', type='Person', properties={}), Node(id='Bassanio', type='Person', properties={}), Node(id='Nerissa', type='Person', properties={}), Node(id='Gratiano', type='Person', properties={}), Node(id='Lorenzo', type='Person', properties={}), Node(id='Bellario', type='Person', properties={}), Node(id='Doctor', type='Person', properties={}), Node(id='Padua', type='Place', properties={})], relationships=[Relationship(source=Node(id='Portia', type='Person', properties={}), target=Node(id='Bassanio', type='Person', properties={}), type='GAVE', properties={}), Relationship(source=Node(id='Portia', type='Person', properties={}), target=Node(id='Ring', type='Object', properties={}), type='GAVE', properties={}), Relationship(source=Node(id='Bassanio', type='Person', properties={}), target=Node(id='Doctor', type='Person', properties={}), type='GAVE', properties={}), Relationship(source=Node(id='Portia', type='Person', properties={}), target=Node(id='Doctor', type='Person', properties={}), type='LAY_WITH', properties={}), Relationship(source=Node(id='Nerissa', type='Person', properties={}), target=Node(id='Gratiano', type='Person', properties={}), type='PARDON', properties={}), Relationship(source=Node(id='Nerissa', type='Person', properties={}), target=Node(id=\"Doctor'S Clerk\", type='Person', properties={}), type='LAY_WITH', properties={}), Relationship(source=Node(id='Portia', type='Person', properties={}), target=Node(id='Letter', type='Object', properties={}), type='GAVE', properties={}), Relationship(source=Node(id='Portia', type='Person', properties={}), target=Node(id='Padua', type='Place', properties={}), type='CAME_FROM', properties={}), Relationship(source=Node(id='Portia', type='Person', properties={}), target=Node(id='Bellario', type='Person', properties={}), type='FROM', properties={}), Relationship(source=Node(id='Portia', type='Person', properties={}), target=Node(id='Lorenzo', type='Person', properties={}), type='WITNESS', properties={}), Relationship(source=Node(id='Portia', type='Person', properties={}), target=Node(id='Antonio', type='Person', properties={}), type='WELCOME', properties={}), Relationship(source=Node(id='Portia', type='Person', properties={}), target=Node(id='Antonio', type='Person', properties={}), type='BETTER_NEWS', properties={}), Relationship(source=Node(id='Antonio', type='Person', properties={}), target=Node(id='Argosies', type='Object', properties={}), type='RICHLICH_COME', properties={})], source=Document(metadata={'producer': 'PDFium', 'creator': 'PDFium', 'creationdate': 'D:20250318171920', 'source': 'The-Merchant-of-Venice-PDF (1).pdf', 'total_pages': 72, 'page': 70, 'page_label': '71'}, page_content=\"72 \\n \\nANTONIO \\nI once did lend my body for his wealth; \\nWhich, but for him that had your husband's ring, \\nHad quite miscarried: I dare be bound again, \\nMy soul upon the forfeit, that your lord \\nWill never more break faith advisedly. \\nPORTIA \\nThen you shall be his surety. Give him this \\nAnd bid him keep it better than the other. \\nANTONIO \\nHere, Lord Bassanio; swear to keep this ring. \\nBASSANIO \\nBy heaven, it is the same I gave the doctor! \\nPORTIA \\nI had it of him: pardon me, Bassanio; \\nFor, by this ring, the doctor lay with me. \\nNERISSA \\nAnd pardon me, my gentle Gratiano; \\nFor that same scrubbed boy, the doctor's clerk, \\nIn lieu of this last night did lie with me. \\nGRATIANO \\nWhy, this is like the mending of highways \\nIn summer, where the ways are fair enough: \\nWhat, are we cuckolds ere we have deserved it? \\nPORTIA \\nSpeak not so grossly. You are all amazed: \\nHere is a letter; read it at your leisure; \\nIt comes from Padua, from Bellario: \\nThere you shall find that Portia was the doctor, \\nNerissa there her clerk: Lorenzo here \\nShall witness I set forth as soon as you \\nAnd even but now return'd; I have not yet \\nEnter'd my house. Antonio, you are welcome; \\nAnd I have better news in store for you \\nThan you expect: unseal this letter soon; \\nThere you shall find three of your argosies \\nAre richly come to harbour suddenly: \\nYou shall not know by what strange accident \\nI chanced on this letter. \\nANTONIO \\nI am dumb. \\nBASSANIO \\nWere you the doctor and I knew you not? \\nGRATIANO \\nWere you the clerk that is to make me cuckold? \\nNERISSA \\nAy, but the clerk that never means to do it, \\nUnless he live until he be a man. \\nBASSANIO \\nSweet doctor, you shall be my bed-fellow:\")),\n",
              " GraphDocument(nodes=[Node(id='Antonio', type='Person', properties={}), Node(id='Portia', type='Person', properties={}), Node(id='Lorenzo', type='Person', properties={}), Node(id='Nerissa', type='Person', properties={}), Node(id='Gratiano', type='Person', properties={}), Node(id='Jessica', type='Person', properties={}), Node(id=\"Antonio'S Wife\", type='Person', properties={}), Node(id='The Rich Jew', type='Person', properties={})], relationships=[Relationship(source=Node(id='Antonio', type='Person', properties={}), target=Node(id=\"Antonio'S Wife\", type='Person', properties={}), type='COMMANDS', properties={}), Relationship(source=Node(id='Portia', type='Person', properties={}), target=Node(id='Lorenzo', type='Person', properties={}), type='SPEAKS_TO', properties={}), Relationship(source=Node(id='Nerissa', type='Person', properties={}), target=Node(id='Lorenzo', type='Person', properties={}), type='GIVES_TO', properties={}), Relationship(source=Node(id='Nerissa', type='Person', properties={}), target=Node(id='Jessica', type='Person', properties={}), type='GIVES_TO', properties={}), Relationship(source=Node(id='Lorenzo', type='Person', properties={}), target=Node(id='Nerissa', type='Person', properties={}), type='RECEIVES_FROM', properties={}), Relationship(source=Node(id='Lorenzo', type='Person', properties={}), target=Node(id='Jessica', type='Person', properties={}), type='RECEIVES_FROM', properties={}), Relationship(source=Node(id='Gratiano', type='Person', properties={}), target=Node(id='Nerissa', type='Person', properties={}), type='SPEAKS_ABOUT', properties={}), Relationship(source=Node(id='The Rich Jew', type='Person', properties={}), target=Node(id='Lorenzo', type='Person', properties={}), type='DEED_OF_GIFT_FROM', properties={})], source=Document(metadata={'producer': 'PDFium', 'creator': 'PDFium', 'creationdate': 'D:20250318171920', 'source': 'The-Merchant-of-Venice-PDF (1).pdf', 'total_pages': 72, 'page': 71, 'page_label': '72'}, page_content=\"73 \\n \\nWhen I am absent, then lie with my wife. \\nANTONIO \\nSweet lady, you have given me life and living; \\nFor here I read for certain that my ships \\nAre safely come to road. \\nPORTIA \\nHow now, Lorenzo! \\nMy clerk hath some good comforts too for you. \\nNERISSA \\nAy, and I'll give them him without a fee. \\nThere do I give to you and Jessica, \\nFrom the rich Jew, a special deed of gift, \\nAfter his death, of all he dies possess'd of. \\nLORENZO \\nFair ladies, you drop manna in the way \\nOf starved people. \\nPORTIA \\nIt is almost morning, \\nAnd yet I am sure you are not satisfied \\nOf these events at full. Let us go in; \\nAnd charge us there upon inter'gatories, \\nAnd we will answer all things faithfully. \\nGRATIANO \\nLet it be so: the first inter'gatory \\nThat my Nerissa shall be sworn on is, \\nWhether till the next night she had rather stay, \\nOr go to bed now, being two hours to day: \\nBut were the day come, I should wish it dark, \\nThat I were couching with the doctor's clerk. \\nWell, while I live I'll fear no other thing \\nSo sore as keeping safe Nerissa's ring. \\nExeunt\"))]"
            ]
          },
          "metadata": {},
          "execution_count": 47
        }
      ]
    },
    {
      "cell_type": "code",
      "source": [
        "# Initializing Neo4j Instance\n",
        "graph = Neo4jGraph()"
      ],
      "metadata": {
        "colab": {
          "base_uri": "https://localhost:8080/"
        },
        "id": "7RDkHMLuj9j1",
        "outputId": "95dd738a-c0de-4f66-c7d4-39ee1434b3d7"
      },
      "execution_count": null,
      "outputs": [
        {
          "output_type": "stream",
          "name": "stderr",
          "text": [
            "<ipython-input-48-c1ddba185a4a>:2: LangChainDeprecationWarning: The class `Neo4jGraph` was deprecated in LangChain 0.3.8 and will be removed in 1.0. An updated version of the class exists in the :class:`~langchain-neo4j package and should be used instead. To use it run `pip install -U :class:`~langchain-neo4j` and import as `from :class:`~langchain_neo4j import Neo4jGraph``.\n",
            "  graph = Neo4jGraph()\n"
          ]
        }
      ]
    },
    {
      "cell_type": "code",
      "source": [
        "# Adding the Graph created to the Neo4j Cloud\n",
        "graph.add_graph_documents(\n",
        "    graph_documents,\n",
        "    baseEntityLabel=True, #Ensures nodes have labels like Person, Company, etc.\n",
        "    include_source=True #Keeps the original document as part of the graph for traceability.\n",
        ")"
      ],
      "metadata": {
        "id": "gJ144VWy3WoD"
      },
      "execution_count": null,
      "outputs": []
    },
    {
      "cell_type": "code",
      "source": [
        "# directly show the graph resulting from the given Cypher query\n",
        "default_cypher = \"MATCH (s)-[r:!MENTIONS]->(t) RETURN s,r,t LIMIT 50\""
      ],
      "metadata": {
        "id": "xA2S9kD5CMni"
      },
      "execution_count": null,
      "outputs": []
    },
    {
      "cell_type": "code",
      "source": [
        "from yfiles_jupyter_graphs import GraphWidget\n",
        "from neo4j import GraphDatabase"
      ],
      "metadata": {
        "id": "cSbnuIW1CPUZ"
      },
      "execution_count": null,
      "outputs": []
    },
    {
      "cell_type": "code",
      "source": [
        "# Visualizing the graph through GraphWidget\n",
        "def showGraph(cypher: str = default_cypher):\n",
        "    # create a neo4j session to run queries\n",
        "    driver = GraphDatabase.driver(\n",
        "        uri = os.environ[\"NEO4J_URI\"],\n",
        "        auth = (os.environ[\"NEO4J_USERNAME\"],\n",
        "                os.environ[\"NEO4J_PASSWORD\"]))\n",
        "    session = driver.session()\n",
        "    widget = GraphWidget(graph = session.run(cypher).graph())\n",
        "    widget.node_label_mapping = 'id'\n",
        "    display(widget)\n",
        "    return widget"
      ],
      "metadata": {
        "id": "movs-Kf4CWco"
      },
      "execution_count": null,
      "outputs": []
    },
    {
      "cell_type": "code",
      "source": [
        "showGraph()"
      ],
      "metadata": {
        "colab": {
          "base_uri": "https://localhost:8080/",
          "height": 1000,
          "referenced_widgets": [
            "449312699c934c59918d8e35d36ae4a8",
            "091733993e13425885f46e6e3d6f7e4f",
            "96bd2a7fe8ca43899bce4343278c4d17"
          ]
        },
        "id": "2h0NdTRuCa0k",
        "outputId": "4bb4302f-2a94-4f90-ec13-4ed684416e5d"
      },
      "execution_count": null,
      "outputs": [
        {
          "output_type": "display_data",
          "data": {
            "text/plain": [
              "GraphWidget(layout=Layout(height='800px', width='100%'))"
            ],
            "application/vnd.jupyter.widget-view+json": {
              "version_major": 2,
              "version_minor": 0,
              "model_id": "449312699c934c59918d8e35d36ae4a8"
            }
          },
          "metadata": {
            "application/vnd.jupyter.widget-view+json": {
              "colab": {
                "custom_widget_manager": {
                  "url": "https://ssl.gstatic.com/colaboratory-static/widgets/colab-cdn-widget-manager/2b70e893a8ba7c0f/manager.min.js"
                }
              }
            }
          }
        },
        {
          "output_type": "display_data",
          "data": {
            "text/plain": [
              "GraphWidget(layout=Layout(height='800px', width='100%'))"
            ],
            "application/vnd.jupyter.widget-view+json": {
              "version_major": 2,
              "version_minor": 0,
              "model_id": "449312699c934c59918d8e35d36ae4a8"
            }
          },
          "metadata": {
            "application/vnd.jupyter.widget-view+json": {
              "colab": {
                "custom_widget_manager": {
                  "url": "https://ssl.gstatic.com/colaboratory-static/widgets/colab-cdn-widget-manager/2b70e893a8ba7c0f/manager.min.js"
                }
              }
            }
          }
        }
      ]
    },
    {
      "cell_type": "markdown",
      "source": [
        "##Creating Word Embedding"
      ],
      "metadata": {
        "id": "nXt5T-zJpv6O"
      }
    },
    {
      "cell_type": "code",
      "source": [
        "# Creating Word Embedding instance from HuggingFace\n",
        "embeddings = HuggingFaceEmbeddings(\n",
        "            model_name=embedding_model,\n",
        "            model_kwargs={'device': 'cpu'}\n",
        "        )"
      ],
      "metadata": {
        "colab": {
          "base_uri": "https://localhost:8080/",
          "height": 17,
          "referenced_widgets": [
            "139133894abe479b8f888dba63cf89b6",
            "85411adecedf496f8e9e08a7285d0b33",
            "56a2f1b0da144e6899b8bfed3d7d7bb3",
            "805e744489d2432bbcd14f6e94025ba4",
            "7fbce852789046758f61c50014117b1c",
            "33004f4e13034c0ea646575b121797af",
            "a6a1f638d8954851818b9a4c36142daf",
            "d223deb9f95e461ab1c521dd90228860",
            "c9f654f1ba5640fabd66c0755521e20f",
            "2f5af72943c441c28c0049170f524e89",
            "153e7ad279b74fa3ab69d9ed28221a61",
            "8dcd6c0e2302449a8c2a00e7e604fe47",
            "d98a1ad58be14f6091e427d6cd2ff876",
            "0d78d590cf2d4bbbb2e8635837b2eb26",
            "8d77336a4cf74884898ec8bbb2ba4634",
            "290c7216985543ab84a9092d7621511b",
            "a15f35968e3e43b3ae68f8286260f11c",
            "79c9cbf2565c4806b8aacdd10e20a176",
            "654253f2b4a54d79bbfa069fd174680a",
            "f1144761d06349dbab11600a2ab06031",
            "215ea9c0521f48b89e5d9024c9fb5d44",
            "45af2f6bf29742e78873bf96b4d76288",
            "c997c887e77448568334563efd514aa3",
            "4662e757e4c244d1938c7182ef418db1",
            "e23dcc5190bb430f98fd26367f6d8ad8",
            "8835bee87a7241e7832c973ea96b9ef3",
            "263f55dd2e7142e69f0a60ea133a2e08",
            "5736f415ff3840f2986c044ca2f45718",
            "0c3a65cc820c46d194911a0a442640b7",
            "f0c09788e6aa419c8da3e2de52fed884",
            "e56d2f0e24904376b542e4d3e0c7d8a5",
            "b60f42359a4f46aca34cd9a0237affc3",
            "5eab10e4606d4f1588c96f51c2e501e5",
            "62ef6685a0544289975190248771b20e",
            "6f2deb49fed040c3a6b564fa2b10255f",
            "014c43662b7a4d5bb6b1777c62fe5f38",
            "3ffed376e042403091d427bc44f75271",
            "93ac179c1985432bb5bbbb1483df0aef",
            "80ba9d205ca645c8a4426f4827dc347b",
            "bd119f6e65a9451e9e21155d87225933",
            "c09011221efc4e1e845d7e2c01825e8b",
            "a736475867b24468b0554df0927eac7a",
            "78fb4e3705d84f3aafa276e730983a70",
            "c13e254a46044e3682b03bd31adf0eda",
            "bb1d6df38ffc4e25a63931b5e5fc7216",
            "e04329b939cd499daaa9d83aa3e819ae",
            "b40aff41b50a45e4ac5a7fb11a03d29f",
            "0222b7e3f78b42bba427809dff88ccb5",
            "40b9f392560e4b38a9fe5afe8f3c44df",
            "67ffe958fd154a8ebf3e0781342a2a51",
            "cb6429fdd59047d0abce253509a0a003",
            "3778b470c76a48f5afc3d5af6d975528",
            "c8cec944250d4937812096ae844e553f",
            "eb2465f7b0314b38afa6bf362e1a2744",
            "77783a7a1ab44c7abb032363b85d925f",
            "ef003e5a309b4a1e9179ea09960bd750",
            "b6458b2822b743ccaaa54b6a6bedd68c",
            "cae1df2f30e042c3929cf01398f8c39f",
            "921bd17e346a4e79bc6756ec632b5ea4",
            "e3e070837bd3437d8b6e6954628b32e5",
            "287d46349ecd49d3b737bd2050fb2e4b",
            "7d6a33cf1d504f9295641c8ec7c17207",
            "cecde677c2ee45ae9331e26238c431e3",
            "4bffcd06b0ed473e986c60669b007c73",
            "31f9626667294ab382444b5354c92ade",
            "a65d9d5c160345368460c7759bd9382e",
            "d9596623af394e8f84d2078c7ca84d28",
            "663ba82dd9b1402183470e571de59d9b",
            "3918297589d14871a053183ae49fb13d",
            "8838360c22e84344873365c0dae4e10d",
            "b50ac97afffe4e9192caab6f6a1180c3",
            "6d6de2fb9cbb45aa960f20627b566c8f",
            "966522b3df984ebb87e3df3d8c0884a8",
            "f992ae89589c4261b1564b4c36b2f783",
            "6dd817ef76464d1c8aad8c6f6c45de61",
            "60ad725a90894f21afb9874f3217fc21",
            "3c0a7728786448399940ee7644af7e36",
            "67d3667f595f439ab3f99ff56e950a0b",
            "fac032d2ed6144b8a92515084f546f9c",
            "fd1fc453aa0646b79e4ef027f3dce833",
            "8dbca3a50455457899f8b8bf1bc258d7",
            "9b826e1823d4440180a6a2cda36a69e8",
            "76b23192043049a49d64d320d689c35e",
            "0881c176c84f41048d7509c05967578f",
            "56d4f87334994d1c98cf3c529a9fa06a",
            "b080ae0f44e34c96868e71be9e807058",
            "7e2cfc1a434842df9a2bf5e5503ae23f",
            "1d7a2133eb5741e5aedfd74dfff2ca32",
            "4121e2dc74514e5ca2e35bbad9e16f94",
            "15d8d7eaf1e64f2e8e2f0bc76c090ad5",
            "c8a0ec2e8edd4599a079da3947dac07c",
            "3225f1f18cd14b79b12f12daca0093ca",
            "39107fd9b93e4537ad13acd4857f2051",
            "5684629873ba4ba48aa1dfdabeacc9ae",
            "4c3f1abe6f184b269c728c5950b4665e",
            "a3652ab74def477eb4ffd20be6a83b42",
            "ec870a128f5e4a9d9369d6c8e0e4be54",
            "2d7577fe4b4c40828775a1aad76d2fa4",
            "65c0a03acfdf48888403a3b1901e0e6b",
            "280ed9cb03274a49882d41cd3f06b8c8",
            "497253ed131e400eb06348c99da0e18d",
            "a9dbd5169463402ca6934757682a6f15",
            "e5303c3016b24bd99658b94c22a5c1fb",
            "52206d5e5c8d472bb404b25cd6d51e4c",
            "ca22a18f81f243ef80ac31347179f444",
            "b4c5fb84af354d34b05a4a507a0c9b8e",
            "1a934ea5acd9493f89b50463a92a4ede",
            "230f4e5475c747ea8f2e840eba335e45",
            "1c0279fd21a040d08064229a06fd4bb9",
            "18a0510c032b4f5794613d43d58953ab",
            "743cb0b2ded14c8095c8a74bc04362ed",
            "7d7ed5e5638b4cd99a3aa4b544591df4",
            "5b7ac41814e54d5a856fcb5ee7eb06c1",
            "838c859879024a408b134af7cb5064ec",
            "ff18140e9a5f449e89e7d623c0a5a98f",
            "25ba767c9dd84b04b8eebb1e5e0b7b11",
            "3112dfa93eff4a7f9e104235788ae14b",
            "4a86f128c9474da98015a85aa5cb7873",
            "47dcf4634f384f59987028df1fb1bbea",
            "7304ed01629547bd86c0a938798453bd",
            "5bf323a8d9974dc2b5b821523bab8d7d"
          ]
        },
        "id": "8YAqIRn6sUSU",
        "outputId": "726f5185-0da0-420e-f3ae-27b2275c3f79"
      },
      "execution_count": null,
      "outputs": [
        {
          "output_type": "display_data",
          "data": {
            "text/plain": [
              "modules.json:   0%|          | 0.00/349 [00:00<?, ?B/s]"
            ],
            "application/vnd.jupyter.widget-view+json": {
              "version_major": 2,
              "version_minor": 0,
              "model_id": "139133894abe479b8f888dba63cf89b6"
            }
          },
          "metadata": {
            "application/vnd.jupyter.widget-view+json": {
              "colab": {
                "custom_widget_manager": {
                  "url": "https://ssl.gstatic.com/colaboratory-static/widgets/colab-cdn-widget-manager/2b70e893a8ba7c0f/manager.min.js"
                }
              }
            }
          }
        },
        {
          "output_type": "display_data",
          "data": {
            "text/plain": [
              "config_sentence_transformers.json:   0%|          | 0.00/116 [00:00<?, ?B/s]"
            ],
            "application/vnd.jupyter.widget-view+json": {
              "version_major": 2,
              "version_minor": 0,
              "model_id": "8dcd6c0e2302449a8c2a00e7e604fe47"
            }
          },
          "metadata": {
            "application/vnd.jupyter.widget-view+json": {
              "colab": {
                "custom_widget_manager": {
                  "url": "https://ssl.gstatic.com/colaboratory-static/widgets/colab-cdn-widget-manager/2b70e893a8ba7c0f/manager.min.js"
                }
              }
            }
          }
        },
        {
          "output_type": "display_data",
          "data": {
            "text/plain": [
              "README.md:   0%|          | 0.00/10.4k [00:00<?, ?B/s]"
            ],
            "application/vnd.jupyter.widget-view+json": {
              "version_major": 2,
              "version_minor": 0,
              "model_id": "c997c887e77448568334563efd514aa3"
            }
          },
          "metadata": {
            "application/vnd.jupyter.widget-view+json": {
              "colab": {
                "custom_widget_manager": {
                  "url": "https://ssl.gstatic.com/colaboratory-static/widgets/colab-cdn-widget-manager/2b70e893a8ba7c0f/manager.min.js"
                }
              }
            }
          }
        },
        {
          "output_type": "display_data",
          "data": {
            "text/plain": [
              "sentence_bert_config.json:   0%|          | 0.00/53.0 [00:00<?, ?B/s]"
            ],
            "application/vnd.jupyter.widget-view+json": {
              "version_major": 2,
              "version_minor": 0,
              "model_id": "c13e254a46044e3682b03bd31adf0eda"
            }
          },
          "metadata": {
            "application/vnd.jupyter.widget-view+json": {
              "colab": {
                "custom_widget_manager": {
                  "url": "https://ssl.gstatic.com/colaboratory-static/widgets/colab-cdn-widget-manager/2b70e893a8ba7c0f/manager.min.js"
                }
              }
            }
          }
        },
        {
          "output_type": "display_data",
          "data": {
            "text/plain": [
              "config.json:   0%|          | 0.00/571 [00:00<?, ?B/s]"
            ],
            "application/vnd.jupyter.widget-view+json": {
              "version_major": 2,
              "version_minor": 0,
              "model_id": "77783a7a1ab44c7abb032363b85d925f"
            }
          },
          "metadata": {
            "application/vnd.jupyter.widget-view+json": {
              "colab": {
                "custom_widget_manager": {
                  "url": "https://ssl.gstatic.com/colaboratory-static/widgets/colab-cdn-widget-manager/2b70e893a8ba7c0f/manager.min.js"
                }
              }
            }
          }
        },
        {
          "output_type": "display_data",
          "data": {
            "text/plain": [
              "model.safetensors:   0%|          | 0.00/438M [00:00<?, ?B/s]"
            ],
            "application/vnd.jupyter.widget-view+json": {
              "version_major": 2,
              "version_minor": 0,
              "model_id": "a65d9d5c160345368460c7759bd9382e"
            }
          },
          "metadata": {
            "application/vnd.jupyter.widget-view+json": {
              "colab": {
                "custom_widget_manager": {
                  "url": "https://ssl.gstatic.com/colaboratory-static/widgets/colab-cdn-widget-manager/2b70e893a8ba7c0f/manager.min.js"
                }
              }
            }
          }
        },
        {
          "output_type": "display_data",
          "data": {
            "text/plain": [
              "tokenizer_config.json:   0%|          | 0.00/363 [00:00<?, ?B/s]"
            ],
            "application/vnd.jupyter.widget-view+json": {
              "version_major": 2,
              "version_minor": 0,
              "model_id": "3c0a7728786448399940ee7644af7e36"
            }
          },
          "metadata": {
            "application/vnd.jupyter.widget-view+json": {
              "colab": {
                "custom_widget_manager": {
                  "url": "https://ssl.gstatic.com/colaboratory-static/widgets/colab-cdn-widget-manager/2b70e893a8ba7c0f/manager.min.js"
                }
              }
            }
          }
        },
        {
          "output_type": "display_data",
          "data": {
            "text/plain": [
              "vocab.txt:   0%|          | 0.00/232k [00:00<?, ?B/s]"
            ],
            "application/vnd.jupyter.widget-view+json": {
              "version_major": 2,
              "version_minor": 0,
              "model_id": "1d7a2133eb5741e5aedfd74dfff2ca32"
            }
          },
          "metadata": {
            "application/vnd.jupyter.widget-view+json": {
              "colab": {
                "custom_widget_manager": {
                  "url": "https://ssl.gstatic.com/colaboratory-static/widgets/colab-cdn-widget-manager/2b70e893a8ba7c0f/manager.min.js"
                }
              }
            }
          }
        },
        {
          "output_type": "display_data",
          "data": {
            "text/plain": [
              "tokenizer.json:   0%|          | 0.00/466k [00:00<?, ?B/s]"
            ],
            "application/vnd.jupyter.widget-view+json": {
              "version_major": 2,
              "version_minor": 0,
              "model_id": "65c0a03acfdf48888403a3b1901e0e6b"
            }
          },
          "metadata": {
            "application/vnd.jupyter.widget-view+json": {
              "colab": {
                "custom_widget_manager": {
                  "url": "https://ssl.gstatic.com/colaboratory-static/widgets/colab-cdn-widget-manager/2b70e893a8ba7c0f/manager.min.js"
                }
              }
            }
          }
        },
        {
          "output_type": "display_data",
          "data": {
            "text/plain": [
              "special_tokens_map.json:   0%|          | 0.00/239 [00:00<?, ?B/s]"
            ],
            "application/vnd.jupyter.widget-view+json": {
              "version_major": 2,
              "version_minor": 0,
              "model_id": "18a0510c032b4f5794613d43d58953ab"
            }
          },
          "metadata": {
            "application/vnd.jupyter.widget-view+json": {
              "colab": {
                "custom_widget_manager": {
                  "url": "https://ssl.gstatic.com/colaboratory-static/widgets/colab-cdn-widget-manager/2b70e893a8ba7c0f/manager.min.js"
                }
              }
            }
          }
        },
        {
          "output_type": "display_data",
          "data": {
            "text/plain": [
              "config.json:   0%|          | 0.00/190 [00:00<?, ?B/s]"
            ],
            "application/vnd.jupyter.widget-view+json": {
              "version_major": 2,
              "version_minor": 0,
              "model_id": "5bf323a8d9974dc2b5b821523bab8d7d"
            }
          },
          "metadata": {}
        }
      ]
    },
    {
      "cell_type": "code",
      "source": [
        "from langchain_community.vectorstores import Neo4jVector\n",
        "\n",
        "# Use the embeddings with Neo4jVector\n",
        "vector_index = Neo4jVector.from_existing_graph(\n",
        "    embeddings,\n",
        "    search_type=\"hybrid\",\n",
        "    node_label=\"Document\",\n",
        "    text_node_properties=[\"text\"],\n",
        "    embedding_node_property=\"embedding\"\n",
        ")"
      ],
      "metadata": {
        "id": "UvCOaROrTz5S"
      },
      "execution_count": null,
      "outputs": []
    },
    {
      "cell_type": "code",
      "source": [
        "graph.query(\"CREATE FULLTEXT INDEX entity IF NOT EXISTS FOR (e:__Entity__) ON EACH [e.id]\")"
      ],
      "metadata": {
        "colab": {
          "base_uri": "https://localhost:8080/"
        },
        "id": "sfBIy-JHTz1x",
        "outputId": "ce84b2aa-7eab-4b3f-a9f9-6a881ba3b408"
      },
      "execution_count": null,
      "outputs": [
        {
          "output_type": "execute_result",
          "data": {
            "text/plain": [
              "[]"
            ]
          },
          "metadata": {},
          "execution_count": 56
        }
      ]
    },
    {
      "cell_type": "markdown",
      "source": [
        "##Extracting Entities (Nodes) from the text given input"
      ],
      "metadata": {
        "id": "-v3pN266r3OB"
      }
    },
    {
      "cell_type": "code",
      "source": [
        "from pydantic import BaseModel, Field\n",
        "# Extract entities from text\n",
        "class Entities(BaseModel):\n",
        "    \"\"\"Identifying information about entities.\"\"\"\n",
        "\n",
        "    names: List[str] = Field(\n",
        "        ...,\n",
        "        description=\"All the person, organization, or business entities that \"\n",
        "        \"appear in the text\",\n",
        "    )"
      ],
      "metadata": {
        "id": "MB0dmxczTzym"
      },
      "execution_count": null,
      "outputs": []
    },
    {
      "cell_type": "code",
      "source": [
        "# Creating Prompt Templates using Langchain\n",
        "from langchain_core.prompts import ChatPromptTemplate\n",
        "from langchain_core.prompts.prompt import PromptTemplate\n",
        "\n",
        "prompt = ChatPromptTemplate.from_messages(\n",
        "    [\n",
        "        (\n",
        "            \"system\",\n",
        "            \"You are extracting organization and person entities from the text.\",\n",
        "        ),\n",
        "        (\n",
        "            \"human\",\n",
        "            \"Use the given format to extract information from the following \"\n",
        "            \"input: {question}\",\n",
        "        ),\n",
        "    ]\n",
        ")"
      ],
      "metadata": {
        "id": "vSqpK6U6Tzlw"
      },
      "execution_count": null,
      "outputs": []
    },
    {
      "cell_type": "code",
      "source": [
        "entity_chain = prompt | llm.with_structured_output(Entities)"
      ],
      "metadata": {
        "id": "8F6AWyxuVqGW"
      },
      "execution_count": null,
      "outputs": []
    },
    {
      "cell_type": "code",
      "source": [
        "entity_chain.invoke({\"question\": \"Did Portia had intimate relations with Bassanio?\"}).names"
      ],
      "metadata": {
        "colab": {
          "base_uri": "https://localhost:8080/"
        },
        "id": "9Q6qHj24VqDJ",
        "outputId": "0809996b-6926-4211-a2bc-c31351a7dd9e"
      },
      "execution_count": null,
      "outputs": [
        {
          "output_type": "execute_result",
          "data": {
            "text/plain": [
              "['Portia', 'Bassanio']"
            ]
          },
          "metadata": {},
          "execution_count": 60
        }
      ]
    },
    {
      "cell_type": "markdown",
      "source": [
        "##Graph Retrieval from the Question"
      ],
      "metadata": {
        "id": "NKrFd_82sPfR"
      }
    },
    {
      "cell_type": "code",
      "source": [
        "# Generates a full-text search query with fuzzy matching (~2) for Neo4j by sanitizing input and combining words using AND.\n",
        "from langchain_community.vectorstores.neo4j_vector import remove_lucene_chars\n",
        "\n",
        "def generate_full_text_query(input: str) -> str:\n",
        "    full_text_query = \"\"\n",
        "    words = [el for el in remove_lucene_chars(input).split() if el]\n",
        "    for word in words[:-1]:\n",
        "        full_text_query += f\" {word}~2 AND\"\n",
        "    full_text_query += f\" {words[-1]}~2\"\n",
        "    return full_text_query.strip()"
      ],
      "metadata": {
        "id": "1VI-QZJoVqBC"
      },
      "execution_count": null,
      "outputs": []
    },
    {
      "cell_type": "code",
      "source": [
        "# Full text index query\n",
        "def structured_retriever(question: str) -> str:\n",
        "    result = \"\"\n",
        "    entities = entity_chain.invoke({\"question\": question})\n",
        "    for entity in entities.names:\n",
        "        response = graph.query(\n",
        "            \"\"\"CALL db.index.fulltext.queryNodes('entity', $query, {limit:2})\n",
        "            YIELD node,score\n",
        "            CALL {\n",
        "              WITH node\n",
        "              MATCH (node)-[r:!MENTIONS]->(neighbor)\n",
        "              RETURN node.id + ' - ' + type(r) + ' -> ' + neighbor.id AS output\n",
        "              UNION ALL\n",
        "              WITH node\n",
        "              MATCH (node)<-[r:!MENTIONS]-(neighbor)\n",
        "              RETURN neighbor.id + ' - ' + type(r) + ' -> ' +  node.id AS output\n",
        "            }\n",
        "            RETURN output LIMIT 50\n",
        "            \"\"\",\n",
        "            {\"query\": generate_full_text_query(entity)},\n",
        "        )\n",
        "        result += \"\\n\".join([el['output'] for el in response])\n",
        "    return result"
      ],
      "metadata": {
        "id": "o1fzKZdnVp-A"
      },
      "execution_count": null,
      "outputs": []
    },
    {
      "cell_type": "code",
      "source": [
        "print(structured_retriever(\"Did Portia had intimate relations with Bassanio?\"))"
      ],
      "metadata": {
        "colab": {
          "base_uri": "https://localhost:8080/"
        },
        "id": "qBIWywYaVp7Z",
        "outputId": "f3ece407-b2f6-40d5-d7ab-0718bea9cecd"
      },
      "execution_count": null,
      "outputs": [
        {
          "output_type": "stream",
          "name": "stderr",
          "text": [
            "<ipython-input-61-2132f4b34bad>:6: LangChainDeprecationWarning: The function `remove_lucene_chars` was deprecated in LangChain 0.3.8 and will be removed in 1.0. An updated version of the function exists in the :meth:`~langchain-neo4j package and should be used instead. To use it run `pip install -U :meth:`~langchain-neo4j` and import as `from :meth:`~langchain_neo4j.vectorstores.neo4j_vector import remove_lucene_chars``.\n",
            "  words = [el for el in remove_lucene_chars(input).split() if el]\n",
            "WARNING:neo4j.notifications:Received notification from DBMS server: {severity: WARNING} {code: Neo.ClientNotification.Statement.FeatureDeprecationWarning} {category: DEPRECATION} {title: This feature is deprecated and will be removed in future versions.} {description: CALL subquery without a variable scope clause is now deprecated. Use CALL (node, node) { ... }} {position: line: 3, column: 13, offset: 104} for query: \"CALL db.index.fulltext.queryNodes('entity', $query, {limit:2})\\n            YIELD node,score\\n            CALL {\\n              WITH node\\n              MATCH (node)-[r:!MENTIONS]->(neighbor)\\n              RETURN node.id + ' - ' + type(r) + ' -> ' + neighbor.id AS output\\n              UNION ALL\\n              WITH node\\n              MATCH (node)<-[r:!MENTIONS]-(neighbor)\\n              RETURN neighbor.id + ' - ' + type(r) + ' -> ' +  node.id AS output\\n            }\\n            RETURN output LIMIT 50\\n            \"\n",
            "WARNING:neo4j.notifications:Received notification from DBMS server: {severity: WARNING} {code: Neo.ClientNotification.Statement.FeatureDeprecationWarning} {category: DEPRECATION} {title: This feature is deprecated and will be removed in future versions.} {description: CALL subquery without a variable scope clause is now deprecated. Use CALL (node, node) { ... }} {position: line: 3, column: 13, offset: 104} for query: \"CALL db.index.fulltext.queryNodes('entity', $query, {limit:2})\\n            YIELD node,score\\n            CALL {\\n              WITH node\\n              MATCH (node)-[r:!MENTIONS]->(neighbor)\\n              RETURN node.id + ' - ' + type(r) + ' -> ' + neighbor.id AS output\\n              UNION ALL\\n              WITH node\\n              MATCH (node)<-[r:!MENTIONS]-(neighbor)\\n              RETURN neighbor.id + ' - ' + type(r) + ' -> ' +  node.id AS output\\n            }\\n            RETURN output LIMIT 50\\n            \"\n"
          ]
        },
        {
          "output_type": "stream",
          "name": "stdout",
          "text": [
            "Portia - FRIEND -> Lorenzo\n",
            "Portia - FRIEND -> Nerissa\n",
            "Portia - FRIEND -> Jessica\n",
            "Portia - SPEAKS_TO -> Lorenzo\n",
            "Portia - SPEAKS_TO -> Nerissa\n",
            "Portia - SPEAKS_TO -> Shylock\n",
            "Portia - SPEAKS_TO -> Jessica\n",
            "Portia - LIVES_IN -> Belmont\n",
            "Portia - ATTENDANT_OF -> Nerissa\n",
            "Portia - CONVERSES_WITH -> Nerissa\n",
            "Portia - DESCRIBES -> Neapolitan Prince\n",
            "Portia - DESCRIBES -> County Palatine\n",
            "Portia - DESCRIBES -> Monsieur Le Bon\n",
            "Portia - CANNOT_CONVERSE_WITH -> Falconbridge\n",
            "Portia - HAS_NEIGHBOURLY_CHARITY -> Scottish Lord\n",
            "Portia - DISLIKED -> Young German Duke Of Saxony'S Nephew\n",
            "Portia - SUITOR -> Bassanio\n",
            "Portia - SUITOR -> Prince Of Morocco\n",
            "Portia - DISCUSSES -> Doubt\n",
            "Portia - DISCUSSES -> Despair\n",
            "Portia - DISCUSSES -> Fear\n",
            "Portia - DISCUSSES -> Jealousy\n",
            "Portia - DISCUSSES -> Plan\n",
            "Portia - RESTRICTED_BY -> Father\n",
            "Portia - SUBJECT_TO -> Lottery\n",
            "Portia - SERVANT -> Balthasar\n",
            "Portia - IS_IN -> Belmont\n",
            "Portia - PRESENTED -> Caskets\n",
            "Portia - SET_UP_BY -> Goldcasket\n",
            "Portia - SET_UP_BY -> Silvercasket\n",
            "Portia - SET_UP_BY -> Leadcasket\n",
            "Portia - GAVE -> Bassanio\n",
            "Portia - GAVE -> Ring\n",
            "Portia - GAVE -> Letter\n",
            "Portia - PERSUADES -> Bassanio\n",
            "Portia - ADVISES -> Love\n",
            "Portia - ACQUAINTANCE -> Lorenzo\n",
            "Portia - ACQUAINTANCE -> Salerio\n",
            "Portia - FROM -> Bellario\n",
            "Portia - SPOKE_TO -> Bassanio\n",
            "Portia - HELPS -> Bassanio\n",
            "Portia - TRAVELS_TO -> Venice\n",
            "Portia - TELLS -> Bassanio\n",
            "Portia - BENEFACTOR -> Antonio\n",
            "Portia - GIVES_LETTER_TO -> Balthasar\n",
            "Portia - GOES_TO -> Lorenzo\n",
            "Portia - SENDS_LETTER_TO -> Doctor_Bellario\n",
            "Portia - PLANS_TO_DISGUISE_AS -> Nerissa\n",
            "Portia - COLLABORATES_WITH -> Nerissa\n",
            "Portia - CAME_FROM -> PaduaBassanio - COMPANION -> Lorenzo\n",
            "Bassanio - COMPANION -> Gratiano\n",
            "Bassanio - FRIEND -> Antonio\n",
            "Bassanio - MEETING -> Place\n",
            "Bassanio - SPEAKS_TO -> Gratiano\n",
            "Bassanio - SPEAKS_TO -> Shylock\n",
            "Bassanio - INTERESTED_IN -> Portia\n",
            "Bassanio - ASKS_FOR_HELP -> Antonio\n",
            "Bassanio - LOAN -> Shylock\n",
            "Bassanio - REQUESTS -> Ducats\n",
            "Bassanio - DISCUSSES -> Law\n",
            "Bassanio - DISCUSSES -> Religion\n",
            "Bassanio - DISCUSSES -> Beauty\n",
            "Bassanio - INVITES -> Antonio\n",
            "Bassanio - OFFERS -> Antonio\n",
            "Bassanio - OFFERS -> Shylock\n",
            "Bassanio - OFFERS -> Money\n",
            "Bassanio - DISTRUSTS -> Shylock\n",
            "Bassanio - GIVES_ORDERS_TO -> Leonardo\n",
            "Bassanio - REQUESTS_PRESENCE_OF -> Gratiano\n",
            "Bassanio - SPEAKS_WITH -> Launcelot\n",
            "Bassanio - GIVES_INSTRUCTION -> Leonardo\n",
            "Bassanio - HOSTS_FEAST -> Bassanio\n",
            "Bassanio - IS_IN -> Ship\n",
            "Bassanio - ACCOMPANIES -> Gratiano\n",
            "Bassanio - CONCERNED_ABOUT -> Antonio\n",
            "Bassanio - PARTED_FROM -> Antonio\n",
            "Bassanio - GAVE -> Ring\n",
            "Bassanio - GAVE -> Doctor\n",
            "Bassanio - CHOOSES -> Casket\n",
            "Bassanio - LOCATED_IN -> Court Of Justice\n",
            "Bassanio - CRITICIZES -> Ornament\n",
            "Bassanio - INTERACTS_WITH -> Portia\n",
            "Bassanio - READS -> Scroll\n",
            "Bassanio - RECEIVED -> Letter\n",
            "Bassanio - DEPENDS_ON -> Casket\n",
            "Bassanio - ACQUAINTANCE -> Lorenzo\n",
            "Bassanio - ACQUAINTANCE -> Gratiano\n",
            "Bassanio - ACQUAINTANCE -> Portia\n",
            "Bassanio - ACQUAINTANCE -> Nerissa\n",
            "Bassanio - ACQUAINTANCE -> Salerio\n",
            "Bassanio - IN_DEBT -> Debt\n",
            "Bassanio - OWES -> Shylock\n",
            "Bassanio - RECEIVES_LETTER_FROM -> Antonio\n",
            "Bassanio - DISPATCHES -> Business\n",
            "Bassanio - QUESTIONS -> Shylock\n",
            "Bassanio - SUPPORTS -> Antonio\n",
            "Bassanio - SUPPORTS -> Merchant\n",
            "Bassanio - MARRIED_TO -> Portia\n",
            "Bassanio - CHRISTIAN -> Portia\n"
          ]
        }
      ]
    },
    {
      "cell_type": "markdown",
      "source": [
        "##Combining results from a structured retriever and a vector-based similarity search\n"
      ],
      "metadata": {
        "id": "W5ryKEnKsZ0y"
      }
    },
    {
      "cell_type": "code",
      "source": [
        "# Retrieves structured and unstructured data based on the input question.\n",
        "\n",
        "def retriever(question: str):\n",
        "    print(f\"Search query: {question}\")\n",
        "    structured_data = structured_retriever(question)\n",
        "    unstructured_data = [el.page_content for el in vector_index.similarity_search(question)]\n",
        "    final_data = f\"\"\"Structured data:\n",
        "      {structured_data}\n",
        "      Unstructured data:\n",
        "      {\"#Document \". join(unstructured_data)}\n",
        "          \"\"\"\n",
        "    return final_data"
      ],
      "metadata": {
        "id": "CaX6YRB3Vp5B"
      },
      "execution_count": null,
      "outputs": []
    },
    {
      "cell_type": "code",
      "source": [
        "_template = \"\"\"Given the following conversation and a follow up question, rephrase the follow up question to be a standalone question,\n",
        "in its original language.\n",
        "Chat History:\n",
        "{chat_history}\n",
        "Follow Up Input: {question}\n",
        "Standalone question:\"\"\""
      ],
      "metadata": {
        "id": "TFkJFCWJVp2a"
      },
      "execution_count": null,
      "outputs": []
    },
    {
      "cell_type": "code",
      "source": [
        "CONDENSE_QUESTION_PROMPT = PromptTemplate.from_template(_template)"
      ],
      "metadata": {
        "id": "Skpxz-WsVpzr"
      },
      "execution_count": null,
      "outputs": []
    },
    {
      "cell_type": "code",
      "source": [
        "def _format_chat_history(chat_history: List[Tuple[str, str]]) -> List:\n",
        "    buffer = []\n",
        "    for human, ai in chat_history:\n",
        "        buffer.append(HumanMessage(content=human))\n",
        "        buffer.append(AIMessage(content=ai))\n",
        "    return buffer"
      ],
      "metadata": {
        "id": "khFyAhmNVpxJ"
      },
      "execution_count": null,
      "outputs": []
    },
    {
      "cell_type": "code",
      "source": [
        "_search_query = RunnableBranch(\n",
        "    # If input includes chat_history, we condense it with the follow-up question\n",
        "    (\n",
        "        RunnableLambda(lambda x: bool(x.get(\"chat_history\"))).with_config(\n",
        "            run_name=\"HasChatHistoryCheck\"\n",
        "        ),  # Condense follow-up question and chat into a standalone_question\n",
        "        RunnablePassthrough.assign(\n",
        "            chat_history=lambda x: _format_chat_history(x[\"chat_history\"])\n",
        "        )\n",
        "        | CONDENSE_QUESTION_PROMPT\n",
        "        | llm\n",
        "        | StrOutputParser(),\n",
        "    ),\n",
        "    # Else, we have no chat history, so just pass through the question\n",
        "    RunnableLambda(lambda x : x[\"question\"]),\n",
        ")"
      ],
      "metadata": {
        "id": "aqV3DTxNWUYJ"
      },
      "execution_count": null,
      "outputs": []
    },
    {
      "cell_type": "code",
      "source": [
        "template = \"\"\"Answer the question based only on the following context:\n",
        "{context}\n",
        "\n",
        "Question: {question}\n",
        "Use natural language and be concise.\n",
        "Answer:\"\"\""
      ],
      "metadata": {
        "id": "oKjCWzWCWUVu"
      },
      "execution_count": null,
      "outputs": []
    },
    {
      "cell_type": "code",
      "source": [
        "prompt = ChatPromptTemplate.from_template(template)"
      ],
      "metadata": {
        "id": "6w1RpMHNWUTF"
      },
      "execution_count": null,
      "outputs": []
    },
    {
      "cell_type": "code",
      "source": [
        "# Creates a processing chain where a search query is retrieved, passed to a prompt, sent to an LLM, and then parsed into a string output.\n",
        "chain = (\n",
        "    RunnableParallel(\n",
        "        {\n",
        "            \"context\": _search_query | retriever,\n",
        "            \"question\": RunnablePassthrough(),\n",
        "        }\n",
        "    )\n",
        "    | prompt\n",
        "    | llm\n",
        "    | StrOutputParser()\n",
        ")"
      ],
      "metadata": {
        "id": "yeBQnBReVpup"
      },
      "execution_count": null,
      "outputs": []
    },
    {
      "cell_type": "code",
      "source": [
        "chain.invoke({\"question\": \"Did Portia had intimate relations with Bassanio?\"})"
      ],
      "metadata": {
        "colab": {
          "base_uri": "https://localhost:8080/",
          "height": 201
        },
        "id": "c0LqYoLVWgss",
        "outputId": "3bee1ea7-c579-46ac-b069-3ed064cc883d"
      },
      "execution_count": null,
      "outputs": [
        {
          "output_type": "stream",
          "name": "stdout",
          "text": [
            "Search query: Did Portia had intimate relations with Bassanio?\n"
          ]
        },
        {
          "output_type": "stream",
          "name": "stderr",
          "text": [
            "WARNING:neo4j.notifications:Received notification from DBMS server: {severity: WARNING} {code: Neo.ClientNotification.Statement.FeatureDeprecationWarning} {category: DEPRECATION} {title: This feature is deprecated and will be removed in future versions.} {description: CALL subquery without a variable scope clause is now deprecated. Use CALL (node, node) { ... }} {position: line: 3, column: 13, offset: 104} for query: \"CALL db.index.fulltext.queryNodes('entity', $query, {limit:2})\\n            YIELD node,score\\n            CALL {\\n              WITH node\\n              MATCH (node)-[r:!MENTIONS]->(neighbor)\\n              RETURN node.id + ' - ' + type(r) + ' -> ' + neighbor.id AS output\\n              UNION ALL\\n              WITH node\\n              MATCH (node)<-[r:!MENTIONS]-(neighbor)\\n              RETURN neighbor.id + ' - ' + type(r) + ' -> ' +  node.id AS output\\n            }\\n            RETURN output LIMIT 50\\n            \"\n",
            "WARNING:neo4j.notifications:Received notification from DBMS server: {severity: WARNING} {code: Neo.ClientNotification.Statement.FeatureDeprecationWarning} {category: DEPRECATION} {title: This feature is deprecated and will be removed in future versions.} {description: CALL subquery without a variable scope clause is now deprecated. Use CALL () { ... }} {position: line: 1, column: 1, offset: 0} for query: \"CALL { CALL db.index.vector.queryNodes($index, $k, $embedding) YIELD node, score WITH collect({node:node, score:score}) AS nodes, max(score) AS max UNWIND nodes AS n RETURN n.node AS node, (n.score / max) AS score UNION CALL db.index.fulltext.queryNodes($keyword_index, $query, {limit: $k}) YIELD node, score WITH collect({node:node, score:score}) AS nodes, max(score) AS max UNWIND nodes AS n RETURN n.node AS node, (n.score / max) AS score } WITH node, max(score) AS score ORDER BY score DESC LIMIT $k RETURN reduce(str='', k IN ['text'] | str + '\\\\n' + k + ': ' + coalesce(node[k], '')) AS text, node {.*, `embedding`: Null, id: Null, `text`: Null} AS metadata, score\"\n"
          ]
        },
        {
          "output_type": "execute_result",
          "data": {
            "text/plain": [
              "'<think>\\nOkay, so I need to figure out if Portia had intimate relations with Bassanio based on the given context. Let me go through the provided texts step by step.\\n\\nFirst, looking at text 33, it seems like a conversation between Portia and Nerissa. Portia mentions that she longs to see Cupid\\'s post, which is Bassanio. Nerissa responds by saying Bassanio is lord Love, and they exit. This suggests that Portia is interested in Bassanio, but there\\'s no explicit mention of intimate relations yet.\\n\\nMoving on to text 72, this is a more substantial dialogue. Antonio is talking about lending his body for someone\\'s wealth and mentions that without the person who had Portia\\'s husband\\'s ring, things would have miscarried. Then Portia says she had the ring from the doctor and that the doctor lay with her. Nerissa also mentions that the doctor\\'s clerk lay with her. Bassanio then refers to Portia as \"Sweet doctor\" and says she shall be his bedfellow. This implies that Portia, disguised as the doctor, had a close relationship with Bassanio, but it\\'s not clear if it was intimate. However, the fact that she was his bedfellow suggests a physical relationship.\\n\\nIn text 30, there\\'s a conversation between Salanio and Salarino about Antonio and Bassanio. They mention that Antonio loves Bassanio deeply, but there\\'s no direct mention of Portia and Bassanio\\'s relationship here.\\n\\nText 6 describes Bassanio talking about Portia\\'s beauty and virtues, comparing her to Brutus\\' Portia. He expresses his desire to be a suitor for her but lacks the means. Antonio offers to help him financially. This shows Bassanio\\'s interest in Portia but doesn\\'t indicate any intimate relations yet.\\n\\nText 72 is the key here. Portia reveals she had the ring from the doctor, implying she was disguised as the doctor and had a relationship with Bassanio. When Bassanio swears to keep the ring, Portia says she got it from the doctor, meaning she was the doctor. Then Bassanio calls her \"Sweet doctor\" and says she shall be his bedfellow. This strongly suggests that Portia and Bassanio had an intimate relationship, as she was his bedfellow.\\n\\nSo, putting it all together, especially from text 72, it\\'s clear that Portia and Bassanio had intimate relations, with Portia even referring to herself as his bedfellow after revealing she was the doctor.\\n</think>\\n\\nYes, Portia had intimate relations with Bassanio. In the context, Portia, disguised as a doctor, had a close relationship with Bassanio, and he refers to her as his bedfellow, indicating a physical relationship.'"
            ],
            "application/vnd.google.colaboratory.intrinsic+json": {
              "type": "string"
            }
          },
          "metadata": {},
          "execution_count": 72
        }
      ]
    },
    {
      "cell_type": "code",
      "source": [
        "chain.invoke(\n",
        "    {\n",
        "        \"question\": \"When was she born?\",\n",
        "        \"chat_history\": [(\"Which house did Elizabeth I belong to?\", \"House Of Tudor\")],\n",
        "    }\n",
        ")"
      ],
      "metadata": {
        "id": "U4jXpksaWgpT"
      },
      "execution_count": null,
      "outputs": []
    },
    {
      "cell_type": "code",
      "source": [],
      "metadata": {
        "id": "KljTxjhoWgiL"
      },
      "execution_count": null,
      "outputs": []
    }
  ]
}